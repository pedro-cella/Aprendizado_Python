{
 "cells": [
  {
   "cell_type": "markdown",
   "id": "ff1cab07",
   "metadata": {},
   "source": [
    "# Logica de Programacao"
   ]
  },
  {
   "cell_type": "code",
   "execution_count": 1,
   "id": "529d80cc",
   "metadata": {},
   "outputs": [
    {
     "data": {
      "text/plain": [
       "2"
      ]
     },
     "execution_count": 1,
     "metadata": {},
     "output_type": "execute_result"
    }
   ],
   "source": [
    "1+1"
   ]
  },
  {
   "cell_type": "code",
   "execution_count": 2,
   "id": "4ed90a0a",
   "metadata": {},
   "outputs": [
    {
     "data": {
      "text/plain": [
       "'Pedro'"
      ]
     },
     "execution_count": 2,
     "metadata": {},
     "output_type": "execute_result"
    }
   ],
   "source": [
    "\"Pedro\""
   ]
  },
  {
   "cell_type": "code",
   "execution_count": 3,
   "id": "8f2996df",
   "metadata": {},
   "outputs": [
    {
     "data": {
      "text/plain": [
       "'Pedro'"
      ]
     },
     "execution_count": 3,
     "metadata": {},
     "output_type": "execute_result"
    }
   ],
   "source": [
    "'Pedro'"
   ]
  },
  {
   "cell_type": "code",
   "execution_count": 6,
   "id": "6cefd7c9",
   "metadata": {},
   "outputs": [],
   "source": [
    "nome = 'Pedro'"
   ]
  },
  {
   "cell_type": "code",
   "execution_count": 7,
   "id": "7cee28d3",
   "metadata": {},
   "outputs": [
    {
     "data": {
      "text/plain": [
       "'Pedro'"
      ]
     },
     "execution_count": 7,
     "metadata": {},
     "output_type": "execute_result"
    }
   ],
   "source": [
    "nome"
   ]
  },
  {
   "cell_type": "code",
   "execution_count": 8,
   "id": "2bea11be",
   "metadata": {},
   "outputs": [],
   "source": [
    "idade = 22"
   ]
  },
  {
   "cell_type": "code",
   "execution_count": 9,
   "id": "22d48647",
   "metadata": {},
   "outputs": [
    {
     "data": {
      "text/plain": [
       "22"
      ]
     },
     "execution_count": 9,
     "metadata": {},
     "output_type": "execute_result"
    }
   ],
   "source": [
    "idade"
   ]
  },
  {
   "cell_type": "code",
   "execution_count": 13,
   "id": "145f1bfa",
   "metadata": {},
   "outputs": [
    {
     "name": "stdout",
     "output_type": "stream",
     "text": [
      "O nome e Pedro e sua idade e 23 anos\n"
     ]
    }
   ],
   "source": [
    "print(f'O nome e {nome} e sua idade e {idade} anos')"
   ]
  },
  {
   "cell_type": "code",
   "execution_count": 12,
   "id": "fcac0d00",
   "metadata": {},
   "outputs": [],
   "source": [
    "idade = 23"
   ]
  },
  {
   "cell_type": "markdown",
   "id": "10a5e169",
   "metadata": {},
   "source": [
    "# Criando minha primeira funcao"
   ]
  },
  {
   "cell_type": "code",
   "execution_count": 14,
   "id": "7fe94d6b",
   "metadata": {},
   "outputs": [],
   "source": [
    "def saudacao():\n",
    "    nome = input(\"Qual o seu nome? \")\n",
    "    print(f\"Ola {nome}\")"
   ]
  },
  {
   "cell_type": "code",
   "execution_count": 15,
   "id": "c2a8ec00",
   "metadata": {},
   "outputs": [
    {
     "name": "stdout",
     "output_type": "stream",
     "text": [
      "Qual o seu nome? Pedro\n",
      "Ola Pedro\n"
     ]
    }
   ],
   "source": [
    "saudacao()"
   ]
  },
  {
   "cell_type": "markdown",
   "id": "538b2e7a",
   "metadata": {},
   "source": [
    "# Parametros"
   ]
  },
  {
   "cell_type": "code",
   "execution_count": 21,
   "id": "7019459f",
   "metadata": {},
   "outputs": [],
   "source": [
    "nome = 'Joao'"
   ]
  },
  {
   "cell_type": "code",
   "execution_count": 22,
   "id": "91030f9b",
   "metadata": {},
   "outputs": [],
   "source": [
    "def saudacao_com_parametro(nome_da_pessoa):\n",
    "    print(f\"Ola {nome_da_pessoa}\")"
   ]
  },
  {
   "cell_type": "code",
   "execution_count": 23,
   "id": "b6d87c98",
   "metadata": {},
   "outputs": [
    {
     "name": "stdout",
     "output_type": "stream",
     "text": [
      "Ola Joao\n"
     ]
    }
   ],
   "source": [
    "saudacao_com_parametro(nome)"
   ]
  },
  {
   "cell_type": "markdown",
   "id": "3cb64a8d",
   "metadata": {},
   "source": [
    "# Condicional"
   ]
  },
  {
   "cell_type": "code",
   "execution_count": 30,
   "id": "bcf1d36e",
   "metadata": {},
   "outputs": [
    {
     "name": "stdout",
     "output_type": "stream",
     "text": [
      "Nao tem permissao para dirigir\n"
     ]
    }
   ],
   "source": [
    "idade = 10\n",
    "\n",
    "def verifica_se_pode_dirigir(idade):\n",
    "    if idade >= 18:\n",
    "        print(\"Tem permissao para dirigir\")\n",
    "    else:\n",
    "        print(\"Nao tem permissao para dirigir\")\n",
    "        \n",
    "verifica_se_pode_dirigir(idade)"
   ]
  },
  {
   "cell_type": "markdown",
   "id": "3149a45b",
   "metadata": {},
   "source": [
    "# Convertendo tipo para inteiro"
   ]
  },
  {
   "cell_type": "code",
   "execution_count": 33,
   "id": "dcddad50",
   "metadata": {},
   "outputs": [
    {
     "name": "stdout",
     "output_type": "stream",
     "text": [
      "Qual a sua idade? 22\n",
      "Tem permissao para dirigir\n"
     ]
    }
   ],
   "source": [
    "def verifica_se_pode_dirigir_sem_parametros():\n",
    "    idade = int(input(\"Qual a sua idade? \"))\n",
    "    if idade >= 18:\n",
    "        print(\"Tem permissao para dirigir\")\n",
    "    else:\n",
    "        print(\"Nao tem permissao para dirigir\")\n",
    "        \n",
    "verifica_se_pode_dirigir_sem_parametros()"
   ]
  },
  {
   "cell_type": "markdown",
   "id": "821d695d",
   "metadata": {},
   "source": [
    "# Lista"
   ]
  },
  {
   "cell_type": "code",
   "execution_count": 1,
   "id": "4090947b",
   "metadata": {},
   "outputs": [
    {
     "data": {
      "text/plain": [
       "22"
      ]
     },
     "execution_count": 1,
     "metadata": {},
     "output_type": "execute_result"
    }
   ],
   "source": [
    "idade = 22\n",
    "idade"
   ]
  },
  {
   "cell_type": "code",
   "execution_count": 2,
   "id": "2fc2ed44",
   "metadata": {},
   "outputs": [
    {
     "data": {
      "text/plain": [
       "int"
      ]
     },
     "execution_count": 2,
     "metadata": {},
     "output_type": "execute_result"
    }
   ],
   "source": [
    "type(idade)"
   ]
  },
  {
   "cell_type": "code",
   "execution_count": 4,
   "id": "ade9170e",
   "metadata": {},
   "outputs": [
    {
     "data": {
      "text/plain": [
       "str"
      ]
     },
     "execution_count": 4,
     "metadata": {},
     "output_type": "execute_result"
    }
   ],
   "source": [
    "nome = 'Pedro'\n",
    "type(nome)"
   ]
  },
  {
   "cell_type": "code",
   "execution_count": 6,
   "id": "e5273b5e",
   "metadata": {},
   "outputs": [
    {
     "data": {
      "text/plain": [
       "list"
      ]
     },
     "execution_count": 6,
     "metadata": {},
     "output_type": "execute_result"
    }
   ],
   "source": [
    "idades = [18, 22, 15, 50]\n",
    "type(idades)"
   ]
  },
  {
   "cell_type": "code",
   "execution_count": 7,
   "id": "3c9ea276",
   "metadata": {},
   "outputs": [
    {
     "data": {
      "text/plain": [
       "15"
      ]
     },
     "execution_count": 7,
     "metadata": {},
     "output_type": "execute_result"
    }
   ],
   "source": [
    "idades[2]"
   ]
  },
  {
   "cell_type": "code",
   "execution_count": 8,
   "id": "843394ee",
   "metadata": {},
   "outputs": [],
   "source": [
    "idades = [18, 22, 15, 50]\n",
    "#          0   1   2  3\n",
    "#          0  -3  -2 -3"
   ]
  },
  {
   "cell_type": "code",
   "execution_count": 9,
   "id": "f75b2a99",
   "metadata": {},
   "outputs": [
    {
     "data": {
      "text/plain": [
       "22"
      ]
     },
     "execution_count": 9,
     "metadata": {},
     "output_type": "execute_result"
    }
   ],
   "source": [
    "idades[1]"
   ]
  },
  {
   "cell_type": "code",
   "execution_count": 11,
   "id": "eaa151c8",
   "metadata": {},
   "outputs": [
    {
     "data": {
      "text/plain": [
       "[18, 22, 15]"
      ]
     },
     "execution_count": 11,
     "metadata": {},
     "output_type": "execute_result"
    }
   ],
   "source": [
    "idades[0:3]"
   ]
  },
  {
   "cell_type": "code",
   "execution_count": 12,
   "id": "531da12b",
   "metadata": {},
   "outputs": [
    {
     "data": {
      "text/plain": [
       "[22, 15, 50]"
      ]
     },
     "execution_count": 12,
     "metadata": {},
     "output_type": "execute_result"
    }
   ],
   "source": [
    "idades[1:]"
   ]
  },
  {
   "cell_type": "code",
   "execution_count": 13,
   "id": "c70b9abe",
   "metadata": {},
   "outputs": [
    {
     "data": {
      "text/plain": [
       "50"
      ]
     },
     "execution_count": 13,
     "metadata": {},
     "output_type": "execute_result"
    }
   ],
   "source": [
    "idades[-1]"
   ]
  },
  {
   "cell_type": "code",
   "execution_count": 14,
   "id": "21c3ace5",
   "metadata": {},
   "outputs": [
    {
     "data": {
      "text/plain": [
       "15"
      ]
     },
     "execution_count": 14,
     "metadata": {},
     "output_type": "execute_result"
    }
   ],
   "source": [
    "idades[-2]"
   ]
  },
  {
   "cell_type": "markdown",
   "id": "2e63f660",
   "metadata": {},
   "source": [
    "# Laços e loops"
   ]
  },
  {
   "cell_type": "code",
   "execution_count": 15,
   "id": "7126bd89",
   "metadata": {},
   "outputs": [
    {
     "data": {
      "text/plain": [
       "[18, 22, 15, 50]"
      ]
     },
     "execution_count": 15,
     "metadata": {},
     "output_type": "execute_result"
    }
   ],
   "source": [
    "idades"
   ]
  },
  {
   "cell_type": "code",
   "execution_count": 17,
   "id": "b7a71449",
   "metadata": {},
   "outputs": [
    {
     "name": "stdout",
     "output_type": "stream",
     "text": [
      "18 nos de idade, TEM permissao para dirigir\n",
      "22 nos de idade, TEM permissao para dirigir\n",
      "15 anos de idade, NAO TEM permissao para dirigir\n",
      "50 nos de idade, TEM permissao para dirigir\n"
     ]
    }
   ],
   "source": [
    "# for fora da funcao\n",
    "\n",
    "def verifica_se_pode_dirigir(idade):\n",
    "    if idade >= 18:\n",
    "        print(f\"{idade} nos de idade, TEM permissao para dirigir\")\n",
    "    else:\n",
    "        print(f\"{idade} anos de idade, NAO TEM permissao para dirigir\")\n",
    "        \n",
    "for idade in idades:\n",
    "    verifica_se_pode_dirigir(idade) "
   ]
  },
  {
   "cell_type": "code",
   "execution_count": 18,
   "id": "e4355a8d",
   "metadata": {},
   "outputs": [
    {
     "name": "stdout",
     "output_type": "stream",
     "text": [
      "18 nos de idade, TEM permissao para dirigir\n",
      "22 nos de idade, TEM permissao para dirigir\n",
      "15 anos de idade, NAO TEM permissao para dirigir\n",
      "50 nos de idade, TEM permissao para dirigir\n"
     ]
    }
   ],
   "source": [
    "def verifica_se_pode_dirigir(idades):\n",
    "    for idade in idades:\n",
    "        if idade >= 18:\n",
    "            print(f\"{idade} nos de idade, TEM permissao para dirigir\")\n",
    "        else:\n",
    "            print(f\"{idade} anos de idade, NAO TEM permissao para dirigir\")\n",
    "            \n",
    "verifica_se_pode_dirigir(idades)"
   ]
  },
  {
   "cell_type": "markdown",
   "id": "a96edc41",
   "metadata": {},
   "source": [
    "# Booleano"
   ]
  },
  {
   "cell_type": "code",
   "execution_count": 19,
   "id": "ef6a938d",
   "metadata": {},
   "outputs": [
    {
     "data": {
      "text/plain": [
       "True"
      ]
     },
     "execution_count": 19,
     "metadata": {},
     "output_type": "execute_result"
    }
   ],
   "source": [
    "idade = 18\n",
    "idade >= 18"
   ]
  },
  {
   "cell_type": "code",
   "execution_count": 20,
   "id": "8030a761",
   "metadata": {},
   "outputs": [
    {
     "data": {
      "text/plain": [
       "False"
      ]
     },
     "execution_count": 20,
     "metadata": {},
     "output_type": "execute_result"
    }
   ],
   "source": [
    "idade = 15\n",
    "idade >= 18"
   ]
  },
  {
   "cell_type": "code",
   "execution_count": 21,
   "id": "eaa67bd8",
   "metadata": {},
   "outputs": [],
   "source": [
    "permissoes = []\n",
    "idades = [20, 14, 40]\n",
    "\n",
    "def verifica_se_pode_dirigir(idades, permissoes):\n",
    "    for idade in idades:\n",
    "        if idade >= 18:\n",
    "            permissoes.append(True)\n",
    "        else:\n",
    "            permissoes.append(False)\n",
    "            \n",
    "verifica_se_pode_dirigir(idades, permissoes)"
   ]
  },
  {
   "cell_type": "code",
   "execution_count": 22,
   "id": "4fa19e6a",
   "metadata": {},
   "outputs": [
    {
     "data": {
      "text/plain": [
       "[True, False, True]"
      ]
     },
     "execution_count": 22,
     "metadata": {},
     "output_type": "execute_result"
    }
   ],
   "source": [
    "permissoes"
   ]
  },
  {
   "cell_type": "code",
   "execution_count": 23,
   "id": "a0595ae9",
   "metadata": {},
   "outputs": [
    {
     "name": "stdout",
     "output_type": "stream",
     "text": [
      "Tem permissao para dirigir\n",
      "Nao tem permissao para dirigir\n",
      "Tem permissao para dirigir\n"
     ]
    }
   ],
   "source": [
    "for permissao in permissoes:\n",
    "    if permissao == True:\n",
    "        print(\"Tem permissao para dirigir\")\n",
    "    else:\n",
    "        print(\"Nao tem permissao para dirigir\")"
   ]
  },
  {
   "cell_type": "markdown",
   "id": "bc5dfdab",
   "metadata": {},
   "source": [
    "# Tipos em uma lista"
   ]
  },
  {
   "cell_type": "code",
   "execution_count": 24,
   "id": "84a4ade2",
   "metadata": {},
   "outputs": [
    {
     "name": "stdout",
     "output_type": "stream",
     "text": [
      "O elemento Pedro e do tipo:  <class 'str'>\n",
      "O elemento 22 e do tipo:  <class 'int'>\n",
      "O elemento True e do tipo:  <class 'bool'>\n",
      "O elemento 18 e do tipo:  <class 'str'>\n"
     ]
    }
   ],
   "source": [
    "lista = ['Pedro', 22, True, '18']\n",
    "\n",
    "for elemento in lista:\n",
    "    print(f\"O elemento {elemento} e do tipo: \", type(elemento))"
   ]
  },
  {
   "cell_type": "markdown",
   "id": "d20680bb",
   "metadata": {},
   "source": [
    "# Import"
   ]
  },
  {
   "cell_type": "code",
   "execution_count": 37,
   "id": "77f3ef08",
   "metadata": {},
   "outputs": [],
   "source": [
    "from random import randrange, seed"
   ]
  },
  {
   "cell_type": "code",
   "execution_count": 50,
   "id": "31a1a6e1",
   "metadata": {},
   "outputs": [],
   "source": [
    "seed(11)"
   ]
  },
  {
   "cell_type": "code",
   "execution_count": 51,
   "id": "1a9e077a",
   "metadata": {},
   "outputs": [
    {
     "data": {
      "text/plain": [
       "7"
      ]
     },
     "execution_count": 51,
     "metadata": {},
     "output_type": "execute_result"
    }
   ],
   "source": [
    "randrange(0, 11)"
   ]
  },
  {
   "cell_type": "code",
   "execution_count": 52,
   "id": "e0ee31c3",
   "metadata": {},
   "outputs": [
    {
     "data": {
      "text/plain": [
       "[8, 7, 7, 8, 9, 3, 2, 8]"
      ]
     },
     "execution_count": 52,
     "metadata": {},
     "output_type": "execute_result"
    }
   ],
   "source": [
    "notas_matematica = []\n",
    "\n",
    "for notas in range(8):\n",
    "    notas_matematica.append(randrange(0, 11))\n",
    "\n",
    "notas_matematica"
   ]
  },
  {
   "cell_type": "code",
   "execution_count": 35,
   "id": "3b43c4c4",
   "metadata": {},
   "outputs": [
    {
     "data": {
      "text/plain": [
       "8"
      ]
     },
     "execution_count": 35,
     "metadata": {},
     "output_type": "execute_result"
    }
   ],
   "source": [
    "len(notas_matematica)"
   ]
  },
  {
   "cell_type": "markdown",
   "id": "4f5a8beb",
   "metadata": {},
   "source": [
    "# Matplotlib"
   ]
  },
  {
   "cell_type": "code",
   "execution_count": 55,
   "id": "f09bab16",
   "metadata": {},
   "outputs": [],
   "source": [
    "import matplotlib.pyplot as plt"
   ]
  },
  {
   "cell_type": "code",
   "execution_count": 64,
   "id": "be857c3d",
   "metadata": {},
   "outputs": [
    {
     "data": {
      "image/png": "[encoded data removed]",
      "text/plain": [
       "<Figure size 432x288 with 1 Axes>"
      ]
     },
     "metadata": {
      "needs_background": "light"
     },
     "output_type": "display_data"
    }
   ],
   "source": [
    "x = list(range(1, 9))\n",
    "y = notas_matematica\n",
    "plt.plot(x, y, marker = 'o')\n",
    "plt.title('Notas de matematica')\n",
    "plt.xlabel('Provas')\n",
    "plt.ylabel('Notas')\n",
    "plt.show()"
   ]
  },
  {
   "cell_type": "code",
   "execution_count": 65,
   "id": "53e8467b",
   "metadata": {},
   "outputs": [
    {
     "data": {
      "text/plain": [
       "[8, 7, 7, 8, 9, 3, 2, 8]"
      ]
     },
     "execution_count": 65,
     "metadata": {},
     "output_type": "execute_result"
    }
   ],
   "source": [
    "notas_matematica"
   ]
  }
 ],
 "metadata": {
  "kernelspec": {
   "display_name": "Python 3 (ipykernel)",
   "language": "python",
   "name": "python3"
  },
  "language_info": {
   "codemirror_mode": {
    "name": "ipython",
    "version": 3
   },
   "file_extension": ".py",
   "mimetype": "text/x-python",
   "name": "python",
   "nbconvert_exporter": "python",
   "pygments_lexer": "ipython3",
   "version": "3.10.0"
  }
 },
 "nbformat": 4,
 "nbformat_minor": 5
}
