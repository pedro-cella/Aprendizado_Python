{
 "cells": [
  {
   "cell_type": "markdown",
   "id": "ff1cab07",
   "metadata": {},
   "source": [
    "# Logica de Programacao"
   ]
  },
  {
   "cell_type": "code",
   "execution_count": 1,
   "id": "529d80cc",
   "metadata": {},
   "outputs": [
    {
     "data": {
      "text/plain": [
       "2"
      ]
     },
     "execution_count": 1,
     "metadata": {},
     "output_type": "execute_result"
    }
   ],
   "source": [
    "1+1"
   ]
  },
  {
   "cell_type": "code",
   "execution_count": 2,
   "id": "4ed90a0a",
   "metadata": {},
   "outputs": [
    {
     "data": {
      "text/plain": [
       "'Pedro'"
      ]
     },
     "execution_count": 2,
     "metadata": {},
     "output_type": "execute_result"
    }
   ],
   "source": [
    "\"Pedro\""
   ]
  },
  {
   "cell_type": "code",
   "execution_count": 3,
   "id": "8f2996df",
   "metadata": {},
   "outputs": [
    {
     "data": {
      "text/plain": [
       "'Pedro'"
      ]
     },
     "execution_count": 3,
     "metadata": {},
     "output_type": "execute_result"
    }
   ],
   "source": [
    "'Pedro'"
   ]
  },
  {
   "cell_type": "code",
   "execution_count": 6,
   "id": "6cefd7c9",
   "metadata": {},
   "outputs": [],
   "source": [
    "nome = 'Pedro'"
   ]
  },
  {
   "cell_type": "code",
   "execution_count": 7,
   "id": "7cee28d3",
   "metadata": {},
   "outputs": [
    {
     "data": {
      "text/plain": [
       "'Pedro'"
      ]
     },
     "execution_count": 7,
     "metadata": {},
     "output_type": "execute_result"
    }
   ],
   "source": [
    "nome"
   ]
  },
  {
   "cell_type": "code",
   "execution_count": 8,
   "id": "2bea11be",
   "metadata": {},
   "outputs": [],
   "source": [
    "idade = 22"
   ]
  },
  {
   "cell_type": "code",
   "execution_count": 9,
   "id": "22d48647",
   "metadata": {},
   "outputs": [
    {
     "data": {
      "text/plain": [
       "22"
      ]
     },
     "execution_count": 9,
     "metadata": {},
     "output_type": "execute_result"
    }
   ],
   "source": [
    "idade"
   ]
  },
  {
   "cell_type": "code",
   "execution_count": 13,
   "id": "145f1bfa",
   "metadata": {},
   "outputs": [
    {
     "name": "stdout",
     "output_type": "stream",
     "text": [
      "O nome e Pedro e sua idade e 23 anos\n"
     ]
    }
   ],
   "source": [
    "print(f'O nome e {nome} e sua idade e {idade} anos')"
   ]
  },
  {
   "cell_type": "code",
   "execution_count": 12,
   "id": "fcac0d00",
   "metadata": {},
   "outputs": [],
   "source": [
    "idade = 23"
   ]
  },
  {
   "cell_type": "markdown",
   "id": "10a5e169",
   "metadata": {},
   "source": [
    "# Criando minha primeira funcao"
   ]
  },
  {
   "cell_type": "code",
   "execution_count": 14,
   "id": "7fe94d6b",
   "metadata": {},
   "outputs": [],
   "source": [
    "def saudacao():\n",
    "    nome = input(\"Qual o seu nome? \")\n",
    "    print(f\"Ola {nome}\")"
   ]
  },
  {
   "cell_type": "code",
   "execution_count": 15,
   "id": "c2a8ec00",
   "metadata": {},
   "outputs": [
    {
     "name": "stdout",
     "output_type": "stream",
     "text": [
      "Qual o seu nome? Pedro\n",
      "Ola Pedro\n"
     ]
    }
   ],
   "source": [
    "saudacao()"
   ]
  },
  {
   "cell_type": "markdown",
   "id": "538b2e7a",
   "metadata": {},
   "source": [
    "# Parametros"
   ]
  },
  {
   "cell_type": "code",
   "execution_count": 21,
   "id": "7019459f",
   "metadata": {},
   "outputs": [],
   "source": [
    "nome = 'Joao'"
   ]
  },
  {
   "cell_type": "code",
   "execution_count": 22,
   "id": "91030f9b",
   "metadata": {},
   "outputs": [],
   "source": [
    "def saudacao_com_parametro(nome_da_pessoa):\n",
    "    print(f\"Ola {nome_da_pessoa}\")"
   ]
  },
  {
   "cell_type": "code",
   "execution_count": 23,
   "id": "b6d87c98",
   "metadata": {},
   "outputs": [
    {
     "name": "stdout",
     "output_type": "stream",
     "text": [
      "Ola Joao\n"
     ]
    }
   ],
   "source": [
    "saudacao_com_parametro(nome)"
   ]
  },
  {
   "cell_type": "markdown",
   "id": "3cb64a8d",
   "metadata": {},
   "source": [
    "# Condicional"
   ]
  },
  {
   "cell_type": "code",
   "execution_count": 30,
   "id": "bcf1d36e",
   "metadata": {},
   "outputs": [
    {
     "name": "stdout",
     "output_type": "stream",
     "text": [
      "Nao tem permissao para dirigir\n"
     ]
    }
   ],
   "source": [
    "idade = 10\n",
    "\n",
    "def verifica_se_pode_dirigir(idade):\n",
    "    if idade >= 18:\n",
    "        print(\"Tem permissao para dirigir\")\n",
    "    else:\n",
    "        print(\"Nao tem permissao para dirigir\")\n",
    "        \n",
    "verifica_se_pode_dirigir(idade)"
   ]
  },
  {
   "cell_type": "markdown",
   "id": "3149a45b",
   "metadata": {},
   "source": [
    "# Convertendo tipo para inteiro"
   ]
  },
  {
   "cell_type": "code",
   "execution_count": 33,
   "id": "dcddad50",
   "metadata": {},
   "outputs": [
    {
     "name": "stdout",
     "output_type": "stream",
     "text": [
      "Qual a sua idade? 22\n",
      "Tem permissao para dirigir\n"
     ]
    }
   ],
   "source": [
    "def verifica_se_pode_dirigir_sem_parametros():\n",
    "    idade = int(input(\"Qual a sua idade? \"))\n",
    "    if idade >= 18:\n",
    "        print(\"Tem permissao para dirigir\")\n",
    "    else:\n",
    "        print(\"Nao tem permissao para dirigir\")\n",
    "        \n",
    "verifica_se_pode_dirigir_sem_parametros()"
   ]
  },
  {
   "cell_type": "code",
   "execution_count": null,
   "id": "38fcbe68",
   "metadata": {},
   "outputs": [],
   "source": []
  }
 ],
 "metadata": {
  "kernelspec": {
   "display_name": "Python 3 (ipykernel)",
   "language": "python",
   "name": "python3"
  },
  "language_info": {
   "codemirror_mode": {
    "name": "ipython",
    "version": 3
   },
   "file_extension": ".py",
   "mimetype": "text/x-python",
   "name": "python",
   "nbconvert_exporter": "python",
   "pygments_lexer": "ipython3",
   "version": "3.10.0"
  }
 },
 "nbformat": 4,
 "nbformat_minor": 5
}
