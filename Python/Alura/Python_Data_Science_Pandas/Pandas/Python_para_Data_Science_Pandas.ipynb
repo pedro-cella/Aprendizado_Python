{
 "cells": [
  {
   "cell_type": "markdown",
   "metadata": {
    "colab_type": "text",
    "id": "W4bTJkJED0-t"
   },
   "source": [
    "# <font color=green> PYTHON PARA DATA SCIENCE - PANDAS\n",
    "---"
   ]
  },
  {
   "cell_type": "markdown",
   "metadata": {
    "colab_type": "text",
    "id": "GOEcCc62D0-x"
   },
   "source": [
    "# <font color=green> 1. INTRODUÇÃO AO PYTHON\n",
    "---"
   ]
  },
  {
   "cell_type": "markdown",
   "metadata": {
    "colab_type": "text",
    "id": "oGvoOJ-XD0-y"
   },
   "source": [
    "# 1.1 Introdução"
   ]
  },
  {
   "cell_type": "markdown",
   "metadata": {
    "colab_type": "text",
    "id": "fam3BM0aD0-z"
   },
   "source": [
    "> Python é uma linguagem de programação de alto nível com suporte a múltiplos paradigmas de programação. É um projeto *open source* e desde seu surgimento, em 1991, vem se tornando uma das linguagens de programação interpretadas mais populares. \n",
    ">\n",
    "> Nos últimos anos Python desenvolveu uma comunidade ativa de processamento científico e análise de dados e vem se destacando como uma das linguagens mais relevantes quando o assundo é ciência de dados e machine learning, tanto no ambiente acadêmico como também no mercado."
   ]
  },
  {
   "cell_type": "markdown",
   "metadata": {
    "colab_type": "text",
    "id": "6kH5DY-vD0-1"
   },
   "source": [
    "# 1.2 Instalação e ambiente de desenvolvimento"
   ]
  },
  {
   "cell_type": "markdown",
   "metadata": {
    "colab_type": "text",
    "id": "BTpm79I2D0-2"
   },
   "source": [
    "### Instalação Local\n",
    "\n",
    "### https://www.python.org/downloads/\n",
    "### ou\n",
    "### https://www.anaconda.com/distribution/"
   ]
  },
  {
   "cell_type": "markdown",
   "metadata": {
    "colab_type": "text",
    "id": "AuPS_XwRD0-3"
   },
   "source": [
    "### Google Colaboratory\n",
    "\n",
    "### https://colab.research.google.com"
   ]
  },
  {
   "cell_type": "markdown",
   "metadata": {
    "colab_type": "text",
    "id": "4rUYsPrXD0-4"
   },
   "source": [
    "### Verificando versão"
   ]
  },
  {
   "cell_type": "code",
   "execution_count": 3,
   "metadata": {
    "colab": {},
    "colab_type": "code",
    "id": "PgTCVRB2D0-5"
   },
   "outputs": [
    {
     "name": "stdout",
     "output_type": "stream",
     "text": [
      "Python 3.10.0\r\n"
     ]
    }
   ],
   "source": [
    "!python3.10 -V"
   ]
  },
  {
   "cell_type": "markdown",
   "metadata": {
    "colab_type": "text",
    "id": "lTtI6so4D0-9"
   },
   "source": [
    "# 1.3 Trabalhando com dados"
   ]
  },
  {
   "cell_type": "code",
   "execution_count": 17,
   "metadata": {
    "colab": {},
    "colab_type": "code",
    "id": "E_n4FUUWD0-9"
   },
   "outputs": [],
   "source": [
    "import pandas as pd\n",
    "# pd.set_option('display.max_rows', 1000)\n",
    "# pd.set_option('display.max_columns', 1000)"
   ]
  },
  {
   "cell_type": "code",
   "execution_count": 18,
   "metadata": {
    "colab": {},
    "colab_type": "code",
    "id": "Kq-JdRHFD0-_"
   },
   "outputs": [],
   "source": [
    "dataset = pd.read_csv('./data/db.csv', sep = ';')"
   ]
  },
  {
   "cell_type": "code",
   "execution_count": 19,
   "metadata": {
    "colab": {},
    "colab_type": "code",
    "id": "mOV1rCA6D0_A",
    "scrolled": true
   },
   "outputs": [
    {
     "data": {
      "text/html": [
       "<div>\n",
       "<style scoped>\n",
       "    .dataframe tbody tr th:only-of-type {\n",
       "        vertical-align: middle;\n",
       "    }\n",
       "\n",
       "    .dataframe tbody tr th {\n",
       "        vertical-align: top;\n",
       "    }\n",
       "\n",
       "    .dataframe thead th {\n",
       "        text-align: right;\n",
       "    }\n",
       "</style>\n",
       "<table border=\"1\" class=\"dataframe\">\n",
       "  <thead>\n",
       "    <tr style=\"text-align: right;\">\n",
       "      <th></th>\n",
       "      <th>Nome</th>\n",
       "      <th>Motor</th>\n",
       "      <th>Ano</th>\n",
       "      <th>Quilometragem</th>\n",
       "      <th>Zero_km</th>\n",
       "      <th>Acessórios</th>\n",
       "      <th>Valor</th>\n",
       "    </tr>\n",
       "  </thead>\n",
       "  <tbody>\n",
       "    <tr>\n",
       "      <th>0</th>\n",
       "      <td>Jetta Variant</td>\n",
       "      <td>Motor 4.0 Turbo</td>\n",
       "      <td>2003</td>\n",
       "      <td>44410.0</td>\n",
       "      <td>False</td>\n",
       "      <td>['Rodas de liga', 'Travas elétricas', 'Piloto ...</td>\n",
       "      <td>88078.64</td>\n",
       "    </tr>\n",
       "    <tr>\n",
       "      <th>1</th>\n",
       "      <td>Passat</td>\n",
       "      <td>Motor Diesel</td>\n",
       "      <td>1991</td>\n",
       "      <td>5712.0</td>\n",
       "      <td>False</td>\n",
       "      <td>['Central multimídia', 'Teto panorâmico', 'Fre...</td>\n",
       "      <td>106161.94</td>\n",
       "    </tr>\n",
       "    <tr>\n",
       "      <th>2</th>\n",
       "      <td>Crossfox</td>\n",
       "      <td>Motor Diesel V8</td>\n",
       "      <td>1990</td>\n",
       "      <td>37123.0</td>\n",
       "      <td>False</td>\n",
       "      <td>['Piloto automático', 'Controle de estabilidad...</td>\n",
       "      <td>72832.16</td>\n",
       "    </tr>\n",
       "    <tr>\n",
       "      <th>3</th>\n",
       "      <td>DS5</td>\n",
       "      <td>Motor 2.4 Turbo</td>\n",
       "      <td>2019</td>\n",
       "      <td>NaN</td>\n",
       "      <td>True</td>\n",
       "      <td>['Travas elétricas', '4 X 4', 'Vidros elétrico...</td>\n",
       "      <td>124549.07</td>\n",
       "    </tr>\n",
       "    <tr>\n",
       "      <th>4</th>\n",
       "      <td>Aston Martin DB4</td>\n",
       "      <td>Motor 2.4 Turbo</td>\n",
       "      <td>2006</td>\n",
       "      <td>25757.0</td>\n",
       "      <td>False</td>\n",
       "      <td>['Rodas de liga', '4 X 4', 'Central multimídia...</td>\n",
       "      <td>92612.10</td>\n",
       "    </tr>\n",
       "    <tr>\n",
       "      <th>5</th>\n",
       "      <td>Palio Weekend</td>\n",
       "      <td>Motor 1.8 16v</td>\n",
       "      <td>2012</td>\n",
       "      <td>10728.0</td>\n",
       "      <td>False</td>\n",
       "      <td>['Sensor de estacionamento', 'Teto panorâmico'...</td>\n",
       "      <td>97497.73</td>\n",
       "    </tr>\n",
       "    <tr>\n",
       "      <th>6</th>\n",
       "      <td>A5</td>\n",
       "      <td>Motor 4.0 Turbo</td>\n",
       "      <td>2019</td>\n",
       "      <td>NaN</td>\n",
       "      <td>True</td>\n",
       "      <td>['Câmbio automático', 'Câmera de estacionament...</td>\n",
       "      <td>56445.20</td>\n",
       "    </tr>\n",
       "    <tr>\n",
       "      <th>7</th>\n",
       "      <td>Série 3 Cabrio</td>\n",
       "      <td>Motor 1.0 8v</td>\n",
       "      <td>2009</td>\n",
       "      <td>77599.0</td>\n",
       "      <td>False</td>\n",
       "      <td>['Controle de estabilidade', 'Sensor crepuscul...</td>\n",
       "      <td>112310.44</td>\n",
       "    </tr>\n",
       "    <tr>\n",
       "      <th>8</th>\n",
       "      <td>Dodge Jorney</td>\n",
       "      <td>Motor 3.0 32v</td>\n",
       "      <td>2010</td>\n",
       "      <td>99197.0</td>\n",
       "      <td>False</td>\n",
       "      <td>['Vidros elétricos', 'Piloto automático', 'Tet...</td>\n",
       "      <td>120716.27</td>\n",
       "    </tr>\n",
       "    <tr>\n",
       "      <th>9</th>\n",
       "      <td>Carens</td>\n",
       "      <td>Motor 5.0 V8 Bi-Turbo</td>\n",
       "      <td>2011</td>\n",
       "      <td>37978.0</td>\n",
       "      <td>False</td>\n",
       "      <td>['Ar condicionado', 'Painel digital', 'Central...</td>\n",
       "      <td>76566.49</td>\n",
       "    </tr>\n",
       "    <tr>\n",
       "      <th>10</th>\n",
       "      <td>Ford Edge</td>\n",
       "      <td>Motor Diesel V6</td>\n",
       "      <td>2002</td>\n",
       "      <td>12859.0</td>\n",
       "      <td>False</td>\n",
       "      <td>['Sensor crepuscular', 'Rodas de liga', 'Teto ...</td>\n",
       "      <td>71647.59</td>\n",
       "    </tr>\n",
       "    <tr>\n",
       "      <th>11</th>\n",
       "      <td>Courier</td>\n",
       "      <td>Motor Diesel V8</td>\n",
       "      <td>2007</td>\n",
       "      <td>8052.0</td>\n",
       "      <td>False</td>\n",
       "      <td>['Central multimídia', '4 X 4', 'Piloto automá...</td>\n",
       "      <td>73919.53</td>\n",
       "    </tr>\n",
       "    <tr>\n",
       "      <th>12</th>\n",
       "      <td>S-18</td>\n",
       "      <td>Motor V6</td>\n",
       "      <td>2001</td>\n",
       "      <td>89773.0</td>\n",
       "      <td>False</td>\n",
       "      <td>['Bancos de couro', 'Sensor de chuva', 'Rodas ...</td>\n",
       "      <td>112732.99</td>\n",
       "    </tr>\n",
       "    <tr>\n",
       "      <th>13</th>\n",
       "      <td>J5</td>\n",
       "      <td>Motor V6</td>\n",
       "      <td>2019</td>\n",
       "      <td>NaN</td>\n",
       "      <td>True</td>\n",
       "      <td>['Sensor crepuscular', 'Painel digital', 'Roda...</td>\n",
       "      <td>53183.38</td>\n",
       "    </tr>\n",
       "    <tr>\n",
       "      <th>14</th>\n",
       "      <td>F-Type Coupé</td>\n",
       "      <td>Motor 5.0 V8 Bi-Turbo</td>\n",
       "      <td>2009</td>\n",
       "      <td>41457.0</td>\n",
       "      <td>False</td>\n",
       "      <td>['Piloto automático', 'Sensor crepuscular', 'S...</td>\n",
       "      <td>127488.42</td>\n",
       "    </tr>\n",
       "    <tr>\n",
       "      <th>15</th>\n",
       "      <td>RAM</td>\n",
       "      <td>Motor Diesel V8</td>\n",
       "      <td>2016</td>\n",
       "      <td>115607.0</td>\n",
       "      <td>False</td>\n",
       "      <td>['Sensor crepuscular', 'Câmbio automático', 'S...</td>\n",
       "      <td>59910.40</td>\n",
       "    </tr>\n",
       "    <tr>\n",
       "      <th>16</th>\n",
       "      <td>Série 1</td>\n",
       "      <td>Motor 3.0 32v</td>\n",
       "      <td>2012</td>\n",
       "      <td>46449.0</td>\n",
       "      <td>False</td>\n",
       "      <td>['Teto panorâmico', 'Câmera de estacionamento'...</td>\n",
       "      <td>61118.59</td>\n",
       "    </tr>\n",
       "    <tr>\n",
       "      <th>17</th>\n",
       "      <td>A3</td>\n",
       "      <td>Motor 1.0 8v</td>\n",
       "      <td>2019</td>\n",
       "      <td>NaN</td>\n",
       "      <td>True</td>\n",
       "      <td>['4 X 4', 'Piloto automático', 'Central multim...</td>\n",
       "      <td>88552.39</td>\n",
       "    </tr>\n",
       "    <tr>\n",
       "      <th>18</th>\n",
       "      <td>XC90</td>\n",
       "      <td>Motor 1.0 8v</td>\n",
       "      <td>2016</td>\n",
       "      <td>37086.0</td>\n",
       "      <td>False</td>\n",
       "      <td>['Travas elétricas', 'Vidros elétricos', 'Teto...</td>\n",
       "      <td>62696.69</td>\n",
       "    </tr>\n",
       "    <tr>\n",
       "      <th>19</th>\n",
       "      <td>RS 3 Sportback</td>\n",
       "      <td>Motor 3.0 32v</td>\n",
       "      <td>2017</td>\n",
       "      <td>15173.0</td>\n",
       "      <td>False</td>\n",
       "      <td>['4 X 4', 'Piloto automático', 'Central multim...</td>\n",
       "      <td>101726.30</td>\n",
       "    </tr>\n",
       "    <tr>\n",
       "      <th>20</th>\n",
       "      <td>Pajero Sport</td>\n",
       "      <td>Motor 1.0 8v</td>\n",
       "      <td>2002</td>\n",
       "      <td>101193.0</td>\n",
       "      <td>False</td>\n",
       "      <td>['Sensor de estacionamento', 'Piloto automátic...</td>\n",
       "      <td>106147.38</td>\n",
       "    </tr>\n",
       "    <tr>\n",
       "      <th>21</th>\n",
       "      <td>Série 1 M</td>\n",
       "      <td>Motor V8</td>\n",
       "      <td>2019</td>\n",
       "      <td>NaN</td>\n",
       "      <td>True</td>\n",
       "      <td>['Controle de estabilidade', 'Central multimíd...</td>\n",
       "      <td>94564.40</td>\n",
       "    </tr>\n",
       "    <tr>\n",
       "      <th>22</th>\n",
       "      <td>Lamborghini Obvious</td>\n",
       "      <td>Motor Diesel V6</td>\n",
       "      <td>1994</td>\n",
       "      <td>98079.0</td>\n",
       "      <td>False</td>\n",
       "      <td>['Rodas de liga', 'Câmbio automático', 'Travas...</td>\n",
       "      <td>133529.84</td>\n",
       "    </tr>\n",
       "    <tr>\n",
       "      <th>23</th>\n",
       "      <td>Effa Hafei Picape Baú</td>\n",
       "      <td>Motor Diesel</td>\n",
       "      <td>1991</td>\n",
       "      <td>102959.0</td>\n",
       "      <td>False</td>\n",
       "      <td>['Controle de estabilidade', 'Painel digital',...</td>\n",
       "      <td>125684.65</td>\n",
       "    </tr>\n",
       "    <tr>\n",
       "      <th>24</th>\n",
       "      <td>Lamborghini Murciélago</td>\n",
       "      <td>Motor 5.0 V8 Bi-Turbo</td>\n",
       "      <td>2019</td>\n",
       "      <td>NaN</td>\n",
       "      <td>True</td>\n",
       "      <td>['Freios ABS', 'Câmbio automático', 'Ar condic...</td>\n",
       "      <td>121596.21</td>\n",
       "    </tr>\n",
       "    <tr>\n",
       "      <th>25</th>\n",
       "      <td>Up!</td>\n",
       "      <td>Motor Diesel V6</td>\n",
       "      <td>2019</td>\n",
       "      <td>NaN</td>\n",
       "      <td>True</td>\n",
       "      <td>['Sensor de estacionamento', 'Vidros elétricos...</td>\n",
       "      <td>71367.10</td>\n",
       "    </tr>\n",
       "    <tr>\n",
       "      <th>26</th>\n",
       "      <td>Fiesta Rocam Sedan</td>\n",
       "      <td>Motor 4.0 Turbo</td>\n",
       "      <td>2016</td>\n",
       "      <td>5795.0</td>\n",
       "      <td>False</td>\n",
       "      <td>['Ar condicionado', 'Bancos de couro', 'Câmbio...</td>\n",
       "      <td>95347.75</td>\n",
       "    </tr>\n",
       "    <tr>\n",
       "      <th>27</th>\n",
       "      <td>Sandero Stepway</td>\n",
       "      <td>Motor 3.0 32v</td>\n",
       "      <td>2019</td>\n",
       "      <td>NaN</td>\n",
       "      <td>True</td>\n",
       "      <td>['Freios ABS', 'Ar condicionado', 'Teto panorâ...</td>\n",
       "      <td>105432.84</td>\n",
       "    </tr>\n",
       "    <tr>\n",
       "      <th>28</th>\n",
       "      <td>Cayman S</td>\n",
       "      <td>Motor 3.0 32v</td>\n",
       "      <td>2002</td>\n",
       "      <td>58848.0</td>\n",
       "      <td>False</td>\n",
       "      <td>['Câmbio automático', 'Sensor de estacionament...</td>\n",
       "      <td>57045.27</td>\n",
       "    </tr>\n",
       "    <tr>\n",
       "      <th>29</th>\n",
       "      <td>V40</td>\n",
       "      <td>Motor 4.0 Turbo</td>\n",
       "      <td>1991</td>\n",
       "      <td>94381.0</td>\n",
       "      <td>False</td>\n",
       "      <td>['Câmera de estacionamento', 'Sensor de estaci...</td>\n",
       "      <td>120432.70</td>\n",
       "    </tr>\n",
       "    <tr>\n",
       "      <th>30</th>\n",
       "      <td>Classe SLS AMG</td>\n",
       "      <td>Motor 1.0 8v</td>\n",
       "      <td>1997</td>\n",
       "      <td>30163.0</td>\n",
       "      <td>False</td>\n",
       "      <td>['Sensor de estacionamento', 'Controle de esta...</td>\n",
       "      <td>70707.20</td>\n",
       "    </tr>\n",
       "    <tr>\n",
       "      <th>31</th>\n",
       "      <td>Gol G4</td>\n",
       "      <td>Motor 2.0 16v</td>\n",
       "      <td>1995</td>\n",
       "      <td>53332.0</td>\n",
       "      <td>False</td>\n",
       "      <td>['Sensor crepuscular', '4 X 4', 'Vidros elétri...</td>\n",
       "      <td>69105.18</td>\n",
       "    </tr>\n",
       "    <tr>\n",
       "      <th>32</th>\n",
       "      <td>Linea</td>\n",
       "      <td>Motor 1.0 8v</td>\n",
       "      <td>2018</td>\n",
       "      <td>17720.0</td>\n",
       "      <td>False</td>\n",
       "      <td>['Piloto automático', 'Painel digital', 'Vidro...</td>\n",
       "      <td>59358.69</td>\n",
       "    </tr>\n",
       "    <tr>\n",
       "      <th>33</th>\n",
       "      <td>Ford F100</td>\n",
       "      <td>Motor 2.0 16v</td>\n",
       "      <td>1991</td>\n",
       "      <td>33808.0</td>\n",
       "      <td>False</td>\n",
       "      <td>['Controle de tração', 'Sensor crepuscular', '...</td>\n",
       "      <td>65955.40</td>\n",
       "    </tr>\n",
       "    <tr>\n",
       "      <th>34</th>\n",
       "      <td>J2</td>\n",
       "      <td>Motor V8</td>\n",
       "      <td>2014</td>\n",
       "      <td>90684.0</td>\n",
       "      <td>False</td>\n",
       "      <td>['Teto panorâmico', 'Sensor de estacionamento'...</td>\n",
       "      <td>60017.03</td>\n",
       "    </tr>\n",
       "    <tr>\n",
       "      <th>35</th>\n",
       "      <td>Aston Martin DBS</td>\n",
       "      <td>Motor V8</td>\n",
       "      <td>1995</td>\n",
       "      <td>43975.0</td>\n",
       "      <td>False</td>\n",
       "      <td>['Teto panorâmico', 'Piloto automático', 'Ar c...</td>\n",
       "      <td>118909.52</td>\n",
       "    </tr>\n",
       "    <tr>\n",
       "      <th>36</th>\n",
       "      <td>Pajero TR4</td>\n",
       "      <td>Motor 2.4 Turbo</td>\n",
       "      <td>2019</td>\n",
       "      <td>NaN</td>\n",
       "      <td>True</td>\n",
       "      <td>['Controle de tração', 'Bancos de couro', 'Câm...</td>\n",
       "      <td>51606.59</td>\n",
       "    </tr>\n",
       "    <tr>\n",
       "      <th>37</th>\n",
       "      <td>Polo Sedan</td>\n",
       "      <td>Motor V6</td>\n",
       "      <td>2019</td>\n",
       "      <td>NaN</td>\n",
       "      <td>True</td>\n",
       "      <td>['Sensor de chuva', 'Sensor crepuscular', 'Ar ...</td>\n",
       "      <td>123281.87</td>\n",
       "    </tr>\n",
       "    <tr>\n",
       "      <th>38</th>\n",
       "      <td>California</td>\n",
       "      <td>Motor 1.0 8v</td>\n",
       "      <td>2009</td>\n",
       "      <td>5526.0</td>\n",
       "      <td>False</td>\n",
       "      <td>['Rodas de liga', 'Ar condicionado', 'Câmera d...</td>\n",
       "      <td>69770.18</td>\n",
       "    </tr>\n",
       "    <tr>\n",
       "      <th>39</th>\n",
       "      <td>S60</td>\n",
       "      <td>Motor 2.4 Turbo</td>\n",
       "      <td>2019</td>\n",
       "      <td>NaN</td>\n",
       "      <td>True</td>\n",
       "      <td>['Teto panorâmico', 'Freios ABS', '4 X 4', 'Ar...</td>\n",
       "      <td>102609.54</td>\n",
       "    </tr>\n",
       "    <tr>\n",
       "      <th>40</th>\n",
       "      <td>Tucson</td>\n",
       "      <td>Motor 2.0 16v</td>\n",
       "      <td>2013</td>\n",
       "      <td>93415.0</td>\n",
       "      <td>False</td>\n",
       "      <td>['Vidros elétricos', 'Sensor crepuscular', 'Fr...</td>\n",
       "      <td>67997.19</td>\n",
       "    </tr>\n",
       "    <tr>\n",
       "      <th>41</th>\n",
       "      <td>HB20</td>\n",
       "      <td>Motor V6</td>\n",
       "      <td>2003</td>\n",
       "      <td>40762.0</td>\n",
       "      <td>False</td>\n",
       "      <td>['Sensor de chuva', 'Travas elétricas', 'Contr...</td>\n",
       "      <td>135235.29</td>\n",
       "    </tr>\n",
       "    <tr>\n",
       "      <th>42</th>\n",
       "      <td>Optima</td>\n",
       "      <td>Motor 1.8 16v</td>\n",
       "      <td>2019</td>\n",
       "      <td>NaN</td>\n",
       "      <td>True</td>\n",
       "      <td>['Central multimídia', 'Ar condicionado', 'Tet...</td>\n",
       "      <td>86641.34</td>\n",
       "    </tr>\n",
       "    <tr>\n",
       "      <th>43</th>\n",
       "      <td>Logan</td>\n",
       "      <td>Motor 4.0 Turbo</td>\n",
       "      <td>2002</td>\n",
       "      <td>86302.0</td>\n",
       "      <td>False</td>\n",
       "      <td>['Câmera de estacionamento', 'Vidros elétricos...</td>\n",
       "      <td>136818.39</td>\n",
       "    </tr>\n",
       "    <tr>\n",
       "      <th>44</th>\n",
       "      <td>Range Rover Vogue</td>\n",
       "      <td>Motor 1.0 8v</td>\n",
       "      <td>2019</td>\n",
       "      <td>NaN</td>\n",
       "      <td>True</td>\n",
       "      <td>['4 X 4', 'Vidros elétricos', 'Rodas de liga',...</td>\n",
       "      <td>117626.73</td>\n",
       "    </tr>\n",
       "    <tr>\n",
       "      <th>45</th>\n",
       "      <td>Sonata</td>\n",
       "      <td>Motor 5.0 V8 Bi-Turbo</td>\n",
       "      <td>2002</td>\n",
       "      <td>9755.0</td>\n",
       "      <td>False</td>\n",
       "      <td>['Piloto automático', 'Ar condicionado', 'Vidr...</td>\n",
       "      <td>56208.70</td>\n",
       "    </tr>\n",
       "    <tr>\n",
       "      <th>46</th>\n",
       "      <td>Ford New Fiesta Sedan</td>\n",
       "      <td>Motor 3.0 32v</td>\n",
       "      <td>2004</td>\n",
       "      <td>69945.0</td>\n",
       "      <td>False</td>\n",
       "      <td>['Teto panorâmico', 'Painel digital', 'Ar cond...</td>\n",
       "      <td>84222.65</td>\n",
       "    </tr>\n",
       "    <tr>\n",
       "      <th>47</th>\n",
       "      <td>Série 5 Gran Turismo</td>\n",
       "      <td>Motor 4.0 Turbo</td>\n",
       "      <td>2001</td>\n",
       "      <td>2395.0</td>\n",
       "      <td>False</td>\n",
       "      <td>['Controle de tração', 'Piloto automático', 'A...</td>\n",
       "      <td>90781.65</td>\n",
       "    </tr>\n",
       "    <tr>\n",
       "      <th>48</th>\n",
       "      <td>CR-V</td>\n",
       "      <td>Motor Diesel V8</td>\n",
       "      <td>2019</td>\n",
       "      <td>NaN</td>\n",
       "      <td>True</td>\n",
       "      <td>['Câmbio automático', 'Central multimídia', 'V...</td>\n",
       "      <td>64701.10</td>\n",
       "    </tr>\n",
       "    <tr>\n",
       "      <th>49</th>\n",
       "      <td>Ford EcoSport</td>\n",
       "      <td>Motor 1.0 8v</td>\n",
       "      <td>2003</td>\n",
       "      <td>80349.0</td>\n",
       "      <td>False</td>\n",
       "      <td>['Vidros elétricos', 'Piloto automático', 'Pai...</td>\n",
       "      <td>126350.49</td>\n",
       "    </tr>\n",
       "    <tr>\n",
       "      <th>50</th>\n",
       "      <td>Versa</td>\n",
       "      <td>Motor 3.0 32v</td>\n",
       "      <td>2009</td>\n",
       "      <td>85554.0</td>\n",
       "      <td>False</td>\n",
       "      <td>['Bancos de couro', 'Ar condicionado', 'Rodas ...</td>\n",
       "      <td>148152.89</td>\n",
       "    </tr>\n",
       "    <tr>\n",
       "      <th>51</th>\n",
       "      <td>Classe E</td>\n",
       "      <td>Motor 1.0 8v</td>\n",
       "      <td>2006</td>\n",
       "      <td>50496.0</td>\n",
       "      <td>False</td>\n",
       "      <td>['Freios ABS', 'Sensor de estacionamento', 'Ce...</td>\n",
       "      <td>132298.83</td>\n",
       "    </tr>\n",
       "    <tr>\n",
       "      <th>52</th>\n",
       "      <td>Carnival</td>\n",
       "      <td>Motor V8</td>\n",
       "      <td>2000</td>\n",
       "      <td>67716.0</td>\n",
       "      <td>False</td>\n",
       "      <td>['Travas elétricas', 'Câmbio automático', 'Câm...</td>\n",
       "      <td>137627.63</td>\n",
       "    </tr>\n",
       "    <tr>\n",
       "      <th>53</th>\n",
       "      <td>Aston Martin V8 Vantage Roadster</td>\n",
       "      <td>Motor 2.4 Turbo</td>\n",
       "      <td>2006</td>\n",
       "      <td>93947.0</td>\n",
       "      <td>False</td>\n",
       "      <td>['Câmbio automático', 'Câmera de estacionament...</td>\n",
       "      <td>80422.71</td>\n",
       "    </tr>\n",
       "    <tr>\n",
       "      <th>54</th>\n",
       "      <td>Hoggar</td>\n",
       "      <td>Motor 5.0 V8 Bi-Turbo</td>\n",
       "      <td>2010</td>\n",
       "      <td>35345.0</td>\n",
       "      <td>False</td>\n",
       "      <td>['Controle de estabilidade', 'Bancos de couro'...</td>\n",
       "      <td>56373.99</td>\n",
       "    </tr>\n",
       "    <tr>\n",
       "      <th>55</th>\n",
       "      <td>A1</td>\n",
       "      <td>Motor 5.0 V8 Bi-Turbo</td>\n",
       "      <td>1994</td>\n",
       "      <td>81007.0</td>\n",
       "      <td>False</td>\n",
       "      <td>['Painel digital', 'Câmbio automático', 'Câmer...</td>\n",
       "      <td>70846.03</td>\n",
       "    </tr>\n",
       "    <tr>\n",
       "      <th>56</th>\n",
       "      <td>Aston Martin DB7 Vantage</td>\n",
       "      <td>Motor V6</td>\n",
       "      <td>2007</td>\n",
       "      <td>119513.0</td>\n",
       "      <td>False</td>\n",
       "      <td>['Sensor crepuscular', 'Piloto automático', 'T...</td>\n",
       "      <td>128694.23</td>\n",
       "    </tr>\n",
       "    <tr>\n",
       "      <th>57</th>\n",
       "      <td>CLA</td>\n",
       "      <td>Motor 1.0 8v</td>\n",
       "      <td>2019</td>\n",
       "      <td>NaN</td>\n",
       "      <td>True</td>\n",
       "      <td>['Central multimídia', 'Sensor de chuva', 'Con...</td>\n",
       "      <td>133329.19</td>\n",
       "    </tr>\n",
       "    <tr>\n",
       "      <th>58</th>\n",
       "      <td>Accord</td>\n",
       "      <td>Motor V8</td>\n",
       "      <td>2019</td>\n",
       "      <td>NaN</td>\n",
       "      <td>True</td>\n",
       "      <td>['Sensor de estacionamento', 'Ar condicionado'...</td>\n",
       "      <td>131961.43</td>\n",
       "    </tr>\n",
       "    <tr>\n",
       "      <th>59</th>\n",
       "      <td>EXTRA 103EX</td>\n",
       "      <td>Motor 2.0 16v</td>\n",
       "      <td>2019</td>\n",
       "      <td>NaN</td>\n",
       "      <td>True</td>\n",
       "      <td>['Sensor de estacionamento', 'Central multimíd...</td>\n",
       "      <td>112033.27</td>\n",
       "    </tr>\n",
       "    <tr>\n",
       "      <th>60</th>\n",
       "      <td>Sorento</td>\n",
       "      <td>Motor Diesel</td>\n",
       "      <td>2019</td>\n",
       "      <td>NaN</td>\n",
       "      <td>True</td>\n",
       "      <td>['Sensor de chuva', 'Câmera de estacionamento'...</td>\n",
       "      <td>81399.35</td>\n",
       "    </tr>\n",
       "    <tr>\n",
       "      <th>61</th>\n",
       "      <td>Tiggo</td>\n",
       "      <td>Motor 3.0 32v</td>\n",
       "      <td>2019</td>\n",
       "      <td>NaN</td>\n",
       "      <td>True</td>\n",
       "      <td>['Câmera de estacionamento', 'Freios ABS', 'Pi...</td>\n",
       "      <td>97163.10</td>\n",
       "    </tr>\n",
       "    <tr>\n",
       "      <th>62</th>\n",
       "      <td>New Fiesta Hatch</td>\n",
       "      <td>Motor Diesel</td>\n",
       "      <td>2017</td>\n",
       "      <td>118895.0</td>\n",
       "      <td>False</td>\n",
       "      <td>['Sensor de estacionamento', 'Travas elétricas...</td>\n",
       "      <td>66007.16</td>\n",
       "    </tr>\n",
       "    <tr>\n",
       "      <th>63</th>\n",
       "      <td>Jeep Renegade</td>\n",
       "      <td>Motor 5.0 V8 Bi-Turbo</td>\n",
       "      <td>2011</td>\n",
       "      <td>48509.0</td>\n",
       "      <td>False</td>\n",
       "      <td>['Vidros elétricos', 'Teto panorâmico', 'Banco...</td>\n",
       "      <td>128776.22</td>\n",
       "    </tr>\n",
       "    <tr>\n",
       "      <th>64</th>\n",
       "      <td>Lamborghini Ankonian</td>\n",
       "      <td>Motor 2.0 16v</td>\n",
       "      <td>2001</td>\n",
       "      <td>100912.0</td>\n",
       "      <td>False</td>\n",
       "      <td>['Bancos de couro', 'Câmera de estacionamento'...</td>\n",
       "      <td>142623.02</td>\n",
       "    </tr>\n",
       "    <tr>\n",
       "      <th>65</th>\n",
       "      <td>Space Cross</td>\n",
       "      <td>Motor 5.0 V8 Bi-Turbo</td>\n",
       "      <td>1996</td>\n",
       "      <td>95649.0</td>\n",
       "      <td>False</td>\n",
       "      <td>['Teto panorâmico', 'Vidros elétricos', 'Senso...</td>\n",
       "      <td>136930.13</td>\n",
       "    </tr>\n",
       "    <tr>\n",
       "      <th>66</th>\n",
       "      <td>Touareg</td>\n",
       "      <td>Motor V8</td>\n",
       "      <td>2019</td>\n",
       "      <td>NaN</td>\n",
       "      <td>True</td>\n",
       "      <td>['Controle de estabilidade', 'Piloto automátic...</td>\n",
       "      <td>66526.61</td>\n",
       "    </tr>\n",
       "    <tr>\n",
       "      <th>67</th>\n",
       "      <td>Classe M</td>\n",
       "      <td>Motor 1.0 8v</td>\n",
       "      <td>1994</td>\n",
       "      <td>90495.0</td>\n",
       "      <td>False</td>\n",
       "      <td>['Central multimídia', 'Bancos de couro', 'Rod...</td>\n",
       "      <td>114154.87</td>\n",
       "    </tr>\n",
       "    <tr>\n",
       "      <th>68</th>\n",
       "      <td>Lancer Evolution X</td>\n",
       "      <td>Motor Diesel V6</td>\n",
       "      <td>2019</td>\n",
       "      <td>NaN</td>\n",
       "      <td>True</td>\n",
       "      <td>['Vidros elétricos', 'Câmbio automático', 'Con...</td>\n",
       "      <td>142392.75</td>\n",
       "    </tr>\n",
       "    <tr>\n",
       "      <th>69</th>\n",
       "      <td>Kangoo Express</td>\n",
       "      <td>Motor Diesel</td>\n",
       "      <td>2007</td>\n",
       "      <td>29132.0</td>\n",
       "      <td>False</td>\n",
       "      <td>['Bancos de couro', 'Câmbio automático', 'Pilo...</td>\n",
       "      <td>146716.91</td>\n",
       "    </tr>\n",
       "    <tr>\n",
       "      <th>70</th>\n",
       "      <td>SW4</td>\n",
       "      <td>Motor Diesel V6</td>\n",
       "      <td>1994</td>\n",
       "      <td>23802.0</td>\n",
       "      <td>False</td>\n",
       "      <td>['Sensor de chuva', 'Bancos de couro', 'Contro...</td>\n",
       "      <td>122485.68</td>\n",
       "    </tr>\n",
       "    <tr>\n",
       "      <th>71</th>\n",
       "      <td>Cadillac ELR</td>\n",
       "      <td>Motor 1.0 8v</td>\n",
       "      <td>2007</td>\n",
       "      <td>84992.0</td>\n",
       "      <td>False</td>\n",
       "      <td>['Sensor crepuscular', 'Travas elétricas', 'Te...</td>\n",
       "      <td>97951.03</td>\n",
       "    </tr>\n",
       "    <tr>\n",
       "      <th>72</th>\n",
       "      <td>Doblò</td>\n",
       "      <td>Motor 1.8 16v</td>\n",
       "      <td>1997</td>\n",
       "      <td>54395.0</td>\n",
       "      <td>False</td>\n",
       "      <td>['Câmera de estacionamento', 'Teto panorâmico'...</td>\n",
       "      <td>78283.49</td>\n",
       "    </tr>\n",
       "    <tr>\n",
       "      <th>73</th>\n",
       "      <td>Lamborghini Egoista</td>\n",
       "      <td>Motor 3.0 32v</td>\n",
       "      <td>2006</td>\n",
       "      <td>26731.0</td>\n",
       "      <td>False</td>\n",
       "      <td>['Rodas de liga', 'Controle de tração', 'Centr...</td>\n",
       "      <td>83434.04</td>\n",
       "    </tr>\n",
       "    <tr>\n",
       "      <th>74</th>\n",
       "      <td>Fit</td>\n",
       "      <td>Motor Diesel</td>\n",
       "      <td>2013</td>\n",
       "      <td>44329.0</td>\n",
       "      <td>False</td>\n",
       "      <td>['Freios ABS', 'Câmera de estacionamento', 'Câ...</td>\n",
       "      <td>77836.23</td>\n",
       "    </tr>\n",
       "    <tr>\n",
       "      <th>75</th>\n",
       "      <td>C5</td>\n",
       "      <td>Motor 2.0 16v</td>\n",
       "      <td>1994</td>\n",
       "      <td>118236.0</td>\n",
       "      <td>False</td>\n",
       "      <td>['Painel digital', 'Teto panorâmico', 'Piloto ...</td>\n",
       "      <td>60813.92</td>\n",
       "    </tr>\n",
       "    <tr>\n",
       "      <th>76</th>\n",
       "      <td>Celer Hatch</td>\n",
       "      <td>Motor V8</td>\n",
       "      <td>2008</td>\n",
       "      <td>113808.0</td>\n",
       "      <td>False</td>\n",
       "      <td>['Controle de estabilidade', 'Câmbio automátic...</td>\n",
       "      <td>91353.86</td>\n",
       "    </tr>\n",
       "    <tr>\n",
       "      <th>77</th>\n",
       "      <td>HB20S</td>\n",
       "      <td>Motor V8</td>\n",
       "      <td>2008</td>\n",
       "      <td>610.0</td>\n",
       "      <td>False</td>\n",
       "      <td>['Teto panorâmico', 'Rodas de liga', 'Travas e...</td>\n",
       "      <td>116281.21</td>\n",
       "    </tr>\n",
       "    <tr>\n",
       "      <th>78</th>\n",
       "      <td>Cielo Hatch</td>\n",
       "      <td>Motor Diesel</td>\n",
       "      <td>2019</td>\n",
       "      <td>NaN</td>\n",
       "      <td>True</td>\n",
       "      <td>['Painel digital', 'Central multimídia', 'Câme...</td>\n",
       "      <td>145197.70</td>\n",
       "    </tr>\n",
       "    <tr>\n",
       "      <th>79</th>\n",
       "      <td>Livina</td>\n",
       "      <td>Motor 2.0 16v</td>\n",
       "      <td>2019</td>\n",
       "      <td>NaN</td>\n",
       "      <td>True</td>\n",
       "      <td>['Sensor crepuscular', 'Câmera de estacionamen...</td>\n",
       "      <td>50742.10</td>\n",
       "    </tr>\n",
       "    <tr>\n",
       "      <th>80</th>\n",
       "      <td>Ducato</td>\n",
       "      <td>Motor 5.0 V8 Bi-Turbo</td>\n",
       "      <td>1999</td>\n",
       "      <td>12887.0</td>\n",
       "      <td>False</td>\n",
       "      <td>['Sensor de chuva', 'Painel digital', 'Sensor ...</td>\n",
       "      <td>73033.53</td>\n",
       "    </tr>\n",
       "    <tr>\n",
       "      <th>81</th>\n",
       "      <td>March</td>\n",
       "      <td>Motor V6</td>\n",
       "      <td>2007</td>\n",
       "      <td>79607.0</td>\n",
       "      <td>False</td>\n",
       "      <td>['Bancos de couro', 'Piloto automático', 'Sens...</td>\n",
       "      <td>54332.87</td>\n",
       "    </tr>\n",
       "    <tr>\n",
       "      <th>82</th>\n",
       "      <td>Cadillac XTS sedan</td>\n",
       "      <td>Motor Diesel V6</td>\n",
       "      <td>1993</td>\n",
       "      <td>90924.0</td>\n",
       "      <td>False</td>\n",
       "      <td>['Ar condicionado', 'Câmbio automático', 'Sens...</td>\n",
       "      <td>52207.45</td>\n",
       "    </tr>\n",
       "    <tr>\n",
       "      <th>83</th>\n",
       "      <td>Lamborghini Centenario</td>\n",
       "      <td>Motor V6</td>\n",
       "      <td>1995</td>\n",
       "      <td>42733.0</td>\n",
       "      <td>False</td>\n",
       "      <td>['Central multimídia', 'Vidros elétricos', 'Se...</td>\n",
       "      <td>63578.50</td>\n",
       "    </tr>\n",
       "    <tr>\n",
       "      <th>84</th>\n",
       "      <td>Hilux</td>\n",
       "      <td>Motor 5.0 V8 Bi-Turbo</td>\n",
       "      <td>2019</td>\n",
       "      <td>NaN</td>\n",
       "      <td>True</td>\n",
       "      <td>['4 X 4', 'Piloto automático', 'Teto panorâmic...</td>\n",
       "      <td>64507.72</td>\n",
       "    </tr>\n",
       "    <tr>\n",
       "      <th>85</th>\n",
       "      <td>Grand Siena</td>\n",
       "      <td>Motor Diesel V8</td>\n",
       "      <td>2019</td>\n",
       "      <td>NaN</td>\n",
       "      <td>True</td>\n",
       "      <td>['Bancos de couro', 'Painel digital', 'Sensor ...</td>\n",
       "      <td>115075.59</td>\n",
       "    </tr>\n",
       "    <tr>\n",
       "      <th>86</th>\n",
       "      <td>Symbol</td>\n",
       "      <td>Motor Diesel</td>\n",
       "      <td>2016</td>\n",
       "      <td>117714.0</td>\n",
       "      <td>False</td>\n",
       "      <td>['4 X 4', 'Piloto automático', 'Sensor crepusc...</td>\n",
       "      <td>133030.60</td>\n",
       "    </tr>\n",
       "    <tr>\n",
       "      <th>87</th>\n",
       "      <td>Aston Martin V12 GT Zagato</td>\n",
       "      <td>Motor 4.0 Turbo</td>\n",
       "      <td>2011</td>\n",
       "      <td>113885.0</td>\n",
       "      <td>False</td>\n",
       "      <td>['Central multimídia', 'Piloto automático', 'S...</td>\n",
       "      <td>141591.86</td>\n",
       "    </tr>\n",
       "    <tr>\n",
       "      <th>88</th>\n",
       "      <td>Fusion</td>\n",
       "      <td>Motor 1.8 16v</td>\n",
       "      <td>2019</td>\n",
       "      <td>NaN</td>\n",
       "      <td>True</td>\n",
       "      <td>['Controle de tração', 'Câmbio automático', 'F...</td>\n",
       "      <td>100380.28</td>\n",
       "    </tr>\n",
       "    <tr>\n",
       "      <th>89</th>\n",
       "      <td>A4 Sedan</td>\n",
       "      <td>Motor Diesel</td>\n",
       "      <td>2002</td>\n",
       "      <td>30511.0</td>\n",
       "      <td>False</td>\n",
       "      <td>['Câmera de estacionamento', '4 X 4', 'Travas ...</td>\n",
       "      <td>96369.04</td>\n",
       "    </tr>\n",
       "    <tr>\n",
       "      <th>90</th>\n",
       "      <td>Xsara Picasso</td>\n",
       "      <td>Motor 2.0 16v</td>\n",
       "      <td>2013</td>\n",
       "      <td>74867.0</td>\n",
       "      <td>False</td>\n",
       "      <td>['Sensor de chuva', 'Teto panorâmico', 'Centra...</td>\n",
       "      <td>142603.84</td>\n",
       "    </tr>\n",
       "    <tr>\n",
       "      <th>91</th>\n",
       "      <td>207 SW</td>\n",
       "      <td>Motor 3.0 32v</td>\n",
       "      <td>2017</td>\n",
       "      <td>119760.0</td>\n",
       "      <td>False</td>\n",
       "      <td>['Controle de estabilidade', 'Travas elétricas...</td>\n",
       "      <td>117709.67</td>\n",
       "    </tr>\n",
       "    <tr>\n",
       "      <th>92</th>\n",
       "      <td>Star</td>\n",
       "      <td>Motor V6</td>\n",
       "      <td>2016</td>\n",
       "      <td>8356.0</td>\n",
       "      <td>False</td>\n",
       "      <td>['Câmera de estacionamento', '4 X 4', 'Central...</td>\n",
       "      <td>102241.54</td>\n",
       "    </tr>\n",
       "    <tr>\n",
       "      <th>93</th>\n",
       "      <td>Doblò Cargo</td>\n",
       "      <td>Motor 3.0 32v</td>\n",
       "      <td>2008</td>\n",
       "      <td>64247.0</td>\n",
       "      <td>False</td>\n",
       "      <td>['Freios ABS', 'Teto panorâmico', 'Vidros elét...</td>\n",
       "      <td>96065.38</td>\n",
       "    </tr>\n",
       "    <tr>\n",
       "      <th>94</th>\n",
       "      <td>Cadillac CTS</td>\n",
       "      <td>Motor 1.8 16v</td>\n",
       "      <td>2018</td>\n",
       "      <td>88661.0</td>\n",
       "      <td>False</td>\n",
       "      <td>['Travas elétricas', 'Sensor de chuva', 'Freio...</td>\n",
       "      <td>53894.61</td>\n",
       "    </tr>\n",
       "    <tr>\n",
       "      <th>95</th>\n",
       "      <td>Cayenne</td>\n",
       "      <td>Motor 1.0 8v</td>\n",
       "      <td>2003</td>\n",
       "      <td>4539.0</td>\n",
       "      <td>False</td>\n",
       "      <td>['Controle de tração', 'Piloto automático', 'T...</td>\n",
       "      <td>123911.78</td>\n",
       "    </tr>\n",
       "    <tr>\n",
       "      <th>96</th>\n",
       "      <td>Fox</td>\n",
       "      <td>Motor 4.0 Turbo</td>\n",
       "      <td>2003</td>\n",
       "      <td>110116.0</td>\n",
       "      <td>False</td>\n",
       "      <td>['Piloto automático', 'Câmbio automático', 'Tr...</td>\n",
       "      <td>101996.35</td>\n",
       "    </tr>\n",
       "    <tr>\n",
       "      <th>97</th>\n",
       "      <td>Tiida Hatch</td>\n",
       "      <td>Motor Diesel V6</td>\n",
       "      <td>2004</td>\n",
       "      <td>33215.0</td>\n",
       "      <td>False</td>\n",
       "      <td>['Teto panorâmico', 'Travas elétricas', 'Senso...</td>\n",
       "      <td>83431.66</td>\n",
       "    </tr>\n",
       "    <tr>\n",
       "      <th>98</th>\n",
       "      <td>Dodge Charger</td>\n",
       "      <td>Motor 2.4 Turbo</td>\n",
       "      <td>2010</td>\n",
       "      <td>92001.0</td>\n",
       "      <td>False</td>\n",
       "      <td>['Vidros elétricos', 'Sensor crepuscular', 'Co...</td>\n",
       "      <td>122975.63</td>\n",
       "    </tr>\n",
       "    <tr>\n",
       "      <th>99</th>\n",
       "      <td>Face</td>\n",
       "      <td>Motor V8</td>\n",
       "      <td>2019</td>\n",
       "      <td>NaN</td>\n",
       "      <td>True</td>\n",
       "      <td>['Controle de estabilidade', 'Vidros elétricos...</td>\n",
       "      <td>93227.73</td>\n",
       "    </tr>\n",
       "    <tr>\n",
       "      <th>100</th>\n",
       "      <td>Prius</td>\n",
       "      <td>Motor 3.0 32v</td>\n",
       "      <td>2006</td>\n",
       "      <td>81708.0</td>\n",
       "      <td>False</td>\n",
       "      <td>['Rodas de liga', 'Bancos de couro', 'Painel d...</td>\n",
       "      <td>58762.65</td>\n",
       "    </tr>\n",
       "    <tr>\n",
       "      <th>101</th>\n",
       "      <td>Idea</td>\n",
       "      <td>Motor V6</td>\n",
       "      <td>2001</td>\n",
       "      <td>70641.0</td>\n",
       "      <td>False</td>\n",
       "      <td>['Central multimídia', 'Piloto automático', 'T...</td>\n",
       "      <td>139549.67</td>\n",
       "    </tr>\n",
       "    <tr>\n",
       "      <th>102</th>\n",
       "      <td>A8</td>\n",
       "      <td>Motor 2.0 16v</td>\n",
       "      <td>2019</td>\n",
       "      <td>NaN</td>\n",
       "      <td>True</td>\n",
       "      <td>['Painel digital', 'Teto panorâmico', 'Piloto ...</td>\n",
       "      <td>122016.42</td>\n",
       "    </tr>\n",
       "    <tr>\n",
       "      <th>103</th>\n",
       "      <td>Série 1 Cabrio</td>\n",
       "      <td>Motor 3.0 32v</td>\n",
       "      <td>2015</td>\n",
       "      <td>91277.0</td>\n",
       "      <td>False</td>\n",
       "      <td>['Vidros elétricos', 'Travas elétricas', 'Cont...</td>\n",
       "      <td>72731.98</td>\n",
       "    </tr>\n",
       "    <tr>\n",
       "      <th>104</th>\n",
       "      <td>Edge</td>\n",
       "      <td>Motor V6</td>\n",
       "      <td>2018</td>\n",
       "      <td>26544.0</td>\n",
       "      <td>False</td>\n",
       "      <td>['Freios ABS', 'Controle de tração', 'Sensor c...</td>\n",
       "      <td>88416.54</td>\n",
       "    </tr>\n",
       "    <tr>\n",
       "      <th>105</th>\n",
       "      <td>Cadillac ATS sedan</td>\n",
       "      <td>Motor 1.8 16v</td>\n",
       "      <td>2017</td>\n",
       "      <td>52596.0</td>\n",
       "      <td>False</td>\n",
       "      <td>['Painel digital', 'Vidros elétricos', 'Teto p...</td>\n",
       "      <td>73873.42</td>\n",
       "    </tr>\n",
       "    <tr>\n",
       "      <th>106</th>\n",
       "      <td>Lamborghini Asterion LPI 910-4</td>\n",
       "      <td>Motor 5.0 V8 Bi-Turbo</td>\n",
       "      <td>1992</td>\n",
       "      <td>47503.0</td>\n",
       "      <td>False</td>\n",
       "      <td>['Ar condicionado', 'Painel digital', 'Control...</td>\n",
       "      <td>70709.34</td>\n",
       "    </tr>\n",
       "    <tr>\n",
       "      <th>107</th>\n",
       "      <td>Frontier</td>\n",
       "      <td>Motor V8</td>\n",
       "      <td>2001</td>\n",
       "      <td>89056.0</td>\n",
       "      <td>False</td>\n",
       "      <td>['Câmbio automático', 'Rodas de liga', 'Sensor...</td>\n",
       "      <td>115306.50</td>\n",
       "    </tr>\n",
       "    <tr>\n",
       "      <th>108</th>\n",
       "      <td>Série 3 Sedã</td>\n",
       "      <td>Motor 3.0 32v</td>\n",
       "      <td>1993</td>\n",
       "      <td>28834.0</td>\n",
       "      <td>False</td>\n",
       "      <td>['Controle de tração', 'Controle de estabilida...</td>\n",
       "      <td>55924.63</td>\n",
       "    </tr>\n",
       "    <tr>\n",
       "      <th>109</th>\n",
       "      <td>Lamborghini LM002</td>\n",
       "      <td>Motor 1.8 16v</td>\n",
       "      <td>1995</td>\n",
       "      <td>110564.0</td>\n",
       "      <td>False</td>\n",
       "      <td>['Bancos de couro', 'Freios ABS', 'Central mul...</td>\n",
       "      <td>85052.26</td>\n",
       "    </tr>\n",
       "    <tr>\n",
       "      <th>110</th>\n",
       "      <td>Cadillac XLR</td>\n",
       "      <td>Motor Diesel V8</td>\n",
       "      <td>2003</td>\n",
       "      <td>56638.0</td>\n",
       "      <td>False</td>\n",
       "      <td>['Sensor crepuscular', 'Teto panorâmico', 'Sen...</td>\n",
       "      <td>56646.34</td>\n",
       "    </tr>\n",
       "    <tr>\n",
       "      <th>111</th>\n",
       "      <td>A4 Avant</td>\n",
       "      <td>Motor Diesel</td>\n",
       "      <td>2014</td>\n",
       "      <td>17357.0</td>\n",
       "      <td>False</td>\n",
       "      <td>['Teto panorâmico', '4 X 4', 'Bancos de couro'...</td>\n",
       "      <td>138946.88</td>\n",
       "    </tr>\n",
       "    <tr>\n",
       "      <th>112</th>\n",
       "      <td>EcoSport</td>\n",
       "      <td>Motor 4.0 Turbo</td>\n",
       "      <td>2008</td>\n",
       "      <td>74015.0</td>\n",
       "      <td>False</td>\n",
       "      <td>['Piloto automático', 'Sensor de estacionament...</td>\n",
       "      <td>108256.72</td>\n",
       "    </tr>\n",
       "    <tr>\n",
       "      <th>113</th>\n",
       "      <td>J3</td>\n",
       "      <td>Motor 1.8 16v</td>\n",
       "      <td>2013</td>\n",
       "      <td>15196.0</td>\n",
       "      <td>False</td>\n",
       "      <td>['Controle de estabilidade', '4 X 4', 'Câmera ...</td>\n",
       "      <td>58979.30</td>\n",
       "    </tr>\n",
       "    <tr>\n",
       "      <th>114</th>\n",
       "      <td>Q3</td>\n",
       "      <td>Motor 3.0 32v</td>\n",
       "      <td>2019</td>\n",
       "      <td>NaN</td>\n",
       "      <td>True</td>\n",
       "      <td>['Controle de estabilidade', 'Bancos de couro'...</td>\n",
       "      <td>114727.68</td>\n",
       "    </tr>\n",
       "    <tr>\n",
       "      <th>115</th>\n",
       "      <td>Aston Martin V8 Vantage</td>\n",
       "      <td>Motor V8</td>\n",
       "      <td>2017</td>\n",
       "      <td>10821.0</td>\n",
       "      <td>False</td>\n",
       "      <td>['Teto panorâmico', 'Controle de tração', 'Pai...</td>\n",
       "      <td>139661.48</td>\n",
       "    </tr>\n",
       "    <tr>\n",
       "      <th>116</th>\n",
       "      <td>Z4 Roadster</td>\n",
       "      <td>Motor 3.0 32v</td>\n",
       "      <td>2019</td>\n",
       "      <td>NaN</td>\n",
       "      <td>True</td>\n",
       "      <td>['Central multimídia', 'Câmbio automático', 'T...</td>\n",
       "      <td>80382.24</td>\n",
       "    </tr>\n",
       "    <tr>\n",
       "      <th>117</th>\n",
       "      <td>Lamborghini Ferruccio</td>\n",
       "      <td>Motor 3.0 32v</td>\n",
       "      <td>2019</td>\n",
       "      <td>NaN</td>\n",
       "      <td>True</td>\n",
       "      <td>['Vidros elétricos', 'Piloto automático', 'Tet...</td>\n",
       "      <td>149157.17</td>\n",
       "    </tr>\n",
       "    <tr>\n",
       "      <th>118</th>\n",
       "      <td>Ford Ka+</td>\n",
       "      <td>Motor 1.8 16v</td>\n",
       "      <td>2006</td>\n",
       "      <td>9595.0</td>\n",
       "      <td>False</td>\n",
       "      <td>['Sensor crepuscular', 'Piloto automático', 'C...</td>\n",
       "      <td>87830.41</td>\n",
       "    </tr>\n",
       "    <tr>\n",
       "      <th>119</th>\n",
       "      <td>Silver Shadow</td>\n",
       "      <td>Motor Diesel</td>\n",
       "      <td>2015</td>\n",
       "      <td>99052.0</td>\n",
       "      <td>False</td>\n",
       "      <td>['4 X 4', 'Central multimídia', 'Ar condiciona...</td>\n",
       "      <td>143568.22</td>\n",
       "    </tr>\n",
       "    <tr>\n",
       "      <th>120</th>\n",
       "      <td>Classe C 63 AMG Touring</td>\n",
       "      <td>Motor Diesel V8</td>\n",
       "      <td>2007</td>\n",
       "      <td>52389.0</td>\n",
       "      <td>False</td>\n",
       "      <td>['Central multimídia', 'Piloto automático', 'F...</td>\n",
       "      <td>138171.85</td>\n",
       "    </tr>\n",
       "    <tr>\n",
       "      <th>121</th>\n",
       "      <td>Discovery 4</td>\n",
       "      <td>Motor 4.0 Turbo</td>\n",
       "      <td>2005</td>\n",
       "      <td>119945.0</td>\n",
       "      <td>False</td>\n",
       "      <td>['Freios ABS', 'Rodas de liga', 'Sensor de chu...</td>\n",
       "      <td>115784.95</td>\n",
       "    </tr>\n",
       "    <tr>\n",
       "      <th>122</th>\n",
       "      <td>Veloster</td>\n",
       "      <td>Motor Diesel V8</td>\n",
       "      <td>2017</td>\n",
       "      <td>96005.0</td>\n",
       "      <td>False</td>\n",
       "      <td>['Ar condicionado', 'Central multimídia', 'Ban...</td>\n",
       "      <td>146508.99</td>\n",
       "    </tr>\n",
       "    <tr>\n",
       "      <th>123</th>\n",
       "      <td>Classe C</td>\n",
       "      <td>Motor Diesel V6</td>\n",
       "      <td>1998</td>\n",
       "      <td>31639.0</td>\n",
       "      <td>False</td>\n",
       "      <td>['Freios ABS', 'Sensor de chuva', 'Central mul...</td>\n",
       "      <td>137670.23</td>\n",
       "    </tr>\n",
       "    <tr>\n",
       "      <th>124</th>\n",
       "      <td>Camry</td>\n",
       "      <td>Motor Diesel</td>\n",
       "      <td>2019</td>\n",
       "      <td>NaN</td>\n",
       "      <td>True</td>\n",
       "      <td>['Travas elétricas', 'Rodas de liga', 'Sensor ...</td>\n",
       "      <td>138597.27</td>\n",
       "    </tr>\n",
       "    <tr>\n",
       "      <th>125</th>\n",
       "      <td>C5 Tourer</td>\n",
       "      <td>Motor Diesel V6</td>\n",
       "      <td>1999</td>\n",
       "      <td>80187.0</td>\n",
       "      <td>False</td>\n",
       "      <td>['Rodas de liga', 'Sensor de chuva', 'Painel d...</td>\n",
       "      <td>147627.81</td>\n",
       "    </tr>\n",
       "    <tr>\n",
       "      <th>126</th>\n",
       "      <td>R8 GT</td>\n",
       "      <td>Motor 4.0 Turbo</td>\n",
       "      <td>2019</td>\n",
       "      <td>NaN</td>\n",
       "      <td>True</td>\n",
       "      <td>['Rodas de liga', 'Câmbio automático', 'Sensor...</td>\n",
       "      <td>62999.02</td>\n",
       "    </tr>\n",
       "    <tr>\n",
       "      <th>127</th>\n",
       "      <td>Bongo</td>\n",
       "      <td>Motor Diesel V8</td>\n",
       "      <td>2009</td>\n",
       "      <td>58212.0</td>\n",
       "      <td>False</td>\n",
       "      <td>['Vidros elétricos', 'Teto panorâmico', 'Paine...</td>\n",
       "      <td>91242.44</td>\n",
       "    </tr>\n",
       "    <tr>\n",
       "      <th>128</th>\n",
       "      <td>ASX</td>\n",
       "      <td>Motor Diesel V8</td>\n",
       "      <td>2003</td>\n",
       "      <td>61672.0</td>\n",
       "      <td>False</td>\n",
       "      <td>['Ar condicionado', 'Sensor crepuscular', 'Rod...</td>\n",
       "      <td>149489.92</td>\n",
       "    </tr>\n",
       "    <tr>\n",
       "      <th>129</th>\n",
       "      <td>Cadillac SRX</td>\n",
       "      <td>Motor 5.0 V8 Bi-Turbo</td>\n",
       "      <td>1994</td>\n",
       "      <td>32017.0</td>\n",
       "      <td>False</td>\n",
       "      <td>['Painel digital', 'Piloto automático', 'Contr...</td>\n",
       "      <td>63529.95</td>\n",
       "    </tr>\n",
       "    <tr>\n",
       "      <th>130</th>\n",
       "      <td>Classe CL</td>\n",
       "      <td>Motor V8</td>\n",
       "      <td>2019</td>\n",
       "      <td>NaN</td>\n",
       "      <td>True</td>\n",
       "      <td>['Central multimídia', 'Câmbio automático', '4...</td>\n",
       "      <td>58525.41</td>\n",
       "    </tr>\n",
       "    <tr>\n",
       "      <th>131</th>\n",
       "      <td>500 Abarth</td>\n",
       "      <td>Motor V6</td>\n",
       "      <td>1994</td>\n",
       "      <td>56944.0</td>\n",
       "      <td>False</td>\n",
       "      <td>['4 X 4', 'Teto panorâmico', 'Controle de traç...</td>\n",
       "      <td>90345.05</td>\n",
       "    </tr>\n",
       "    <tr>\n",
       "      <th>132</th>\n",
       "      <td>Aston Martin Cygnet</td>\n",
       "      <td>Motor 5.0 V8 Bi-Turbo</td>\n",
       "      <td>2019</td>\n",
       "      <td>NaN</td>\n",
       "      <td>True</td>\n",
       "      <td>['Painel digital', 'Ar condicionado', 'Sensor ...</td>\n",
       "      <td>147770.87</td>\n",
       "    </tr>\n",
       "    <tr>\n",
       "      <th>133</th>\n",
       "      <td>Cadillac STS</td>\n",
       "      <td>Motor 4.0 Turbo</td>\n",
       "      <td>2015</td>\n",
       "      <td>86519.0</td>\n",
       "      <td>False</td>\n",
       "      <td>['Painel digital', 'Bancos de couro', 'Sensor ...</td>\n",
       "      <td>106617.71</td>\n",
       "    </tr>\n",
       "    <tr>\n",
       "      <th>134</th>\n",
       "      <td>Aston Martin DB9</td>\n",
       "      <td>Motor 1.8 16v</td>\n",
       "      <td>1996</td>\n",
       "      <td>4821.0</td>\n",
       "      <td>False</td>\n",
       "      <td>['Ar condicionado', 'Vidros elétricos', '4 X 4...</td>\n",
       "      <td>104929.88</td>\n",
       "    </tr>\n",
       "    <tr>\n",
       "      <th>135</th>\n",
       "      <td>NX 200t</td>\n",
       "      <td>Motor 2.4 Turbo</td>\n",
       "      <td>1997</td>\n",
       "      <td>101025.0</td>\n",
       "      <td>False</td>\n",
       "      <td>['Controle de estabilidade', 'Painel digital',...</td>\n",
       "      <td>100712.45</td>\n",
       "    </tr>\n",
       "    <tr>\n",
       "      <th>136</th>\n",
       "      <td>Aston Martin One-77</td>\n",
       "      <td>Motor V6</td>\n",
       "      <td>1993</td>\n",
       "      <td>30705.0</td>\n",
       "      <td>False</td>\n",
       "      <td>['Sensor de estacionamento', 'Rodas de liga', ...</td>\n",
       "      <td>141982.93</td>\n",
       "    </tr>\n",
       "    <tr>\n",
       "      <th>137</th>\n",
       "      <td>Lamborghini Veneno</td>\n",
       "      <td>Motor 3.0 32v</td>\n",
       "      <td>2019</td>\n",
       "      <td>NaN</td>\n",
       "      <td>True</td>\n",
       "      <td>['4 X 4', 'Sensor de estacionamento', 'Câmbio ...</td>\n",
       "      <td>104038.79</td>\n",
       "    </tr>\n",
       "    <tr>\n",
       "      <th>138</th>\n",
       "      <td>Sentra</td>\n",
       "      <td>Motor 2.0 16v</td>\n",
       "      <td>1992</td>\n",
       "      <td>32555.0</td>\n",
       "      <td>False</td>\n",
       "      <td>['Piloto automático', 'Sensor crepuscular', 'T...</td>\n",
       "      <td>88501.54</td>\n",
       "    </tr>\n",
       "    <tr>\n",
       "      <th>139</th>\n",
       "      <td>Jumper</td>\n",
       "      <td>Motor 2.4 Turbo</td>\n",
       "      <td>1995</td>\n",
       "      <td>103389.0</td>\n",
       "      <td>False</td>\n",
       "      <td>['Ar condicionado', 'Rodas de liga', 'Câmbio a...</td>\n",
       "      <td>79782.02</td>\n",
       "    </tr>\n",
       "    <tr>\n",
       "      <th>140</th>\n",
       "      <td>i30</td>\n",
       "      <td>Motor 1.8 16v</td>\n",
       "      <td>2019</td>\n",
       "      <td>NaN</td>\n",
       "      <td>True</td>\n",
       "      <td>['Câmbio automático', 'Controle de estabilidad...</td>\n",
       "      <td>86224.10</td>\n",
       "    </tr>\n",
       "    <tr>\n",
       "      <th>141</th>\n",
       "      <td>X6</td>\n",
       "      <td>Motor Diesel V6</td>\n",
       "      <td>1990</td>\n",
       "      <td>55289.0</td>\n",
       "      <td>False</td>\n",
       "      <td>['Câmera de estacionamento', 'Travas elétricas...</td>\n",
       "      <td>103596.18</td>\n",
       "    </tr>\n",
       "    <tr>\n",
       "      <th>142</th>\n",
       "      <td>Voyage</td>\n",
       "      <td>Motor 5.0 V8 Bi-Turbo</td>\n",
       "      <td>2019</td>\n",
       "      <td>NaN</td>\n",
       "      <td>True</td>\n",
       "      <td>['Ar condicionado', 'Sensor de estacionamento'...</td>\n",
       "      <td>148996.47</td>\n",
       "    </tr>\n",
       "    <tr>\n",
       "      <th>143</th>\n",
       "      <td>Phantom I Phantom II</td>\n",
       "      <td>Motor 1.8 16v</td>\n",
       "      <td>2019</td>\n",
       "      <td>NaN</td>\n",
       "      <td>True</td>\n",
       "      <td>['Piloto automático', 'Freios ABS', 'Painel di...</td>\n",
       "      <td>60948.01</td>\n",
       "    </tr>\n",
       "    <tr>\n",
       "      <th>144</th>\n",
       "      <td>Passat Variant</td>\n",
       "      <td>Motor 1.0 8v</td>\n",
       "      <td>1991</td>\n",
       "      <td>115930.0</td>\n",
       "      <td>False</td>\n",
       "      <td>['Freios ABS', 'Rodas de liga', 'Piloto automá...</td>\n",
       "      <td>69535.44</td>\n",
       "    </tr>\n",
       "    <tr>\n",
       "      <th>145</th>\n",
       "      <td>Clio</td>\n",
       "      <td>Motor Diesel</td>\n",
       "      <td>1990</td>\n",
       "      <td>66437.0</td>\n",
       "      <td>False</td>\n",
       "      <td>['4 X 4', 'Câmbio automático', 'Freios ABS', '...</td>\n",
       "      <td>111130.33</td>\n",
       "    </tr>\n",
       "    <tr>\n",
       "      <th>146</th>\n",
       "      <td>Classe G</td>\n",
       "      <td>Motor Diesel V6</td>\n",
       "      <td>2012</td>\n",
       "      <td>96800.0</td>\n",
       "      <td>False</td>\n",
       "      <td>['Controle de estabilidade', 'Central multimíd...</td>\n",
       "      <td>65847.69</td>\n",
       "    </tr>\n",
       "    <tr>\n",
       "      <th>147</th>\n",
       "      <td>Silver Ghost</td>\n",
       "      <td>Motor 1.8 16v</td>\n",
       "      <td>2007</td>\n",
       "      <td>14237.0</td>\n",
       "      <td>False</td>\n",
       "      <td>['Travas elétricas', 'Painel digital', 'Câmera...</td>\n",
       "      <td>78096.06</td>\n",
       "    </tr>\n",
       "    <tr>\n",
       "      <th>148</th>\n",
       "      <td>Série 3 M3 Coupé</td>\n",
       "      <td>Motor Diesel</td>\n",
       "      <td>2013</td>\n",
       "      <td>19896.0</td>\n",
       "      <td>False</td>\n",
       "      <td>['Bancos de couro', 'Sensor de chuva', 'Ar con...</td>\n",
       "      <td>69219.89</td>\n",
       "    </tr>\n",
       "    <tr>\n",
       "      <th>149</th>\n",
       "      <td>Gallardo LP 560 – 4</td>\n",
       "      <td>Motor Diesel</td>\n",
       "      <td>2000</td>\n",
       "      <td>113045.0</td>\n",
       "      <td>False</td>\n",
       "      <td>['Freios ABS', 'Teto panorâmico', 'Central mul...</td>\n",
       "      <td>144118.91</td>\n",
       "    </tr>\n",
       "    <tr>\n",
       "      <th>150</th>\n",
       "      <td>Freelander 2</td>\n",
       "      <td>Motor Diesel V6</td>\n",
       "      <td>2002</td>\n",
       "      <td>114942.0</td>\n",
       "      <td>False</td>\n",
       "      <td>['4 X 4', 'Câmera de estacionamento', 'Sensor ...</td>\n",
       "      <td>77397.05</td>\n",
       "    </tr>\n",
       "    <tr>\n",
       "      <th>151</th>\n",
       "      <td>Grand Cherokee</td>\n",
       "      <td>Motor 5.0 V8 Bi-Turbo</td>\n",
       "      <td>1996</td>\n",
       "      <td>3173.0</td>\n",
       "      <td>False</td>\n",
       "      <td>['Câmbio automático', 'Travas elétricas', 'Sen...</td>\n",
       "      <td>68974.25</td>\n",
       "    </tr>\n",
       "    <tr>\n",
       "      <th>152</th>\n",
       "      <td>Aston Martin DBR9</td>\n",
       "      <td>Motor 4.0 Turbo</td>\n",
       "      <td>1996</td>\n",
       "      <td>83611.0</td>\n",
       "      <td>False</td>\n",
       "      <td>['Controle de estabilidade', 'Sensor de estaci...</td>\n",
       "      <td>125231.30</td>\n",
       "    </tr>\n",
       "    <tr>\n",
       "      <th>153</th>\n",
       "      <td>Soul</td>\n",
       "      <td>Motor 5.0 V8 Bi-Turbo</td>\n",
       "      <td>2015</td>\n",
       "      <td>25356.0</td>\n",
       "      <td>False</td>\n",
       "      <td>['Sensor crepuscular', 'Piloto automático', 'S...</td>\n",
       "      <td>85501.12</td>\n",
       "    </tr>\n",
       "    <tr>\n",
       "      <th>154</th>\n",
       "      <td>Cadillac BLS</td>\n",
       "      <td>Motor V8</td>\n",
       "      <td>1993</td>\n",
       "      <td>88634.0</td>\n",
       "      <td>False</td>\n",
       "      <td>['Teto panorâmico', 'Controle de estabilidade'...</td>\n",
       "      <td>137116.21</td>\n",
       "    </tr>\n",
       "    <tr>\n",
       "      <th>155</th>\n",
       "      <td>RX 350</td>\n",
       "      <td>Motor V6</td>\n",
       "      <td>2013</td>\n",
       "      <td>2314.0</td>\n",
       "      <td>False</td>\n",
       "      <td>['Piloto automático', 'Sensor crepuscular', 'A...</td>\n",
       "      <td>138823.81</td>\n",
       "    </tr>\n",
       "    <tr>\n",
       "      <th>156</th>\n",
       "      <td>Cayman</td>\n",
       "      <td>Motor 3.0 32v</td>\n",
       "      <td>2013</td>\n",
       "      <td>2627.0</td>\n",
       "      <td>False</td>\n",
       "      <td>['Central multimídia', 'Painel digital', 'Sens...</td>\n",
       "      <td>117961.95</td>\n",
       "    </tr>\n",
       "    <tr>\n",
       "      <th>157</th>\n",
       "      <td>Chana Utility</td>\n",
       "      <td>Motor Diesel</td>\n",
       "      <td>2009</td>\n",
       "      <td>52034.0</td>\n",
       "      <td>False</td>\n",
       "      <td>['Ar condicionado', 'Sensor de estacionamento'...</td>\n",
       "      <td>132662.32</td>\n",
       "    </tr>\n",
       "    <tr>\n",
       "      <th>158</th>\n",
       "      <td>308 CC</td>\n",
       "      <td>Motor 4.0 Turbo</td>\n",
       "      <td>2019</td>\n",
       "      <td>NaN</td>\n",
       "      <td>True</td>\n",
       "      <td>['Câmera de estacionamento', 'Bancos de couro'...</td>\n",
       "      <td>146405.79</td>\n",
       "    </tr>\n",
       "    <tr>\n",
       "      <th>159</th>\n",
       "      <td>L200 Triton</td>\n",
       "      <td>Motor Diesel V8</td>\n",
       "      <td>2019</td>\n",
       "      <td>NaN</td>\n",
       "      <td>True</td>\n",
       "      <td>['Vidros elétricos', 'Ar condicionado', 'Paine...</td>\n",
       "      <td>81999.21</td>\n",
       "    </tr>\n",
       "    <tr>\n",
       "      <th>160</th>\n",
       "      <td>Jetta</td>\n",
       "      <td>Motor 5.0 V8 Bi-Turbo</td>\n",
       "      <td>2002</td>\n",
       "      <td>79577.0</td>\n",
       "      <td>False</td>\n",
       "      <td>['Central multimídia', 'Vidros elétricos', 'Câ...</td>\n",
       "      <td>140934.60</td>\n",
       "    </tr>\n",
       "    <tr>\n",
       "      <th>161</th>\n",
       "      <td>C4 Lounge</td>\n",
       "      <td>Motor V8</td>\n",
       "      <td>1997</td>\n",
       "      <td>108201.0</td>\n",
       "      <td>False</td>\n",
       "      <td>['Central multimídia', 'Controle de tração', '...</td>\n",
       "      <td>82366.81</td>\n",
       "    </tr>\n",
       "    <tr>\n",
       "      <th>162</th>\n",
       "      <td>C4 Pallas</td>\n",
       "      <td>Motor 1.0 8v</td>\n",
       "      <td>1998</td>\n",
       "      <td>76453.0</td>\n",
       "      <td>False</td>\n",
       "      <td>['4 X 4', 'Freios ABS', 'Sensor de chuva', 'Ro...</td>\n",
       "      <td>70424.11</td>\n",
       "    </tr>\n",
       "    <tr>\n",
       "      <th>163</th>\n",
       "      <td>Equus</td>\n",
       "      <td>Motor 3.0 32v</td>\n",
       "      <td>2004</td>\n",
       "      <td>57683.0</td>\n",
       "      <td>False</td>\n",
       "      <td>['Travas elétricas', 'Rodas de liga', '4 X 4',...</td>\n",
       "      <td>53620.31</td>\n",
       "    </tr>\n",
       "    <tr>\n",
       "      <th>164</th>\n",
       "      <td>Classe GL</td>\n",
       "      <td>Motor 3.0 32v</td>\n",
       "      <td>1996</td>\n",
       "      <td>96610.0</td>\n",
       "      <td>False</td>\n",
       "      <td>['Freios ABS', 'Câmera de estacionamento', 'Tr...</td>\n",
       "      <td>73389.18</td>\n",
       "    </tr>\n",
       "    <tr>\n",
       "      <th>165</th>\n",
       "      <td>Range Rover Evoque</td>\n",
       "      <td>Motor 2.0 16v</td>\n",
       "      <td>2015</td>\n",
       "      <td>109001.0</td>\n",
       "      <td>False</td>\n",
       "      <td>['Rodas de liga', 'Teto panorâmico', 'Sensor d...</td>\n",
       "      <td>111618.12</td>\n",
       "    </tr>\n",
       "    <tr>\n",
       "      <th>166</th>\n",
       "      <td>Cherokee</td>\n",
       "      <td>Motor 4.0 Turbo</td>\n",
       "      <td>2016</td>\n",
       "      <td>26212.0</td>\n",
       "      <td>False</td>\n",
       "      <td>['Painel digital', 'Travas elétricas', 'Rodas ...</td>\n",
       "      <td>112187.37</td>\n",
       "    </tr>\n",
       "    <tr>\n",
       "      <th>167</th>\n",
       "      <td>Punto</td>\n",
       "      <td>Motor 4.0 Turbo</td>\n",
       "      <td>2005</td>\n",
       "      <td>45971.0</td>\n",
       "      <td>False</td>\n",
       "      <td>['Central multimídia', 'Câmbio automático', 'P...</td>\n",
       "      <td>120812.57</td>\n",
       "    </tr>\n",
       "    <tr>\n",
       "      <th>168</th>\n",
       "      <td>Grand Tour</td>\n",
       "      <td>Motor 3.0 32v</td>\n",
       "      <td>1999</td>\n",
       "      <td>49182.0</td>\n",
       "      <td>False</td>\n",
       "      <td>['Rodas de liga', 'Travas elétricas', 'Bancos ...</td>\n",
       "      <td>116031.04</td>\n",
       "    </tr>\n",
       "    <tr>\n",
       "      <th>169</th>\n",
       "      <td>Fluence</td>\n",
       "      <td>Motor Diesel V6</td>\n",
       "      <td>1995</td>\n",
       "      <td>49907.0</td>\n",
       "      <td>False</td>\n",
       "      <td>['Sensor crepuscular', 'Teto panorâmico', 'Câm...</td>\n",
       "      <td>125398.11</td>\n",
       "    </tr>\n",
       "    <tr>\n",
       "      <th>170</th>\n",
       "      <td>Effa Hafei Picape Cabine Simples</td>\n",
       "      <td>Motor 1.0 8v</td>\n",
       "      <td>1993</td>\n",
       "      <td>38620.0</td>\n",
       "      <td>False</td>\n",
       "      <td>['Piloto automático', 'Ar condicionado', 'Cent...</td>\n",
       "      <td>76101.47</td>\n",
       "    </tr>\n",
       "    <tr>\n",
       "      <th>171</th>\n",
       "      <td>Durango</td>\n",
       "      <td>Motor 2.0 16v</td>\n",
       "      <td>2004</td>\n",
       "      <td>60996.0</td>\n",
       "      <td>False</td>\n",
       "      <td>['Bancos de couro', 'Painel digital', 'Câmbio ...</td>\n",
       "      <td>75263.24</td>\n",
       "    </tr>\n",
       "    <tr>\n",
       "      <th>172</th>\n",
       "      <td>Boxster</td>\n",
       "      <td>Motor Diesel V8</td>\n",
       "      <td>2013</td>\n",
       "      <td>73914.0</td>\n",
       "      <td>False</td>\n",
       "      <td>['Teto panorâmico', 'Sensor crepuscular', 'Ban...</td>\n",
       "      <td>147387.76</td>\n",
       "    </tr>\n",
       "    <tr>\n",
       "      <th>173</th>\n",
       "      <td>TT Roadster</td>\n",
       "      <td>Motor Diesel</td>\n",
       "      <td>1998</td>\n",
       "      <td>107392.0</td>\n",
       "      <td>False</td>\n",
       "      <td>['Ar condicionado', 'Sensor de estacionamento'...</td>\n",
       "      <td>85311.40</td>\n",
       "    </tr>\n",
       "    <tr>\n",
       "      <th>174</th>\n",
       "      <td>Lamborghini Jalpa</td>\n",
       "      <td>Motor 1.8 16v</td>\n",
       "      <td>2018</td>\n",
       "      <td>9146.0</td>\n",
       "      <td>False</td>\n",
       "      <td>['Piloto automático', 'Freios ABS', 'Sensor de...</td>\n",
       "      <td>54388.11</td>\n",
       "    </tr>\n",
       "    <tr>\n",
       "      <th>175</th>\n",
       "      <td>Classe SLK</td>\n",
       "      <td>Motor 4.0 Turbo</td>\n",
       "      <td>2019</td>\n",
       "      <td>NaN</td>\n",
       "      <td>True</td>\n",
       "      <td>['4 X 4', 'Sensor de estacionamento', 'Control...</td>\n",
       "      <td>124156.65</td>\n",
       "    </tr>\n",
       "    <tr>\n",
       "      <th>176</th>\n",
       "      <td>Golf</td>\n",
       "      <td>Motor 1.0 8v</td>\n",
       "      <td>2018</td>\n",
       "      <td>17924.0</td>\n",
       "      <td>False</td>\n",
       "      <td>['Rodas de liga', 'Controle de tração', 'Senso...</td>\n",
       "      <td>146203.34</td>\n",
       "    </tr>\n",
       "    <tr>\n",
       "      <th>177</th>\n",
       "      <td>C3 Picasso</td>\n",
       "      <td>Motor 3.0 32v</td>\n",
       "      <td>2019</td>\n",
       "      <td>NaN</td>\n",
       "      <td>True</td>\n",
       "      <td>['Teto panorâmico', 'Sensor crepuscular', 'Sen...</td>\n",
       "      <td>56453.94</td>\n",
       "    </tr>\n",
       "    <tr>\n",
       "      <th>178</th>\n",
       "      <td>V50</td>\n",
       "      <td>Motor 2.0 16v</td>\n",
       "      <td>1990</td>\n",
       "      <td>116949.0</td>\n",
       "      <td>False</td>\n",
       "      <td>['Teto panorâmico', 'Câmera de estacionamento'...</td>\n",
       "      <td>68873.79</td>\n",
       "    </tr>\n",
       "    <tr>\n",
       "      <th>179</th>\n",
       "      <td>Picanto</td>\n",
       "      <td>Motor 4.0 Turbo</td>\n",
       "      <td>2009</td>\n",
       "      <td>20476.0</td>\n",
       "      <td>False</td>\n",
       "      <td>['Painel digital', 'Controle de estabilidade',...</td>\n",
       "      <td>91667.61</td>\n",
       "    </tr>\n",
       "    <tr>\n",
       "      <th>180</th>\n",
       "      <td>Cadenza</td>\n",
       "      <td>Motor Diesel V6</td>\n",
       "      <td>1990</td>\n",
       "      <td>52804.0</td>\n",
       "      <td>False</td>\n",
       "      <td>['Sensor crepuscular', 'Controle de estabilida...</td>\n",
       "      <td>93776.52</td>\n",
       "    </tr>\n",
       "    <tr>\n",
       "      <th>181</th>\n",
       "      <td>Etios Sedã</td>\n",
       "      <td>Motor 5.0 V8 Bi-Turbo</td>\n",
       "      <td>2006</td>\n",
       "      <td>8849.0</td>\n",
       "      <td>False</td>\n",
       "      <td>['Ar condicionado', 'Vidros elétricos', 'Senso...</td>\n",
       "      <td>66433.82</td>\n",
       "    </tr>\n",
       "    <tr>\n",
       "      <th>182</th>\n",
       "      <td>Alsvin</td>\n",
       "      <td>Motor Diesel V8</td>\n",
       "      <td>2002</td>\n",
       "      <td>91724.0</td>\n",
       "      <td>False</td>\n",
       "      <td>['Central multimídia', 'Controle de estabilida...</td>\n",
       "      <td>109059.27</td>\n",
       "    </tr>\n",
       "    <tr>\n",
       "      <th>183</th>\n",
       "      <td>Cadillac ATS</td>\n",
       "      <td>Motor Diesel V6</td>\n",
       "      <td>1991</td>\n",
       "      <td>32056.0</td>\n",
       "      <td>False</td>\n",
       "      <td>['Piloto automático', 'Rodas de liga', '4 X 4'...</td>\n",
       "      <td>122069.97</td>\n",
       "    </tr>\n",
       "    <tr>\n",
       "      <th>184</th>\n",
       "      <td>Série 3 M3 Sedã</td>\n",
       "      <td>Motor Diesel V6</td>\n",
       "      <td>1992</td>\n",
       "      <td>74886.0</td>\n",
       "      <td>False</td>\n",
       "      <td>['Painel digital', 'Freios ABS', 'Ar condicion...</td>\n",
       "      <td>113090.32</td>\n",
       "    </tr>\n",
       "    <tr>\n",
       "      <th>185</th>\n",
       "      <td>Classe S</td>\n",
       "      <td>Motor 3.0 32v</td>\n",
       "      <td>2019</td>\n",
       "      <td>NaN</td>\n",
       "      <td>True</td>\n",
       "      <td>['Controle de tração', 'Teto panorâmico', 'Câm...</td>\n",
       "      <td>89401.10</td>\n",
       "    </tr>\n",
       "    <tr>\n",
       "      <th>186</th>\n",
       "      <td>T6</td>\n",
       "      <td>Motor 3.0 32v</td>\n",
       "      <td>2019</td>\n",
       "      <td>NaN</td>\n",
       "      <td>True</td>\n",
       "      <td>['Sensor de chuva', 'Câmera de estacionamento'...</td>\n",
       "      <td>56842.79</td>\n",
       "    </tr>\n",
       "    <tr>\n",
       "      <th>187</th>\n",
       "      <td>Aston Martin DB7</td>\n",
       "      <td>Motor Diesel V8</td>\n",
       "      <td>2005</td>\n",
       "      <td>52189.0</td>\n",
       "      <td>False</td>\n",
       "      <td>['Travas elétricas', 'Painel digital', 'Sensor...</td>\n",
       "      <td>146676.71</td>\n",
       "    </tr>\n",
       "    <tr>\n",
       "      <th>188</th>\n",
       "      <td>207 Sedan</td>\n",
       "      <td>Motor 4.0 Turbo</td>\n",
       "      <td>2010</td>\n",
       "      <td>83559.0</td>\n",
       "      <td>False</td>\n",
       "      <td>['Controle de tração', 'Central multimídia', '...</td>\n",
       "      <td>89511.96</td>\n",
       "    </tr>\n",
       "    <tr>\n",
       "      <th>189</th>\n",
       "      <td>Aston Martin Virage</td>\n",
       "      <td>Motor Diesel</td>\n",
       "      <td>2019</td>\n",
       "      <td>NaN</td>\n",
       "      <td>True</td>\n",
       "      <td>['Travas elétricas', 'Controle de tração', 'Câ...</td>\n",
       "      <td>97290.18</td>\n",
       "    </tr>\n",
       "    <tr>\n",
       "      <th>190</th>\n",
       "      <td>Azera</td>\n",
       "      <td>Motor 1.8 16v</td>\n",
       "      <td>2016</td>\n",
       "      <td>20328.0</td>\n",
       "      <td>False</td>\n",
       "      <td>['Bancos de couro', 'Controle de tração', 'Ar ...</td>\n",
       "      <td>120673.56</td>\n",
       "    </tr>\n",
       "    <tr>\n",
       "      <th>191</th>\n",
       "      <td>Vantage Volante</td>\n",
       "      <td>Motor Diesel V8</td>\n",
       "      <td>2019</td>\n",
       "      <td>NaN</td>\n",
       "      <td>True</td>\n",
       "      <td>['Freios ABS', 'Controle de tração', 'Central ...</td>\n",
       "      <td>114434.94</td>\n",
       "    </tr>\n",
       "    <tr>\n",
       "      <th>192</th>\n",
       "      <td>Siena EL</td>\n",
       "      <td>Motor V8</td>\n",
       "      <td>2010</td>\n",
       "      <td>75577.0</td>\n",
       "      <td>False</td>\n",
       "      <td>['Freios ABS', 'Sensor crepuscular', 'Controle...</td>\n",
       "      <td>139546.69</td>\n",
       "    </tr>\n",
       "    <tr>\n",
       "      <th>193</th>\n",
       "      <td>Palio Adventure</td>\n",
       "      <td>Motor Diesel V8</td>\n",
       "      <td>1994</td>\n",
       "      <td>33659.0</td>\n",
       "      <td>False</td>\n",
       "      <td>['Teto panorâmico', 'Central multimídia', 'Pil...</td>\n",
       "      <td>95078.16</td>\n",
       "    </tr>\n",
       "    <tr>\n",
       "      <th>194</th>\n",
       "      <td>HB20X</td>\n",
       "      <td>Motor V8</td>\n",
       "      <td>2001</td>\n",
       "      <td>104341.0</td>\n",
       "      <td>False</td>\n",
       "      <td>['Sensor crepuscular', 'Teto panorâmico', 'Pai...</td>\n",
       "      <td>68091.77</td>\n",
       "    </tr>\n",
       "    <tr>\n",
       "      <th>195</th>\n",
       "      <td>HR</td>\n",
       "      <td>Motor 5.0 V8 Bi-Turbo</td>\n",
       "      <td>2014</td>\n",
       "      <td>25510.0</td>\n",
       "      <td>False</td>\n",
       "      <td>['Controle de tração', 'Câmbio automático', '4...</td>\n",
       "      <td>61496.97</td>\n",
       "    </tr>\n",
       "    <tr>\n",
       "      <th>196</th>\n",
       "      <td>Cadillac STS V-Series</td>\n",
       "      <td>Motor 2.0 16v</td>\n",
       "      <td>1996</td>\n",
       "      <td>18965.0</td>\n",
       "      <td>False</td>\n",
       "      <td>['Vidros elétricos', 'Piloto automático', 'Câm...</td>\n",
       "      <td>139669.30</td>\n",
       "    </tr>\n",
       "    <tr>\n",
       "      <th>197</th>\n",
       "      <td>Série 1 Coupé</td>\n",
       "      <td>Motor 1.0 8v</td>\n",
       "      <td>1993</td>\n",
       "      <td>87161.0</td>\n",
       "      <td>False</td>\n",
       "      <td>['Controle de estabilidade', 'Teto panorâmico'...</td>\n",
       "      <td>80661.39</td>\n",
       "    </tr>\n",
       "    <tr>\n",
       "      <th>198</th>\n",
       "      <td>SpaceFox</td>\n",
       "      <td>Motor V8</td>\n",
       "      <td>1993</td>\n",
       "      <td>6652.0</td>\n",
       "      <td>False</td>\n",
       "      <td>['Sensor crepuscular', '4 X 4', 'Painel digita...</td>\n",
       "      <td>61783.65</td>\n",
       "    </tr>\n",
       "    <tr>\n",
       "      <th>199</th>\n",
       "      <td>C30</td>\n",
       "      <td>Motor 1.0 8v</td>\n",
       "      <td>2001</td>\n",
       "      <td>55738.0</td>\n",
       "      <td>False</td>\n",
       "      <td>['Teto panorâmico', 'Freios ABS', 'Sensor crep...</td>\n",
       "      <td>52805.91</td>\n",
       "    </tr>\n",
       "    <tr>\n",
       "      <th>200</th>\n",
       "      <td>J3 Turin</td>\n",
       "      <td>Motor V6</td>\n",
       "      <td>2019</td>\n",
       "      <td>NaN</td>\n",
       "      <td>True</td>\n",
       "      <td>['Sensor crepuscular', 'Câmera de estacionamen...</td>\n",
       "      <td>127024.75</td>\n",
       "    </tr>\n",
       "    <tr>\n",
       "      <th>201</th>\n",
       "      <td>Classe B</td>\n",
       "      <td>Motor Diesel V8</td>\n",
       "      <td>2019</td>\n",
       "      <td>NaN</td>\n",
       "      <td>True</td>\n",
       "      <td>['4 X 4', 'Bancos de couro', 'Sensor crepuscul...</td>\n",
       "      <td>135543.00</td>\n",
       "    </tr>\n",
       "    <tr>\n",
       "      <th>202</th>\n",
       "      <td>Parati</td>\n",
       "      <td>Motor Diesel V8</td>\n",
       "      <td>2019</td>\n",
       "      <td>NaN</td>\n",
       "      <td>True</td>\n",
       "      <td>['Sensor de estacionamento', 'Piloto automátic...</td>\n",
       "      <td>121708.73</td>\n",
       "    </tr>\n",
       "    <tr>\n",
       "      <th>203</th>\n",
       "      <td>Cadillac CTS V-Series</td>\n",
       "      <td>Motor 4.0 Turbo</td>\n",
       "      <td>2007</td>\n",
       "      <td>64320.0</td>\n",
       "      <td>False</td>\n",
       "      <td>['Piloto automático', 'Ar condicionado', 'Cent...</td>\n",
       "      <td>107342.68</td>\n",
       "    </tr>\n",
       "    <tr>\n",
       "      <th>204</th>\n",
       "      <td>Sedan</td>\n",
       "      <td>Motor V8</td>\n",
       "      <td>2019</td>\n",
       "      <td>NaN</td>\n",
       "      <td>True</td>\n",
       "      <td>['Bancos de couro', 'Central multimídia', 'Fre...</td>\n",
       "      <td>57888.10</td>\n",
       "    </tr>\n",
       "    <tr>\n",
       "      <th>205</th>\n",
       "      <td>Classe CLS 63 AMG</td>\n",
       "      <td>Motor Diesel V6</td>\n",
       "      <td>2016</td>\n",
       "      <td>68678.0</td>\n",
       "      <td>False</td>\n",
       "      <td>['Freios ABS', 'Vidros elétricos', 'Câmbio aut...</td>\n",
       "      <td>118161.48</td>\n",
       "    </tr>\n",
       "    <tr>\n",
       "      <th>206</th>\n",
       "      <td>Aircross</td>\n",
       "      <td>Motor 1.0 8v</td>\n",
       "      <td>2014</td>\n",
       "      <td>71697.0</td>\n",
       "      <td>False</td>\n",
       "      <td>['Controle de tração', 'Piloto automático', 'C...</td>\n",
       "      <td>142499.06</td>\n",
       "    </tr>\n",
       "    <tr>\n",
       "      <th>207</th>\n",
       "      <td>Aston Martin V12 Vantage</td>\n",
       "      <td>Motor V8</td>\n",
       "      <td>2019</td>\n",
       "      <td>NaN</td>\n",
       "      <td>True</td>\n",
       "      <td>['Bancos de couro', 'Central multimídia', 'Con...</td>\n",
       "      <td>128396.11</td>\n",
       "    </tr>\n",
       "    <tr>\n",
       "      <th>208</th>\n",
       "      <td>Sandero</td>\n",
       "      <td>Motor Diesel</td>\n",
       "      <td>2015</td>\n",
       "      <td>34783.0</td>\n",
       "      <td>False</td>\n",
       "      <td>['Piloto automático', 'Teto panorâmico', 'Câmb...</td>\n",
       "      <td>112350.61</td>\n",
       "    </tr>\n",
       "    <tr>\n",
       "      <th>209</th>\n",
       "      <td>New Fiesta</td>\n",
       "      <td>Motor 5.0 V8 Bi-Turbo</td>\n",
       "      <td>2015</td>\n",
       "      <td>33772.0</td>\n",
       "      <td>False</td>\n",
       "      <td>['Controle de tração', 'Travas elétricas', '4 ...</td>\n",
       "      <td>124661.38</td>\n",
       "    </tr>\n",
       "    <tr>\n",
       "      <th>210</th>\n",
       "      <td>XKR</td>\n",
       "      <td>Motor Diesel</td>\n",
       "      <td>1996</td>\n",
       "      <td>85127.0</td>\n",
       "      <td>False</td>\n",
       "      <td>['Controle de tração', 'Ar condicionado', 'Tra...</td>\n",
       "      <td>54263.16</td>\n",
       "    </tr>\n",
       "    <tr>\n",
       "      <th>211</th>\n",
       "      <td>X5</td>\n",
       "      <td>Motor Diesel</td>\n",
       "      <td>2002</td>\n",
       "      <td>13606.0</td>\n",
       "      <td>False</td>\n",
       "      <td>['Controle de tração', 'Piloto automático', 'T...</td>\n",
       "      <td>62041.32</td>\n",
       "    </tr>\n",
       "    <tr>\n",
       "      <th>212</th>\n",
       "      <td>Cadillac DTS</td>\n",
       "      <td>Motor 1.8 16v</td>\n",
       "      <td>2005</td>\n",
       "      <td>35647.0</td>\n",
       "      <td>False</td>\n",
       "      <td>['Central multimídia', 'Rodas de liga', 'Câmbi...</td>\n",
       "      <td>129296.11</td>\n",
       "    </tr>\n",
       "    <tr>\n",
       "      <th>213</th>\n",
       "      <td>Pajero Dakar</td>\n",
       "      <td>Motor 4.0 Turbo</td>\n",
       "      <td>1995</td>\n",
       "      <td>95128.0</td>\n",
       "      <td>False</td>\n",
       "      <td>['Piloto automático', 'Sensor de chuva', 'Cont...</td>\n",
       "      <td>60998.33</td>\n",
       "    </tr>\n",
       "    <tr>\n",
       "      <th>214</th>\n",
       "      <td>Classe A</td>\n",
       "      <td>Motor 1.0 8v</td>\n",
       "      <td>1999</td>\n",
       "      <td>14046.0</td>\n",
       "      <td>False</td>\n",
       "      <td>['Controle de tração', 'Central multimídia', '...</td>\n",
       "      <td>58008.50</td>\n",
       "    </tr>\n",
       "    <tr>\n",
       "      <th>215</th>\n",
       "      <td>Ford Focus Fastback</td>\n",
       "      <td>Motor 4.0 Turbo</td>\n",
       "      <td>2005</td>\n",
       "      <td>41194.0</td>\n",
       "      <td>False</td>\n",
       "      <td>['Bancos de couro', 'Câmera de estacionamento'...</td>\n",
       "      <td>82304.19</td>\n",
       "    </tr>\n",
       "    <tr>\n",
       "      <th>216</th>\n",
       "      <td>Partner</td>\n",
       "      <td>Motor 2.4 Turbo</td>\n",
       "      <td>2019</td>\n",
       "      <td>NaN</td>\n",
       "      <td>True</td>\n",
       "      <td>['Central multimídia', 'Controle de tração', '...</td>\n",
       "      <td>114531.74</td>\n",
       "    </tr>\n",
       "    <tr>\n",
       "      <th>217</th>\n",
       "      <td>R8</td>\n",
       "      <td>Motor V6</td>\n",
       "      <td>1997</td>\n",
       "      <td>96100.0</td>\n",
       "      <td>False</td>\n",
       "      <td>['4 X 4', 'Controle de estabilidade', 'Câmera ...</td>\n",
       "      <td>128565.61</td>\n",
       "    </tr>\n",
       "    <tr>\n",
       "      <th>218</th>\n",
       "      <td>Aston Martin DBS Volante</td>\n",
       "      <td>Motor 4.0 Turbo</td>\n",
       "      <td>1990</td>\n",
       "      <td>103900.0</td>\n",
       "      <td>False</td>\n",
       "      <td>['Central multimídia', 'Controle de estabilida...</td>\n",
       "      <td>126488.26</td>\n",
       "    </tr>\n",
       "    <tr>\n",
       "      <th>219</th>\n",
       "      <td>Mohave</td>\n",
       "      <td>Motor Diesel V6</td>\n",
       "      <td>2001</td>\n",
       "      <td>43814.0</td>\n",
       "      <td>False</td>\n",
       "      <td>['Travas elétricas', 'Central multimídia', 'Pa...</td>\n",
       "      <td>119074.55</td>\n",
       "    </tr>\n",
       "    <tr>\n",
       "      <th>220</th>\n",
       "      <td>Fusca</td>\n",
       "      <td>Motor 3.0 32v</td>\n",
       "      <td>2013</td>\n",
       "      <td>24638.0</td>\n",
       "      <td>False</td>\n",
       "      <td>['Câmbio automático', 'Teto panorâmico', 'Sens...</td>\n",
       "      <td>130238.04</td>\n",
       "    </tr>\n",
       "    <tr>\n",
       "      <th>221</th>\n",
       "      <td>Chana Family</td>\n",
       "      <td>Motor V8</td>\n",
       "      <td>2019</td>\n",
       "      <td>NaN</td>\n",
       "      <td>True</td>\n",
       "      <td>['Piloto automático', 'Teto panorâmico', 'Sens...</td>\n",
       "      <td>115760.17</td>\n",
       "    </tr>\n",
       "    <tr>\n",
       "      <th>222</th>\n",
       "      <td>XC40</td>\n",
       "      <td>Motor 2.4 Turbo</td>\n",
       "      <td>2017</td>\n",
       "      <td>110966.0</td>\n",
       "      <td>False</td>\n",
       "      <td>['Sensor de chuva', 'Central multimídia', 'Vid...</td>\n",
       "      <td>121248.00</td>\n",
       "    </tr>\n",
       "    <tr>\n",
       "      <th>223</th>\n",
       "      <td>Phantom I Jonckheere Aerodynamic Coupe</td>\n",
       "      <td>Motor 1.8 16v</td>\n",
       "      <td>2011</td>\n",
       "      <td>15987.0</td>\n",
       "      <td>False</td>\n",
       "      <td>['Sensor crepuscular', 'Travas elétricas', 'Pi...</td>\n",
       "      <td>98156.35</td>\n",
       "    </tr>\n",
       "    <tr>\n",
       "      <th>224</th>\n",
       "      <td>Boxer</td>\n",
       "      <td>Motor V6</td>\n",
       "      <td>2005</td>\n",
       "      <td>53369.0</td>\n",
       "      <td>False</td>\n",
       "      <td>['Travas elétricas', 'Piloto automático', 'Vid...</td>\n",
       "      <td>112146.80</td>\n",
       "    </tr>\n",
       "    <tr>\n",
       "      <th>225</th>\n",
       "      <td>Chana Cargo</td>\n",
       "      <td>Motor 2.0 16v</td>\n",
       "      <td>2007</td>\n",
       "      <td>10077.0</td>\n",
       "      <td>False</td>\n",
       "      <td>['Teto panorâmico', '4 X 4', 'Central multimíd...</td>\n",
       "      <td>102729.63</td>\n",
       "    </tr>\n",
       "    <tr>\n",
       "      <th>226</th>\n",
       "      <td>Dodge Dakota</td>\n",
       "      <td>Motor Diesel</td>\n",
       "      <td>1993</td>\n",
       "      <td>71544.0</td>\n",
       "      <td>False</td>\n",
       "      <td>['Controle de tração', 'Sensor de estacionamen...</td>\n",
       "      <td>141083.35</td>\n",
       "    </tr>\n",
       "    <tr>\n",
       "      <th>227</th>\n",
       "      <td>X1</td>\n",
       "      <td>Motor Diesel V8</td>\n",
       "      <td>1991</td>\n",
       "      <td>107.0</td>\n",
       "      <td>False</td>\n",
       "      <td>['4 X 4', 'Teto panorâmico', 'Ar condicionado'...</td>\n",
       "      <td>102968.76</td>\n",
       "    </tr>\n",
       "    <tr>\n",
       "      <th>228</th>\n",
       "      <td>GLA</td>\n",
       "      <td>Motor 1.0 8v</td>\n",
       "      <td>1991</td>\n",
       "      <td>8394.0</td>\n",
       "      <td>False</td>\n",
       "      <td>['Sensor de chuva', 'Câmera de estacionamento'...</td>\n",
       "      <td>76310.01</td>\n",
       "    </tr>\n",
       "    <tr>\n",
       "      <th>229</th>\n",
       "      <td>Range Rover Sport</td>\n",
       "      <td>Motor 1.0 8v</td>\n",
       "      <td>1997</td>\n",
       "      <td>41498.0</td>\n",
       "      <td>False</td>\n",
       "      <td>['Sensor de estacionamento', 'Câmera de estaci...</td>\n",
       "      <td>120481.74</td>\n",
       "    </tr>\n",
       "    <tr>\n",
       "      <th>230</th>\n",
       "      <td>DS3</td>\n",
       "      <td>Motor 1.8 16v</td>\n",
       "      <td>2000</td>\n",
       "      <td>116002.0</td>\n",
       "      <td>False</td>\n",
       "      <td>['Controle de estabilidade', 'Ar condicionado'...</td>\n",
       "      <td>54559.18</td>\n",
       "    </tr>\n",
       "    <tr>\n",
       "      <th>231</th>\n",
       "      <td>Veracruz</td>\n",
       "      <td>Motor Diesel V8</td>\n",
       "      <td>2007</td>\n",
       "      <td>100858.0</td>\n",
       "      <td>False</td>\n",
       "      <td>['Controle de estabilidade', 'Câmera de estaci...</td>\n",
       "      <td>92957.64</td>\n",
       "    </tr>\n",
       "    <tr>\n",
       "      <th>232</th>\n",
       "      <td>Cadillac CTS coupe, sedan, and wagon</td>\n",
       "      <td>Motor V8</td>\n",
       "      <td>2006</td>\n",
       "      <td>67475.0</td>\n",
       "      <td>False</td>\n",
       "      <td>['Sensor de chuva', 'Sensor de estacionamento'...</td>\n",
       "      <td>127810.06</td>\n",
       "    </tr>\n",
       "    <tr>\n",
       "      <th>233</th>\n",
       "      <td>i30 CW</td>\n",
       "      <td>Motor Diesel</td>\n",
       "      <td>2015</td>\n",
       "      <td>8497.0</td>\n",
       "      <td>False</td>\n",
       "      <td>['Sensor de chuva', 'Vidros elétricos', 'Contr...</td>\n",
       "      <td>73311.75</td>\n",
       "    </tr>\n",
       "    <tr>\n",
       "      <th>234</th>\n",
       "      <td>Phantom III</td>\n",
       "      <td>Motor Diesel V6</td>\n",
       "      <td>2008</td>\n",
       "      <td>4420.0</td>\n",
       "      <td>False</td>\n",
       "      <td>['Vidros elétricos', 'Bancos de couro', 'Pilot...</td>\n",
       "      <td>65138.03</td>\n",
       "    </tr>\n",
       "    <tr>\n",
       "      <th>235</th>\n",
       "      <td>A3 Sedan</td>\n",
       "      <td>Motor V6</td>\n",
       "      <td>2019</td>\n",
       "      <td>NaN</td>\n",
       "      <td>True</td>\n",
       "      <td>['Ar condicionado', 'Sensor de chuva', 'Travas...</td>\n",
       "      <td>90141.47</td>\n",
       "    </tr>\n",
       "    <tr>\n",
       "      <th>236</th>\n",
       "      <td>Aston Martin DB9 Volante</td>\n",
       "      <td>Motor 2.0 16v</td>\n",
       "      <td>1996</td>\n",
       "      <td>58537.0</td>\n",
       "      <td>False</td>\n",
       "      <td>['Central multimídia', 'Bancos de couro', 'Câm...</td>\n",
       "      <td>71160.36</td>\n",
       "    </tr>\n",
       "    <tr>\n",
       "      <th>237</th>\n",
       "      <td>Série 7 Sedã</td>\n",
       "      <td>Motor Diesel</td>\n",
       "      <td>2019</td>\n",
       "      <td>NaN</td>\n",
       "      <td>True</td>\n",
       "      <td>['Vidros elétricos', 'Travas elétricas', 'Roda...</td>\n",
       "      <td>67539.79</td>\n",
       "    </tr>\n",
       "    <tr>\n",
       "      <th>238</th>\n",
       "      <td>Lamborghini Reventón</td>\n",
       "      <td>Motor 4.0 Turbo</td>\n",
       "      <td>2019</td>\n",
       "      <td>NaN</td>\n",
       "      <td>True</td>\n",
       "      <td>['Controle de tração', 'Ar condicionado', 'Cen...</td>\n",
       "      <td>67664.86</td>\n",
       "    </tr>\n",
       "    <tr>\n",
       "      <th>239</th>\n",
       "      <td>Grand Livina</td>\n",
       "      <td>Motor 2.0 16v</td>\n",
       "      <td>2014</td>\n",
       "      <td>112016.0</td>\n",
       "      <td>False</td>\n",
       "      <td>['Controle de tração', 'Teto panorâmico', 'Vid...</td>\n",
       "      <td>68652.16</td>\n",
       "    </tr>\n",
       "    <tr>\n",
       "      <th>240</th>\n",
       "      <td>V60</td>\n",
       "      <td>Motor Diesel</td>\n",
       "      <td>2004</td>\n",
       "      <td>91840.0</td>\n",
       "      <td>False</td>\n",
       "      <td>['Rodas de liga', 'Sensor crepuscular', 'Ar co...</td>\n",
       "      <td>114728.74</td>\n",
       "    </tr>\n",
       "    <tr>\n",
       "      <th>241</th>\n",
       "      <td>Effa Hafei Picape Cabine Dupla</td>\n",
       "      <td>Motor V6</td>\n",
       "      <td>2008</td>\n",
       "      <td>112787.0</td>\n",
       "      <td>False</td>\n",
       "      <td>['Sensor crepuscular', 'Controle de tração', '...</td>\n",
       "      <td>141645.08</td>\n",
       "    </tr>\n",
       "    <tr>\n",
       "      <th>242</th>\n",
       "      <td>Benni Mini</td>\n",
       "      <td>Motor V8</td>\n",
       "      <td>2019</td>\n",
       "      <td>NaN</td>\n",
       "      <td>True</td>\n",
       "      <td>['Sensor crepuscular', 'Câmbio automático', 'C...</td>\n",
       "      <td>126247.84</td>\n",
       "    </tr>\n",
       "    <tr>\n",
       "      <th>243</th>\n",
       "      <td>Uno</td>\n",
       "      <td>Motor Diesel V6</td>\n",
       "      <td>2019</td>\n",
       "      <td>NaN</td>\n",
       "      <td>True</td>\n",
       "      <td>['Central multimídia', 'Sensor crepuscular', '...</td>\n",
       "      <td>128852.21</td>\n",
       "    </tr>\n",
       "    <tr>\n",
       "      <th>244</th>\n",
       "      <td>L200 Savana</td>\n",
       "      <td>Motor 2.0 16v</td>\n",
       "      <td>2012</td>\n",
       "      <td>9293.0</td>\n",
       "      <td>False</td>\n",
       "      <td>['Sensor de chuva', 'Vidros elétricos', 'Paine...</td>\n",
       "      <td>132384.76</td>\n",
       "    </tr>\n",
       "    <tr>\n",
       "      <th>245</th>\n",
       "      <td>Santa Fe</td>\n",
       "      <td>Motor 3.0 32v</td>\n",
       "      <td>2019</td>\n",
       "      <td>NaN</td>\n",
       "      <td>True</td>\n",
       "      <td>['Travas elétricas', 'Ar condicionado', '4 X 4...</td>\n",
       "      <td>129415.33</td>\n",
       "    </tr>\n",
       "    <tr>\n",
       "      <th>246</th>\n",
       "      <td>RS5</td>\n",
       "      <td>Motor V6</td>\n",
       "      <td>1996</td>\n",
       "      <td>55083.0</td>\n",
       "      <td>False</td>\n",
       "      <td>['Painel digital', 'Câmbio automático', 'Vidro...</td>\n",
       "      <td>89536.82</td>\n",
       "    </tr>\n",
       "    <tr>\n",
       "      <th>247</th>\n",
       "      <td>Cerato</td>\n",
       "      <td>Motor V6</td>\n",
       "      <td>2011</td>\n",
       "      <td>48796.0</td>\n",
       "      <td>False</td>\n",
       "      <td>['Sensor de estacionamento', 'Câmera de estaci...</td>\n",
       "      <td>87975.30</td>\n",
       "    </tr>\n",
       "    <tr>\n",
       "      <th>248</th>\n",
       "      <td>XC60</td>\n",
       "      <td>Motor 4.0 Turbo</td>\n",
       "      <td>2019</td>\n",
       "      <td>NaN</td>\n",
       "      <td>True</td>\n",
       "      <td>['Painel digital', 'Piloto automático', 'Centr...</td>\n",
       "      <td>77675.79</td>\n",
       "    </tr>\n",
       "    <tr>\n",
       "      <th>249</th>\n",
       "      <td>LS 460L</td>\n",
       "      <td>Motor Diesel V8</td>\n",
       "      <td>2010</td>\n",
       "      <td>89685.0</td>\n",
       "      <td>False</td>\n",
       "      <td>['Rodas de liga', 'Freios ABS', 'Controle de t...</td>\n",
       "      <td>58881.67</td>\n",
       "    </tr>\n",
       "    <tr>\n",
       "      <th>250</th>\n",
       "      <td>Lamborghini Sesto Elemento</td>\n",
       "      <td>Motor V8</td>\n",
       "      <td>2007</td>\n",
       "      <td>85384.0</td>\n",
       "      <td>False</td>\n",
       "      <td>['Sensor crepuscular', 'Freios ABS', 'Ar condi...</td>\n",
       "      <td>55081.99</td>\n",
       "    </tr>\n",
       "    <tr>\n",
       "      <th>251</th>\n",
       "      <td>Lamborghini Huracán</td>\n",
       "      <td>Motor V8</td>\n",
       "      <td>1994</td>\n",
       "      <td>98108.0</td>\n",
       "      <td>False</td>\n",
       "      <td>['Sensor de chuva', 'Sensor de estacionamento'...</td>\n",
       "      <td>118826.44</td>\n",
       "    </tr>\n",
       "    <tr>\n",
       "      <th>252</th>\n",
       "      <td>A7</td>\n",
       "      <td>Motor 1.0 8v</td>\n",
       "      <td>2007</td>\n",
       "      <td>71280.0</td>\n",
       "      <td>False</td>\n",
       "      <td>['Sensor de chuva', 'Vidros elétricos', 'Senso...</td>\n",
       "      <td>137627.62</td>\n",
       "    </tr>\n",
       "    <tr>\n",
       "      <th>253</th>\n",
       "      <td>Phantom 2013</td>\n",
       "      <td>Motor V8</td>\n",
       "      <td>2014</td>\n",
       "      <td>27505.0</td>\n",
       "      <td>False</td>\n",
       "      <td>['Controle de estabilidade', 'Piloto automátic...</td>\n",
       "      <td>51759.58</td>\n",
       "    </tr>\n",
       "    <tr>\n",
       "      <th>254</th>\n",
       "      <td>Cadillac Ciel concept</td>\n",
       "      <td>Motor V8</td>\n",
       "      <td>1991</td>\n",
       "      <td>29981.0</td>\n",
       "      <td>False</td>\n",
       "      <td>['Bancos de couro', 'Painel digital', 'Sensor ...</td>\n",
       "      <td>51667.06</td>\n",
       "    </tr>\n",
       "    <tr>\n",
       "      <th>255</th>\n",
       "      <td>Classe GLK</td>\n",
       "      <td>Motor 5.0 V8 Bi-Turbo</td>\n",
       "      <td>2002</td>\n",
       "      <td>52637.0</td>\n",
       "      <td>False</td>\n",
       "      <td>['Rodas de liga', 'Controle de tração', 'Câmbi...</td>\n",
       "      <td>68934.03</td>\n",
       "    </tr>\n",
       "    <tr>\n",
       "      <th>256</th>\n",
       "      <td>Aston Martin DB5</td>\n",
       "      <td>Motor Diesel</td>\n",
       "      <td>1996</td>\n",
       "      <td>7685.0</td>\n",
       "      <td>False</td>\n",
       "      <td>['Ar condicionado', '4 X 4', 'Câmbio automátic...</td>\n",
       "      <td>122110.90</td>\n",
       "    </tr>\n",
       "    <tr>\n",
       "      <th>257</th>\n",
       "      <td>Macan</td>\n",
       "      <td>Motor Diesel V6</td>\n",
       "      <td>1992</td>\n",
       "      <td>50188.0</td>\n",
       "      <td>False</td>\n",
       "      <td>['Central multimídia', 'Teto panorâmico', 'Vid...</td>\n",
       "      <td>90381.47</td>\n",
       "    </tr>\n",
       "  </tbody>\n",
       "</table>\n",
       "</div>"
      ],
      "text/plain": [
       "                                       Nome                  Motor   Ano  \\\n",
       "0                             Jetta Variant        Motor 4.0 Turbo  2003   \n",
       "1                                    Passat           Motor Diesel  1991   \n",
       "2                                  Crossfox        Motor Diesel V8  1990   \n",
       "3                                       DS5        Motor 2.4 Turbo  2019   \n",
       "4                          Aston Martin DB4        Motor 2.4 Turbo  2006   \n",
       "5                             Palio Weekend          Motor 1.8 16v  2012   \n",
       "6                                        A5        Motor 4.0 Turbo  2019   \n",
       "7                            Série 3 Cabrio           Motor 1.0 8v  2009   \n",
       "8                              Dodge Jorney          Motor 3.0 32v  2010   \n",
       "9                                    Carens  Motor 5.0 V8 Bi-Turbo  2011   \n",
       "10                                Ford Edge        Motor Diesel V6  2002   \n",
       "11                                  Courier        Motor Diesel V8  2007   \n",
       "12                                     S-18               Motor V6  2001   \n",
       "13                                       J5               Motor V6  2019   \n",
       "14                             F-Type Coupé  Motor 5.0 V8 Bi-Turbo  2009   \n",
       "15                                      RAM        Motor Diesel V8  2016   \n",
       "16                                  Série 1          Motor 3.0 32v  2012   \n",
       "17                                       A3           Motor 1.0 8v  2019   \n",
       "18                                     XC90           Motor 1.0 8v  2016   \n",
       "19                           RS 3 Sportback          Motor 3.0 32v  2017   \n",
       "20                             Pajero Sport           Motor 1.0 8v  2002   \n",
       "21                                Série 1 M               Motor V8  2019   \n",
       "22                      Lamborghini Obvious        Motor Diesel V6  1994   \n",
       "23                    Effa Hafei Picape Baú           Motor Diesel  1991   \n",
       "24                   Lamborghini Murciélago  Motor 5.0 V8 Bi-Turbo  2019   \n",
       "25                                      Up!        Motor Diesel V6  2019   \n",
       "26                       Fiesta Rocam Sedan        Motor 4.0 Turbo  2016   \n",
       "27                          Sandero Stepway          Motor 3.0 32v  2019   \n",
       "28                                 Cayman S          Motor 3.0 32v  2002   \n",
       "29                                      V40        Motor 4.0 Turbo  1991   \n",
       "30                           Classe SLS AMG           Motor 1.0 8v  1997   \n",
       "31                                   Gol G4          Motor 2.0 16v  1995   \n",
       "32                                    Linea           Motor 1.0 8v  2018   \n",
       "33                                Ford F100          Motor 2.0 16v  1991   \n",
       "34                                       J2               Motor V8  2014   \n",
       "35                         Aston Martin DBS               Motor V8  1995   \n",
       "36                               Pajero TR4        Motor 2.4 Turbo  2019   \n",
       "37                               Polo Sedan               Motor V6  2019   \n",
       "38                               California           Motor 1.0 8v  2009   \n",
       "39                                      S60        Motor 2.4 Turbo  2019   \n",
       "40                                   Tucson          Motor 2.0 16v  2013   \n",
       "41                                     HB20               Motor V6  2003   \n",
       "42                                   Optima          Motor 1.8 16v  2019   \n",
       "43                                    Logan        Motor 4.0 Turbo  2002   \n",
       "44                        Range Rover Vogue           Motor 1.0 8v  2019   \n",
       "45                                   Sonata  Motor 5.0 V8 Bi-Turbo  2002   \n",
       "46                    Ford New Fiesta Sedan          Motor 3.0 32v  2004   \n",
       "47                     Série 5 Gran Turismo        Motor 4.0 Turbo  2001   \n",
       "48                                     CR-V        Motor Diesel V8  2019   \n",
       "49                            Ford EcoSport           Motor 1.0 8v  2003   \n",
       "50                                    Versa          Motor 3.0 32v  2009   \n",
       "51                                 Classe E           Motor 1.0 8v  2006   \n",
       "52                                 Carnival               Motor V8  2000   \n",
       "53         Aston Martin V8 Vantage Roadster        Motor 2.4 Turbo  2006   \n",
       "54                                   Hoggar  Motor 5.0 V8 Bi-Turbo  2010   \n",
       "55                                       A1  Motor 5.0 V8 Bi-Turbo  1994   \n",
       "56                 Aston Martin DB7 Vantage               Motor V6  2007   \n",
       "57                                      CLA           Motor 1.0 8v  2019   \n",
       "58                                   Accord               Motor V8  2019   \n",
       "59                              EXTRA 103EX          Motor 2.0 16v  2019   \n",
       "60                                  Sorento           Motor Diesel  2019   \n",
       "61                                    Tiggo          Motor 3.0 32v  2019   \n",
       "62                         New Fiesta Hatch           Motor Diesel  2017   \n",
       "63                            Jeep Renegade  Motor 5.0 V8 Bi-Turbo  2011   \n",
       "64                     Lamborghini Ankonian          Motor 2.0 16v  2001   \n",
       "65                              Space Cross  Motor 5.0 V8 Bi-Turbo  1996   \n",
       "66                                  Touareg               Motor V8  2019   \n",
       "67                                 Classe M           Motor 1.0 8v  1994   \n",
       "68                       Lancer Evolution X        Motor Diesel V6  2019   \n",
       "69                           Kangoo Express           Motor Diesel  2007   \n",
       "70                                      SW4        Motor Diesel V6  1994   \n",
       "71                             Cadillac ELR           Motor 1.0 8v  2007   \n",
       "72                                    Doblò          Motor 1.8 16v  1997   \n",
       "73                      Lamborghini Egoista          Motor 3.0 32v  2006   \n",
       "74                                      Fit           Motor Diesel  2013   \n",
       "75                                       C5          Motor 2.0 16v  1994   \n",
       "76                              Celer Hatch               Motor V8  2008   \n",
       "77                                    HB20S               Motor V8  2008   \n",
       "78                              Cielo Hatch           Motor Diesel  2019   \n",
       "79                                   Livina          Motor 2.0 16v  2019   \n",
       "80                                   Ducato  Motor 5.0 V8 Bi-Turbo  1999   \n",
       "81                                    March               Motor V6  2007   \n",
       "82                       Cadillac XTS sedan        Motor Diesel V6  1993   \n",
       "83                   Lamborghini Centenario               Motor V6  1995   \n",
       "84                                    Hilux  Motor 5.0 V8 Bi-Turbo  2019   \n",
       "85                              Grand Siena        Motor Diesel V8  2019   \n",
       "86                                   Symbol           Motor Diesel  2016   \n",
       "87               Aston Martin V12 GT Zagato        Motor 4.0 Turbo  2011   \n",
       "88                                   Fusion          Motor 1.8 16v  2019   \n",
       "89                                 A4 Sedan           Motor Diesel  2002   \n",
       "90                            Xsara Picasso          Motor 2.0 16v  2013   \n",
       "91                                   207 SW          Motor 3.0 32v  2017   \n",
       "92                                     Star               Motor V6  2016   \n",
       "93                              Doblò Cargo          Motor 3.0 32v  2008   \n",
       "94                             Cadillac CTS          Motor 1.8 16v  2018   \n",
       "95                                  Cayenne           Motor 1.0 8v  2003   \n",
       "96                                      Fox        Motor 4.0 Turbo  2003   \n",
       "97                              Tiida Hatch        Motor Diesel V6  2004   \n",
       "98                            Dodge Charger        Motor 2.4 Turbo  2010   \n",
       "99                                     Face               Motor V8  2019   \n",
       "100                                   Prius          Motor 3.0 32v  2006   \n",
       "101                                    Idea               Motor V6  2001   \n",
       "102                                      A8          Motor 2.0 16v  2019   \n",
       "103                          Série 1 Cabrio          Motor 3.0 32v  2015   \n",
       "104                                    Edge               Motor V6  2018   \n",
       "105                      Cadillac ATS sedan          Motor 1.8 16v  2017   \n",
       "106          Lamborghini Asterion LPI 910-4  Motor 5.0 V8 Bi-Turbo  1992   \n",
       "107                                Frontier               Motor V8  2001   \n",
       "108                            Série 3 Sedã          Motor 3.0 32v  1993   \n",
       "109                       Lamborghini LM002          Motor 1.8 16v  1995   \n",
       "110                            Cadillac XLR        Motor Diesel V8  2003   \n",
       "111                                A4 Avant           Motor Diesel  2014   \n",
       "112                                EcoSport        Motor 4.0 Turbo  2008   \n",
       "113                                      J3          Motor 1.8 16v  2013   \n",
       "114                                      Q3          Motor 3.0 32v  2019   \n",
       "115                 Aston Martin V8 Vantage               Motor V8  2017   \n",
       "116                             Z4 Roadster          Motor 3.0 32v  2019   \n",
       "117                   Lamborghini Ferruccio          Motor 3.0 32v  2019   \n",
       "118                                Ford Ka+          Motor 1.8 16v  2006   \n",
       "119                           Silver Shadow           Motor Diesel  2015   \n",
       "120                 Classe C 63 AMG Touring        Motor Diesel V8  2007   \n",
       "121                             Discovery 4        Motor 4.0 Turbo  2005   \n",
       "122                                Veloster        Motor Diesel V8  2017   \n",
       "123                                Classe C        Motor Diesel V6  1998   \n",
       "124                                   Camry           Motor Diesel  2019   \n",
       "125                               C5 Tourer        Motor Diesel V6  1999   \n",
       "126                                   R8 GT        Motor 4.0 Turbo  2019   \n",
       "127                                   Bongo        Motor Diesel V8  2009   \n",
       "128                                     ASX        Motor Diesel V8  2003   \n",
       "129                            Cadillac SRX  Motor 5.0 V8 Bi-Turbo  1994   \n",
       "130                               Classe CL               Motor V8  2019   \n",
       "131                              500 Abarth               Motor V6  1994   \n",
       "132                     Aston Martin Cygnet  Motor 5.0 V8 Bi-Turbo  2019   \n",
       "133                            Cadillac STS        Motor 4.0 Turbo  2015   \n",
       "134                        Aston Martin DB9          Motor 1.8 16v  1996   \n",
       "135                                 NX 200t        Motor 2.4 Turbo  1997   \n",
       "136                     Aston Martin One-77               Motor V6  1993   \n",
       "137                      Lamborghini Veneno          Motor 3.0 32v  2019   \n",
       "138                                  Sentra          Motor 2.0 16v  1992   \n",
       "139                                  Jumper        Motor 2.4 Turbo  1995   \n",
       "140                                     i30          Motor 1.8 16v  2019   \n",
       "141                                      X6        Motor Diesel V6  1990   \n",
       "142                                  Voyage  Motor 5.0 V8 Bi-Turbo  2019   \n",
       "143                    Phantom I Phantom II          Motor 1.8 16v  2019   \n",
       "144                          Passat Variant           Motor 1.0 8v  1991   \n",
       "145                                    Clio           Motor Diesel  1990   \n",
       "146                                Classe G        Motor Diesel V6  2012   \n",
       "147                            Silver Ghost          Motor 1.8 16v  2007   \n",
       "148                        Série 3 M3 Coupé           Motor Diesel  2013   \n",
       "149                     Gallardo LP 560 – 4           Motor Diesel  2000   \n",
       "150                            Freelander 2        Motor Diesel V6  2002   \n",
       "151                          Grand Cherokee  Motor 5.0 V8 Bi-Turbo  1996   \n",
       "152                       Aston Martin DBR9        Motor 4.0 Turbo  1996   \n",
       "153                                    Soul  Motor 5.0 V8 Bi-Turbo  2015   \n",
       "154                            Cadillac BLS               Motor V8  1993   \n",
       "155                                  RX 350               Motor V6  2013   \n",
       "156                                  Cayman          Motor 3.0 32v  2013   \n",
       "157                           Chana Utility           Motor Diesel  2009   \n",
       "158                                  308 CC        Motor 4.0 Turbo  2019   \n",
       "159                             L200 Triton        Motor Diesel V8  2019   \n",
       "160                                   Jetta  Motor 5.0 V8 Bi-Turbo  2002   \n",
       "161                               C4 Lounge               Motor V8  1997   \n",
       "162                               C4 Pallas           Motor 1.0 8v  1998   \n",
       "163                                   Equus          Motor 3.0 32v  2004   \n",
       "164                               Classe GL          Motor 3.0 32v  1996   \n",
       "165                      Range Rover Evoque          Motor 2.0 16v  2015   \n",
       "166                                Cherokee        Motor 4.0 Turbo  2016   \n",
       "167                                   Punto        Motor 4.0 Turbo  2005   \n",
       "168                              Grand Tour          Motor 3.0 32v  1999   \n",
       "169                                 Fluence        Motor Diesel V6  1995   \n",
       "170        Effa Hafei Picape Cabine Simples           Motor 1.0 8v  1993   \n",
       "171                                 Durango          Motor 2.0 16v  2004   \n",
       "172                                 Boxster        Motor Diesel V8  2013   \n",
       "173                             TT Roadster           Motor Diesel  1998   \n",
       "174                       Lamborghini Jalpa          Motor 1.8 16v  2018   \n",
       "175                              Classe SLK        Motor 4.0 Turbo  2019   \n",
       "176                                    Golf           Motor 1.0 8v  2018   \n",
       "177                              C3 Picasso          Motor 3.0 32v  2019   \n",
       "178                                     V50          Motor 2.0 16v  1990   \n",
       "179                                 Picanto        Motor 4.0 Turbo  2009   \n",
       "180                                 Cadenza        Motor Diesel V6  1990   \n",
       "181                              Etios Sedã  Motor 5.0 V8 Bi-Turbo  2006   \n",
       "182                                  Alsvin        Motor Diesel V8  2002   \n",
       "183                            Cadillac ATS        Motor Diesel V6  1991   \n",
       "184                         Série 3 M3 Sedã        Motor Diesel V6  1992   \n",
       "185                                Classe S          Motor 3.0 32v  2019   \n",
       "186                                      T6          Motor 3.0 32v  2019   \n",
       "187                        Aston Martin DB7        Motor Diesel V8  2005   \n",
       "188                               207 Sedan        Motor 4.0 Turbo  2010   \n",
       "189                     Aston Martin Virage           Motor Diesel  2019   \n",
       "190                                   Azera          Motor 1.8 16v  2016   \n",
       "191                         Vantage Volante        Motor Diesel V8  2019   \n",
       "192                                Siena EL               Motor V8  2010   \n",
       "193                         Palio Adventure        Motor Diesel V8  1994   \n",
       "194                                   HB20X               Motor V8  2001   \n",
       "195                                      HR  Motor 5.0 V8 Bi-Turbo  2014   \n",
       "196                   Cadillac STS V-Series          Motor 2.0 16v  1996   \n",
       "197                           Série 1 Coupé           Motor 1.0 8v  1993   \n",
       "198                                SpaceFox               Motor V8  1993   \n",
       "199                                     C30           Motor 1.0 8v  2001   \n",
       "200                                J3 Turin               Motor V6  2019   \n",
       "201                                Classe B        Motor Diesel V8  2019   \n",
       "202                                  Parati        Motor Diesel V8  2019   \n",
       "203                   Cadillac CTS V-Series        Motor 4.0 Turbo  2007   \n",
       "204                                   Sedan               Motor V8  2019   \n",
       "205                       Classe CLS 63 AMG        Motor Diesel V6  2016   \n",
       "206                                Aircross           Motor 1.0 8v  2014   \n",
       "207                Aston Martin V12 Vantage               Motor V8  2019   \n",
       "208                                 Sandero           Motor Diesel  2015   \n",
       "209                              New Fiesta  Motor 5.0 V8 Bi-Turbo  2015   \n",
       "210                                     XKR           Motor Diesel  1996   \n",
       "211                                      X5           Motor Diesel  2002   \n",
       "212                            Cadillac DTS          Motor 1.8 16v  2005   \n",
       "213                            Pajero Dakar        Motor 4.0 Turbo  1995   \n",
       "214                                Classe A           Motor 1.0 8v  1999   \n",
       "215                     Ford Focus Fastback        Motor 4.0 Turbo  2005   \n",
       "216                                 Partner        Motor 2.4 Turbo  2019   \n",
       "217                                      R8               Motor V6  1997   \n",
       "218                Aston Martin DBS Volante        Motor 4.0 Turbo  1990   \n",
       "219                                  Mohave        Motor Diesel V6  2001   \n",
       "220                                   Fusca          Motor 3.0 32v  2013   \n",
       "221                            Chana Family               Motor V8  2019   \n",
       "222                                    XC40        Motor 2.4 Turbo  2017   \n",
       "223  Phantom I Jonckheere Aerodynamic Coupe          Motor 1.8 16v  2011   \n",
       "224                                   Boxer               Motor V6  2005   \n",
       "225                             Chana Cargo          Motor 2.0 16v  2007   \n",
       "226                            Dodge Dakota           Motor Diesel  1993   \n",
       "227                                      X1        Motor Diesel V8  1991   \n",
       "228                                     GLA           Motor 1.0 8v  1991   \n",
       "229                       Range Rover Sport           Motor 1.0 8v  1997   \n",
       "230                                     DS3          Motor 1.8 16v  2000   \n",
       "231                                Veracruz        Motor Diesel V8  2007   \n",
       "232    Cadillac CTS coupe, sedan, and wagon               Motor V8  2006   \n",
       "233                                  i30 CW           Motor Diesel  2015   \n",
       "234                             Phantom III        Motor Diesel V6  2008   \n",
       "235                                A3 Sedan               Motor V6  2019   \n",
       "236                Aston Martin DB9 Volante          Motor 2.0 16v  1996   \n",
       "237                            Série 7 Sedã           Motor Diesel  2019   \n",
       "238                    Lamborghini Reventón        Motor 4.0 Turbo  2019   \n",
       "239                            Grand Livina          Motor 2.0 16v  2014   \n",
       "240                                     V60           Motor Diesel  2004   \n",
       "241          Effa Hafei Picape Cabine Dupla               Motor V6  2008   \n",
       "242                              Benni Mini               Motor V8  2019   \n",
       "243                                     Uno        Motor Diesel V6  2019   \n",
       "244                             L200 Savana          Motor 2.0 16v  2012   \n",
       "245                                Santa Fe          Motor 3.0 32v  2019   \n",
       "246                                     RS5               Motor V6  1996   \n",
       "247                                  Cerato               Motor V6  2011   \n",
       "248                                    XC60        Motor 4.0 Turbo  2019   \n",
       "249                                 LS 460L        Motor Diesel V8  2010   \n",
       "250              Lamborghini Sesto Elemento               Motor V8  2007   \n",
       "251                     Lamborghini Huracán               Motor V8  1994   \n",
       "252                                      A7           Motor 1.0 8v  2007   \n",
       "253                            Phantom 2013               Motor V8  2014   \n",
       "254                   Cadillac Ciel concept               Motor V8  1991   \n",
       "255                              Classe GLK  Motor 5.0 V8 Bi-Turbo  2002   \n",
       "256                        Aston Martin DB5           Motor Diesel  1996   \n",
       "257                                   Macan        Motor Diesel V6  1992   \n",
       "\n",
       "     Quilometragem  Zero_km  \\\n",
       "0          44410.0    False   \n",
       "1           5712.0    False   \n",
       "2          37123.0    False   \n",
       "3              NaN     True   \n",
       "4          25757.0    False   \n",
       "5          10728.0    False   \n",
       "6              NaN     True   \n",
       "7          77599.0    False   \n",
       "8          99197.0    False   \n",
       "9          37978.0    False   \n",
       "10         12859.0    False   \n",
       "11          8052.0    False   \n",
       "12         89773.0    False   \n",
       "13             NaN     True   \n",
       "14         41457.0    False   \n",
       "15        115607.0    False   \n",
       "16         46449.0    False   \n",
       "17             NaN     True   \n",
       "18         37086.0    False   \n",
       "19         15173.0    False   \n",
       "20        101193.0    False   \n",
       "21             NaN     True   \n",
       "22         98079.0    False   \n",
       "23        102959.0    False   \n",
       "24             NaN     True   \n",
       "25             NaN     True   \n",
       "26          5795.0    False   \n",
       "27             NaN     True   \n",
       "28         58848.0    False   \n",
       "29         94381.0    False   \n",
       "30         30163.0    False   \n",
       "31         53332.0    False   \n",
       "32         17720.0    False   \n",
       "33         33808.0    False   \n",
       "34         90684.0    False   \n",
       "35         43975.0    False   \n",
       "36             NaN     True   \n",
       "37             NaN     True   \n",
       "38          5526.0    False   \n",
       "39             NaN     True   \n",
       "40         93415.0    False   \n",
       "41         40762.0    False   \n",
       "42             NaN     True   \n",
       "43         86302.0    False   \n",
       "44             NaN     True   \n",
       "45          9755.0    False   \n",
       "46         69945.0    False   \n",
       "47          2395.0    False   \n",
       "48             NaN     True   \n",
       "49         80349.0    False   \n",
       "50         85554.0    False   \n",
       "51         50496.0    False   \n",
       "52         67716.0    False   \n",
       "53         93947.0    False   \n",
       "54         35345.0    False   \n",
       "55         81007.0    False   \n",
       "56        119513.0    False   \n",
       "57             NaN     True   \n",
       "58             NaN     True   \n",
       "59             NaN     True   \n",
       "60             NaN     True   \n",
       "61             NaN     True   \n",
       "62        118895.0    False   \n",
       "63         48509.0    False   \n",
       "64        100912.0    False   \n",
       "65         95649.0    False   \n",
       "66             NaN     True   \n",
       "67         90495.0    False   \n",
       "68             NaN     True   \n",
       "69         29132.0    False   \n",
       "70         23802.0    False   \n",
       "71         84992.0    False   \n",
       "72         54395.0    False   \n",
       "73         26731.0    False   \n",
       "74         44329.0    False   \n",
       "75        118236.0    False   \n",
       "76        113808.0    False   \n",
       "77           610.0    False   \n",
       "78             NaN     True   \n",
       "79             NaN     True   \n",
       "80         12887.0    False   \n",
       "81         79607.0    False   \n",
       "82         90924.0    False   \n",
       "83         42733.0    False   \n",
       "84             NaN     True   \n",
       "85             NaN     True   \n",
       "86        117714.0    False   \n",
       "87        113885.0    False   \n",
       "88             NaN     True   \n",
       "89         30511.0    False   \n",
       "90         74867.0    False   \n",
       "91        119760.0    False   \n",
       "92          8356.0    False   \n",
       "93         64247.0    False   \n",
       "94         88661.0    False   \n",
       "95          4539.0    False   \n",
       "96        110116.0    False   \n",
       "97         33215.0    False   \n",
       "98         92001.0    False   \n",
       "99             NaN     True   \n",
       "100        81708.0    False   \n",
       "101        70641.0    False   \n",
       "102            NaN     True   \n",
       "103        91277.0    False   \n",
       "104        26544.0    False   \n",
       "105        52596.0    False   \n",
       "106        47503.0    False   \n",
       "107        89056.0    False   \n",
       "108        28834.0    False   \n",
       "109       110564.0    False   \n",
       "110        56638.0    False   \n",
       "111        17357.0    False   \n",
       "112        74015.0    False   \n",
       "113        15196.0    False   \n",
       "114            NaN     True   \n",
       "115        10821.0    False   \n",
       "116            NaN     True   \n",
       "117            NaN     True   \n",
       "118         9595.0    False   \n",
       "119        99052.0    False   \n",
       "120        52389.0    False   \n",
       "121       119945.0    False   \n",
       "122        96005.0    False   \n",
       "123        31639.0    False   \n",
       "124            NaN     True   \n",
       "125        80187.0    False   \n",
       "126            NaN     True   \n",
       "127        58212.0    False   \n",
       "128        61672.0    False   \n",
       "129        32017.0    False   \n",
       "130            NaN     True   \n",
       "131        56944.0    False   \n",
       "132            NaN     True   \n",
       "133        86519.0    False   \n",
       "134         4821.0    False   \n",
       "135       101025.0    False   \n",
       "136        30705.0    False   \n",
       "137            NaN     True   \n",
       "138        32555.0    False   \n",
       "139       103389.0    False   \n",
       "140            NaN     True   \n",
       "141        55289.0    False   \n",
       "142            NaN     True   \n",
       "143            NaN     True   \n",
       "144       115930.0    False   \n",
       "145        66437.0    False   \n",
       "146        96800.0    False   \n",
       "147        14237.0    False   \n",
       "148        19896.0    False   \n",
       "149       113045.0    False   \n",
       "150       114942.0    False   \n",
       "151         3173.0    False   \n",
       "152        83611.0    False   \n",
       "153        25356.0    False   \n",
       "154        88634.0    False   \n",
       "155         2314.0    False   \n",
       "156         2627.0    False   \n",
       "157        52034.0    False   \n",
       "158            NaN     True   \n",
       "159            NaN     True   \n",
       "160        79577.0    False   \n",
       "161       108201.0    False   \n",
       "162        76453.0    False   \n",
       "163        57683.0    False   \n",
       "164        96610.0    False   \n",
       "165       109001.0    False   \n",
       "166        26212.0    False   \n",
       "167        45971.0    False   \n",
       "168        49182.0    False   \n",
       "169        49907.0    False   \n",
       "170        38620.0    False   \n",
       "171        60996.0    False   \n",
       "172        73914.0    False   \n",
       "173       107392.0    False   \n",
       "174         9146.0    False   \n",
       "175            NaN     True   \n",
       "176        17924.0    False   \n",
       "177            NaN     True   \n",
       "178       116949.0    False   \n",
       "179        20476.0    False   \n",
       "180        52804.0    False   \n",
       "181         8849.0    False   \n",
       "182        91724.0    False   \n",
       "183        32056.0    False   \n",
       "184        74886.0    False   \n",
       "185            NaN     True   \n",
       "186            NaN     True   \n",
       "187        52189.0    False   \n",
       "188        83559.0    False   \n",
       "189            NaN     True   \n",
       "190        20328.0    False   \n",
       "191            NaN     True   \n",
       "192        75577.0    False   \n",
       "193        33659.0    False   \n",
       "194       104341.0    False   \n",
       "195        25510.0    False   \n",
       "196        18965.0    False   \n",
       "197        87161.0    False   \n",
       "198         6652.0    False   \n",
       "199        55738.0    False   \n",
       "200            NaN     True   \n",
       "201            NaN     True   \n",
       "202            NaN     True   \n",
       "203        64320.0    False   \n",
       "204            NaN     True   \n",
       "205        68678.0    False   \n",
       "206        71697.0    False   \n",
       "207            NaN     True   \n",
       "208        34783.0    False   \n",
       "209        33772.0    False   \n",
       "210        85127.0    False   \n",
       "211        13606.0    False   \n",
       "212        35647.0    False   \n",
       "213        95128.0    False   \n",
       "214        14046.0    False   \n",
       "215        41194.0    False   \n",
       "216            NaN     True   \n",
       "217        96100.0    False   \n",
       "218       103900.0    False   \n",
       "219        43814.0    False   \n",
       "220        24638.0    False   \n",
       "221            NaN     True   \n",
       "222       110966.0    False   \n",
       "223        15987.0    False   \n",
       "224        53369.0    False   \n",
       "225        10077.0    False   \n",
       "226        71544.0    False   \n",
       "227          107.0    False   \n",
       "228         8394.0    False   \n",
       "229        41498.0    False   \n",
       "230       116002.0    False   \n",
       "231       100858.0    False   \n",
       "232        67475.0    False   \n",
       "233         8497.0    False   \n",
       "234         4420.0    False   \n",
       "235            NaN     True   \n",
       "236        58537.0    False   \n",
       "237            NaN     True   \n",
       "238            NaN     True   \n",
       "239       112016.0    False   \n",
       "240        91840.0    False   \n",
       "241       112787.0    False   \n",
       "242            NaN     True   \n",
       "243            NaN     True   \n",
       "244         9293.0    False   \n",
       "245            NaN     True   \n",
       "246        55083.0    False   \n",
       "247        48796.0    False   \n",
       "248            NaN     True   \n",
       "249        89685.0    False   \n",
       "250        85384.0    False   \n",
       "251        98108.0    False   \n",
       "252        71280.0    False   \n",
       "253        27505.0    False   \n",
       "254        29981.0    False   \n",
       "255        52637.0    False   \n",
       "256         7685.0    False   \n",
       "257        50188.0    False   \n",
       "\n",
       "                                            Acessórios      Valor  \n",
       "0    ['Rodas de liga', 'Travas elétricas', 'Piloto ...   88078.64  \n",
       "1    ['Central multimídia', 'Teto panorâmico', 'Fre...  106161.94  \n",
       "2    ['Piloto automático', 'Controle de estabilidad...   72832.16  \n",
       "3    ['Travas elétricas', '4 X 4', 'Vidros elétrico...  124549.07  \n",
       "4    ['Rodas de liga', '4 X 4', 'Central multimídia...   92612.10  \n",
       "5    ['Sensor de estacionamento', 'Teto panorâmico'...   97497.73  \n",
       "6    ['Câmbio automático', 'Câmera de estacionament...   56445.20  \n",
       "7    ['Controle de estabilidade', 'Sensor crepuscul...  112310.44  \n",
       "8    ['Vidros elétricos', 'Piloto automático', 'Tet...  120716.27  \n",
       "9    ['Ar condicionado', 'Painel digital', 'Central...   76566.49  \n",
       "10   ['Sensor crepuscular', 'Rodas de liga', 'Teto ...   71647.59  \n",
       "11   ['Central multimídia', '4 X 4', 'Piloto automá...   73919.53  \n",
       "12   ['Bancos de couro', 'Sensor de chuva', 'Rodas ...  112732.99  \n",
       "13   ['Sensor crepuscular', 'Painel digital', 'Roda...   53183.38  \n",
       "14   ['Piloto automático', 'Sensor crepuscular', 'S...  127488.42  \n",
       "15   ['Sensor crepuscular', 'Câmbio automático', 'S...   59910.40  \n",
       "16   ['Teto panorâmico', 'Câmera de estacionamento'...   61118.59  \n",
       "17   ['4 X 4', 'Piloto automático', 'Central multim...   88552.39  \n",
       "18   ['Travas elétricas', 'Vidros elétricos', 'Teto...   62696.69  \n",
       "19   ['4 X 4', 'Piloto automático', 'Central multim...  101726.30  \n",
       "20   ['Sensor de estacionamento', 'Piloto automátic...  106147.38  \n",
       "21   ['Controle de estabilidade', 'Central multimíd...   94564.40  \n",
       "22   ['Rodas de liga', 'Câmbio automático', 'Travas...  133529.84  \n",
       "23   ['Controle de estabilidade', 'Painel digital',...  125684.65  \n",
       "24   ['Freios ABS', 'Câmbio automático', 'Ar condic...  121596.21  \n",
       "25   ['Sensor de estacionamento', 'Vidros elétricos...   71367.10  \n",
       "26   ['Ar condicionado', 'Bancos de couro', 'Câmbio...   95347.75  \n",
       "27   ['Freios ABS', 'Ar condicionado', 'Teto panorâ...  105432.84  \n",
       "28   ['Câmbio automático', 'Sensor de estacionament...   57045.27  \n",
       "29   ['Câmera de estacionamento', 'Sensor de estaci...  120432.70  \n",
       "30   ['Sensor de estacionamento', 'Controle de esta...   70707.20  \n",
       "31   ['Sensor crepuscular', '4 X 4', 'Vidros elétri...   69105.18  \n",
       "32   ['Piloto automático', 'Painel digital', 'Vidro...   59358.69  \n",
       "33   ['Controle de tração', 'Sensor crepuscular', '...   65955.40  \n",
       "34   ['Teto panorâmico', 'Sensor de estacionamento'...   60017.03  \n",
       "35   ['Teto panorâmico', 'Piloto automático', 'Ar c...  118909.52  \n",
       "36   ['Controle de tração', 'Bancos de couro', 'Câm...   51606.59  \n",
       "37   ['Sensor de chuva', 'Sensor crepuscular', 'Ar ...  123281.87  \n",
       "38   ['Rodas de liga', 'Ar condicionado', 'Câmera d...   69770.18  \n",
       "39   ['Teto panorâmico', 'Freios ABS', '4 X 4', 'Ar...  102609.54  \n",
       "40   ['Vidros elétricos', 'Sensor crepuscular', 'Fr...   67997.19  \n",
       "41   ['Sensor de chuva', 'Travas elétricas', 'Contr...  135235.29  \n",
       "42   ['Central multimídia', 'Ar condicionado', 'Tet...   86641.34  \n",
       "43   ['Câmera de estacionamento', 'Vidros elétricos...  136818.39  \n",
       "44   ['4 X 4', 'Vidros elétricos', 'Rodas de liga',...  117626.73  \n",
       "45   ['Piloto automático', 'Ar condicionado', 'Vidr...   56208.70  \n",
       "46   ['Teto panorâmico', 'Painel digital', 'Ar cond...   84222.65  \n",
       "47   ['Controle de tração', 'Piloto automático', 'A...   90781.65  \n",
       "48   ['Câmbio automático', 'Central multimídia', 'V...   64701.10  \n",
       "49   ['Vidros elétricos', 'Piloto automático', 'Pai...  126350.49  \n",
       "50   ['Bancos de couro', 'Ar condicionado', 'Rodas ...  148152.89  \n",
       "51   ['Freios ABS', 'Sensor de estacionamento', 'Ce...  132298.83  \n",
       "52   ['Travas elétricas', 'Câmbio automático', 'Câm...  137627.63  \n",
       "53   ['Câmbio automático', 'Câmera de estacionament...   80422.71  \n",
       "54   ['Controle de estabilidade', 'Bancos de couro'...   56373.99  \n",
       "55   ['Painel digital', 'Câmbio automático', 'Câmer...   70846.03  \n",
       "56   ['Sensor crepuscular', 'Piloto automático', 'T...  128694.23  \n",
       "57   ['Central multimídia', 'Sensor de chuva', 'Con...  133329.19  \n",
       "58   ['Sensor de estacionamento', 'Ar condicionado'...  131961.43  \n",
       "59   ['Sensor de estacionamento', 'Central multimíd...  112033.27  \n",
       "60   ['Sensor de chuva', 'Câmera de estacionamento'...   81399.35  \n",
       "61   ['Câmera de estacionamento', 'Freios ABS', 'Pi...   97163.10  \n",
       "62   ['Sensor de estacionamento', 'Travas elétricas...   66007.16  \n",
       "63   ['Vidros elétricos', 'Teto panorâmico', 'Banco...  128776.22  \n",
       "64   ['Bancos de couro', 'Câmera de estacionamento'...  142623.02  \n",
       "65   ['Teto panorâmico', 'Vidros elétricos', 'Senso...  136930.13  \n",
       "66   ['Controle de estabilidade', 'Piloto automátic...   66526.61  \n",
       "67   ['Central multimídia', 'Bancos de couro', 'Rod...  114154.87  \n",
       "68   ['Vidros elétricos', 'Câmbio automático', 'Con...  142392.75  \n",
       "69   ['Bancos de couro', 'Câmbio automático', 'Pilo...  146716.91  \n",
       "70   ['Sensor de chuva', 'Bancos de couro', 'Contro...  122485.68  \n",
       "71   ['Sensor crepuscular', 'Travas elétricas', 'Te...   97951.03  \n",
       "72   ['Câmera de estacionamento', 'Teto panorâmico'...   78283.49  \n",
       "73   ['Rodas de liga', 'Controle de tração', 'Centr...   83434.04  \n",
       "74   ['Freios ABS', 'Câmera de estacionamento', 'Câ...   77836.23  \n",
       "75   ['Painel digital', 'Teto panorâmico', 'Piloto ...   60813.92  \n",
       "76   ['Controle de estabilidade', 'Câmbio automátic...   91353.86  \n",
       "77   ['Teto panorâmico', 'Rodas de liga', 'Travas e...  116281.21  \n",
       "78   ['Painel digital', 'Central multimídia', 'Câme...  145197.70  \n",
       "79   ['Sensor crepuscular', 'Câmera de estacionamen...   50742.10  \n",
       "80   ['Sensor de chuva', 'Painel digital', 'Sensor ...   73033.53  \n",
       "81   ['Bancos de couro', 'Piloto automático', 'Sens...   54332.87  \n",
       "82   ['Ar condicionado', 'Câmbio automático', 'Sens...   52207.45  \n",
       "83   ['Central multimídia', 'Vidros elétricos', 'Se...   63578.50  \n",
       "84   ['4 X 4', 'Piloto automático', 'Teto panorâmic...   64507.72  \n",
       "85   ['Bancos de couro', 'Painel digital', 'Sensor ...  115075.59  \n",
       "86   ['4 X 4', 'Piloto automático', 'Sensor crepusc...  133030.60  \n",
       "87   ['Central multimídia', 'Piloto automático', 'S...  141591.86  \n",
       "88   ['Controle de tração', 'Câmbio automático', 'F...  100380.28  \n",
       "89   ['Câmera de estacionamento', '4 X 4', 'Travas ...   96369.04  \n",
       "90   ['Sensor de chuva', 'Teto panorâmico', 'Centra...  142603.84  \n",
       "91   ['Controle de estabilidade', 'Travas elétricas...  117709.67  \n",
       "92   ['Câmera de estacionamento', '4 X 4', 'Central...  102241.54  \n",
       "93   ['Freios ABS', 'Teto panorâmico', 'Vidros elét...   96065.38  \n",
       "94   ['Travas elétricas', 'Sensor de chuva', 'Freio...   53894.61  \n",
       "95   ['Controle de tração', 'Piloto automático', 'T...  123911.78  \n",
       "96   ['Piloto automático', 'Câmbio automático', 'Tr...  101996.35  \n",
       "97   ['Teto panorâmico', 'Travas elétricas', 'Senso...   83431.66  \n",
       "98   ['Vidros elétricos', 'Sensor crepuscular', 'Co...  122975.63  \n",
       "99   ['Controle de estabilidade', 'Vidros elétricos...   93227.73  \n",
       "100  ['Rodas de liga', 'Bancos de couro', 'Painel d...   58762.65  \n",
       "101  ['Central multimídia', 'Piloto automático', 'T...  139549.67  \n",
       "102  ['Painel digital', 'Teto panorâmico', 'Piloto ...  122016.42  \n",
       "103  ['Vidros elétricos', 'Travas elétricas', 'Cont...   72731.98  \n",
       "104  ['Freios ABS', 'Controle de tração', 'Sensor c...   88416.54  \n",
       "105  ['Painel digital', 'Vidros elétricos', 'Teto p...   73873.42  \n",
       "106  ['Ar condicionado', 'Painel digital', 'Control...   70709.34  \n",
       "107  ['Câmbio automático', 'Rodas de liga', 'Sensor...  115306.50  \n",
       "108  ['Controle de tração', 'Controle de estabilida...   55924.63  \n",
       "109  ['Bancos de couro', 'Freios ABS', 'Central mul...   85052.26  \n",
       "110  ['Sensor crepuscular', 'Teto panorâmico', 'Sen...   56646.34  \n",
       "111  ['Teto panorâmico', '4 X 4', 'Bancos de couro'...  138946.88  \n",
       "112  ['Piloto automático', 'Sensor de estacionament...  108256.72  \n",
       "113  ['Controle de estabilidade', '4 X 4', 'Câmera ...   58979.30  \n",
       "114  ['Controle de estabilidade', 'Bancos de couro'...  114727.68  \n",
       "115  ['Teto panorâmico', 'Controle de tração', 'Pai...  139661.48  \n",
       "116  ['Central multimídia', 'Câmbio automático', 'T...   80382.24  \n",
       "117  ['Vidros elétricos', 'Piloto automático', 'Tet...  149157.17  \n",
       "118  ['Sensor crepuscular', 'Piloto automático', 'C...   87830.41  \n",
       "119  ['4 X 4', 'Central multimídia', 'Ar condiciona...  143568.22  \n",
       "120  ['Central multimídia', 'Piloto automático', 'F...  138171.85  \n",
       "121  ['Freios ABS', 'Rodas de liga', 'Sensor de chu...  115784.95  \n",
       "122  ['Ar condicionado', 'Central multimídia', 'Ban...  146508.99  \n",
       "123  ['Freios ABS', 'Sensor de chuva', 'Central mul...  137670.23  \n",
       "124  ['Travas elétricas', 'Rodas de liga', 'Sensor ...  138597.27  \n",
       "125  ['Rodas de liga', 'Sensor de chuva', 'Painel d...  147627.81  \n",
       "126  ['Rodas de liga', 'Câmbio automático', 'Sensor...   62999.02  \n",
       "127  ['Vidros elétricos', 'Teto panorâmico', 'Paine...   91242.44  \n",
       "128  ['Ar condicionado', 'Sensor crepuscular', 'Rod...  149489.92  \n",
       "129  ['Painel digital', 'Piloto automático', 'Contr...   63529.95  \n",
       "130  ['Central multimídia', 'Câmbio automático', '4...   58525.41  \n",
       "131  ['4 X 4', 'Teto panorâmico', 'Controle de traç...   90345.05  \n",
       "132  ['Painel digital', 'Ar condicionado', 'Sensor ...  147770.87  \n",
       "133  ['Painel digital', 'Bancos de couro', 'Sensor ...  106617.71  \n",
       "134  ['Ar condicionado', 'Vidros elétricos', '4 X 4...  104929.88  \n",
       "135  ['Controle de estabilidade', 'Painel digital',...  100712.45  \n",
       "136  ['Sensor de estacionamento', 'Rodas de liga', ...  141982.93  \n",
       "137  ['4 X 4', 'Sensor de estacionamento', 'Câmbio ...  104038.79  \n",
       "138  ['Piloto automático', 'Sensor crepuscular', 'T...   88501.54  \n",
       "139  ['Ar condicionado', 'Rodas de liga', 'Câmbio a...   79782.02  \n",
       "140  ['Câmbio automático', 'Controle de estabilidad...   86224.10  \n",
       "141  ['Câmera de estacionamento', 'Travas elétricas...  103596.18  \n",
       "142  ['Ar condicionado', 'Sensor de estacionamento'...  148996.47  \n",
       "143  ['Piloto automático', 'Freios ABS', 'Painel di...   60948.01  \n",
       "144  ['Freios ABS', 'Rodas de liga', 'Piloto automá...   69535.44  \n",
       "145  ['4 X 4', 'Câmbio automático', 'Freios ABS', '...  111130.33  \n",
       "146  ['Controle de estabilidade', 'Central multimíd...   65847.69  \n",
       "147  ['Travas elétricas', 'Painel digital', 'Câmera...   78096.06  \n",
       "148  ['Bancos de couro', 'Sensor de chuva', 'Ar con...   69219.89  \n",
       "149  ['Freios ABS', 'Teto panorâmico', 'Central mul...  144118.91  \n",
       "150  ['4 X 4', 'Câmera de estacionamento', 'Sensor ...   77397.05  \n",
       "151  ['Câmbio automático', 'Travas elétricas', 'Sen...   68974.25  \n",
       "152  ['Controle de estabilidade', 'Sensor de estaci...  125231.30  \n",
       "153  ['Sensor crepuscular', 'Piloto automático', 'S...   85501.12  \n",
       "154  ['Teto panorâmico', 'Controle de estabilidade'...  137116.21  \n",
       "155  ['Piloto automático', 'Sensor crepuscular', 'A...  138823.81  \n",
       "156  ['Central multimídia', 'Painel digital', 'Sens...  117961.95  \n",
       "157  ['Ar condicionado', 'Sensor de estacionamento'...  132662.32  \n",
       "158  ['Câmera de estacionamento', 'Bancos de couro'...  146405.79  \n",
       "159  ['Vidros elétricos', 'Ar condicionado', 'Paine...   81999.21  \n",
       "160  ['Central multimídia', 'Vidros elétricos', 'Câ...  140934.60  \n",
       "161  ['Central multimídia', 'Controle de tração', '...   82366.81  \n",
       "162  ['4 X 4', 'Freios ABS', 'Sensor de chuva', 'Ro...   70424.11  \n",
       "163  ['Travas elétricas', 'Rodas de liga', '4 X 4',...   53620.31  \n",
       "164  ['Freios ABS', 'Câmera de estacionamento', 'Tr...   73389.18  \n",
       "165  ['Rodas de liga', 'Teto panorâmico', 'Sensor d...  111618.12  \n",
       "166  ['Painel digital', 'Travas elétricas', 'Rodas ...  112187.37  \n",
       "167  ['Central multimídia', 'Câmbio automático', 'P...  120812.57  \n",
       "168  ['Rodas de liga', 'Travas elétricas', 'Bancos ...  116031.04  \n",
       "169  ['Sensor crepuscular', 'Teto panorâmico', 'Câm...  125398.11  \n",
       "170  ['Piloto automático', 'Ar condicionado', 'Cent...   76101.47  \n",
       "171  ['Bancos de couro', 'Painel digital', 'Câmbio ...   75263.24  \n",
       "172  ['Teto panorâmico', 'Sensor crepuscular', 'Ban...  147387.76  \n",
       "173  ['Ar condicionado', 'Sensor de estacionamento'...   85311.40  \n",
       "174  ['Piloto automático', 'Freios ABS', 'Sensor de...   54388.11  \n",
       "175  ['4 X 4', 'Sensor de estacionamento', 'Control...  124156.65  \n",
       "176  ['Rodas de liga', 'Controle de tração', 'Senso...  146203.34  \n",
       "177  ['Teto panorâmico', 'Sensor crepuscular', 'Sen...   56453.94  \n",
       "178  ['Teto panorâmico', 'Câmera de estacionamento'...   68873.79  \n",
       "179  ['Painel digital', 'Controle de estabilidade',...   91667.61  \n",
       "180  ['Sensor crepuscular', 'Controle de estabilida...   93776.52  \n",
       "181  ['Ar condicionado', 'Vidros elétricos', 'Senso...   66433.82  \n",
       "182  ['Central multimídia', 'Controle de estabilida...  109059.27  \n",
       "183  ['Piloto automático', 'Rodas de liga', '4 X 4'...  122069.97  \n",
       "184  ['Painel digital', 'Freios ABS', 'Ar condicion...  113090.32  \n",
       "185  ['Controle de tração', 'Teto panorâmico', 'Câm...   89401.10  \n",
       "186  ['Sensor de chuva', 'Câmera de estacionamento'...   56842.79  \n",
       "187  ['Travas elétricas', 'Painel digital', 'Sensor...  146676.71  \n",
       "188  ['Controle de tração', 'Central multimídia', '...   89511.96  \n",
       "189  ['Travas elétricas', 'Controle de tração', 'Câ...   97290.18  \n",
       "190  ['Bancos de couro', 'Controle de tração', 'Ar ...  120673.56  \n",
       "191  ['Freios ABS', 'Controle de tração', 'Central ...  114434.94  \n",
       "192  ['Freios ABS', 'Sensor crepuscular', 'Controle...  139546.69  \n",
       "193  ['Teto panorâmico', 'Central multimídia', 'Pil...   95078.16  \n",
       "194  ['Sensor crepuscular', 'Teto panorâmico', 'Pai...   68091.77  \n",
       "195  ['Controle de tração', 'Câmbio automático', '4...   61496.97  \n",
       "196  ['Vidros elétricos', 'Piloto automático', 'Câm...  139669.30  \n",
       "197  ['Controle de estabilidade', 'Teto panorâmico'...   80661.39  \n",
       "198  ['Sensor crepuscular', '4 X 4', 'Painel digita...   61783.65  \n",
       "199  ['Teto panorâmico', 'Freios ABS', 'Sensor crep...   52805.91  \n",
       "200  ['Sensor crepuscular', 'Câmera de estacionamen...  127024.75  \n",
       "201  ['4 X 4', 'Bancos de couro', 'Sensor crepuscul...  135543.00  \n",
       "202  ['Sensor de estacionamento', 'Piloto automátic...  121708.73  \n",
       "203  ['Piloto automático', 'Ar condicionado', 'Cent...  107342.68  \n",
       "204  ['Bancos de couro', 'Central multimídia', 'Fre...   57888.10  \n",
       "205  ['Freios ABS', 'Vidros elétricos', 'Câmbio aut...  118161.48  \n",
       "206  ['Controle de tração', 'Piloto automático', 'C...  142499.06  \n",
       "207  ['Bancos de couro', 'Central multimídia', 'Con...  128396.11  \n",
       "208  ['Piloto automático', 'Teto panorâmico', 'Câmb...  112350.61  \n",
       "209  ['Controle de tração', 'Travas elétricas', '4 ...  124661.38  \n",
       "210  ['Controle de tração', 'Ar condicionado', 'Tra...   54263.16  \n",
       "211  ['Controle de tração', 'Piloto automático', 'T...   62041.32  \n",
       "212  ['Central multimídia', 'Rodas de liga', 'Câmbi...  129296.11  \n",
       "213  ['Piloto automático', 'Sensor de chuva', 'Cont...   60998.33  \n",
       "214  ['Controle de tração', 'Central multimídia', '...   58008.50  \n",
       "215  ['Bancos de couro', 'Câmera de estacionamento'...   82304.19  \n",
       "216  ['Central multimídia', 'Controle de tração', '...  114531.74  \n",
       "217  ['4 X 4', 'Controle de estabilidade', 'Câmera ...  128565.61  \n",
       "218  ['Central multimídia', 'Controle de estabilida...  126488.26  \n",
       "219  ['Travas elétricas', 'Central multimídia', 'Pa...  119074.55  \n",
       "220  ['Câmbio automático', 'Teto panorâmico', 'Sens...  130238.04  \n",
       "221  ['Piloto automático', 'Teto panorâmico', 'Sens...  115760.17  \n",
       "222  ['Sensor de chuva', 'Central multimídia', 'Vid...  121248.00  \n",
       "223  ['Sensor crepuscular', 'Travas elétricas', 'Pi...   98156.35  \n",
       "224  ['Travas elétricas', 'Piloto automático', 'Vid...  112146.80  \n",
       "225  ['Teto panorâmico', '4 X 4', 'Central multimíd...  102729.63  \n",
       "226  ['Controle de tração', 'Sensor de estacionamen...  141083.35  \n",
       "227  ['4 X 4', 'Teto panorâmico', 'Ar condicionado'...  102968.76  \n",
       "228  ['Sensor de chuva', 'Câmera de estacionamento'...   76310.01  \n",
       "229  ['Sensor de estacionamento', 'Câmera de estaci...  120481.74  \n",
       "230  ['Controle de estabilidade', 'Ar condicionado'...   54559.18  \n",
       "231  ['Controle de estabilidade', 'Câmera de estaci...   92957.64  \n",
       "232  ['Sensor de chuva', 'Sensor de estacionamento'...  127810.06  \n",
       "233  ['Sensor de chuva', 'Vidros elétricos', 'Contr...   73311.75  \n",
       "234  ['Vidros elétricos', 'Bancos de couro', 'Pilot...   65138.03  \n",
       "235  ['Ar condicionado', 'Sensor de chuva', 'Travas...   90141.47  \n",
       "236  ['Central multimídia', 'Bancos de couro', 'Câm...   71160.36  \n",
       "237  ['Vidros elétricos', 'Travas elétricas', 'Roda...   67539.79  \n",
       "238  ['Controle de tração', 'Ar condicionado', 'Cen...   67664.86  \n",
       "239  ['Controle de tração', 'Teto panorâmico', 'Vid...   68652.16  \n",
       "240  ['Rodas de liga', 'Sensor crepuscular', 'Ar co...  114728.74  \n",
       "241  ['Sensor crepuscular', 'Controle de tração', '...  141645.08  \n",
       "242  ['Sensor crepuscular', 'Câmbio automático', 'C...  126247.84  \n",
       "243  ['Central multimídia', 'Sensor crepuscular', '...  128852.21  \n",
       "244  ['Sensor de chuva', 'Vidros elétricos', 'Paine...  132384.76  \n",
       "245  ['Travas elétricas', 'Ar condicionado', '4 X 4...  129415.33  \n",
       "246  ['Painel digital', 'Câmbio automático', 'Vidro...   89536.82  \n",
       "247  ['Sensor de estacionamento', 'Câmera de estaci...   87975.30  \n",
       "248  ['Painel digital', 'Piloto automático', 'Centr...   77675.79  \n",
       "249  ['Rodas de liga', 'Freios ABS', 'Controle de t...   58881.67  \n",
       "250  ['Sensor crepuscular', 'Freios ABS', 'Ar condi...   55081.99  \n",
       "251  ['Sensor de chuva', 'Sensor de estacionamento'...  118826.44  \n",
       "252  ['Sensor de chuva', 'Vidros elétricos', 'Senso...  137627.62  \n",
       "253  ['Controle de estabilidade', 'Piloto automátic...   51759.58  \n",
       "254  ['Bancos de couro', 'Painel digital', 'Sensor ...   51667.06  \n",
       "255  ['Rodas de liga', 'Controle de tração', 'Câmbi...   68934.03  \n",
       "256  ['Ar condicionado', '4 X 4', 'Câmbio automátic...  122110.90  \n",
       "257  ['Central multimídia', 'Teto panorâmico', 'Vid...   90381.47  "
      ]
     },
     "execution_count": 19,
     "metadata": {},
     "output_type": "execute_result"
    }
   ],
   "source": [
    "dataset"
   ]
  },
  {
   "cell_type": "code",
   "execution_count": 20,
   "metadata": {
    "colab": {},
    "colab_type": "code",
    "id": "5D739PzJD0_B"
   },
   "outputs": [
    {
     "data": {
      "text/plain": [
       "Nome              object\n",
       "Motor             object\n",
       "Ano                int64\n",
       "Quilometragem    float64\n",
       "Zero_km             bool\n",
       "Acessórios        object\n",
       "Valor            float64\n",
       "dtype: object"
      ]
     },
     "execution_count": 20,
     "metadata": {},
     "output_type": "execute_result"
    }
   ],
   "source": [
    "dataset.dtypes"
   ]
  },
  {
   "cell_type": "code",
   "execution_count": 22,
   "metadata": {
    "colab": {},
    "colab_type": "code",
    "id": "r_qUf16LD0_D"
   },
   "outputs": [
    {
     "data": {
      "text/html": [
       "<div>\n",
       "<style scoped>\n",
       "    .dataframe tbody tr th:only-of-type {\n",
       "        vertical-align: middle;\n",
       "    }\n",
       "\n",
       "    .dataframe tbody tr th {\n",
       "        vertical-align: top;\n",
       "    }\n",
       "\n",
       "    .dataframe thead th {\n",
       "        text-align: right;\n",
       "    }\n",
       "</style>\n",
       "<table border=\"1\" class=\"dataframe\">\n",
       "  <thead>\n",
       "    <tr style=\"text-align: right;\">\n",
       "      <th></th>\n",
       "      <th>Quilometragem</th>\n",
       "      <th>Valor</th>\n",
       "    </tr>\n",
       "  </thead>\n",
       "  <tbody>\n",
       "    <tr>\n",
       "      <th>count</th>\n",
       "      <td>197.000000</td>\n",
       "      <td>258.000000</td>\n",
       "    </tr>\n",
       "    <tr>\n",
       "      <th>mean</th>\n",
       "      <td>58278.421320</td>\n",
       "      <td>98960.513101</td>\n",
       "    </tr>\n",
       "    <tr>\n",
       "      <th>std</th>\n",
       "      <td>35836.733259</td>\n",
       "      <td>29811.932305</td>\n",
       "    </tr>\n",
       "    <tr>\n",
       "      <th>min</th>\n",
       "      <td>107.000000</td>\n",
       "      <td>50742.100000</td>\n",
       "    </tr>\n",
       "    <tr>\n",
       "      <th>25%</th>\n",
       "      <td>27505.000000</td>\n",
       "      <td>70743.512500</td>\n",
       "    </tr>\n",
       "    <tr>\n",
       "      <th>50%</th>\n",
       "      <td>55083.000000</td>\n",
       "      <td>97724.380000</td>\n",
       "    </tr>\n",
       "    <tr>\n",
       "      <th>75%</th>\n",
       "      <td>90495.000000</td>\n",
       "      <td>124633.302500</td>\n",
       "    </tr>\n",
       "    <tr>\n",
       "      <th>max</th>\n",
       "      <td>119945.000000</td>\n",
       "      <td>149489.920000</td>\n",
       "    </tr>\n",
       "  </tbody>\n",
       "</table>\n",
       "</div>"
      ],
      "text/plain": [
       "       Quilometragem          Valor\n",
       "count     197.000000     258.000000\n",
       "mean    58278.421320   98960.513101\n",
       "std     35836.733259   29811.932305\n",
       "min       107.000000   50742.100000\n",
       "25%     27505.000000   70743.512500\n",
       "50%     55083.000000   97724.380000\n",
       "75%     90495.000000  124633.302500\n",
       "max    119945.000000  149489.920000"
      ]
     },
     "execution_count": 22,
     "metadata": {},
     "output_type": "execute_result"
    }
   ],
   "source": [
    "dataset[['Quilometragem', 'Valor']].describe()"
   ]
  },
  {
   "cell_type": "code",
   "execution_count": 23,
   "metadata": {
    "colab": {},
    "colab_type": "code",
    "id": "0R-_7PH5D0_E"
   },
   "outputs": [
    {
     "name": "stdout",
     "output_type": "stream",
     "text": [
      "<class 'pandas.core.frame.DataFrame'>\n",
      "RangeIndex: 258 entries, 0 to 257\n",
      "Data columns (total 7 columns):\n",
      " #   Column         Non-Null Count  Dtype  \n",
      "---  ------         --------------  -----  \n",
      " 0   Nome           258 non-null    object \n",
      " 1   Motor          258 non-null    object \n",
      " 2   Ano            258 non-null    int64  \n",
      " 3   Quilometragem  197 non-null    float64\n",
      " 4   Zero_km        258 non-null    bool   \n",
      " 5   Acessórios     258 non-null    object \n",
      " 6   Valor          258 non-null    float64\n",
      "dtypes: bool(1), float64(2), int64(1), object(3)\n",
      "memory usage: 12.5+ KB\n"
     ]
    }
   ],
   "source": [
    "dataset.info()"
   ]
  },
  {
   "cell_type": "markdown",
   "metadata": {
    "colab_type": "text",
    "id": "htjoBLwiD0_F"
   },
   "source": [
    "# <font color=green> 2. TRABALHANDO COM TUPLAS\n",
    "---"
   ]
  },
  {
   "cell_type": "markdown",
   "metadata": {
    "colab_type": "text",
    "id": "MZH5_QnYD0_G"
   },
   "source": [
    "# 2.1 Criando tuplas\n",
    "\n",
    "Tuplas são sequências imutáveis que são utilizadas para armazenar coleções de itens, geralmente heterogêneos. Podem ser construídas de várias formas:\n",
    "```\n",
    "- Utilizando um par de parênteses: ( )\n",
    "- Utilizando uma vírgula à direita: x,\n",
    "- Utilizando um par de parênteses com itens separados por vírgulas: ( x, y, z )\n",
    "- Utilizando: tuple() ou tuple(iterador)\n",
    "```"
   ]
  },
  {
   "cell_type": "code",
   "execution_count": 24,
   "metadata": {
    "colab": {},
    "colab_type": "code",
    "id": "xzcs9fzeD0_G"
   },
   "outputs": [
    {
     "data": {
      "text/plain": [
       "()"
      ]
     },
     "execution_count": 24,
     "metadata": {},
     "output_type": "execute_result"
    }
   ],
   "source": [
    "()"
   ]
  },
  {
   "cell_type": "code",
   "execution_count": 25,
   "metadata": {
    "colab": {},
    "colab_type": "code",
    "id": "qJq7a2qTD0_I"
   },
   "outputs": [
    {
     "data": {
      "text/plain": [
       "(1, 2, 3)"
      ]
     },
     "execution_count": 25,
     "metadata": {},
     "output_type": "execute_result"
    }
   ],
   "source": [
    "1, 2, 3"
   ]
  },
  {
   "cell_type": "code",
   "execution_count": 26,
   "metadata": {
    "colab": {},
    "colab_type": "code",
    "id": "sg7LdvptD0_J"
   },
   "outputs": [
    {
     "data": {
      "text/plain": [
       "('Passat', 153000)"
      ]
     },
     "execution_count": 26,
     "metadata": {},
     "output_type": "execute_result"
    }
   ],
   "source": [
    "nome = 'Passat'\n",
    "valor = 153000\n",
    "(nome, valor)"
   ]
  },
  {
   "cell_type": "code",
   "execution_count": 27,
   "metadata": {
    "colab": {},
    "colab_type": "code",
    "id": "XSSMebXjD0_K"
   },
   "outputs": [
    {
     "data": {
      "text/plain": [
       "('Jetta Variant', 'Passat', 'Crossfox', 'DS5')"
      ]
     },
     "execution_count": 27,
     "metadata": {},
     "output_type": "execute_result"
    }
   ],
   "source": [
    "nomes_carros = tuple(['Jetta Variant', 'Passat', 'Crossfox', 'DS5'])\n",
    "nomes_carros"
   ]
  },
  {
   "cell_type": "code",
   "execution_count": 29,
   "metadata": {
    "colab": {},
    "colab_type": "code",
    "id": "dpkdzrzRD0_M"
   },
   "outputs": [
    {
     "data": {
      "text/plain": [
       "tuple"
      ]
     },
     "execution_count": 29,
     "metadata": {},
     "output_type": "execute_result"
    }
   ],
   "source": [
    "type(nomes_carros)"
   ]
  },
  {
   "cell_type": "markdown",
   "metadata": {
    "colab_type": "text",
    "id": "iKUY2DOUD0_N"
   },
   "source": [
    "# 2.2 Seleções em tuplas"
   ]
  },
  {
   "cell_type": "code",
   "execution_count": 30,
   "metadata": {
    "colab": {},
    "colab_type": "code",
    "id": "hBEeAM7_D0_N"
   },
   "outputs": [
    {
     "data": {
      "text/plain": [
       "('Jetta Variant', 'Passat', 'Crossfox', 'DS5')"
      ]
     },
     "execution_count": 30,
     "metadata": {},
     "output_type": "execute_result"
    }
   ],
   "source": [
    "nomes_carros = tuple(['Jetta Variant', 'Passat', 'Crossfox', 'DS5'])\n",
    "nomes_carros"
   ]
  },
  {
   "cell_type": "code",
   "execution_count": 31,
   "metadata": {},
   "outputs": [
    {
     "data": {
      "text/plain": [
       "'Jetta Variant'"
      ]
     },
     "execution_count": 31,
     "metadata": {},
     "output_type": "execute_result"
    }
   ],
   "source": [
    "nomes_carros[0]"
   ]
  },
  {
   "cell_type": "code",
   "execution_count": 32,
   "metadata": {
    "colab": {},
    "colab_type": "code",
    "id": "-mx_1E_tD0_P"
   },
   "outputs": [
    {
     "data": {
      "text/plain": [
       "'Passat'"
      ]
     },
     "execution_count": 32,
     "metadata": {},
     "output_type": "execute_result"
    }
   ],
   "source": [
    "nomes_carros[1]"
   ]
  },
  {
   "cell_type": "code",
   "execution_count": 33,
   "metadata": {
    "colab": {},
    "colab_type": "code",
    "id": "6btHff4BD0_T"
   },
   "outputs": [
    {
     "data": {
      "text/plain": [
       "'DS5'"
      ]
     },
     "execution_count": 33,
     "metadata": {},
     "output_type": "execute_result"
    }
   ],
   "source": [
    "nomes_carros[-1]"
   ]
  },
  {
   "cell_type": "code",
   "execution_count": 34,
   "metadata": {
    "colab": {},
    "colab_type": "code",
    "id": "K_Dc12xBD0_U"
   },
   "outputs": [
    {
     "data": {
      "text/plain": [
       "('Passat', 'Crossfox')"
      ]
     },
     "execution_count": 34,
     "metadata": {},
     "output_type": "execute_result"
    }
   ],
   "source": [
    "nomes_carros[1:3]"
   ]
  },
  {
   "cell_type": "code",
   "execution_count": 35,
   "metadata": {
    "colab": {},
    "colab_type": "code",
    "id": "zvrWYkkeD0_W"
   },
   "outputs": [
    {
     "data": {
      "text/plain": [
       "('Jetta Variant', 'Passat', 'Crossfox', 'DS5', ('Fusca', 'Gol', 'C4'))"
      ]
     },
     "execution_count": 35,
     "metadata": {},
     "output_type": "execute_result"
    }
   ],
   "source": [
    "nomes_carros = ('Jetta Variant', 'Passat', 'Crossfox', 'DS5', ('Fusca', 'Gol', 'C4'))\n",
    "nomes_carros"
   ]
  },
  {
   "cell_type": "code",
   "execution_count": 36,
   "metadata": {
    "colab": {},
    "colab_type": "code",
    "id": "Dw7tbM2ED0_Z"
   },
   "outputs": [
    {
     "data": {
      "text/plain": [
       "('Fusca', 'Gol', 'C4')"
      ]
     },
     "execution_count": 36,
     "metadata": {},
     "output_type": "execute_result"
    }
   ],
   "source": [
    "nomes_carros[-1]"
   ]
  },
  {
   "cell_type": "code",
   "execution_count": 37,
   "metadata": {
    "colab": {},
    "colab_type": "code",
    "id": "SAMD3BtXD0_b"
   },
   "outputs": [
    {
     "data": {
      "text/plain": [
       "'Gol'"
      ]
     },
     "execution_count": 37,
     "metadata": {},
     "output_type": "execute_result"
    }
   ],
   "source": [
    "nomes_carros[-1][1]"
   ]
  },
  {
   "cell_type": "markdown",
   "metadata": {
    "colab_type": "text",
    "id": "KLMxh4-0D0_c"
   },
   "source": [
    "# 2.3 Iterando em tuplas"
   ]
  },
  {
   "cell_type": "code",
   "execution_count": 38,
   "metadata": {
    "colab": {},
    "colab_type": "code",
    "id": "K53elKsYD0_c"
   },
   "outputs": [
    {
     "data": {
      "text/plain": [
       "('Jetta Variant', 'Passat', 'Crossfox', 'DS5')"
      ]
     },
     "execution_count": 38,
     "metadata": {},
     "output_type": "execute_result"
    }
   ],
   "source": [
    "nomes_carros = ('Jetta Variant', 'Passat', 'Crossfox', 'DS5')\n",
    "nomes_carros"
   ]
  },
  {
   "cell_type": "code",
   "execution_count": 40,
   "metadata": {
    "colab": {},
    "colab_type": "code",
    "id": "igZhZ5zdD0_d"
   },
   "outputs": [
    {
     "name": "stdout",
     "output_type": "stream",
     "text": [
      "Jetta Variant\n",
      "Passat\n",
      "Crossfox\n",
      "DS5\n"
     ]
    }
   ],
   "source": [
    "for item in nomes_carros:\n",
    "    print(item)"
   ]
  },
  {
   "cell_type": "markdown",
   "metadata": {
    "colab_type": "text",
    "id": "AOBjxBk8D0_f"
   },
   "source": [
    "### Desempacotamento de tuplas"
   ]
  },
  {
   "cell_type": "code",
   "execution_count": 41,
   "metadata": {
    "colab": {},
    "colab_type": "code",
    "id": "UoEFnumhD0_f"
   },
   "outputs": [
    {
     "data": {
      "text/plain": [
       "('Jetta Variant', 'Passat', 'Crossfox', 'DS5')"
      ]
     },
     "execution_count": 41,
     "metadata": {},
     "output_type": "execute_result"
    }
   ],
   "source": [
    "nomes_carros = ('Jetta Variant', 'Passat', 'Crossfox', 'DS5')\n",
    "nomes_carros"
   ]
  },
  {
   "cell_type": "code",
   "execution_count": 42,
   "metadata": {
    "colab": {},
    "colab_type": "code",
    "id": "AaCLcNYTD0_g"
   },
   "outputs": [],
   "source": [
    "carro_1, carro_2, carro_3, carro_4, = nomes_carros"
   ]
  },
  {
   "cell_type": "code",
   "execution_count": 43,
   "metadata": {
    "colab": {},
    "colab_type": "code",
    "id": "TA71S9egD0_h"
   },
   "outputs": [
    {
     "data": {
      "text/plain": [
       "'Jetta Variant'"
      ]
     },
     "execution_count": 43,
     "metadata": {},
     "output_type": "execute_result"
    }
   ],
   "source": [
    "carro_1"
   ]
  },
  {
   "cell_type": "code",
   "execution_count": 44,
   "metadata": {
    "colab": {},
    "colab_type": "code",
    "id": "CHoJ034MD0_i"
   },
   "outputs": [
    {
     "data": {
      "text/plain": [
       "'Passat'"
      ]
     },
     "execution_count": 44,
     "metadata": {},
     "output_type": "execute_result"
    }
   ],
   "source": [
    "carro_2"
   ]
  },
  {
   "cell_type": "code",
   "execution_count": 45,
   "metadata": {
    "colab": {},
    "colab_type": "code",
    "id": "oxJrOuCSD0_j"
   },
   "outputs": [
    {
     "data": {
      "text/plain": [
       "'Crossfox'"
      ]
     },
     "execution_count": 45,
     "metadata": {},
     "output_type": "execute_result"
    }
   ],
   "source": [
    "carro_3"
   ]
  },
  {
   "cell_type": "code",
   "execution_count": 47,
   "metadata": {
    "colab": {},
    "colab_type": "code",
    "id": "BbR9sB4BD0_k"
   },
   "outputs": [
    {
     "data": {
      "text/plain": [
       "'DS5'"
      ]
     },
     "execution_count": 47,
     "metadata": {},
     "output_type": "execute_result"
    }
   ],
   "source": [
    "carro_4"
   ]
  },
  {
   "cell_type": "code",
   "execution_count": 48,
   "metadata": {
    "colab": {},
    "colab_type": "code",
    "id": "aZvokrjPD0_m"
   },
   "outputs": [],
   "source": [
    "_, A, _, B = nomes_carros"
   ]
  },
  {
   "cell_type": "code",
   "execution_count": 50,
   "metadata": {
    "colab": {},
    "colab_type": "code",
    "id": "wZXDbVg0D0_o"
   },
   "outputs": [
    {
     "data": {
      "text/plain": [
       "'Passat'"
      ]
     },
     "execution_count": 50,
     "metadata": {},
     "output_type": "execute_result"
    }
   ],
   "source": [
    "A"
   ]
  },
  {
   "cell_type": "code",
   "execution_count": 51,
   "metadata": {
    "colab": {},
    "colab_type": "code",
    "id": "aWgDMBXiD0_p"
   },
   "outputs": [
    {
     "data": {
      "text/plain": [
       "'DS5'"
      ]
     },
     "execution_count": 51,
     "metadata": {},
     "output_type": "execute_result"
    }
   ],
   "source": [
    "B"
   ]
  },
  {
   "cell_type": "code",
   "execution_count": 52,
   "metadata": {
    "colab": {},
    "colab_type": "code",
    "id": "OdpgNh-ND0_q"
   },
   "outputs": [],
   "source": [
    "_, C, *_ = nomes_carros"
   ]
  },
  {
   "cell_type": "code",
   "execution_count": 53,
   "metadata": {
    "colab": {},
    "colab_type": "code",
    "id": "upVYFnMdD0_r"
   },
   "outputs": [
    {
     "data": {
      "text/plain": [
       "'Passat'"
      ]
     },
     "execution_count": 53,
     "metadata": {},
     "output_type": "execute_result"
    }
   ],
   "source": [
    "C"
   ]
  },
  {
   "cell_type": "markdown",
   "metadata": {
    "colab_type": "text",
    "id": "u85Aou8WD0_s"
   },
   "source": [
    "## *zip()*\n",
    "\n",
    "https://docs.python.org/3.6/library/functions.html#zip"
   ]
  },
  {
   "cell_type": "code",
   "execution_count": 54,
   "metadata": {
    "colab": {},
    "colab_type": "code",
    "id": "PaC2oXGED0_t"
   },
   "outputs": [
    {
     "data": {
      "text/plain": [
       "['Jetta Variant', 'Passat', 'Crossfox', 'DS5']"
      ]
     },
     "execution_count": 54,
     "metadata": {},
     "output_type": "execute_result"
    }
   ],
   "source": [
    "carros = ['Jetta Variant', 'Passat', 'Crossfox', 'DS5']\n",
    "carros"
   ]
  },
  {
   "cell_type": "code",
   "execution_count": 55,
   "metadata": {
    "colab": {},
    "colab_type": "code",
    "id": "_02O1VnHD0_u"
   },
   "outputs": [
    {
     "data": {
      "text/plain": [
       "[88078.64, 106161.94, 72832.16, 124549.07]"
      ]
     },
     "execution_count": 55,
     "metadata": {},
     "output_type": "execute_result"
    }
   ],
   "source": [
    "valores = [88078.64, 106161.94, 72832.16, 124549.07]\n",
    "valores"
   ]
  },
  {
   "cell_type": "code",
   "execution_count": 57,
   "metadata": {
    "colab": {},
    "colab_type": "code",
    "id": "roQK5nYRD0_v"
   },
   "outputs": [
    {
     "data": {
      "text/plain": [
       "[('Jetta Variant', 88078.64),\n",
       " ('Passat', 106161.94),\n",
       " ('Crossfox', 72832.16),\n",
       " ('DS5', 124549.07)]"
      ]
     },
     "execution_count": 57,
     "metadata": {},
     "output_type": "execute_result"
    }
   ],
   "source": [
    "list(zip(carros, valores))"
   ]
  },
  {
   "cell_type": "code",
   "execution_count": 58,
   "metadata": {
    "colab": {},
    "colab_type": "code",
    "id": "_WRxIRHrD0_w"
   },
   "outputs": [
    {
     "name": "stdout",
     "output_type": "stream",
     "text": [
      "('Jetta Variant', 88078.64)\n",
      "('Passat', 106161.94)\n",
      "('Crossfox', 72832.16)\n",
      "('DS5', 124549.07)\n"
     ]
    }
   ],
   "source": [
    "for item in zip(carros, valores):\n",
    "    print(item)"
   ]
  },
  {
   "cell_type": "code",
   "execution_count": 59,
   "metadata": {
    "colab": {},
    "colab_type": "code",
    "id": "2zIuhIILD0_x"
   },
   "outputs": [
    {
     "name": "stdout",
     "output_type": "stream",
     "text": [
      "Jetta Variant 88078.64\n",
      "Passat 106161.94\n",
      "Crossfox 72832.16\n",
      "DS5 124549.07\n"
     ]
    }
   ],
   "source": [
    "for carro, valor in zip(carros, valores):\n",
    "    print(carro, valor)"
   ]
  },
  {
   "cell_type": "code",
   "execution_count": 60,
   "metadata": {
    "colab": {},
    "colab_type": "code",
    "id": "ZJaL62IpD0_y"
   },
   "outputs": [
    {
     "name": "stdout",
     "output_type": "stream",
     "text": [
      "Passat\n",
      "DS5\n"
     ]
    }
   ],
   "source": [
    "for carro, valor in zip(carros, valores):\n",
    "    if valor > 100000:\n",
    "        print(carro)"
   ]
  },
  {
   "cell_type": "markdown",
   "metadata": {
    "colab_type": "text",
    "id": "xo76nR8rD0_0"
   },
   "source": [
    "# <font color=green> 3. TRABALHANDO COM DICIONÁRIOS\n",
    "---"
   ]
  },
  {
   "cell_type": "markdown",
   "metadata": {
    "colab_type": "text",
    "id": "wfWzOuztD0_0"
   },
   "source": [
    "# 3.1 Criando dicionários\n",
    "\n",
    "Listas são coleções sequenciais, isto é, os itens destas sequências estão ordenados e utilizam índices (números inteiros) para acessar os valores.\n",
    "\n",
    "Os dicionários são coleções um pouco diferentes. São estruturas de dados que representam um tipo de mapeamento. Mapeamentos são coleções de associações entre pares de valores onde o primeiro elemento do par é conhecido como chave (*key*) e o segundo como valor (*value*).\n",
    "\n",
    "```\n",
    "dicionario = {key_1: value_1, key_2: value_2, ..., key_n: value_n}\n",
    "```\n",
    "\n",
    "https://docs.python.org/3.6/library/stdtypes.html#typesmapping"
   ]
  },
  {
   "cell_type": "code",
   "execution_count": 1,
   "metadata": {
    "colab": {},
    "colab_type": "code",
    "id": "YIFVkWT6D0_1"
   },
   "outputs": [
    {
     "data": {
      "text/plain": [
       "['Jetta Variant', 'Passat', 'Crossfox']"
      ]
     },
     "execution_count": 1,
     "metadata": {},
     "output_type": "execute_result"
    }
   ],
   "source": [
    "carros = ['Jetta Variant', 'Passat', 'Crossfox']\n",
    "carros"
   ]
  },
  {
   "cell_type": "code",
   "execution_count": 2,
   "metadata": {
    "colab": {},
    "colab_type": "code",
    "id": "2LHiBn3-D0_2"
   },
   "outputs": [
    {
     "data": {
      "text/plain": [
       "[88078.64, 106161.94, 72832.16]"
      ]
     },
     "execution_count": 2,
     "metadata": {},
     "output_type": "execute_result"
    }
   ],
   "source": [
    "valores = [88078.64, 106161.94, 72832.16]\n",
    "valores"
   ]
  },
  {
   "cell_type": "code",
   "execution_count": 3,
   "metadata": {
    "colab": {},
    "colab_type": "code",
    "id": "YxLAx_sqD0_4"
   },
   "outputs": [
    {
     "data": {
      "text/plain": [
       "1"
      ]
     },
     "execution_count": 3,
     "metadata": {},
     "output_type": "execute_result"
    }
   ],
   "source": [
    "carros.index('Passat')"
   ]
  },
  {
   "cell_type": "code",
   "execution_count": 4,
   "metadata": {
    "colab": {},
    "colab_type": "code",
    "id": "WITNWExID0_7"
   },
   "outputs": [
    {
     "data": {
      "text/plain": [
       "106161.94"
      ]
     },
     "execution_count": 4,
     "metadata": {},
     "output_type": "execute_result"
    }
   ],
   "source": [
    "valores[carros.index('Passat')]"
   ]
  },
  {
   "cell_type": "code",
   "execution_count": 5,
   "metadata": {
    "colab": {},
    "colab_type": "code",
    "id": "bHNqoDbTD0_8"
   },
   "outputs": [
    {
     "data": {
      "text/plain": [
       "{'Jetta Varian': 88078.64, 'Passat': 106161.94, 'Crossfox': 72832.16}"
      ]
     },
     "execution_count": 5,
     "metadata": {},
     "output_type": "execute_result"
    }
   ],
   "source": [
    "dados = {'Jetta Varian': 88078.64, 'Passat': 106161.94, 'Crossfox': 72832.16}\n",
    "dados"
   ]
  },
  {
   "cell_type": "code",
   "execution_count": 6,
   "metadata": {
    "colab": {},
    "colab_type": "code",
    "id": "4FyQgmcAD0_9"
   },
   "outputs": [
    {
     "data": {
      "text/plain": [
       "dict"
      ]
     },
     "execution_count": 6,
     "metadata": {},
     "output_type": "execute_result"
    }
   ],
   "source": [
    "type(dados)"
   ]
  },
  {
   "cell_type": "markdown",
   "metadata": {
    "colab_type": "text",
    "id": "PQg-MLkGD0_-"
   },
   "source": [
    "### Criando dicionários com *zip()*"
   ]
  },
  {
   "cell_type": "code",
   "execution_count": 7,
   "metadata": {
    "colab": {},
    "colab_type": "code",
    "id": "iB4Q_gbND0__"
   },
   "outputs": [
    {
     "data": {
      "text/plain": [
       "[('Jetta Variant', 88078.64), ('Passat', 106161.94), ('Crossfox', 72832.16)]"
      ]
     },
     "execution_count": 7,
     "metadata": {},
     "output_type": "execute_result"
    }
   ],
   "source": [
    "list(zip(carros, valores))"
   ]
  },
  {
   "cell_type": "code",
   "execution_count": 9,
   "metadata": {
    "colab": {},
    "colab_type": "code",
    "id": "mIgZqdKKD1AA"
   },
   "outputs": [
    {
     "data": {
      "text/plain": [
       "{'Jetta Variant': 88078.64, 'Passat': 106161.94, 'Crossfox': 72832.16}"
      ]
     },
     "execution_count": 9,
     "metadata": {},
     "output_type": "execute_result"
    }
   ],
   "source": [
    "dados = dict(zip(carros, valores))\n",
    "dados"
   ]
  },
  {
   "cell_type": "markdown",
   "metadata": {
    "colab_type": "text",
    "id": "KYeRqavFD1AD"
   },
   "source": [
    "# 3.2 Operações com dicionários"
   ]
  },
  {
   "cell_type": "markdown",
   "metadata": {
    "colab_type": "text",
    "id": "KzmWbEltD1AD"
   },
   "source": [
    "## *dict[ key ]*\n",
    "\n",
    "Retorna o valor correspondente à chave (*key*) no dicionário."
   ]
  },
  {
   "cell_type": "code",
   "execution_count": 11,
   "metadata": {
    "colab": {},
    "colab_type": "code",
    "id": "hFFDz6wKD1AD"
   },
   "outputs": [
    {
     "data": {
      "text/plain": [
       "106161.94"
      ]
     },
     "execution_count": 11,
     "metadata": {},
     "output_type": "execute_result"
    }
   ],
   "source": [
    "dados['Passat']"
   ]
  },
  {
   "cell_type": "markdown",
   "metadata": {
    "colab_type": "text",
    "id": "SWlE6VTBD1AE"
   },
   "source": [
    "## *key in dict*\n",
    "\n",
    "Retorna **True** se a chave (*key*) for encontrada no dicionário."
   ]
  },
  {
   "cell_type": "code",
   "execution_count": 14,
   "metadata": {
    "colab": {},
    "colab_type": "code",
    "id": "Iy88SxBtD1AE"
   },
   "outputs": [
    {
     "data": {
      "text/plain": [
       "True"
      ]
     },
     "execution_count": 14,
     "metadata": {},
     "output_type": "execute_result"
    }
   ],
   "source": [
    "'Passat' in dados"
   ]
  },
  {
   "cell_type": "code",
   "execution_count": 15,
   "metadata": {
    "colab": {},
    "colab_type": "code",
    "id": "Oma56NkAD1AF"
   },
   "outputs": [
    {
     "data": {
      "text/plain": [
       "False"
      ]
     },
     "execution_count": 15,
     "metadata": {},
     "output_type": "execute_result"
    }
   ],
   "source": [
    "'Fusca' in dados"
   ]
  },
  {
   "cell_type": "code",
   "execution_count": 16,
   "metadata": {
    "colab": {},
    "colab_type": "code",
    "id": "yS2U-_8gD1AG"
   },
   "outputs": [
    {
     "data": {
      "text/plain": [
       "True"
      ]
     },
     "execution_count": 16,
     "metadata": {},
     "output_type": "execute_result"
    }
   ],
   "source": [
    "'Fusca' not in dados"
   ]
  },
  {
   "cell_type": "markdown",
   "metadata": {
    "colab_type": "text",
    "id": "oWbWyDd0D1AI"
   },
   "source": [
    "## *len(dict)*\n",
    "\n",
    "Retorna o número de itens do dicionário."
   ]
  },
  {
   "cell_type": "code",
   "execution_count": 17,
   "metadata": {
    "colab": {},
    "colab_type": "code",
    "id": "k08YkCc1D1AJ"
   },
   "outputs": [
    {
     "data": {
      "text/plain": [
       "3"
      ]
     },
     "execution_count": 17,
     "metadata": {},
     "output_type": "execute_result"
    }
   ],
   "source": [
    "len(dados)"
   ]
  },
  {
   "cell_type": "markdown",
   "metadata": {
    "colab_type": "text",
    "id": "yYNqIHJBD1AK"
   },
   "source": [
    "## *dict[ key ] = value*\n",
    "\n",
    "Inclui um item ao dicionário."
   ]
  },
  {
   "cell_type": "code",
   "execution_count": 18,
   "metadata": {
    "colab": {},
    "colab_type": "code",
    "id": "5jj3i52bD1AK"
   },
   "outputs": [],
   "source": [
    "dados['DS5'] = 124549.07"
   ]
  },
  {
   "cell_type": "code",
   "execution_count": 19,
   "metadata": {
    "colab": {},
    "colab_type": "code",
    "id": "y6rso5hLD1AL"
   },
   "outputs": [
    {
     "data": {
      "text/plain": [
       "{'Jetta Variant': 88078.64,\n",
       " 'Passat': 106161.94,\n",
       " 'Crossfox': 72832.16,\n",
       " 'DS5': 124549.07}"
      ]
     },
     "execution_count": 19,
     "metadata": {},
     "output_type": "execute_result"
    }
   ],
   "source": [
    "dados"
   ]
  },
  {
   "cell_type": "markdown",
   "metadata": {
    "colab_type": "text",
    "id": "_z0JySuqD1AL"
   },
   "source": [
    "## *del dict[ key ]*\n",
    "\n",
    "Remove o item de chave (*key*) do dicionário."
   ]
  },
  {
   "cell_type": "code",
   "execution_count": 20,
   "metadata": {
    "colab": {},
    "colab_type": "code",
    "id": "PPfh6sfID1AM"
   },
   "outputs": [
    {
     "data": {
      "text/plain": [
       "{'Jetta Variant': 88078.64,\n",
       " 'Passat': 106161.94,\n",
       " 'Crossfox': 72832.16,\n",
       " 'DS5': 124549.07}"
      ]
     },
     "execution_count": 20,
     "metadata": {},
     "output_type": "execute_result"
    }
   ],
   "source": [
    "dados"
   ]
  },
  {
   "cell_type": "code",
   "execution_count": 21,
   "metadata": {
    "colab": {},
    "colab_type": "code",
    "id": "BtjGpXtGD1AN"
   },
   "outputs": [
    {
     "data": {
      "text/plain": [
       "{'Jetta Variant': 88078.64, 'Crossfox': 72832.16, 'DS5': 124549.07}"
      ]
     },
     "execution_count": 21,
     "metadata": {},
     "output_type": "execute_result"
    }
   ],
   "source": [
    "del dados['Passat']\n",
    "dados"
   ]
  },
  {
   "cell_type": "markdown",
   "metadata": {
    "colab_type": "text",
    "id": "FodJVx5sD1AP"
   },
   "source": [
    "# 3.3 Métodos de dicionários"
   ]
  },
  {
   "cell_type": "markdown",
   "metadata": {
    "colab_type": "text",
    "id": "7pqdPOkYD1AP"
   },
   "source": [
    "## *dict.update()*\n",
    "\n",
    "Atualiza o dicionário."
   ]
  },
  {
   "cell_type": "code",
   "execution_count": 22,
   "metadata": {
    "colab": {},
    "colab_type": "code",
    "id": "DUySYxKQD1AQ"
   },
   "outputs": [
    {
     "data": {
      "text/plain": [
       "{'Jetta Variant': 88078.64, 'Crossfox': 72832.16, 'DS5': 124549.07}"
      ]
     },
     "execution_count": 22,
     "metadata": {},
     "output_type": "execute_result"
    }
   ],
   "source": [
    "dados"
   ]
  },
  {
   "cell_type": "code",
   "execution_count": 24,
   "metadata": {
    "colab": {},
    "colab_type": "code",
    "id": "DLsqp71cD1AR"
   },
   "outputs": [
    {
     "data": {
      "text/plain": [
       "{'Jetta Variant': 88078.64,\n",
       " 'Crossfox': 72832.16,\n",
       " 'DS5': 124549.07,\n",
       " 'Passat': 106161.94}"
      ]
     },
     "execution_count": 24,
     "metadata": {},
     "output_type": "execute_result"
    }
   ],
   "source": [
    "dados.update({'Passat': 106161.94})\n",
    "dados"
   ]
  },
  {
   "cell_type": "code",
   "execution_count": 25,
   "metadata": {},
   "outputs": [
    {
     "data": {
      "text/plain": [
       "{'Jetta Variant': 88078.64,\n",
       " 'Crossfox': 72832.16,\n",
       " 'DS5': 124549.07,\n",
       " 'Passat': 106161.95,\n",
       " 'Fusca': 150000}"
      ]
     },
     "execution_count": 25,
     "metadata": {},
     "output_type": "execute_result"
    }
   ],
   "source": [
    "dados.update({'Passat': 106161.95, 'Fusca': 150000})\n",
    "dados"
   ]
  },
  {
   "cell_type": "markdown",
   "metadata": {
    "colab_type": "text",
    "id": "JLs5c0DeD1AR"
   },
   "source": [
    "## *dict.copy()*\n",
    "\n",
    "Cria uma cópia do dicionário."
   ]
  },
  {
   "cell_type": "code",
   "execution_count": 26,
   "metadata": {
    "colab": {},
    "colab_type": "code",
    "id": "X9F7OB3eD1AS"
   },
   "outputs": [],
   "source": [
    "dadosCopy = dados.copy()"
   ]
  },
  {
   "cell_type": "code",
   "execution_count": 27,
   "metadata": {
    "colab": {},
    "colab_type": "code",
    "id": "v0rL0bveD1AS"
   },
   "outputs": [
    {
     "data": {
      "text/plain": [
       "{'Jetta Variant': 88078.64,\n",
       " 'Crossfox': 72832.16,\n",
       " 'DS5': 124549.07,\n",
       " 'Passat': 106161.95,\n",
       " 'Fusca': 150000}"
      ]
     },
     "execution_count": 27,
     "metadata": {},
     "output_type": "execute_result"
    }
   ],
   "source": [
    "dadosCopy"
   ]
  },
  {
   "cell_type": "code",
   "execution_count": 28,
   "metadata": {
    "colab": {},
    "colab_type": "code",
    "id": "M-abRGGrD1AT"
   },
   "outputs": [
    {
     "data": {
      "text/plain": [
       "{'Jetta Variant': 88078.64,\n",
       " 'Crossfox': 72832.16,\n",
       " 'DS5': 124549.07,\n",
       " 'Passat': 106161.95}"
      ]
     },
     "execution_count": 28,
     "metadata": {},
     "output_type": "execute_result"
    }
   ],
   "source": [
    "del dadosCopy['Fusca']\n",
    "dadosCopy"
   ]
  },
  {
   "cell_type": "code",
   "execution_count": 29,
   "metadata": {
    "colab": {},
    "colab_type": "code",
    "id": "ETBD0TkND1AU"
   },
   "outputs": [
    {
     "data": {
      "text/plain": [
       "{'Jetta Variant': 88078.64,\n",
       " 'Crossfox': 72832.16,\n",
       " 'DS5': 124549.07,\n",
       " 'Passat': 106161.95,\n",
       " 'Fusca': 150000}"
      ]
     },
     "execution_count": 29,
     "metadata": {},
     "output_type": "execute_result"
    }
   ],
   "source": [
    "dados"
   ]
  },
  {
   "cell_type": "markdown",
   "metadata": {
    "colab_type": "text",
    "id": "mNODkmHCD1AV"
   },
   "source": [
    "## *dict.pop(key[, default ])*\n",
    "\n",
    "Se a chave for encontrada no dicionário, o item é removido e seu valor é retornado. Caso contrário, o valor especificado como *default* é retornado. Se o valor *default* não for fornecido e a chave não for encontrada no dicionário um erro será gerado."
   ]
  },
  {
   "cell_type": "code",
   "execution_count": 31,
   "metadata": {
    "colab": {},
    "colab_type": "code",
    "id": "_4QEPwScD1AW"
   },
   "outputs": [
    {
     "data": {
      "text/plain": [
       "{'Jetta Variant': 88078.64,\n",
       " 'Crossfox': 72832.16,\n",
       " 'DS5': 124549.07,\n",
       " 'Passat': 106161.95}"
      ]
     },
     "execution_count": 31,
     "metadata": {},
     "output_type": "execute_result"
    }
   ],
   "source": [
    "dadosCopy"
   ]
  },
  {
   "cell_type": "code",
   "execution_count": 32,
   "metadata": {
    "colab": {},
    "colab_type": "code",
    "id": "Hjh0MuymD1AX"
   },
   "outputs": [
    {
     "data": {
      "text/plain": [
       "106161.95"
      ]
     },
     "execution_count": 32,
     "metadata": {},
     "output_type": "execute_result"
    }
   ],
   "source": [
    "dadosCopy.pop('Passat')"
   ]
  },
  {
   "cell_type": "code",
   "execution_count": 33,
   "metadata": {
    "colab": {},
    "colab_type": "code",
    "id": "f51rKjkuD1AX"
   },
   "outputs": [
    {
     "data": {
      "text/plain": [
       "{'Jetta Variant': 88078.64, 'Crossfox': 72832.16, 'DS5': 124549.07}"
      ]
     },
     "execution_count": 33,
     "metadata": {},
     "output_type": "execute_result"
    }
   ],
   "source": [
    "dadosCopy"
   ]
  },
  {
   "cell_type": "code",
   "execution_count": 34,
   "metadata": {
    "colab": {},
    "colab_type": "code",
    "id": "Ah4sZ7axD1AZ"
   },
   "outputs": [
    {
     "data": {
      "text/plain": [
       "'Chave nao encontrada'"
      ]
     },
     "execution_count": 34,
     "metadata": {},
     "output_type": "execute_result"
    }
   ],
   "source": [
    "dadosCopy.pop('Passar', 'Chave nao encontrada')"
   ]
  },
  {
   "cell_type": "code",
   "execution_count": 35,
   "metadata": {
    "colab": {},
    "colab_type": "code",
    "id": "SJATRY8RD1Aa"
   },
   "outputs": [
    {
     "data": {
      "text/plain": [
       "124549.07"
      ]
     },
     "execution_count": 35,
     "metadata": {},
     "output_type": "execute_result"
    }
   ],
   "source": [
    "dadosCopy.pop('DS5', 'Chave nao encontrada')"
   ]
  },
  {
   "cell_type": "code",
   "execution_count": 36,
   "metadata": {
    "colab": {},
    "colab_type": "code",
    "id": "V36wHdzmD1Ab"
   },
   "outputs": [
    {
     "data": {
      "text/plain": [
       "{'Jetta Variant': 88078.64, 'Crossfox': 72832.16}"
      ]
     },
     "execution_count": 36,
     "metadata": {},
     "output_type": "execute_result"
    }
   ],
   "source": [
    "dadosCopy"
   ]
  },
  {
   "cell_type": "markdown",
   "metadata": {
    "colab_type": "text",
    "id": "Q5J0R7d3D1Ag"
   },
   "source": [
    "## *dict.clear()*\n",
    "\n",
    "Remove todos os itens do dicionário."
   ]
  },
  {
   "cell_type": "code",
   "execution_count": 38,
   "metadata": {
    "colab": {},
    "colab_type": "code",
    "id": "AvkP_8mND1Ag"
   },
   "outputs": [],
   "source": [
    "dadosCopy.clear()"
   ]
  },
  {
   "cell_type": "code",
   "execution_count": 39,
   "metadata": {
    "colab": {},
    "colab_type": "code",
    "id": "S69pMYboD1Ah"
   },
   "outputs": [
    {
     "data": {
      "text/plain": [
       "{}"
      ]
     },
     "execution_count": 39,
     "metadata": {},
     "output_type": "execute_result"
    }
   ],
   "source": [
    "dadosCopy"
   ]
  },
  {
   "cell_type": "markdown",
   "metadata": {
    "colab_type": "text",
    "id": "QhoSRfPsD1Ai"
   },
   "source": [
    "# 3.4 Iterando em dicionários"
   ]
  },
  {
   "cell_type": "code",
   "execution_count": 40,
   "metadata": {},
   "outputs": [
    {
     "data": {
      "text/plain": [
       "{'Crossfox': 72832.16,\n",
       " 'DS5': 124549.07,\n",
       " 'Fusca': 88078.64,\n",
       " 'Passat': 106161.95}"
      ]
     },
     "execution_count": 40,
     "metadata": {},
     "output_type": "execute_result"
    }
   ],
   "source": [
    "dados = {'Crossfox': 72832.16, 'DS5': 124549.07, 'Fusca': 88078.64, 'Passat': 106161.95}\n",
    "dados"
   ]
  },
  {
   "cell_type": "markdown",
   "metadata": {
    "colab_type": "text",
    "id": "E-agaqakD1Ai"
   },
   "source": [
    "## *dict.keys()*\n",
    "\n",
    "Retorna uma lista contendo as chaves (*keys*) do dicionário."
   ]
  },
  {
   "cell_type": "code",
   "execution_count": 41,
   "metadata": {
    "colab": {},
    "colab_type": "code",
    "id": "qFADEYmBD1Aj"
   },
   "outputs": [
    {
     "data": {
      "text/plain": [
       "dict_keys(['Crossfox', 'DS5', 'Fusca', 'Passat'])"
      ]
     },
     "execution_count": 41,
     "metadata": {},
     "output_type": "execute_result"
    }
   ],
   "source": [
    "dados.keys()"
   ]
  },
  {
   "cell_type": "code",
   "execution_count": 42,
   "metadata": {
    "colab": {},
    "colab_type": "code",
    "id": "niwh9AgDD1Aj"
   },
   "outputs": [
    {
     "name": "stdout",
     "output_type": "stream",
     "text": [
      "72832.16\n",
      "124549.07\n",
      "88078.64\n",
      "106161.95\n"
     ]
    }
   ],
   "source": [
    "for key in dados.keys():\n",
    "    print(dados[key])"
   ]
  },
  {
   "cell_type": "markdown",
   "metadata": {
    "colab_type": "text",
    "id": "qFj6Cc7dD1Ak"
   },
   "source": [
    "## *dict.values()*\n",
    "\n",
    "Retorna uma lista com todos os valores (*values*) do dicionário."
   ]
  },
  {
   "cell_type": "code",
   "execution_count": 43,
   "metadata": {
    "colab": {},
    "colab_type": "code",
    "id": "nfpLxrQVD1Al"
   },
   "outputs": [
    {
     "data": {
      "text/plain": [
       "dict_values([72832.16, 124549.07, 88078.64, 106161.95])"
      ]
     },
     "execution_count": 43,
     "metadata": {},
     "output_type": "execute_result"
    }
   ],
   "source": [
    "dados.values()"
   ]
  },
  {
   "cell_type": "markdown",
   "metadata": {
    "colab_type": "text",
    "id": "-NGRwX0AD1Al"
   },
   "source": [
    "## *dict.items()*\n",
    "\n",
    "Retorna uma lista contendo uma tupla para cada par chave-valor (*key-value*) do dicionário."
   ]
  },
  {
   "cell_type": "code",
   "execution_count": 44,
   "metadata": {
    "colab": {},
    "colab_type": "code",
    "id": "Q2I9_6YvD1Am"
   },
   "outputs": [
    {
     "data": {
      "text/plain": [
       "dict_items([('Crossfox', 72832.16), ('DS5', 124549.07), ('Fusca', 88078.64), ('Passat', 106161.95)])"
      ]
     },
     "execution_count": 44,
     "metadata": {},
     "output_type": "execute_result"
    }
   ],
   "source": [
    "dados.items()"
   ]
  },
  {
   "cell_type": "code",
   "execution_count": 45,
   "metadata": {
    "colab": {},
    "colab_type": "code",
    "id": "0j41ZqgQD1Am"
   },
   "outputs": [
    {
     "name": "stdout",
     "output_type": "stream",
     "text": [
      "('Crossfox', 72832.16)\n",
      "('DS5', 124549.07)\n",
      "('Fusca', 88078.64)\n",
      "('Passat', 106161.95)\n"
     ]
    }
   ],
   "source": [
    "for item in dados.items():\n",
    "    print(item)"
   ]
  },
  {
   "cell_type": "code",
   "execution_count": 46,
   "metadata": {
    "colab": {},
    "colab_type": "code",
    "id": "OVY9rIwFD1An"
   },
   "outputs": [
    {
     "name": "stdout",
     "output_type": "stream",
     "text": [
      "Crossfox 72832.16\n",
      "DS5 124549.07\n",
      "Fusca 88078.64\n",
      "Passat 106161.95\n"
     ]
    }
   ],
   "source": [
    "for key, value in dados.items():\n",
    "    print(key, value)"
   ]
  },
  {
   "cell_type": "code",
   "execution_count": 47,
   "metadata": {
    "colab": {},
    "colab_type": "code",
    "id": "ma2Ol8vcD1Ap"
   },
   "outputs": [
    {
     "name": "stdout",
     "output_type": "stream",
     "text": [
      "DS5\n",
      "Passat\n"
     ]
    }
   ],
   "source": [
    "for key, value in dados.items():\n",
    "    if value > 100000:\n",
    "        print(key)"
   ]
  },
  {
   "cell_type": "markdown",
   "metadata": {
    "colab_type": "text",
    "id": "-q3AlSg3D1Aq"
   },
   "source": [
    "# <font color=green> 4. FUNÇÕES E PACOTES\n",
    "---\n",
    "    \n",
    "Funções são unidades de código reutilizáveis que realizam uma tarefa específica, podem receber alguma entrada e também podem retornar alguma resultado."
   ]
  },
  {
   "cell_type": "markdown",
   "metadata": {
    "colab_type": "text",
    "id": "5CfEcU58D1Aq"
   },
   "source": [
    "# 4.1 Built-in function\n",
    "\n",
    "A linguagem Python possui várias funções integradas que estão sempre acessíveis. Algumas já utilizamos em nosso treinamento: type(), print(), zip(), len(), set() etc.\n",
    "\n",
    "https://docs.python.org/3.6/library/functions.html"
   ]
  },
  {
   "cell_type": "code",
   "execution_count": 48,
   "metadata": {
    "colab": {},
    "colab_type": "code",
    "id": "DP7cmY7xD1Aq"
   },
   "outputs": [
    {
     "data": {
      "text/plain": [
       "{'Jetta Variant': 88078.64, 'Passat': 106161.94, 'Crossfox': 72832.16}"
      ]
     },
     "execution_count": 48,
     "metadata": {},
     "output_type": "execute_result"
    }
   ],
   "source": [
    "dados = {'Jetta Variant': 88078.64, 'Passat': 106161.94, 'Crossfox': 72832.16}\n",
    "dados"
   ]
  },
  {
   "cell_type": "code",
   "execution_count": 49,
   "metadata": {
    "colab": {},
    "colab_type": "code",
    "id": "5zAcGSCbD1Ar"
   },
   "outputs": [
    {
     "data": {
      "text/plain": [
       "[88078.64, 106161.94, 72832.16]"
      ]
     },
     "execution_count": 49,
     "metadata": {},
     "output_type": "execute_result"
    }
   ],
   "source": [
    "valores = []\n",
    "for valor in dados.values():\n",
    "    valores.append(valor)\n",
    "valores"
   ]
  },
  {
   "cell_type": "code",
   "execution_count": 50,
   "metadata": {
    "colab": {},
    "colab_type": "code",
    "id": "zG9_jU_1D1At"
   },
   "outputs": [
    {
     "data": {
      "text/plain": [
       "267072.74"
      ]
     },
     "execution_count": 50,
     "metadata": {},
     "output_type": "execute_result"
    }
   ],
   "source": [
    "soma = 0\n",
    "for valor in dados.values():\n",
    "    soma += valor\n",
    "soma"
   ]
  },
  {
   "cell_type": "code",
   "execution_count": 51,
   "metadata": {
    "colab": {},
    "colab_type": "code",
    "id": "jn0O3uXZD1Au"
   },
   "outputs": [
    {
     "data": {
      "text/plain": [
       "[88078.64, 106161.94, 72832.16]"
      ]
     },
     "execution_count": 51,
     "metadata": {},
     "output_type": "execute_result"
    }
   ],
   "source": [
    "list(dados.values())"
   ]
  },
  {
   "cell_type": "code",
   "execution_count": 54,
   "metadata": {
    "colab": {},
    "colab_type": "code",
    "id": "lnUjKVnoD1Aw"
   },
   "outputs": [
    {
     "data": {
      "text/plain": [
       "267072.74"
      ]
     },
     "execution_count": 54,
     "metadata": {},
     "output_type": "execute_result"
    }
   ],
   "source": [
    "sum(dados.values())"
   ]
  },
  {
   "cell_type": "code",
   "execution_count": 55,
   "metadata": {
    "colab": {},
    "colab_type": "code",
    "id": "WdEuYXe2D1Ay",
    "scrolled": false
   },
   "outputs": [
    {
     "name": "stdout",
     "output_type": "stream",
     "text": [
      "Help on built-in function print in module builtins:\n",
      "\n",
      "print(...)\n",
      "    print(value, ..., sep=' ', end='\\n', file=sys.stdout, flush=False)\n",
      "    \n",
      "    Prints the values to a stream, or to sys.stdout by default.\n",
      "    Optional keyword arguments:\n",
      "    file:  a file-like object (stream); defaults to the current sys.stdout.\n",
      "    sep:   string inserted between values, default a space.\n",
      "    end:   string appended after the last value, default a newline.\n",
      "    flush: whether to forcibly flush the stream.\n",
      "\n"
     ]
    }
   ],
   "source": [
    "help(print)"
   ]
  },
  {
   "cell_type": "code",
   "execution_count": 56,
   "metadata": {
    "colab": {},
    "colab_type": "code",
    "id": "hIA29O3tD1Az"
   },
   "outputs": [],
   "source": [
    "print?"
   ]
  },
  {
   "cell_type": "markdown",
   "metadata": {
    "colab_type": "text",
    "id": "6w62Sl5ZD1A0"
   },
   "source": [
    "# 4.2 Definindo funções sem e com parâmetros"
   ]
  },
  {
   "cell_type": "markdown",
   "metadata": {
    "colab_type": "text",
    "id": "OADZiBP2D1A0"
   },
   "source": [
    "### Funções sem parâmetros\n",
    "\n",
    "#### Formato padrão\n",
    "\n",
    "```\n",
    "def <nome>():\n",
    "    <instruções>\n",
    "```"
   ]
  },
  {
   "cell_type": "code",
   "execution_count": 59,
   "metadata": {
    "colab": {},
    "colab_type": "code",
    "id": "uCkplEpQD1A0"
   },
   "outputs": [],
   "source": [
    "def media():\n",
    "    valor = (1 + 2 + 3) / 3\n",
    "    print(valor)"
   ]
  },
  {
   "cell_type": "code",
   "execution_count": 60,
   "metadata": {
    "colab": {},
    "colab_type": "code",
    "id": "fOCEGq5VD1A1"
   },
   "outputs": [
    {
     "name": "stdout",
     "output_type": "stream",
     "text": [
      "2.0\n"
     ]
    }
   ],
   "source": [
    "media()"
   ]
  },
  {
   "cell_type": "markdown",
   "metadata": {
    "colab_type": "text",
    "id": "PwSlYSVAD1A2"
   },
   "source": [
    "### Funções com parâmetros\n",
    "\n",
    "#### Formato padrão\n",
    "\n",
    "```\n",
    "def <nome>(<param_1>, <param_2>, ..., <param_n>):\n",
    "    <instruções>\n",
    "```"
   ]
  },
  {
   "cell_type": "code",
   "execution_count": 61,
   "metadata": {
    "colab": {},
    "colab_type": "code",
    "id": "A3YnBUduD1A3"
   },
   "outputs": [],
   "source": [
    "def media(number_1, number_2, number_3):\n",
    "    valor = (number_1 + number_2 + number_3) / 3\n",
    "    print(valor)"
   ]
  },
  {
   "cell_type": "code",
   "execution_count": 62,
   "metadata": {
    "colab": {},
    "colab_type": "code",
    "id": "rGUZbRERD1A3"
   },
   "outputs": [
    {
     "name": "stdout",
     "output_type": "stream",
     "text": [
      "2.3333333333333335\n"
     ]
    }
   ],
   "source": [
    "media(1, 2 , 4)"
   ]
  },
  {
   "cell_type": "code",
   "execution_count": 63,
   "metadata": {
    "colab": {},
    "colab_type": "code",
    "id": "B9WDlRE7D1A5"
   },
   "outputs": [
    {
     "name": "stdout",
     "output_type": "stream",
     "text": [
      "45.0\n"
     ]
    }
   ],
   "source": [
    "media(23, 45, 67)"
   ]
  },
  {
   "cell_type": "code",
   "execution_count": 65,
   "metadata": {
    "colab": {},
    "colab_type": "code",
    "id": "1HAy8OK_D1A6"
   },
   "outputs": [],
   "source": [
    "def media(lista):\n",
    "    valor = sum(lista) / len(lista)\n",
    "    print(valor)"
   ]
  },
  {
   "cell_type": "code",
   "execution_count": 69,
   "metadata": {
    "colab": {},
    "colab_type": "code",
    "id": "_CDa4oOfD1A6"
   },
   "outputs": [
    {
     "name": "stdout",
     "output_type": "stream",
     "text": [
      "5.0\n"
     ]
    }
   ],
   "source": [
    "resultado = media([1, 2, 3, 4, 5, 6, 7, 8, 9])"
   ]
  },
  {
   "cell_type": "code",
   "execution_count": 70,
   "metadata": {
    "colab": {},
    "colab_type": "code",
    "id": "xH-mxqYAD1A8"
   },
   "outputs": [],
   "source": [
    "resultado"
   ]
  },
  {
   "cell_type": "code",
   "execution_count": 71,
   "metadata": {
    "colab": {},
    "colab_type": "code",
    "id": "WXXC_UidD1A8"
   },
   "outputs": [
    {
     "data": {
      "text/plain": [
       "NoneType"
      ]
     },
     "execution_count": 71,
     "metadata": {},
     "output_type": "execute_result"
    }
   ],
   "source": [
    "type(resultado)"
   ]
  },
  {
   "cell_type": "markdown",
   "metadata": {
    "colab_type": "text",
    "id": "8zNYrmFbD1A9"
   },
   "source": [
    "# 4.3 Definindo funções que retornam valores"
   ]
  },
  {
   "cell_type": "markdown",
   "metadata": {
    "colab_type": "text",
    "id": "J44K-dMOD1A9"
   },
   "source": [
    "### Funções que retornam um valor\n",
    "\n",
    "#### Formato padrão\n",
    "\n",
    "```\n",
    "def <nome>(<param_1>, <param_2>, ..., <param_n>):\n",
    "    <instruções>\n",
    "    return <resultado>\n",
    "```"
   ]
  },
  {
   "cell_type": "code",
   "execution_count": 72,
   "metadata": {
    "colab": {},
    "colab_type": "code",
    "id": "-UG42RQJD1A9"
   },
   "outputs": [],
   "source": [
    "def media(lista):\n",
    "    valor = sum(lista) / len(lista)\n",
    "    return valor"
   ]
  },
  {
   "cell_type": "code",
   "execution_count": 73,
   "metadata": {
    "colab": {},
    "colab_type": "code",
    "id": "VJwdvoT5D1A-"
   },
   "outputs": [
    {
     "data": {
      "text/plain": [
       "4.5"
      ]
     },
     "execution_count": 73,
     "metadata": {},
     "output_type": "execute_result"
    }
   ],
   "source": [
    "media([1, 2, 3, 4, 5, 6, 7, 8])"
   ]
  },
  {
   "cell_type": "code",
   "execution_count": 74,
   "metadata": {
    "colab": {},
    "colab_type": "code",
    "id": "AgAeJkpND1A-"
   },
   "outputs": [],
   "source": [
    "resultado = media([1, 2, 3, 4, 5, 6, 7, 8])"
   ]
  },
  {
   "cell_type": "code",
   "execution_count": 75,
   "metadata": {
    "colab": {},
    "colab_type": "code",
    "id": "_r616TevD1A_"
   },
   "outputs": [
    {
     "data": {
      "text/plain": [
       "4.5"
      ]
     },
     "execution_count": 75,
     "metadata": {},
     "output_type": "execute_result"
    }
   ],
   "source": [
    "resultado"
   ]
  },
  {
   "cell_type": "markdown",
   "metadata": {
    "colab_type": "text",
    "id": "MQaK8GV5D1BA"
   },
   "source": [
    "### Funções que retornam mais de um valor\n",
    "\n",
    "#### Formato padrão\n",
    "\n",
    "```\n",
    "def <nome>(<param_1>, <param_2>, ..., <param_n>):\n",
    "    <instruções>\n",
    "    return (<resultado_1>, <resultado_2>, ..., <resultado_n>)\n",
    "```"
   ]
  },
  {
   "cell_type": "code",
   "execution_count": 76,
   "metadata": {
    "colab": {},
    "colab_type": "code",
    "id": "v0PUMegVD1BA"
   },
   "outputs": [],
   "source": [
    "def media(lista):\n",
    "    valor = sum(lista) / len(lista)\n",
    "    return (valor, len(lista))"
   ]
  },
  {
   "cell_type": "code",
   "execution_count": 78,
   "metadata": {
    "colab": {},
    "colab_type": "code",
    "id": "Ys-etom8D1BA"
   },
   "outputs": [
    {
     "data": {
      "text/plain": [
       "(5.0, 9)"
      ]
     },
     "execution_count": 78,
     "metadata": {},
     "output_type": "execute_result"
    }
   ],
   "source": [
    "media([1, 2, 3, 4, 5, 6, 7, 8, 9])"
   ]
  },
  {
   "cell_type": "code",
   "execution_count": 79,
   "metadata": {
    "colab": {},
    "colab_type": "code",
    "id": "LERrvkMHD1BC"
   },
   "outputs": [],
   "source": [
    "resultado, n = media([1, 2, 3, 4, 5, 6, 7, 8, 9])"
   ]
  },
  {
   "cell_type": "code",
   "execution_count": 80,
   "metadata": {
    "colab": {},
    "colab_type": "code",
    "id": "sqoFOWSsD1BC"
   },
   "outputs": [
    {
     "data": {
      "text/plain": [
       "5.0"
      ]
     },
     "execution_count": 80,
     "metadata": {},
     "output_type": "execute_result"
    }
   ],
   "source": [
    "resultado"
   ]
  },
  {
   "cell_type": "code",
   "execution_count": 81,
   "metadata": {
    "colab": {},
    "colab_type": "code",
    "id": "NdB_Jyw_D1BD"
   },
   "outputs": [
    {
     "data": {
      "text/plain": [
       "9"
      ]
     },
     "execution_count": 81,
     "metadata": {},
     "output_type": "execute_result"
    }
   ],
   "source": [
    "n"
   ]
  },
  {
   "cell_type": "markdown",
   "metadata": {
    "colab_type": "text",
    "id": "uQ5lNnKrD1BD"
   },
   "source": [
    "# <font color=green> 5. PANDAS BÁSICO\n",
    "---\n",
    "\n",
    "**versão: 0.25.2**\n",
    "  \n",
    "Pandas é uma ferramenta de manipulação de dados de alto nível, construída com base no pacote Numpy. O pacote pandas possui estruturas de dados bastante interessantes para manipulação de dados e por isso é muito utilizado por cientistas de dados.\n",
    "\n",
    "\n",
    "## Estruturas de Dados\n",
    "\n",
    "### Series\n",
    "\n",
    "Series são arrays unidimensionais rotulados capazes de armazenar qualquer tipo de dado. Os rótulos das linhas são chamados de **index**. A forma básica de criação de uma Series é a seguinte:\n",
    "\n",
    "\n",
    "```\n",
    "    s = pd.Series(dados, index = index)\n",
    "```\n",
    "\n",
    "O argumento *dados* pode ser um dicionário, uma lista, um array Numpy ou uma constante.\n",
    "\n",
    "### DataFrames\n",
    "\n",
    "DataFrame é uma estrutura de dados tabular bidimensional com rótulos nas linha e colunas. Como a Series, os DataFrames são capazes de armazenar qualquer tipo de dados.\n",
    "\n",
    "\n",
    "```\n",
    "    df = pd.DataFrame(dados, index = index, columns = columns)\n",
    "```\n",
    "\n",
    "O argumento *dados* pode ser um dicionário, uma lista, um array Numpy, uma Series e outro DataFrame.\n",
    "\n",
    "**Documentação:** https://pandas.pydata.org/pandas-docs/version/0.25/"
   ]
  },
  {
   "cell_type": "markdown",
   "metadata": {
    "colab_type": "text",
    "id": "2qa7RC03D1BD"
   },
   "source": [
    "# 5.1 Estruturas de dados"
   ]
  },
  {
   "cell_type": "code",
   "execution_count": 82,
   "metadata": {
    "colab": {},
    "colab_type": "code",
    "id": "4QyFDeS4D1BD"
   },
   "outputs": [],
   "source": [
    "import pandas as pd"
   ]
  },
  {
   "cell_type": "markdown",
   "metadata": {
    "colab_type": "text",
    "id": "kIey8_OcD1BF"
   },
   "source": [
    "### Criando uma Series a partir de uma lista"
   ]
  },
  {
   "cell_type": "code",
   "execution_count": 83,
   "metadata": {
    "colab": {},
    "colab_type": "code",
    "id": "yEZR6DWiD1BF"
   },
   "outputs": [
    {
     "data": {
      "text/plain": [
       "['Jetta Variant', 'Passat', 'Crossfox']"
      ]
     },
     "execution_count": 83,
     "metadata": {},
     "output_type": "execute_result"
    }
   ],
   "source": [
    "carros = ['Jetta Variant', 'Passat', 'Crossfox']\n",
    "carros"
   ]
  },
  {
   "cell_type": "code",
   "execution_count": 84,
   "metadata": {
    "colab": {},
    "colab_type": "code",
    "id": "rLudWKZ_D1BF"
   },
   "outputs": [
    {
     "data": {
      "text/plain": [
       "0    Jetta Variant\n",
       "1           Passat\n",
       "2         Crossfox\n",
       "dtype: object"
      ]
     },
     "execution_count": 84,
     "metadata": {},
     "output_type": "execute_result"
    }
   ],
   "source": [
    "pd.Series(carros)"
   ]
  },
  {
   "cell_type": "markdown",
   "metadata": {
    "colab_type": "text",
    "id": "VYVIKd1-D1BG"
   },
   "source": [
    "### Criando um DataFrame a partir de uma lista de dicionários"
   ]
  },
  {
   "cell_type": "code",
   "execution_count": 85,
   "metadata": {
    "colab": {},
    "colab_type": "code",
    "id": "QFNS9PckD1BG"
   },
   "outputs": [],
   "source": [
    "dados = [\n",
    "    {'Nome': 'Jetta Variant', 'Motor': 'Motor 4.0 Turbo', 'Ano': 2003, 'Quilometragem': 44410.0, 'Zero_km': False, 'Valor': 88078.64},\n",
    "    {'Nome': 'Passat', 'Motor': 'Motor Diesel', 'Ano': 1991, 'Quilometragem': 5712.0, 'Zero_km': False, 'Valor': 106161.94},\n",
    "    {'Nome': 'Crossfox', 'Motor': 'Motor Diesel V8', 'Ano': 1990, 'Quilometragem': 37123.0, 'Zero_km': False, 'Valor': 72832.16}\n",
    "]"
   ]
  },
  {
   "cell_type": "code",
   "execution_count": 86,
   "metadata": {
    "colab": {},
    "colab_type": "code",
    "id": "WDQb9AnKD1BH"
   },
   "outputs": [],
   "source": [
    "dataset = pd.DataFrame(dados)"
   ]
  },
  {
   "cell_type": "code",
   "execution_count": 87,
   "metadata": {
    "colab": {},
    "colab_type": "code",
    "id": "-2-jGvmGD1BI"
   },
   "outputs": [
    {
     "data": {
      "text/html": [
       "<div>\n",
       "<style scoped>\n",
       "    .dataframe tbody tr th:only-of-type {\n",
       "        vertical-align: middle;\n",
       "    }\n",
       "\n",
       "    .dataframe tbody tr th {\n",
       "        vertical-align: top;\n",
       "    }\n",
       "\n",
       "    .dataframe thead th {\n",
       "        text-align: right;\n",
       "    }\n",
       "</style>\n",
       "<table border=\"1\" class=\"dataframe\">\n",
       "  <thead>\n",
       "    <tr style=\"text-align: right;\">\n",
       "      <th></th>\n",
       "      <th>Nome</th>\n",
       "      <th>Motor</th>\n",
       "      <th>Ano</th>\n",
       "      <th>Quilometragem</th>\n",
       "      <th>Zero_km</th>\n",
       "      <th>Valor</th>\n",
       "    </tr>\n",
       "  </thead>\n",
       "  <tbody>\n",
       "    <tr>\n",
       "      <th>0</th>\n",
       "      <td>Jetta Variant</td>\n",
       "      <td>Motor 4.0 Turbo</td>\n",
       "      <td>2003</td>\n",
       "      <td>44410.0</td>\n",
       "      <td>False</td>\n",
       "      <td>88078.64</td>\n",
       "    </tr>\n",
       "    <tr>\n",
       "      <th>1</th>\n",
       "      <td>Passat</td>\n",
       "      <td>Motor Diesel</td>\n",
       "      <td>1991</td>\n",
       "      <td>5712.0</td>\n",
       "      <td>False</td>\n",
       "      <td>106161.94</td>\n",
       "    </tr>\n",
       "    <tr>\n",
       "      <th>2</th>\n",
       "      <td>Crossfox</td>\n",
       "      <td>Motor Diesel V8</td>\n",
       "      <td>1990</td>\n",
       "      <td>37123.0</td>\n",
       "      <td>False</td>\n",
       "      <td>72832.16</td>\n",
       "    </tr>\n",
       "  </tbody>\n",
       "</table>\n",
       "</div>"
      ],
      "text/plain": [
       "            Nome            Motor   Ano  Quilometragem  Zero_km      Valor\n",
       "0  Jetta Variant  Motor 4.0 Turbo  2003        44410.0    False   88078.64\n",
       "1         Passat     Motor Diesel  1991         5712.0    False  106161.94\n",
       "2       Crossfox  Motor Diesel V8  1990        37123.0    False   72832.16"
      ]
     },
     "execution_count": 87,
     "metadata": {},
     "output_type": "execute_result"
    }
   ],
   "source": [
    "dataset"
   ]
  },
  {
   "cell_type": "code",
   "execution_count": 90,
   "metadata": {
    "colab": {},
    "colab_type": "code",
    "id": "2kbyOThiD1BJ"
   },
   "outputs": [
    {
     "data": {
      "text/html": [
       "<div>\n",
       "<style scoped>\n",
       "    .dataframe tbody tr th:only-of-type {\n",
       "        vertical-align: middle;\n",
       "    }\n",
       "\n",
       "    .dataframe tbody tr th {\n",
       "        vertical-align: top;\n",
       "    }\n",
       "\n",
       "    .dataframe thead th {\n",
       "        text-align: right;\n",
       "    }\n",
       "</style>\n",
       "<table border=\"1\" class=\"dataframe\">\n",
       "  <thead>\n",
       "    <tr style=\"text-align: right;\">\n",
       "      <th></th>\n",
       "      <th>Nome</th>\n",
       "      <th>Motor</th>\n",
       "      <th>Ano</th>\n",
       "      <th>Quilometragem</th>\n",
       "      <th>Zero_km</th>\n",
       "      <th>Valor</th>\n",
       "    </tr>\n",
       "  </thead>\n",
       "  <tbody>\n",
       "    <tr>\n",
       "      <th>0</th>\n",
       "      <td>Jetta Variant</td>\n",
       "      <td>Motor 4.0 Turbo</td>\n",
       "      <td>2003</td>\n",
       "      <td>44410.0</td>\n",
       "      <td>False</td>\n",
       "      <td>88078.64</td>\n",
       "    </tr>\n",
       "    <tr>\n",
       "      <th>1</th>\n",
       "      <td>Passat</td>\n",
       "      <td>Motor Diesel</td>\n",
       "      <td>1991</td>\n",
       "      <td>5712.0</td>\n",
       "      <td>False</td>\n",
       "      <td>106161.94</td>\n",
       "    </tr>\n",
       "    <tr>\n",
       "      <th>2</th>\n",
       "      <td>Crossfox</td>\n",
       "      <td>Motor Diesel V8</td>\n",
       "      <td>1990</td>\n",
       "      <td>37123.0</td>\n",
       "      <td>False</td>\n",
       "      <td>72832.16</td>\n",
       "    </tr>\n",
       "  </tbody>\n",
       "</table>\n",
       "</div>"
      ],
      "text/plain": [
       "            Nome            Motor   Ano  Quilometragem  Zero_km      Valor\n",
       "0  Jetta Variant  Motor 4.0 Turbo  2003        44410.0    False   88078.64\n",
       "1         Passat     Motor Diesel  1991         5712.0    False  106161.94\n",
       "2       Crossfox  Motor Diesel V8  1990        37123.0    False   72832.16"
      ]
     },
     "execution_count": 90,
     "metadata": {},
     "output_type": "execute_result"
    }
   ],
   "source": [
    "dataset[['Nome', 'Motor', 'Ano', 'Quilometragem', 'Zero_km', 'Valor']]"
   ]
  },
  {
   "cell_type": "markdown",
   "metadata": {
    "colab_type": "text",
    "id": "pJK2tQgYD1BK"
   },
   "source": [
    "### Criando um DataFrame a partir de um dicionário"
   ]
  },
  {
   "cell_type": "code",
   "execution_count": 91,
   "metadata": {
    "colab": {},
    "colab_type": "code",
    "id": "WKNQwKucD1BK"
   },
   "outputs": [],
   "source": [
    "dados = {\n",
    "    'Nome': ['Jetta Variant', 'Passat', 'Crossfox'], \n",
    "    'Motor': ['Motor 4.0 Turbo', 'Motor Diesel', 'Motor Diesel V8'],\n",
    "    'Ano': [2003, 1991, 1990],\n",
    "    'Quilometragem': [44410.0, 5712.0, 37123.0],\n",
    "    'Zero_km': [False, False, False],\n",
    "    'Valor': [88078.64, 106161.94, 72832.16]\n",
    "}"
   ]
  },
  {
   "cell_type": "code",
   "execution_count": 92,
   "metadata": {
    "colab": {},
    "colab_type": "code",
    "id": "lKnuZfzcD1BK"
   },
   "outputs": [],
   "source": [
    "dataset = pd.DataFrame(dados)"
   ]
  },
  {
   "cell_type": "code",
   "execution_count": 93,
   "metadata": {
    "colab": {},
    "colab_type": "code",
    "id": "PNqTytC-D1BL"
   },
   "outputs": [
    {
     "data": {
      "text/html": [
       "<div>\n",
       "<style scoped>\n",
       "    .dataframe tbody tr th:only-of-type {\n",
       "        vertical-align: middle;\n",
       "    }\n",
       "\n",
       "    .dataframe tbody tr th {\n",
       "        vertical-align: top;\n",
       "    }\n",
       "\n",
       "    .dataframe thead th {\n",
       "        text-align: right;\n",
       "    }\n",
       "</style>\n",
       "<table border=\"1\" class=\"dataframe\">\n",
       "  <thead>\n",
       "    <tr style=\"text-align: right;\">\n",
       "      <th></th>\n",
       "      <th>Nome</th>\n",
       "      <th>Motor</th>\n",
       "      <th>Ano</th>\n",
       "      <th>Quilometragem</th>\n",
       "      <th>Zero_km</th>\n",
       "      <th>Valor</th>\n",
       "    </tr>\n",
       "  </thead>\n",
       "  <tbody>\n",
       "    <tr>\n",
       "      <th>0</th>\n",
       "      <td>Jetta Variant</td>\n",
       "      <td>Motor 4.0 Turbo</td>\n",
       "      <td>2003</td>\n",
       "      <td>44410.0</td>\n",
       "      <td>False</td>\n",
       "      <td>88078.64</td>\n",
       "    </tr>\n",
       "    <tr>\n",
       "      <th>1</th>\n",
       "      <td>Passat</td>\n",
       "      <td>Motor Diesel</td>\n",
       "      <td>1991</td>\n",
       "      <td>5712.0</td>\n",
       "      <td>False</td>\n",
       "      <td>106161.94</td>\n",
       "    </tr>\n",
       "    <tr>\n",
       "      <th>2</th>\n",
       "      <td>Crossfox</td>\n",
       "      <td>Motor Diesel V8</td>\n",
       "      <td>1990</td>\n",
       "      <td>37123.0</td>\n",
       "      <td>False</td>\n",
       "      <td>72832.16</td>\n",
       "    </tr>\n",
       "  </tbody>\n",
       "</table>\n",
       "</div>"
      ],
      "text/plain": [
       "            Nome            Motor   Ano  Quilometragem  Zero_km      Valor\n",
       "0  Jetta Variant  Motor 4.0 Turbo  2003        44410.0    False   88078.64\n",
       "1         Passat     Motor Diesel  1991         5712.0    False  106161.94\n",
       "2       Crossfox  Motor Diesel V8  1990        37123.0    False   72832.16"
      ]
     },
     "execution_count": 93,
     "metadata": {},
     "output_type": "execute_result"
    }
   ],
   "source": [
    "dataset"
   ]
  },
  {
   "cell_type": "markdown",
   "metadata": {
    "colab_type": "text",
    "id": "fCCXs0reD1BL"
   },
   "source": [
    "### Criando um DataFrame a partir de uma arquivo externo"
   ]
  },
  {
   "cell_type": "code",
   "execution_count": 100,
   "metadata": {
    "colab": {},
    "colab_type": "code",
    "id": "78PRHGeZD1BL"
   },
   "outputs": [],
   "source": [
    "dataset = pd.read_csv('./data/db.csv', sep = ';', index_col = 0)"
   ]
  },
  {
   "cell_type": "code",
   "execution_count": 101,
   "metadata": {
    "colab": {},
    "colab_type": "code",
    "id": "1o1YlnVPD1BM",
    "scrolled": true
   },
   "outputs": [
    {
     "data": {
      "text/html": [
       "<div>\n",
       "<style scoped>\n",
       "    .dataframe tbody tr th:only-of-type {\n",
       "        vertical-align: middle;\n",
       "    }\n",
       "\n",
       "    .dataframe tbody tr th {\n",
       "        vertical-align: top;\n",
       "    }\n",
       "\n",
       "    .dataframe thead th {\n",
       "        text-align: right;\n",
       "    }\n",
       "</style>\n",
       "<table border=\"1\" class=\"dataframe\">\n",
       "  <thead>\n",
       "    <tr style=\"text-align: right;\">\n",
       "      <th></th>\n",
       "      <th>Motor</th>\n",
       "      <th>Ano</th>\n",
       "      <th>Quilometragem</th>\n",
       "      <th>Zero_km</th>\n",
       "      <th>Acessórios</th>\n",
       "      <th>Valor</th>\n",
       "    </tr>\n",
       "    <tr>\n",
       "      <th>Nome</th>\n",
       "      <th></th>\n",
       "      <th></th>\n",
       "      <th></th>\n",
       "      <th></th>\n",
       "      <th></th>\n",
       "      <th></th>\n",
       "    </tr>\n",
       "  </thead>\n",
       "  <tbody>\n",
       "    <tr>\n",
       "      <th>Jetta Variant</th>\n",
       "      <td>Motor 4.0 Turbo</td>\n",
       "      <td>2003</td>\n",
       "      <td>44410.0</td>\n",
       "      <td>False</td>\n",
       "      <td>['Rodas de liga', 'Travas elétricas', 'Piloto ...</td>\n",
       "      <td>88078.64</td>\n",
       "    </tr>\n",
       "    <tr>\n",
       "      <th>Passat</th>\n",
       "      <td>Motor Diesel</td>\n",
       "      <td>1991</td>\n",
       "      <td>5712.0</td>\n",
       "      <td>False</td>\n",
       "      <td>['Central multimídia', 'Teto panorâmico', 'Fre...</td>\n",
       "      <td>106161.94</td>\n",
       "    </tr>\n",
       "    <tr>\n",
       "      <th>Crossfox</th>\n",
       "      <td>Motor Diesel V8</td>\n",
       "      <td>1990</td>\n",
       "      <td>37123.0</td>\n",
       "      <td>False</td>\n",
       "      <td>['Piloto automático', 'Controle de estabilidad...</td>\n",
       "      <td>72832.16</td>\n",
       "    </tr>\n",
       "    <tr>\n",
       "      <th>DS5</th>\n",
       "      <td>Motor 2.4 Turbo</td>\n",
       "      <td>2019</td>\n",
       "      <td>NaN</td>\n",
       "      <td>True</td>\n",
       "      <td>['Travas elétricas', '4 X 4', 'Vidros elétrico...</td>\n",
       "      <td>124549.07</td>\n",
       "    </tr>\n",
       "    <tr>\n",
       "      <th>Aston Martin DB4</th>\n",
       "      <td>Motor 2.4 Turbo</td>\n",
       "      <td>2006</td>\n",
       "      <td>25757.0</td>\n",
       "      <td>False</td>\n",
       "      <td>['Rodas de liga', '4 X 4', 'Central multimídia...</td>\n",
       "      <td>92612.10</td>\n",
       "    </tr>\n",
       "    <tr>\n",
       "      <th>...</th>\n",
       "      <td>...</td>\n",
       "      <td>...</td>\n",
       "      <td>...</td>\n",
       "      <td>...</td>\n",
       "      <td>...</td>\n",
       "      <td>...</td>\n",
       "    </tr>\n",
       "    <tr>\n",
       "      <th>Phantom 2013</th>\n",
       "      <td>Motor V8</td>\n",
       "      <td>2014</td>\n",
       "      <td>27505.0</td>\n",
       "      <td>False</td>\n",
       "      <td>['Controle de estabilidade', 'Piloto automátic...</td>\n",
       "      <td>51759.58</td>\n",
       "    </tr>\n",
       "    <tr>\n",
       "      <th>Cadillac Ciel concept</th>\n",
       "      <td>Motor V8</td>\n",
       "      <td>1991</td>\n",
       "      <td>29981.0</td>\n",
       "      <td>False</td>\n",
       "      <td>['Bancos de couro', 'Painel digital', 'Sensor ...</td>\n",
       "      <td>51667.06</td>\n",
       "    </tr>\n",
       "    <tr>\n",
       "      <th>Classe GLK</th>\n",
       "      <td>Motor 5.0 V8 Bi-Turbo</td>\n",
       "      <td>2002</td>\n",
       "      <td>52637.0</td>\n",
       "      <td>False</td>\n",
       "      <td>['Rodas de liga', 'Controle de tração', 'Câmbi...</td>\n",
       "      <td>68934.03</td>\n",
       "    </tr>\n",
       "    <tr>\n",
       "      <th>Aston Martin DB5</th>\n",
       "      <td>Motor Diesel</td>\n",
       "      <td>1996</td>\n",
       "      <td>7685.0</td>\n",
       "      <td>False</td>\n",
       "      <td>['Ar condicionado', '4 X 4', 'Câmbio automátic...</td>\n",
       "      <td>122110.90</td>\n",
       "    </tr>\n",
       "    <tr>\n",
       "      <th>Macan</th>\n",
       "      <td>Motor Diesel V6</td>\n",
       "      <td>1992</td>\n",
       "      <td>50188.0</td>\n",
       "      <td>False</td>\n",
       "      <td>['Central multimídia', 'Teto panorâmico', 'Vid...</td>\n",
       "      <td>90381.47</td>\n",
       "    </tr>\n",
       "  </tbody>\n",
       "</table>\n",
       "<p>258 rows × 6 columns</p>\n",
       "</div>"
      ],
      "text/plain": [
       "                                       Motor   Ano  Quilometragem  Zero_km  \\\n",
       "Nome                                                                         \n",
       "Jetta Variant                Motor 4.0 Turbo  2003        44410.0    False   \n",
       "Passat                          Motor Diesel  1991         5712.0    False   \n",
       "Crossfox                     Motor Diesel V8  1990        37123.0    False   \n",
       "DS5                          Motor 2.4 Turbo  2019            NaN     True   \n",
       "Aston Martin DB4             Motor 2.4 Turbo  2006        25757.0    False   \n",
       "...                                      ...   ...            ...      ...   \n",
       "Phantom 2013                        Motor V8  2014        27505.0    False   \n",
       "Cadillac Ciel concept               Motor V8  1991        29981.0    False   \n",
       "Classe GLK             Motor 5.0 V8 Bi-Turbo  2002        52637.0    False   \n",
       "Aston Martin DB5                Motor Diesel  1996         7685.0    False   \n",
       "Macan                        Motor Diesel V6  1992        50188.0    False   \n",
       "\n",
       "                                                              Acessórios  \\\n",
       "Nome                                                                       \n",
       "Jetta Variant          ['Rodas de liga', 'Travas elétricas', 'Piloto ...   \n",
       "Passat                 ['Central multimídia', 'Teto panorâmico', 'Fre...   \n",
       "Crossfox               ['Piloto automático', 'Controle de estabilidad...   \n",
       "DS5                    ['Travas elétricas', '4 X 4', 'Vidros elétrico...   \n",
       "Aston Martin DB4       ['Rodas de liga', '4 X 4', 'Central multimídia...   \n",
       "...                                                                  ...   \n",
       "Phantom 2013           ['Controle de estabilidade', 'Piloto automátic...   \n",
       "Cadillac Ciel concept  ['Bancos de couro', 'Painel digital', 'Sensor ...   \n",
       "Classe GLK             ['Rodas de liga', 'Controle de tração', 'Câmbi...   \n",
       "Aston Martin DB5       ['Ar condicionado', '4 X 4', 'Câmbio automátic...   \n",
       "Macan                  ['Central multimídia', 'Teto panorâmico', 'Vid...   \n",
       "\n",
       "                           Valor  \n",
       "Nome                              \n",
       "Jetta Variant           88078.64  \n",
       "Passat                 106161.94  \n",
       "Crossfox                72832.16  \n",
       "DS5                    124549.07  \n",
       "Aston Martin DB4        92612.10  \n",
       "...                          ...  \n",
       "Phantom 2013            51759.58  \n",
       "Cadillac Ciel concept   51667.06  \n",
       "Classe GLK              68934.03  \n",
       "Aston Martin DB5       122110.90  \n",
       "Macan                   90381.47  \n",
       "\n",
       "[258 rows x 6 columns]"
      ]
     },
     "execution_count": 101,
     "metadata": {},
     "output_type": "execute_result"
    }
   ],
   "source": [
    "dataset"
   ]
  },
  {
   "cell_type": "markdown",
   "metadata": {
    "colab_type": "text",
    "id": "y5V-1AK-D1BN"
   },
   "source": [
    "# 5.2 Seleções com DataFrames"
   ]
  },
  {
   "cell_type": "code",
   "execution_count": 102,
   "metadata": {},
   "outputs": [
    {
     "data": {
      "text/html": [
       "<div>\n",
       "<style scoped>\n",
       "    .dataframe tbody tr th:only-of-type {\n",
       "        vertical-align: middle;\n",
       "    }\n",
       "\n",
       "    .dataframe tbody tr th {\n",
       "        vertical-align: top;\n",
       "    }\n",
       "\n",
       "    .dataframe thead th {\n",
       "        text-align: right;\n",
       "    }\n",
       "</style>\n",
       "<table border=\"1\" class=\"dataframe\">\n",
       "  <thead>\n",
       "    <tr style=\"text-align: right;\">\n",
       "      <th></th>\n",
       "      <th>Motor</th>\n",
       "      <th>Ano</th>\n",
       "      <th>Quilometragem</th>\n",
       "      <th>Zero_km</th>\n",
       "      <th>Acessórios</th>\n",
       "      <th>Valor</th>\n",
       "    </tr>\n",
       "    <tr>\n",
       "      <th>Nome</th>\n",
       "      <th></th>\n",
       "      <th></th>\n",
       "      <th></th>\n",
       "      <th></th>\n",
       "      <th></th>\n",
       "      <th></th>\n",
       "    </tr>\n",
       "  </thead>\n",
       "  <tbody>\n",
       "    <tr>\n",
       "      <th>Jetta Variant</th>\n",
       "      <td>Motor 4.0 Turbo</td>\n",
       "      <td>2003</td>\n",
       "      <td>44410.0</td>\n",
       "      <td>False</td>\n",
       "      <td>['Rodas de liga', 'Travas elétricas', 'Piloto ...</td>\n",
       "      <td>88078.64</td>\n",
       "    </tr>\n",
       "    <tr>\n",
       "      <th>Passat</th>\n",
       "      <td>Motor Diesel</td>\n",
       "      <td>1991</td>\n",
       "      <td>5712.0</td>\n",
       "      <td>False</td>\n",
       "      <td>['Central multimídia', 'Teto panorâmico', 'Fre...</td>\n",
       "      <td>106161.94</td>\n",
       "    </tr>\n",
       "    <tr>\n",
       "      <th>Crossfox</th>\n",
       "      <td>Motor Diesel V8</td>\n",
       "      <td>1990</td>\n",
       "      <td>37123.0</td>\n",
       "      <td>False</td>\n",
       "      <td>['Piloto automático', 'Controle de estabilidad...</td>\n",
       "      <td>72832.16</td>\n",
       "    </tr>\n",
       "    <tr>\n",
       "      <th>DS5</th>\n",
       "      <td>Motor 2.4 Turbo</td>\n",
       "      <td>2019</td>\n",
       "      <td>NaN</td>\n",
       "      <td>True</td>\n",
       "      <td>['Travas elétricas', '4 X 4', 'Vidros elétrico...</td>\n",
       "      <td>124549.07</td>\n",
       "    </tr>\n",
       "    <tr>\n",
       "      <th>Aston Martin DB4</th>\n",
       "      <td>Motor 2.4 Turbo</td>\n",
       "      <td>2006</td>\n",
       "      <td>25757.0</td>\n",
       "      <td>False</td>\n",
       "      <td>['Rodas de liga', '4 X 4', 'Central multimídia...</td>\n",
       "      <td>92612.10</td>\n",
       "    </tr>\n",
       "  </tbody>\n",
       "</table>\n",
       "</div>"
      ],
      "text/plain": [
       "                            Motor   Ano  Quilometragem  Zero_km  \\\n",
       "Nome                                                              \n",
       "Jetta Variant     Motor 4.0 Turbo  2003        44410.0    False   \n",
       "Passat               Motor Diesel  1991         5712.0    False   \n",
       "Crossfox          Motor Diesel V8  1990        37123.0    False   \n",
       "DS5               Motor 2.4 Turbo  2019            NaN     True   \n",
       "Aston Martin DB4  Motor 2.4 Turbo  2006        25757.0    False   \n",
       "\n",
       "                                                         Acessórios      Valor  \n",
       "Nome                                                                            \n",
       "Jetta Variant     ['Rodas de liga', 'Travas elétricas', 'Piloto ...   88078.64  \n",
       "Passat            ['Central multimídia', 'Teto panorâmico', 'Fre...  106161.94  \n",
       "Crossfox          ['Piloto automático', 'Controle de estabilidad...   72832.16  \n",
       "DS5               ['Travas elétricas', '4 X 4', 'Vidros elétrico...  124549.07  \n",
       "Aston Martin DB4  ['Rodas de liga', '4 X 4', 'Central multimídia...   92612.10  "
      ]
     },
     "execution_count": 102,
     "metadata": {},
     "output_type": "execute_result"
    }
   ],
   "source": [
    "dataset.head()"
   ]
  },
  {
   "cell_type": "markdown",
   "metadata": {
    "colab_type": "text",
    "id": "wZjqlHe9D1BN"
   },
   "source": [
    "### Selecionando colunas"
   ]
  },
  {
   "cell_type": "code",
   "execution_count": 103,
   "metadata": {
    "colab": {},
    "colab_type": "code",
    "id": "gM3LbtzlD1BN",
    "scrolled": true
   },
   "outputs": [
    {
     "data": {
      "text/plain": [
       "Nome\n",
       "Jetta Variant             88078.64\n",
       "Passat                   106161.94\n",
       "Crossfox                  72832.16\n",
       "DS5                      124549.07\n",
       "Aston Martin DB4          92612.10\n",
       "                           ...    \n",
       "Phantom 2013              51759.58\n",
       "Cadillac Ciel concept     51667.06\n",
       "Classe GLK                68934.03\n",
       "Aston Martin DB5         122110.90\n",
       "Macan                     90381.47\n",
       "Name: Valor, Length: 258, dtype: float64"
      ]
     },
     "execution_count": 103,
     "metadata": {},
     "output_type": "execute_result"
    }
   ],
   "source": [
    "dataset['Valor']"
   ]
  },
  {
   "cell_type": "code",
   "execution_count": 104,
   "metadata": {
    "colab": {},
    "colab_type": "code",
    "id": "R2FWgCM_D1BO"
   },
   "outputs": [
    {
     "data": {
      "text/plain": [
       "pandas.core.series.Series"
      ]
     },
     "execution_count": 104,
     "metadata": {},
     "output_type": "execute_result"
    }
   ],
   "source": [
    "type(dataset['Valor'])"
   ]
  },
  {
   "cell_type": "code",
   "execution_count": 105,
   "metadata": {
    "colab": {},
    "colab_type": "code",
    "id": "lCCumsxsD1BP",
    "scrolled": true
   },
   "outputs": [
    {
     "data": {
      "text/html": [
       "<div>\n",
       "<style scoped>\n",
       "    .dataframe tbody tr th:only-of-type {\n",
       "        vertical-align: middle;\n",
       "    }\n",
       "\n",
       "    .dataframe tbody tr th {\n",
       "        vertical-align: top;\n",
       "    }\n",
       "\n",
       "    .dataframe thead th {\n",
       "        text-align: right;\n",
       "    }\n",
       "</style>\n",
       "<table border=\"1\" class=\"dataframe\">\n",
       "  <thead>\n",
       "    <tr style=\"text-align: right;\">\n",
       "      <th></th>\n",
       "      <th>Valor</th>\n",
       "    </tr>\n",
       "    <tr>\n",
       "      <th>Nome</th>\n",
       "      <th></th>\n",
       "    </tr>\n",
       "  </thead>\n",
       "  <tbody>\n",
       "    <tr>\n",
       "      <th>Jetta Variant</th>\n",
       "      <td>88078.64</td>\n",
       "    </tr>\n",
       "    <tr>\n",
       "      <th>Passat</th>\n",
       "      <td>106161.94</td>\n",
       "    </tr>\n",
       "    <tr>\n",
       "      <th>Crossfox</th>\n",
       "      <td>72832.16</td>\n",
       "    </tr>\n",
       "    <tr>\n",
       "      <th>DS5</th>\n",
       "      <td>124549.07</td>\n",
       "    </tr>\n",
       "    <tr>\n",
       "      <th>Aston Martin DB4</th>\n",
       "      <td>92612.10</td>\n",
       "    </tr>\n",
       "    <tr>\n",
       "      <th>...</th>\n",
       "      <td>...</td>\n",
       "    </tr>\n",
       "    <tr>\n",
       "      <th>Phantom 2013</th>\n",
       "      <td>51759.58</td>\n",
       "    </tr>\n",
       "    <tr>\n",
       "      <th>Cadillac Ciel concept</th>\n",
       "      <td>51667.06</td>\n",
       "    </tr>\n",
       "    <tr>\n",
       "      <th>Classe GLK</th>\n",
       "      <td>68934.03</td>\n",
       "    </tr>\n",
       "    <tr>\n",
       "      <th>Aston Martin DB5</th>\n",
       "      <td>122110.90</td>\n",
       "    </tr>\n",
       "    <tr>\n",
       "      <th>Macan</th>\n",
       "      <td>90381.47</td>\n",
       "    </tr>\n",
       "  </tbody>\n",
       "</table>\n",
       "<p>258 rows × 1 columns</p>\n",
       "</div>"
      ],
      "text/plain": [
       "                           Valor\n",
       "Nome                            \n",
       "Jetta Variant           88078.64\n",
       "Passat                 106161.94\n",
       "Crossfox                72832.16\n",
       "DS5                    124549.07\n",
       "Aston Martin DB4        92612.10\n",
       "...                          ...\n",
       "Phantom 2013            51759.58\n",
       "Cadillac Ciel concept   51667.06\n",
       "Classe GLK              68934.03\n",
       "Aston Martin DB5       122110.90\n",
       "Macan                   90381.47\n",
       "\n",
       "[258 rows x 1 columns]"
      ]
     },
     "execution_count": 105,
     "metadata": {},
     "output_type": "execute_result"
    }
   ],
   "source": [
    "dataset[['Valor']]"
   ]
  },
  {
   "cell_type": "code",
   "execution_count": 106,
   "metadata": {
    "colab": {},
    "colab_type": "code",
    "id": "zxlyC3B8D1BP"
   },
   "outputs": [
    {
     "data": {
      "text/plain": [
       "pandas.core.frame.DataFrame"
      ]
     },
     "execution_count": 106,
     "metadata": {},
     "output_type": "execute_result"
    }
   ],
   "source": [
    "type(dataset[['Valor']])"
   ]
  },
  {
   "cell_type": "markdown",
   "metadata": {
    "colab_type": "text",
    "id": "7RPXPm1XD1BQ"
   },
   "source": [
    "### Selecionando linhas - [ i : j ] \n",
    "\n",
    "<font color=red>**Observação:**</font> A indexação tem origem no zero e nos fatiamentos (*slices*) a linha com índice i é **incluída** e a linha com índice j **não é incluída** no resultado."
   ]
  },
  {
   "cell_type": "code",
   "execution_count": 107,
   "metadata": {
    "colab": {},
    "colab_type": "code",
    "id": "PdDUwPw3D1BQ"
   },
   "outputs": [
    {
     "data": {
      "text/html": [
       "<div>\n",
       "<style scoped>\n",
       "    .dataframe tbody tr th:only-of-type {\n",
       "        vertical-align: middle;\n",
       "    }\n",
       "\n",
       "    .dataframe tbody tr th {\n",
       "        vertical-align: top;\n",
       "    }\n",
       "\n",
       "    .dataframe thead th {\n",
       "        text-align: right;\n",
       "    }\n",
       "</style>\n",
       "<table border=\"1\" class=\"dataframe\">\n",
       "  <thead>\n",
       "    <tr style=\"text-align: right;\">\n",
       "      <th></th>\n",
       "      <th>Motor</th>\n",
       "      <th>Ano</th>\n",
       "      <th>Quilometragem</th>\n",
       "      <th>Zero_km</th>\n",
       "      <th>Acessórios</th>\n",
       "      <th>Valor</th>\n",
       "    </tr>\n",
       "    <tr>\n",
       "      <th>Nome</th>\n",
       "      <th></th>\n",
       "      <th></th>\n",
       "      <th></th>\n",
       "      <th></th>\n",
       "      <th></th>\n",
       "      <th></th>\n",
       "    </tr>\n",
       "  </thead>\n",
       "  <tbody>\n",
       "    <tr>\n",
       "      <th>Jetta Variant</th>\n",
       "      <td>Motor 4.0 Turbo</td>\n",
       "      <td>2003</td>\n",
       "      <td>44410.0</td>\n",
       "      <td>False</td>\n",
       "      <td>['Rodas de liga', 'Travas elétricas', 'Piloto ...</td>\n",
       "      <td>88078.64</td>\n",
       "    </tr>\n",
       "    <tr>\n",
       "      <th>Passat</th>\n",
       "      <td>Motor Diesel</td>\n",
       "      <td>1991</td>\n",
       "      <td>5712.0</td>\n",
       "      <td>False</td>\n",
       "      <td>['Central multimídia', 'Teto panorâmico', 'Fre...</td>\n",
       "      <td>106161.94</td>\n",
       "    </tr>\n",
       "    <tr>\n",
       "      <th>Crossfox</th>\n",
       "      <td>Motor Diesel V8</td>\n",
       "      <td>1990</td>\n",
       "      <td>37123.0</td>\n",
       "      <td>False</td>\n",
       "      <td>['Piloto automático', 'Controle de estabilidad...</td>\n",
       "      <td>72832.16</td>\n",
       "    </tr>\n",
       "    <tr>\n",
       "      <th>DS5</th>\n",
       "      <td>Motor 2.4 Turbo</td>\n",
       "      <td>2019</td>\n",
       "      <td>NaN</td>\n",
       "      <td>True</td>\n",
       "      <td>['Travas elétricas', '4 X 4', 'Vidros elétrico...</td>\n",
       "      <td>124549.07</td>\n",
       "    </tr>\n",
       "  </tbody>\n",
       "</table>\n",
       "</div>"
      ],
      "text/plain": [
       "                         Motor   Ano  Quilometragem  Zero_km  \\\n",
       "Nome                                                           \n",
       "Jetta Variant  Motor 4.0 Turbo  2003        44410.0    False   \n",
       "Passat            Motor Diesel  1991         5712.0    False   \n",
       "Crossfox       Motor Diesel V8  1990        37123.0    False   \n",
       "DS5            Motor 2.4 Turbo  2019            NaN     True   \n",
       "\n",
       "                                                      Acessórios      Valor  \n",
       "Nome                                                                         \n",
       "Jetta Variant  ['Rodas de liga', 'Travas elétricas', 'Piloto ...   88078.64  \n",
       "Passat         ['Central multimídia', 'Teto panorâmico', 'Fre...  106161.94  \n",
       "Crossfox       ['Piloto automático', 'Controle de estabilidad...   72832.16  \n",
       "DS5            ['Travas elétricas', '4 X 4', 'Vidros elétrico...  124549.07  "
      ]
     },
     "execution_count": 107,
     "metadata": {},
     "output_type": "execute_result"
    }
   ],
   "source": [
    "dataset[0:4]"
   ]
  },
  {
   "cell_type": "markdown",
   "metadata": {
    "colab_type": "text",
    "id": "G3DMSk97D1BR"
   },
   "source": [
    "### Utilizando .loc para seleções\n",
    "\n",
    "<font color=red>**Observação:**</font> Seleciona um grupo de linhas e colunas segundo os rótulos ou uma matriz booleana."
   ]
  },
  {
   "cell_type": "code",
   "execution_count": 109,
   "metadata": {
    "colab": {},
    "colab_type": "code",
    "id": "Ftg-hNOoD1BR"
   },
   "outputs": [
    {
     "data": {
      "text/plain": [
       "Motor                                                 Motor Diesel\n",
       "Ano                                                           1991\n",
       "Quilometragem                                               5712.0\n",
       "Zero_km                                                      False\n",
       "Acessórios       ['Central multimídia', 'Teto panorâmico', 'Fre...\n",
       "Valor                                                    106161.94\n",
       "Name: Passat, dtype: object"
      ]
     },
     "execution_count": 109,
     "metadata": {},
     "output_type": "execute_result"
    }
   ],
   "source": [
    "dataset.loc['Passat']"
   ]
  },
  {
   "cell_type": "code",
   "execution_count": 110,
   "metadata": {
    "colab": {},
    "colab_type": "code",
    "id": "xdxkDrHvD1BS"
   },
   "outputs": [
    {
     "data": {
      "text/html": [
       "<div>\n",
       "<style scoped>\n",
       "    .dataframe tbody tr th:only-of-type {\n",
       "        vertical-align: middle;\n",
       "    }\n",
       "\n",
       "    .dataframe tbody tr th {\n",
       "        vertical-align: top;\n",
       "    }\n",
       "\n",
       "    .dataframe thead th {\n",
       "        text-align: right;\n",
       "    }\n",
       "</style>\n",
       "<table border=\"1\" class=\"dataframe\">\n",
       "  <thead>\n",
       "    <tr style=\"text-align: right;\">\n",
       "      <th></th>\n",
       "      <th>Motor</th>\n",
       "      <th>Ano</th>\n",
       "      <th>Quilometragem</th>\n",
       "      <th>Zero_km</th>\n",
       "      <th>Acessórios</th>\n",
       "      <th>Valor</th>\n",
       "    </tr>\n",
       "    <tr>\n",
       "      <th>Nome</th>\n",
       "      <th></th>\n",
       "      <th></th>\n",
       "      <th></th>\n",
       "      <th></th>\n",
       "      <th></th>\n",
       "      <th></th>\n",
       "    </tr>\n",
       "  </thead>\n",
       "  <tbody>\n",
       "    <tr>\n",
       "      <th>Passat</th>\n",
       "      <td>Motor Diesel</td>\n",
       "      <td>1991</td>\n",
       "      <td>5712.0</td>\n",
       "      <td>False</td>\n",
       "      <td>['Central multimídia', 'Teto panorâmico', 'Fre...</td>\n",
       "      <td>106161.94</td>\n",
       "    </tr>\n",
       "    <tr>\n",
       "      <th>DS5</th>\n",
       "      <td>Motor 2.4 Turbo</td>\n",
       "      <td>2019</td>\n",
       "      <td>NaN</td>\n",
       "      <td>True</td>\n",
       "      <td>['Travas elétricas', '4 X 4', 'Vidros elétrico...</td>\n",
       "      <td>124549.07</td>\n",
       "    </tr>\n",
       "  </tbody>\n",
       "</table>\n",
       "</div>"
      ],
      "text/plain": [
       "                  Motor   Ano  Quilometragem  Zero_km  \\\n",
       "Nome                                                    \n",
       "Passat     Motor Diesel  1991         5712.0    False   \n",
       "DS5     Motor 2.4 Turbo  2019            NaN     True   \n",
       "\n",
       "                                               Acessórios      Valor  \n",
       "Nome                                                                  \n",
       "Passat  ['Central multimídia', 'Teto panorâmico', 'Fre...  106161.94  \n",
       "DS5     ['Travas elétricas', '4 X 4', 'Vidros elétrico...  124549.07  "
      ]
     },
     "execution_count": 110,
     "metadata": {},
     "output_type": "execute_result"
    }
   ],
   "source": [
    "dataset.loc[['Passat', 'DS5']]"
   ]
  },
  {
   "cell_type": "code",
   "execution_count": 111,
   "metadata": {
    "colab": {},
    "colab_type": "code",
    "id": "pMN3U1KjD1BS"
   },
   "outputs": [
    {
     "data": {
      "text/html": [
       "<div>\n",
       "<style scoped>\n",
       "    .dataframe tbody tr th:only-of-type {\n",
       "        vertical-align: middle;\n",
       "    }\n",
       "\n",
       "    .dataframe tbody tr th {\n",
       "        vertical-align: top;\n",
       "    }\n",
       "\n",
       "    .dataframe thead th {\n",
       "        text-align: right;\n",
       "    }\n",
       "</style>\n",
       "<table border=\"1\" class=\"dataframe\">\n",
       "  <thead>\n",
       "    <tr style=\"text-align: right;\">\n",
       "      <th></th>\n",
       "      <th>Motor</th>\n",
       "      <th>Valor</th>\n",
       "    </tr>\n",
       "    <tr>\n",
       "      <th>Nome</th>\n",
       "      <th></th>\n",
       "      <th></th>\n",
       "    </tr>\n",
       "  </thead>\n",
       "  <tbody>\n",
       "    <tr>\n",
       "      <th>Passat</th>\n",
       "      <td>Motor Diesel</td>\n",
       "      <td>106161.94</td>\n",
       "    </tr>\n",
       "    <tr>\n",
       "      <th>DS5</th>\n",
       "      <td>Motor 2.4 Turbo</td>\n",
       "      <td>124549.07</td>\n",
       "    </tr>\n",
       "  </tbody>\n",
       "</table>\n",
       "</div>"
      ],
      "text/plain": [
       "                  Motor      Valor\n",
       "Nome                              \n",
       "Passat     Motor Diesel  106161.94\n",
       "DS5     Motor 2.4 Turbo  124549.07"
      ]
     },
     "execution_count": 111,
     "metadata": {},
     "output_type": "execute_result"
    }
   ],
   "source": [
    "dataset.loc[['Passat', 'DS5'], ['Motor', 'Valor']]"
   ]
  },
  {
   "cell_type": "code",
   "execution_count": 112,
   "metadata": {
    "colab": {},
    "colab_type": "code",
    "id": "oOEO72uZD1BT",
    "scrolled": true
   },
   "outputs": [
    {
     "data": {
      "text/html": [
       "<div>\n",
       "<style scoped>\n",
       "    .dataframe tbody tr th:only-of-type {\n",
       "        vertical-align: middle;\n",
       "    }\n",
       "\n",
       "    .dataframe tbody tr th {\n",
       "        vertical-align: top;\n",
       "    }\n",
       "\n",
       "    .dataframe thead th {\n",
       "        text-align: right;\n",
       "    }\n",
       "</style>\n",
       "<table border=\"1\" class=\"dataframe\">\n",
       "  <thead>\n",
       "    <tr style=\"text-align: right;\">\n",
       "      <th></th>\n",
       "      <th>Motor</th>\n",
       "      <th>Valor</th>\n",
       "    </tr>\n",
       "    <tr>\n",
       "      <th>Nome</th>\n",
       "      <th></th>\n",
       "      <th></th>\n",
       "    </tr>\n",
       "  </thead>\n",
       "  <tbody>\n",
       "    <tr>\n",
       "      <th>Jetta Variant</th>\n",
       "      <td>Motor 4.0 Turbo</td>\n",
       "      <td>88078.64</td>\n",
       "    </tr>\n",
       "    <tr>\n",
       "      <th>Passat</th>\n",
       "      <td>Motor Diesel</td>\n",
       "      <td>106161.94</td>\n",
       "    </tr>\n",
       "    <tr>\n",
       "      <th>Crossfox</th>\n",
       "      <td>Motor Diesel V8</td>\n",
       "      <td>72832.16</td>\n",
       "    </tr>\n",
       "    <tr>\n",
       "      <th>DS5</th>\n",
       "      <td>Motor 2.4 Turbo</td>\n",
       "      <td>124549.07</td>\n",
       "    </tr>\n",
       "    <tr>\n",
       "      <th>Aston Martin DB4</th>\n",
       "      <td>Motor 2.4 Turbo</td>\n",
       "      <td>92612.10</td>\n",
       "    </tr>\n",
       "    <tr>\n",
       "      <th>...</th>\n",
       "      <td>...</td>\n",
       "      <td>...</td>\n",
       "    </tr>\n",
       "    <tr>\n",
       "      <th>Phantom 2013</th>\n",
       "      <td>Motor V8</td>\n",
       "      <td>51759.58</td>\n",
       "    </tr>\n",
       "    <tr>\n",
       "      <th>Cadillac Ciel concept</th>\n",
       "      <td>Motor V8</td>\n",
       "      <td>51667.06</td>\n",
       "    </tr>\n",
       "    <tr>\n",
       "      <th>Classe GLK</th>\n",
       "      <td>Motor 5.0 V8 Bi-Turbo</td>\n",
       "      <td>68934.03</td>\n",
       "    </tr>\n",
       "    <tr>\n",
       "      <th>Aston Martin DB5</th>\n",
       "      <td>Motor Diesel</td>\n",
       "      <td>122110.90</td>\n",
       "    </tr>\n",
       "    <tr>\n",
       "      <th>Macan</th>\n",
       "      <td>Motor Diesel V6</td>\n",
       "      <td>90381.47</td>\n",
       "    </tr>\n",
       "  </tbody>\n",
       "</table>\n",
       "<p>258 rows × 2 columns</p>\n",
       "</div>"
      ],
      "text/plain": [
       "                                       Motor      Valor\n",
       "Nome                                                   \n",
       "Jetta Variant                Motor 4.0 Turbo   88078.64\n",
       "Passat                          Motor Diesel  106161.94\n",
       "Crossfox                     Motor Diesel V8   72832.16\n",
       "DS5                          Motor 2.4 Turbo  124549.07\n",
       "Aston Martin DB4             Motor 2.4 Turbo   92612.10\n",
       "...                                      ...        ...\n",
       "Phantom 2013                        Motor V8   51759.58\n",
       "Cadillac Ciel concept               Motor V8   51667.06\n",
       "Classe GLK             Motor 5.0 V8 Bi-Turbo   68934.03\n",
       "Aston Martin DB5                Motor Diesel  122110.90\n",
       "Macan                        Motor Diesel V6   90381.47\n",
       "\n",
       "[258 rows x 2 columns]"
      ]
     },
     "execution_count": 112,
     "metadata": {},
     "output_type": "execute_result"
    }
   ],
   "source": [
    "dataset.loc[:, ['Motor', 'Valor']]"
   ]
  },
  {
   "cell_type": "markdown",
   "metadata": {
    "colab_type": "text",
    "id": "SYKEe3vCD1BT"
   },
   "source": [
    "### Utilizando .iloc para seleções\n",
    "\n",
    "<font color=red>**Observação:**</font> Seleciona com base nos índices, ou seja, se baseia na posição das informações."
   ]
  },
  {
   "cell_type": "code",
   "execution_count": 115,
   "metadata": {},
   "outputs": [
    {
     "data": {
      "text/html": [
       "<div>\n",
       "<style scoped>\n",
       "    .dataframe tbody tr th:only-of-type {\n",
       "        vertical-align: middle;\n",
       "    }\n",
       "\n",
       "    .dataframe tbody tr th {\n",
       "        vertical-align: top;\n",
       "    }\n",
       "\n",
       "    .dataframe thead th {\n",
       "        text-align: right;\n",
       "    }\n",
       "</style>\n",
       "<table border=\"1\" class=\"dataframe\">\n",
       "  <thead>\n",
       "    <tr style=\"text-align: right;\">\n",
       "      <th></th>\n",
       "      <th>Motor</th>\n",
       "      <th>Ano</th>\n",
       "      <th>Quilometragem</th>\n",
       "      <th>Zero_km</th>\n",
       "      <th>Acessórios</th>\n",
       "      <th>Valor</th>\n",
       "    </tr>\n",
       "    <tr>\n",
       "      <th>Nome</th>\n",
       "      <th></th>\n",
       "      <th></th>\n",
       "      <th></th>\n",
       "      <th></th>\n",
       "      <th></th>\n",
       "      <th></th>\n",
       "    </tr>\n",
       "  </thead>\n",
       "  <tbody>\n",
       "    <tr>\n",
       "      <th>Jetta Variant</th>\n",
       "      <td>Motor 4.0 Turbo</td>\n",
       "      <td>2003</td>\n",
       "      <td>44410.0</td>\n",
       "      <td>False</td>\n",
       "      <td>['Rodas de liga', 'Travas elétricas', 'Piloto ...</td>\n",
       "      <td>88078.64</td>\n",
       "    </tr>\n",
       "    <tr>\n",
       "      <th>Passat</th>\n",
       "      <td>Motor Diesel</td>\n",
       "      <td>1991</td>\n",
       "      <td>5712.0</td>\n",
       "      <td>False</td>\n",
       "      <td>['Central multimídia', 'Teto panorâmico', 'Fre...</td>\n",
       "      <td>106161.94</td>\n",
       "    </tr>\n",
       "    <tr>\n",
       "      <th>Crossfox</th>\n",
       "      <td>Motor Diesel V8</td>\n",
       "      <td>1990</td>\n",
       "      <td>37123.0</td>\n",
       "      <td>False</td>\n",
       "      <td>['Piloto automático', 'Controle de estabilidad...</td>\n",
       "      <td>72832.16</td>\n",
       "    </tr>\n",
       "    <tr>\n",
       "      <th>DS5</th>\n",
       "      <td>Motor 2.4 Turbo</td>\n",
       "      <td>2019</td>\n",
       "      <td>NaN</td>\n",
       "      <td>True</td>\n",
       "      <td>['Travas elétricas', '4 X 4', 'Vidros elétrico...</td>\n",
       "      <td>124549.07</td>\n",
       "    </tr>\n",
       "    <tr>\n",
       "      <th>Aston Martin DB4</th>\n",
       "      <td>Motor 2.4 Turbo</td>\n",
       "      <td>2006</td>\n",
       "      <td>25757.0</td>\n",
       "      <td>False</td>\n",
       "      <td>['Rodas de liga', '4 X 4', 'Central multimídia...</td>\n",
       "      <td>92612.10</td>\n",
       "    </tr>\n",
       "    <tr>\n",
       "      <th>...</th>\n",
       "      <td>...</td>\n",
       "      <td>...</td>\n",
       "      <td>...</td>\n",
       "      <td>...</td>\n",
       "      <td>...</td>\n",
       "      <td>...</td>\n",
       "    </tr>\n",
       "    <tr>\n",
       "      <th>Phantom 2013</th>\n",
       "      <td>Motor V8</td>\n",
       "      <td>2014</td>\n",
       "      <td>27505.0</td>\n",
       "      <td>False</td>\n",
       "      <td>['Controle de estabilidade', 'Piloto automátic...</td>\n",
       "      <td>51759.58</td>\n",
       "    </tr>\n",
       "    <tr>\n",
       "      <th>Cadillac Ciel concept</th>\n",
       "      <td>Motor V8</td>\n",
       "      <td>1991</td>\n",
       "      <td>29981.0</td>\n",
       "      <td>False</td>\n",
       "      <td>['Bancos de couro', 'Painel digital', 'Sensor ...</td>\n",
       "      <td>51667.06</td>\n",
       "    </tr>\n",
       "    <tr>\n",
       "      <th>Classe GLK</th>\n",
       "      <td>Motor 5.0 V8 Bi-Turbo</td>\n",
       "      <td>2002</td>\n",
       "      <td>52637.0</td>\n",
       "      <td>False</td>\n",
       "      <td>['Rodas de liga', 'Controle de tração', 'Câmbi...</td>\n",
       "      <td>68934.03</td>\n",
       "    </tr>\n",
       "    <tr>\n",
       "      <th>Aston Martin DB5</th>\n",
       "      <td>Motor Diesel</td>\n",
       "      <td>1996</td>\n",
       "      <td>7685.0</td>\n",
       "      <td>False</td>\n",
       "      <td>['Ar condicionado', '4 X 4', 'Câmbio automátic...</td>\n",
       "      <td>122110.90</td>\n",
       "    </tr>\n",
       "    <tr>\n",
       "      <th>Macan</th>\n",
       "      <td>Motor Diesel V6</td>\n",
       "      <td>1992</td>\n",
       "      <td>50188.0</td>\n",
       "      <td>False</td>\n",
       "      <td>['Central multimídia', 'Teto panorâmico', 'Vid...</td>\n",
       "      <td>90381.47</td>\n",
       "    </tr>\n",
       "  </tbody>\n",
       "</table>\n",
       "<p>258 rows × 6 columns</p>\n",
       "</div>"
      ],
      "text/plain": [
       "                                       Motor   Ano  Quilometragem  Zero_km  \\\n",
       "Nome                                                                         \n",
       "Jetta Variant                Motor 4.0 Turbo  2003        44410.0    False   \n",
       "Passat                          Motor Diesel  1991         5712.0    False   \n",
       "Crossfox                     Motor Diesel V8  1990        37123.0    False   \n",
       "DS5                          Motor 2.4 Turbo  2019            NaN     True   \n",
       "Aston Martin DB4             Motor 2.4 Turbo  2006        25757.0    False   \n",
       "...                                      ...   ...            ...      ...   \n",
       "Phantom 2013                        Motor V8  2014        27505.0    False   \n",
       "Cadillac Ciel concept               Motor V8  1991        29981.0    False   \n",
       "Classe GLK             Motor 5.0 V8 Bi-Turbo  2002        52637.0    False   \n",
       "Aston Martin DB5                Motor Diesel  1996         7685.0    False   \n",
       "Macan                        Motor Diesel V6  1992        50188.0    False   \n",
       "\n",
       "                                                              Acessórios  \\\n",
       "Nome                                                                       \n",
       "Jetta Variant          ['Rodas de liga', 'Travas elétricas', 'Piloto ...   \n",
       "Passat                 ['Central multimídia', 'Teto panorâmico', 'Fre...   \n",
       "Crossfox               ['Piloto automático', 'Controle de estabilidad...   \n",
       "DS5                    ['Travas elétricas', '4 X 4', 'Vidros elétrico...   \n",
       "Aston Martin DB4       ['Rodas de liga', '4 X 4', 'Central multimídia...   \n",
       "...                                                                  ...   \n",
       "Phantom 2013           ['Controle de estabilidade', 'Piloto automátic...   \n",
       "Cadillac Ciel concept  ['Bancos de couro', 'Painel digital', 'Sensor ...   \n",
       "Classe GLK             ['Rodas de liga', 'Controle de tração', 'Câmbi...   \n",
       "Aston Martin DB5       ['Ar condicionado', '4 X 4', 'Câmbio automátic...   \n",
       "Macan                  ['Central multimídia', 'Teto panorâmico', 'Vid...   \n",
       "\n",
       "                           Valor  \n",
       "Nome                              \n",
       "Jetta Variant           88078.64  \n",
       "Passat                 106161.94  \n",
       "Crossfox                72832.16  \n",
       "DS5                    124549.07  \n",
       "Aston Martin DB4        92612.10  \n",
       "...                          ...  \n",
       "Phantom 2013            51759.58  \n",
       "Cadillac Ciel concept   51667.06  \n",
       "Classe GLK              68934.03  \n",
       "Aston Martin DB5       122110.90  \n",
       "Macan                   90381.47  \n",
       "\n",
       "[258 rows x 6 columns]"
      ]
     },
     "execution_count": 115,
     "metadata": {},
     "output_type": "execute_result"
    }
   ],
   "source": [
    "dataset"
   ]
  },
  {
   "cell_type": "code",
   "execution_count": 114,
   "metadata": {
    "colab": {},
    "colab_type": "code",
    "id": "U4Bru90bD1BT"
   },
   "outputs": [
    {
     "data": {
      "text/html": [
       "<div>\n",
       "<style scoped>\n",
       "    .dataframe tbody tr th:only-of-type {\n",
       "        vertical-align: middle;\n",
       "    }\n",
       "\n",
       "    .dataframe tbody tr th {\n",
       "        vertical-align: top;\n",
       "    }\n",
       "\n",
       "    .dataframe thead th {\n",
       "        text-align: right;\n",
       "    }\n",
       "</style>\n",
       "<table border=\"1\" class=\"dataframe\">\n",
       "  <thead>\n",
       "    <tr style=\"text-align: right;\">\n",
       "      <th></th>\n",
       "      <th>Motor</th>\n",
       "      <th>Ano</th>\n",
       "      <th>Quilometragem</th>\n",
       "      <th>Zero_km</th>\n",
       "      <th>Acessórios</th>\n",
       "      <th>Valor</th>\n",
       "    </tr>\n",
       "    <tr>\n",
       "      <th>Nome</th>\n",
       "      <th></th>\n",
       "      <th></th>\n",
       "      <th></th>\n",
       "      <th></th>\n",
       "      <th></th>\n",
       "      <th></th>\n",
       "    </tr>\n",
       "  </thead>\n",
       "  <tbody>\n",
       "    <tr>\n",
       "      <th>Passat</th>\n",
       "      <td>Motor Diesel</td>\n",
       "      <td>1991</td>\n",
       "      <td>5712.0</td>\n",
       "      <td>False</td>\n",
       "      <td>['Central multimídia', 'Teto panorâmico', 'Fre...</td>\n",
       "      <td>106161.94</td>\n",
       "    </tr>\n",
       "  </tbody>\n",
       "</table>\n",
       "</div>"
      ],
      "text/plain": [
       "               Motor   Ano  Quilometragem  Zero_km  \\\n",
       "Nome                                                 \n",
       "Passat  Motor Diesel  1991         5712.0    False   \n",
       "\n",
       "                                               Acessórios      Valor  \n",
       "Nome                                                                  \n",
       "Passat  ['Central multimídia', 'Teto panorâmico', 'Fre...  106161.94  "
      ]
     },
     "execution_count": 114,
     "metadata": {},
     "output_type": "execute_result"
    }
   ],
   "source": [
    "dataset.iloc[[1]]"
   ]
  },
  {
   "cell_type": "code",
   "execution_count": 116,
   "metadata": {
    "colab": {},
    "colab_type": "code",
    "id": "iLKUyrzND1BU"
   },
   "outputs": [
    {
     "data": {
      "text/html": [
       "<div>\n",
       "<style scoped>\n",
       "    .dataframe tbody tr th:only-of-type {\n",
       "        vertical-align: middle;\n",
       "    }\n",
       "\n",
       "    .dataframe tbody tr th {\n",
       "        vertical-align: top;\n",
       "    }\n",
       "\n",
       "    .dataframe thead th {\n",
       "        text-align: right;\n",
       "    }\n",
       "</style>\n",
       "<table border=\"1\" class=\"dataframe\">\n",
       "  <thead>\n",
       "    <tr style=\"text-align: right;\">\n",
       "      <th></th>\n",
       "      <th>Motor</th>\n",
       "      <th>Ano</th>\n",
       "      <th>Quilometragem</th>\n",
       "      <th>Zero_km</th>\n",
       "      <th>Acessórios</th>\n",
       "      <th>Valor</th>\n",
       "    </tr>\n",
       "    <tr>\n",
       "      <th>Nome</th>\n",
       "      <th></th>\n",
       "      <th></th>\n",
       "      <th></th>\n",
       "      <th></th>\n",
       "      <th></th>\n",
       "      <th></th>\n",
       "    </tr>\n",
       "  </thead>\n",
       "  <tbody>\n",
       "    <tr>\n",
       "      <th>Passat</th>\n",
       "      <td>Motor Diesel</td>\n",
       "      <td>1991</td>\n",
       "      <td>5712.0</td>\n",
       "      <td>False</td>\n",
       "      <td>['Central multimídia', 'Teto panorâmico', 'Fre...</td>\n",
       "      <td>106161.94</td>\n",
       "    </tr>\n",
       "    <tr>\n",
       "      <th>Crossfox</th>\n",
       "      <td>Motor Diesel V8</td>\n",
       "      <td>1990</td>\n",
       "      <td>37123.0</td>\n",
       "      <td>False</td>\n",
       "      <td>['Piloto automático', 'Controle de estabilidad...</td>\n",
       "      <td>72832.16</td>\n",
       "    </tr>\n",
       "    <tr>\n",
       "      <th>DS5</th>\n",
       "      <td>Motor 2.4 Turbo</td>\n",
       "      <td>2019</td>\n",
       "      <td>NaN</td>\n",
       "      <td>True</td>\n",
       "      <td>['Travas elétricas', '4 X 4', 'Vidros elétrico...</td>\n",
       "      <td>124549.07</td>\n",
       "    </tr>\n",
       "  </tbody>\n",
       "</table>\n",
       "</div>"
      ],
      "text/plain": [
       "                    Motor   Ano  Quilometragem  Zero_km  \\\n",
       "Nome                                                      \n",
       "Passat       Motor Diesel  1991         5712.0    False   \n",
       "Crossfox  Motor Diesel V8  1990        37123.0    False   \n",
       "DS5       Motor 2.4 Turbo  2019            NaN     True   \n",
       "\n",
       "                                                 Acessórios      Valor  \n",
       "Nome                                                                    \n",
       "Passat    ['Central multimídia', 'Teto panorâmico', 'Fre...  106161.94  \n",
       "Crossfox  ['Piloto automático', 'Controle de estabilidad...   72832.16  \n",
       "DS5       ['Travas elétricas', '4 X 4', 'Vidros elétrico...  124549.07  "
      ]
     },
     "execution_count": 116,
     "metadata": {},
     "output_type": "execute_result"
    }
   ],
   "source": [
    "dataset.iloc[1:4]"
   ]
  },
  {
   "cell_type": "code",
   "execution_count": 117,
   "metadata": {
    "colab": {},
    "colab_type": "code",
    "id": "KGZpixYUD1BU"
   },
   "outputs": [
    {
     "data": {
      "text/html": [
       "<div>\n",
       "<style scoped>\n",
       "    .dataframe tbody tr th:only-of-type {\n",
       "        vertical-align: middle;\n",
       "    }\n",
       "\n",
       "    .dataframe tbody tr th {\n",
       "        vertical-align: top;\n",
       "    }\n",
       "\n",
       "    .dataframe thead th {\n",
       "        text-align: right;\n",
       "    }\n",
       "</style>\n",
       "<table border=\"1\" class=\"dataframe\">\n",
       "  <thead>\n",
       "    <tr style=\"text-align: right;\">\n",
       "      <th></th>\n",
       "      <th>Motor</th>\n",
       "      <th>Valor</th>\n",
       "      <th>Quilometragem</th>\n",
       "    </tr>\n",
       "    <tr>\n",
       "      <th>Nome</th>\n",
       "      <th></th>\n",
       "      <th></th>\n",
       "      <th></th>\n",
       "    </tr>\n",
       "  </thead>\n",
       "  <tbody>\n",
       "    <tr>\n",
       "      <th>Passat</th>\n",
       "      <td>Motor Diesel</td>\n",
       "      <td>106161.94</td>\n",
       "      <td>5712.0</td>\n",
       "    </tr>\n",
       "    <tr>\n",
       "      <th>Crossfox</th>\n",
       "      <td>Motor Diesel V8</td>\n",
       "      <td>72832.16</td>\n",
       "      <td>37123.0</td>\n",
       "    </tr>\n",
       "    <tr>\n",
       "      <th>DS5</th>\n",
       "      <td>Motor 2.4 Turbo</td>\n",
       "      <td>124549.07</td>\n",
       "      <td>NaN</td>\n",
       "    </tr>\n",
       "  </tbody>\n",
       "</table>\n",
       "</div>"
      ],
      "text/plain": [
       "                    Motor      Valor  Quilometragem\n",
       "Nome                                               \n",
       "Passat       Motor Diesel  106161.94         5712.0\n",
       "Crossfox  Motor Diesel V8   72832.16        37123.0\n",
       "DS5       Motor 2.4 Turbo  124549.07            NaN"
      ]
     },
     "execution_count": 117,
     "metadata": {},
     "output_type": "execute_result"
    }
   ],
   "source": [
    "dataset.iloc[1:4, [0, 5, 2]]"
   ]
  },
  {
   "cell_type": "code",
   "execution_count": 118,
   "metadata": {
    "colab": {},
    "colab_type": "code",
    "id": "GxdqIz4LD1BV"
   },
   "outputs": [
    {
     "data": {
      "text/html": [
       "<div>\n",
       "<style scoped>\n",
       "    .dataframe tbody tr th:only-of-type {\n",
       "        vertical-align: middle;\n",
       "    }\n",
       "\n",
       "    .dataframe tbody tr th {\n",
       "        vertical-align: top;\n",
       "    }\n",
       "\n",
       "    .dataframe thead th {\n",
       "        text-align: right;\n",
       "    }\n",
       "</style>\n",
       "<table border=\"1\" class=\"dataframe\">\n",
       "  <thead>\n",
       "    <tr style=\"text-align: right;\">\n",
       "      <th></th>\n",
       "      <th>Motor</th>\n",
       "      <th>Valor</th>\n",
       "      <th>Quilometragem</th>\n",
       "    </tr>\n",
       "    <tr>\n",
       "      <th>Nome</th>\n",
       "      <th></th>\n",
       "      <th></th>\n",
       "      <th></th>\n",
       "    </tr>\n",
       "  </thead>\n",
       "  <tbody>\n",
       "    <tr>\n",
       "      <th>Passat</th>\n",
       "      <td>Motor Diesel</td>\n",
       "      <td>106161.94</td>\n",
       "      <td>5712.0</td>\n",
       "    </tr>\n",
       "    <tr>\n",
       "      <th>Optima</th>\n",
       "      <td>Motor 1.8 16v</td>\n",
       "      <td>86641.34</td>\n",
       "      <td>NaN</td>\n",
       "    </tr>\n",
       "    <tr>\n",
       "      <th>Lamborghini Obvious</th>\n",
       "      <td>Motor Diesel V6</td>\n",
       "      <td>133529.84</td>\n",
       "      <td>98079.0</td>\n",
       "    </tr>\n",
       "  </tbody>\n",
       "</table>\n",
       "</div>"
      ],
      "text/plain": [
       "                               Motor      Valor  Quilometragem\n",
       "Nome                                                          \n",
       "Passat                  Motor Diesel  106161.94         5712.0\n",
       "Optima                 Motor 1.8 16v   86641.34            NaN\n",
       "Lamborghini Obvious  Motor Diesel V6  133529.84        98079.0"
      ]
     },
     "execution_count": 118,
     "metadata": {},
     "output_type": "execute_result"
    }
   ],
   "source": [
    "dataset.iloc[[1, 42, 22], [0, 5, 2]]"
   ]
  },
  {
   "cell_type": "code",
   "execution_count": 119,
   "metadata": {
    "colab": {},
    "colab_type": "code",
    "id": "AVIhs7uLD1BW",
    "scrolled": true
   },
   "outputs": [
    {
     "data": {
      "text/html": [
       "<div>\n",
       "<style scoped>\n",
       "    .dataframe tbody tr th:only-of-type {\n",
       "        vertical-align: middle;\n",
       "    }\n",
       "\n",
       "    .dataframe tbody tr th {\n",
       "        vertical-align: top;\n",
       "    }\n",
       "\n",
       "    .dataframe thead th {\n",
       "        text-align: right;\n",
       "    }\n",
       "</style>\n",
       "<table border=\"1\" class=\"dataframe\">\n",
       "  <thead>\n",
       "    <tr style=\"text-align: right;\">\n",
       "      <th></th>\n",
       "      <th>Motor</th>\n",
       "      <th>Valor</th>\n",
       "      <th>Quilometragem</th>\n",
       "    </tr>\n",
       "    <tr>\n",
       "      <th>Nome</th>\n",
       "      <th></th>\n",
       "      <th></th>\n",
       "      <th></th>\n",
       "    </tr>\n",
       "  </thead>\n",
       "  <tbody>\n",
       "    <tr>\n",
       "      <th>Jetta Variant</th>\n",
       "      <td>Motor 4.0 Turbo</td>\n",
       "      <td>88078.64</td>\n",
       "      <td>44410.0</td>\n",
       "    </tr>\n",
       "    <tr>\n",
       "      <th>Passat</th>\n",
       "      <td>Motor Diesel</td>\n",
       "      <td>106161.94</td>\n",
       "      <td>5712.0</td>\n",
       "    </tr>\n",
       "    <tr>\n",
       "      <th>Crossfox</th>\n",
       "      <td>Motor Diesel V8</td>\n",
       "      <td>72832.16</td>\n",
       "      <td>37123.0</td>\n",
       "    </tr>\n",
       "    <tr>\n",
       "      <th>DS5</th>\n",
       "      <td>Motor 2.4 Turbo</td>\n",
       "      <td>124549.07</td>\n",
       "      <td>NaN</td>\n",
       "    </tr>\n",
       "    <tr>\n",
       "      <th>Aston Martin DB4</th>\n",
       "      <td>Motor 2.4 Turbo</td>\n",
       "      <td>92612.10</td>\n",
       "      <td>25757.0</td>\n",
       "    </tr>\n",
       "    <tr>\n",
       "      <th>...</th>\n",
       "      <td>...</td>\n",
       "      <td>...</td>\n",
       "      <td>...</td>\n",
       "    </tr>\n",
       "    <tr>\n",
       "      <th>Phantom 2013</th>\n",
       "      <td>Motor V8</td>\n",
       "      <td>51759.58</td>\n",
       "      <td>27505.0</td>\n",
       "    </tr>\n",
       "    <tr>\n",
       "      <th>Cadillac Ciel concept</th>\n",
       "      <td>Motor V8</td>\n",
       "      <td>51667.06</td>\n",
       "      <td>29981.0</td>\n",
       "    </tr>\n",
       "    <tr>\n",
       "      <th>Classe GLK</th>\n",
       "      <td>Motor 5.0 V8 Bi-Turbo</td>\n",
       "      <td>68934.03</td>\n",
       "      <td>52637.0</td>\n",
       "    </tr>\n",
       "    <tr>\n",
       "      <th>Aston Martin DB5</th>\n",
       "      <td>Motor Diesel</td>\n",
       "      <td>122110.90</td>\n",
       "      <td>7685.0</td>\n",
       "    </tr>\n",
       "    <tr>\n",
       "      <th>Macan</th>\n",
       "      <td>Motor Diesel V6</td>\n",
       "      <td>90381.47</td>\n",
       "      <td>50188.0</td>\n",
       "    </tr>\n",
       "  </tbody>\n",
       "</table>\n",
       "<p>258 rows × 3 columns</p>\n",
       "</div>"
      ],
      "text/plain": [
       "                                       Motor      Valor  Quilometragem\n",
       "Nome                                                                  \n",
       "Jetta Variant                Motor 4.0 Turbo   88078.64        44410.0\n",
       "Passat                          Motor Diesel  106161.94         5712.0\n",
       "Crossfox                     Motor Diesel V8   72832.16        37123.0\n",
       "DS5                          Motor 2.4 Turbo  124549.07            NaN\n",
       "Aston Martin DB4             Motor 2.4 Turbo   92612.10        25757.0\n",
       "...                                      ...        ...            ...\n",
       "Phantom 2013                        Motor V8   51759.58        27505.0\n",
       "Cadillac Ciel concept               Motor V8   51667.06        29981.0\n",
       "Classe GLK             Motor 5.0 V8 Bi-Turbo   68934.03        52637.0\n",
       "Aston Martin DB5                Motor Diesel  122110.90         7685.0\n",
       "Macan                        Motor Diesel V6   90381.47        50188.0\n",
       "\n",
       "[258 rows x 3 columns]"
      ]
     },
     "execution_count": 119,
     "metadata": {},
     "output_type": "execute_result"
    }
   ],
   "source": [
    "dataset.iloc[:, [0, 5, 2]]"
   ]
  },
  {
   "cell_type": "markdown",
   "metadata": {
    "colab_type": "text",
    "id": "eAbwq1oLD1BW"
   },
   "source": [
    "# 5.3 Queries com DataFrames"
   ]
  },
  {
   "cell_type": "code",
   "execution_count": 120,
   "metadata": {
    "colab": {},
    "colab_type": "code",
    "id": "AOZTWzehD1BW",
    "scrolled": true
   },
   "outputs": [
    {
     "data": {
      "text/html": [
       "<div>\n",
       "<style scoped>\n",
       "    .dataframe tbody tr th:only-of-type {\n",
       "        vertical-align: middle;\n",
       "    }\n",
       "\n",
       "    .dataframe tbody tr th {\n",
       "        vertical-align: top;\n",
       "    }\n",
       "\n",
       "    .dataframe thead th {\n",
       "        text-align: right;\n",
       "    }\n",
       "</style>\n",
       "<table border=\"1\" class=\"dataframe\">\n",
       "  <thead>\n",
       "    <tr style=\"text-align: right;\">\n",
       "      <th></th>\n",
       "      <th>Motor</th>\n",
       "      <th>Ano</th>\n",
       "      <th>Quilometragem</th>\n",
       "      <th>Zero_km</th>\n",
       "      <th>Acessórios</th>\n",
       "      <th>Valor</th>\n",
       "    </tr>\n",
       "    <tr>\n",
       "      <th>Nome</th>\n",
       "      <th></th>\n",
       "      <th></th>\n",
       "      <th></th>\n",
       "      <th></th>\n",
       "      <th></th>\n",
       "      <th></th>\n",
       "    </tr>\n",
       "  </thead>\n",
       "  <tbody>\n",
       "    <tr>\n",
       "      <th>Jetta Variant</th>\n",
       "      <td>Motor 4.0 Turbo</td>\n",
       "      <td>2003</td>\n",
       "      <td>44410.0</td>\n",
       "      <td>False</td>\n",
       "      <td>['Rodas de liga', 'Travas elétricas', 'Piloto ...</td>\n",
       "      <td>88078.64</td>\n",
       "    </tr>\n",
       "    <tr>\n",
       "      <th>Passat</th>\n",
       "      <td>Motor Diesel</td>\n",
       "      <td>1991</td>\n",
       "      <td>5712.0</td>\n",
       "      <td>False</td>\n",
       "      <td>['Central multimídia', 'Teto panorâmico', 'Fre...</td>\n",
       "      <td>106161.94</td>\n",
       "    </tr>\n",
       "    <tr>\n",
       "      <th>Crossfox</th>\n",
       "      <td>Motor Diesel V8</td>\n",
       "      <td>1990</td>\n",
       "      <td>37123.0</td>\n",
       "      <td>False</td>\n",
       "      <td>['Piloto automático', 'Controle de estabilidad...</td>\n",
       "      <td>72832.16</td>\n",
       "    </tr>\n",
       "    <tr>\n",
       "      <th>DS5</th>\n",
       "      <td>Motor 2.4 Turbo</td>\n",
       "      <td>2019</td>\n",
       "      <td>NaN</td>\n",
       "      <td>True</td>\n",
       "      <td>['Travas elétricas', '4 X 4', 'Vidros elétrico...</td>\n",
       "      <td>124549.07</td>\n",
       "    </tr>\n",
       "    <tr>\n",
       "      <th>Aston Martin DB4</th>\n",
       "      <td>Motor 2.4 Turbo</td>\n",
       "      <td>2006</td>\n",
       "      <td>25757.0</td>\n",
       "      <td>False</td>\n",
       "      <td>['Rodas de liga', '4 X 4', 'Central multimídia...</td>\n",
       "      <td>92612.10</td>\n",
       "    </tr>\n",
       "  </tbody>\n",
       "</table>\n",
       "</div>"
      ],
      "text/plain": [
       "                            Motor   Ano  Quilometragem  Zero_km  \\\n",
       "Nome                                                              \n",
       "Jetta Variant     Motor 4.0 Turbo  2003        44410.0    False   \n",
       "Passat               Motor Diesel  1991         5712.0    False   \n",
       "Crossfox          Motor Diesel V8  1990        37123.0    False   \n",
       "DS5               Motor 2.4 Turbo  2019            NaN     True   \n",
       "Aston Martin DB4  Motor 2.4 Turbo  2006        25757.0    False   \n",
       "\n",
       "                                                         Acessórios      Valor  \n",
       "Nome                                                                            \n",
       "Jetta Variant     ['Rodas de liga', 'Travas elétricas', 'Piloto ...   88078.64  \n",
       "Passat            ['Central multimídia', 'Teto panorâmico', 'Fre...  106161.94  \n",
       "Crossfox          ['Piloto automático', 'Controle de estabilidad...   72832.16  \n",
       "DS5               ['Travas elétricas', '4 X 4', 'Vidros elétrico...  124549.07  \n",
       "Aston Martin DB4  ['Rodas de liga', '4 X 4', 'Central multimídia...   92612.10  "
      ]
     },
     "execution_count": 120,
     "metadata": {},
     "output_type": "execute_result"
    }
   ],
   "source": [
    "dataset.head()"
   ]
  },
  {
   "cell_type": "code",
   "execution_count": 121,
   "metadata": {
    "colab": {},
    "colab_type": "code",
    "id": "rO5T4h94D1BX",
    "scrolled": true
   },
   "outputs": [
    {
     "data": {
      "text/plain": [
       "Nome\n",
       "Jetta Variant                  Motor 4.0 Turbo\n",
       "Passat                            Motor Diesel\n",
       "Crossfox                       Motor Diesel V8\n",
       "DS5                            Motor 2.4 Turbo\n",
       "Aston Martin DB4               Motor 2.4 Turbo\n",
       "                                 ...          \n",
       "Phantom 2013                          Motor V8\n",
       "Cadillac Ciel concept                 Motor V8\n",
       "Classe GLK               Motor 5.0 V8 Bi-Turbo\n",
       "Aston Martin DB5                  Motor Diesel\n",
       "Macan                          Motor Diesel V6\n",
       "Name: Motor, Length: 258, dtype: object"
      ]
     },
     "execution_count": 121,
     "metadata": {},
     "output_type": "execute_result"
    }
   ],
   "source": [
    "dataset.Motor"
   ]
  },
  {
   "cell_type": "code",
   "execution_count": 123,
   "metadata": {
    "colab": {},
    "colab_type": "code",
    "id": "STZ-l8oaD1BX"
   },
   "outputs": [],
   "source": [
    "select = dataset == 'Motor Diesel'"
   ]
  },
  {
   "cell_type": "code",
   "execution_count": 126,
   "metadata": {
    "colab": {},
    "colab_type": "code",
    "id": "OZC8NAn6D1BX"
   },
   "outputs": [
    {
     "data": {
      "text/plain": [
       "pandas.core.frame.DataFrame"
      ]
     },
     "execution_count": 126,
     "metadata": {},
     "output_type": "execute_result"
    }
   ],
   "source": [
    "type(select)"
   ]
  },
  {
   "cell_type": "code",
   "execution_count": 127,
   "metadata": {
    "colab": {},
    "colab_type": "code",
    "id": "OzXC2M40D1BY",
    "scrolled": true
   },
   "outputs": [
    {
     "data": {
      "text/html": [
       "<div>\n",
       "<style scoped>\n",
       "    .dataframe tbody tr th:only-of-type {\n",
       "        vertical-align: middle;\n",
       "    }\n",
       "\n",
       "    .dataframe tbody tr th {\n",
       "        vertical-align: top;\n",
       "    }\n",
       "\n",
       "    .dataframe thead th {\n",
       "        text-align: right;\n",
       "    }\n",
       "</style>\n",
       "<table border=\"1\" class=\"dataframe\">\n",
       "  <thead>\n",
       "    <tr style=\"text-align: right;\">\n",
       "      <th></th>\n",
       "      <th>Motor</th>\n",
       "      <th>Ano</th>\n",
       "      <th>Quilometragem</th>\n",
       "      <th>Zero_km</th>\n",
       "      <th>Acessórios</th>\n",
       "      <th>Valor</th>\n",
       "    </tr>\n",
       "    <tr>\n",
       "      <th>Nome</th>\n",
       "      <th></th>\n",
       "      <th></th>\n",
       "      <th></th>\n",
       "      <th></th>\n",
       "      <th></th>\n",
       "      <th></th>\n",
       "    </tr>\n",
       "  </thead>\n",
       "  <tbody>\n",
       "    <tr>\n",
       "      <th>Jetta Variant</th>\n",
       "      <td>NaN</td>\n",
       "      <td>NaN</td>\n",
       "      <td>NaN</td>\n",
       "      <td>NaN</td>\n",
       "      <td>NaN</td>\n",
       "      <td>NaN</td>\n",
       "    </tr>\n",
       "    <tr>\n",
       "      <th>Passat</th>\n",
       "      <td>Motor Diesel</td>\n",
       "      <td>NaN</td>\n",
       "      <td>NaN</td>\n",
       "      <td>NaN</td>\n",
       "      <td>NaN</td>\n",
       "      <td>NaN</td>\n",
       "    </tr>\n",
       "    <tr>\n",
       "      <th>Crossfox</th>\n",
       "      <td>NaN</td>\n",
       "      <td>NaN</td>\n",
       "      <td>NaN</td>\n",
       "      <td>NaN</td>\n",
       "      <td>NaN</td>\n",
       "      <td>NaN</td>\n",
       "    </tr>\n",
       "    <tr>\n",
       "      <th>DS5</th>\n",
       "      <td>NaN</td>\n",
       "      <td>NaN</td>\n",
       "      <td>NaN</td>\n",
       "      <td>NaN</td>\n",
       "      <td>NaN</td>\n",
       "      <td>NaN</td>\n",
       "    </tr>\n",
       "    <tr>\n",
       "      <th>Aston Martin DB4</th>\n",
       "      <td>NaN</td>\n",
       "      <td>NaN</td>\n",
       "      <td>NaN</td>\n",
       "      <td>NaN</td>\n",
       "      <td>NaN</td>\n",
       "      <td>NaN</td>\n",
       "    </tr>\n",
       "    <tr>\n",
       "      <th>...</th>\n",
       "      <td>...</td>\n",
       "      <td>...</td>\n",
       "      <td>...</td>\n",
       "      <td>...</td>\n",
       "      <td>...</td>\n",
       "      <td>...</td>\n",
       "    </tr>\n",
       "    <tr>\n",
       "      <th>Phantom 2013</th>\n",
       "      <td>NaN</td>\n",
       "      <td>NaN</td>\n",
       "      <td>NaN</td>\n",
       "      <td>NaN</td>\n",
       "      <td>NaN</td>\n",
       "      <td>NaN</td>\n",
       "    </tr>\n",
       "    <tr>\n",
       "      <th>Cadillac Ciel concept</th>\n",
       "      <td>NaN</td>\n",
       "      <td>NaN</td>\n",
       "      <td>NaN</td>\n",
       "      <td>NaN</td>\n",
       "      <td>NaN</td>\n",
       "      <td>NaN</td>\n",
       "    </tr>\n",
       "    <tr>\n",
       "      <th>Classe GLK</th>\n",
       "      <td>NaN</td>\n",
       "      <td>NaN</td>\n",
       "      <td>NaN</td>\n",
       "      <td>NaN</td>\n",
       "      <td>NaN</td>\n",
       "      <td>NaN</td>\n",
       "    </tr>\n",
       "    <tr>\n",
       "      <th>Aston Martin DB5</th>\n",
       "      <td>Motor Diesel</td>\n",
       "      <td>NaN</td>\n",
       "      <td>NaN</td>\n",
       "      <td>NaN</td>\n",
       "      <td>NaN</td>\n",
       "      <td>NaN</td>\n",
       "    </tr>\n",
       "    <tr>\n",
       "      <th>Macan</th>\n",
       "      <td>NaN</td>\n",
       "      <td>NaN</td>\n",
       "      <td>NaN</td>\n",
       "      <td>NaN</td>\n",
       "      <td>NaN</td>\n",
       "      <td>NaN</td>\n",
       "    </tr>\n",
       "  </tbody>\n",
       "</table>\n",
       "<p>258 rows × 6 columns</p>\n",
       "</div>"
      ],
      "text/plain": [
       "                              Motor  Ano  Quilometragem Zero_km Acessórios  \\\n",
       "Nome                                                                         \n",
       "Jetta Variant                   NaN  NaN            NaN     NaN        NaN   \n",
       "Passat                 Motor Diesel  NaN            NaN     NaN        NaN   \n",
       "Crossfox                        NaN  NaN            NaN     NaN        NaN   \n",
       "DS5                             NaN  NaN            NaN     NaN        NaN   \n",
       "Aston Martin DB4                NaN  NaN            NaN     NaN        NaN   \n",
       "...                             ...  ...            ...     ...        ...   \n",
       "Phantom 2013                    NaN  NaN            NaN     NaN        NaN   \n",
       "Cadillac Ciel concept           NaN  NaN            NaN     NaN        NaN   \n",
       "Classe GLK                      NaN  NaN            NaN     NaN        NaN   \n",
       "Aston Martin DB5       Motor Diesel  NaN            NaN     NaN        NaN   \n",
       "Macan                           NaN  NaN            NaN     NaN        NaN   \n",
       "\n",
       "                       Valor  \n",
       "Nome                          \n",
       "Jetta Variant            NaN  \n",
       "Passat                   NaN  \n",
       "Crossfox                 NaN  \n",
       "DS5                      NaN  \n",
       "Aston Martin DB4         NaN  \n",
       "...                      ...  \n",
       "Phantom 2013             NaN  \n",
       "Cadillac Ciel concept    NaN  \n",
       "Classe GLK               NaN  \n",
       "Aston Martin DB5         NaN  \n",
       "Macan                    NaN  \n",
       "\n",
       "[258 rows x 6 columns]"
      ]
     },
     "execution_count": 127,
     "metadata": {},
     "output_type": "execute_result"
    }
   ],
   "source": [
    "dataset[select]"
   ]
  },
  {
   "cell_type": "code",
   "execution_count": 130,
   "metadata": {},
   "outputs": [
    {
     "data": {
      "text/html": [
       "<div>\n",
       "<style scoped>\n",
       "    .dataframe tbody tr th:only-of-type {\n",
       "        vertical-align: middle;\n",
       "    }\n",
       "\n",
       "    .dataframe tbody tr th {\n",
       "        vertical-align: top;\n",
       "    }\n",
       "\n",
       "    .dataframe thead th {\n",
       "        text-align: right;\n",
       "    }\n",
       "</style>\n",
       "<table border=\"1\" class=\"dataframe\">\n",
       "  <thead>\n",
       "    <tr style=\"text-align: right;\">\n",
       "      <th></th>\n",
       "      <th>Motor</th>\n",
       "      <th>Ano</th>\n",
       "      <th>Quilometragem</th>\n",
       "      <th>Zero_km</th>\n",
       "      <th>Acessórios</th>\n",
       "      <th>Valor</th>\n",
       "    </tr>\n",
       "    <tr>\n",
       "      <th>Nome</th>\n",
       "      <th></th>\n",
       "      <th></th>\n",
       "      <th></th>\n",
       "      <th></th>\n",
       "      <th></th>\n",
       "      <th></th>\n",
       "    </tr>\n",
       "  </thead>\n",
       "  <tbody>\n",
       "    <tr>\n",
       "      <th>Sorento</th>\n",
       "      <td>Motor Diesel</td>\n",
       "      <td>2019</td>\n",
       "      <td>NaN</td>\n",
       "      <td>True</td>\n",
       "      <td>['Sensor de chuva', 'Câmera de estacionamento'...</td>\n",
       "      <td>81399.35</td>\n",
       "    </tr>\n",
       "    <tr>\n",
       "      <th>Cielo Hatch</th>\n",
       "      <td>Motor Diesel</td>\n",
       "      <td>2019</td>\n",
       "      <td>NaN</td>\n",
       "      <td>True</td>\n",
       "      <td>['Painel digital', 'Central multimídia', 'Câme...</td>\n",
       "      <td>145197.70</td>\n",
       "    </tr>\n",
       "    <tr>\n",
       "      <th>Camry</th>\n",
       "      <td>Motor Diesel</td>\n",
       "      <td>2019</td>\n",
       "      <td>NaN</td>\n",
       "      <td>True</td>\n",
       "      <td>['Travas elétricas', 'Rodas de liga', 'Sensor ...</td>\n",
       "      <td>138597.27</td>\n",
       "    </tr>\n",
       "    <tr>\n",
       "      <th>Aston Martin Virage</th>\n",
       "      <td>Motor Diesel</td>\n",
       "      <td>2019</td>\n",
       "      <td>NaN</td>\n",
       "      <td>True</td>\n",
       "      <td>['Travas elétricas', 'Controle de tração', 'Câ...</td>\n",
       "      <td>97290.18</td>\n",
       "    </tr>\n",
       "    <tr>\n",
       "      <th>Série 7 Sedã</th>\n",
       "      <td>Motor Diesel</td>\n",
       "      <td>2019</td>\n",
       "      <td>NaN</td>\n",
       "      <td>True</td>\n",
       "      <td>['Vidros elétricos', 'Travas elétricas', 'Roda...</td>\n",
       "      <td>67539.79</td>\n",
       "    </tr>\n",
       "  </tbody>\n",
       "</table>\n",
       "</div>"
      ],
      "text/plain": [
       "                            Motor   Ano  Quilometragem  Zero_km  \\\n",
       "Nome                                                              \n",
       "Sorento              Motor Diesel  2019            NaN     True   \n",
       "Cielo Hatch          Motor Diesel  2019            NaN     True   \n",
       "Camry                Motor Diesel  2019            NaN     True   \n",
       "Aston Martin Virage  Motor Diesel  2019            NaN     True   \n",
       "Série 7 Sedã         Motor Diesel  2019            NaN     True   \n",
       "\n",
       "                                                            Acessórios  \\\n",
       "Nome                                                                     \n",
       "Sorento              ['Sensor de chuva', 'Câmera de estacionamento'...   \n",
       "Cielo Hatch          ['Painel digital', 'Central multimídia', 'Câme...   \n",
       "Camry                ['Travas elétricas', 'Rodas de liga', 'Sensor ...   \n",
       "Aston Martin Virage  ['Travas elétricas', 'Controle de tração', 'Câ...   \n",
       "Série 7 Sedã         ['Vidros elétricos', 'Travas elétricas', 'Roda...   \n",
       "\n",
       "                         Valor  \n",
       "Nome                            \n",
       "Sorento               81399.35  \n",
       "Cielo Hatch          145197.70  \n",
       "Camry                138597.27  \n",
       "Aston Martin Virage   97290.18  \n",
       "Série 7 Sedã          67539.79  "
      ]
     },
     "execution_count": 130,
     "metadata": {},
     "output_type": "execute_result"
    }
   ],
   "source": [
    "dataset[(dataset.Motor == 'Motor Diesel') & (dataset.Zero_km == True)]"
   ]
  },
  {
   "cell_type": "code",
   "execution_count": 131,
   "metadata": {},
   "outputs": [
    {
     "data": {
      "text/plain": [
       "Nome\n",
       "Jetta Variant            False\n",
       "Passat                   False\n",
       "Crossfox                 False\n",
       "DS5                      False\n",
       "Aston Martin DB4         False\n",
       "                         ...  \n",
       "Phantom 2013             False\n",
       "Cadillac Ciel concept    False\n",
       "Classe GLK               False\n",
       "Aston Martin DB5         False\n",
       "Macan                    False\n",
       "Length: 258, dtype: bool"
      ]
     },
     "execution_count": 131,
     "metadata": {},
     "output_type": "execute_result"
    }
   ],
   "source": [
    "(dataset.Motor == 'Motor Diesel') & (dataset.Zero_km == True)"
   ]
  },
  {
   "cell_type": "markdown",
   "metadata": {
    "colab_type": "text",
    "id": "_XKXcWO-D1BY"
   },
   "source": [
    "### Utilizando o método query"
   ]
  },
  {
   "cell_type": "code",
   "execution_count": 132,
   "metadata": {
    "colab": {},
    "colab_type": "code",
    "id": "AB9JirSoD1BY"
   },
   "outputs": [
    {
     "data": {
      "text/html": [
       "<div>\n",
       "<style scoped>\n",
       "    .dataframe tbody tr th:only-of-type {\n",
       "        vertical-align: middle;\n",
       "    }\n",
       "\n",
       "    .dataframe tbody tr th {\n",
       "        vertical-align: top;\n",
       "    }\n",
       "\n",
       "    .dataframe thead th {\n",
       "        text-align: right;\n",
       "    }\n",
       "</style>\n",
       "<table border=\"1\" class=\"dataframe\">\n",
       "  <thead>\n",
       "    <tr style=\"text-align: right;\">\n",
       "      <th></th>\n",
       "      <th>Motor</th>\n",
       "      <th>Ano</th>\n",
       "      <th>Quilometragem</th>\n",
       "      <th>Zero_km</th>\n",
       "      <th>Acessórios</th>\n",
       "      <th>Valor</th>\n",
       "    </tr>\n",
       "    <tr>\n",
       "      <th>Nome</th>\n",
       "      <th></th>\n",
       "      <th></th>\n",
       "      <th></th>\n",
       "      <th></th>\n",
       "      <th></th>\n",
       "      <th></th>\n",
       "    </tr>\n",
       "  </thead>\n",
       "  <tbody>\n",
       "    <tr>\n",
       "      <th>Sorento</th>\n",
       "      <td>Motor Diesel</td>\n",
       "      <td>2019</td>\n",
       "      <td>NaN</td>\n",
       "      <td>True</td>\n",
       "      <td>['Sensor de chuva', 'Câmera de estacionamento'...</td>\n",
       "      <td>81399.35</td>\n",
       "    </tr>\n",
       "    <tr>\n",
       "      <th>Cielo Hatch</th>\n",
       "      <td>Motor Diesel</td>\n",
       "      <td>2019</td>\n",
       "      <td>NaN</td>\n",
       "      <td>True</td>\n",
       "      <td>['Painel digital', 'Central multimídia', 'Câme...</td>\n",
       "      <td>145197.70</td>\n",
       "    </tr>\n",
       "    <tr>\n",
       "      <th>Camry</th>\n",
       "      <td>Motor Diesel</td>\n",
       "      <td>2019</td>\n",
       "      <td>NaN</td>\n",
       "      <td>True</td>\n",
       "      <td>['Travas elétricas', 'Rodas de liga', 'Sensor ...</td>\n",
       "      <td>138597.27</td>\n",
       "    </tr>\n",
       "    <tr>\n",
       "      <th>Aston Martin Virage</th>\n",
       "      <td>Motor Diesel</td>\n",
       "      <td>2019</td>\n",
       "      <td>NaN</td>\n",
       "      <td>True</td>\n",
       "      <td>['Travas elétricas', 'Controle de tração', 'Câ...</td>\n",
       "      <td>97290.18</td>\n",
       "    </tr>\n",
       "    <tr>\n",
       "      <th>Série 7 Sedã</th>\n",
       "      <td>Motor Diesel</td>\n",
       "      <td>2019</td>\n",
       "      <td>NaN</td>\n",
       "      <td>True</td>\n",
       "      <td>['Vidros elétricos', 'Travas elétricas', 'Roda...</td>\n",
       "      <td>67539.79</td>\n",
       "    </tr>\n",
       "  </tbody>\n",
       "</table>\n",
       "</div>"
      ],
      "text/plain": [
       "                            Motor   Ano  Quilometragem  Zero_km  \\\n",
       "Nome                                                              \n",
       "Sorento              Motor Diesel  2019            NaN     True   \n",
       "Cielo Hatch          Motor Diesel  2019            NaN     True   \n",
       "Camry                Motor Diesel  2019            NaN     True   \n",
       "Aston Martin Virage  Motor Diesel  2019            NaN     True   \n",
       "Série 7 Sedã         Motor Diesel  2019            NaN     True   \n",
       "\n",
       "                                                            Acessórios  \\\n",
       "Nome                                                                     \n",
       "Sorento              ['Sensor de chuva', 'Câmera de estacionamento'...   \n",
       "Cielo Hatch          ['Painel digital', 'Central multimídia', 'Câme...   \n",
       "Camry                ['Travas elétricas', 'Rodas de liga', 'Sensor ...   \n",
       "Aston Martin Virage  ['Travas elétricas', 'Controle de tração', 'Câ...   \n",
       "Série 7 Sedã         ['Vidros elétricos', 'Travas elétricas', 'Roda...   \n",
       "\n",
       "                         Valor  \n",
       "Nome                            \n",
       "Sorento               81399.35  \n",
       "Cielo Hatch          145197.70  \n",
       "Camry                138597.27  \n",
       "Aston Martin Virage   97290.18  \n",
       "Série 7 Sedã          67539.79  "
      ]
     },
     "execution_count": 132,
     "metadata": {},
     "output_type": "execute_result"
    }
   ],
   "source": [
    "dataset.query('Motor == \"Motor Diesel\" and Zero_km == True')"
   ]
  },
  {
   "cell_type": "markdown",
   "metadata": {
    "colab_type": "text",
    "id": "ciJ4dw_FD1BZ"
   },
   "source": [
    "# 5.4 Iterando com DataFrames"
   ]
  },
  {
   "cell_type": "code",
   "execution_count": 133,
   "metadata": {
    "colab": {},
    "colab_type": "code",
    "id": "TKAB-g5KD1BZ"
   },
   "outputs": [
    {
     "data": {
      "text/html": [
       "<div>\n",
       "<style scoped>\n",
       "    .dataframe tbody tr th:only-of-type {\n",
       "        vertical-align: middle;\n",
       "    }\n",
       "\n",
       "    .dataframe tbody tr th {\n",
       "        vertical-align: top;\n",
       "    }\n",
       "\n",
       "    .dataframe thead th {\n",
       "        text-align: right;\n",
       "    }\n",
       "</style>\n",
       "<table border=\"1\" class=\"dataframe\">\n",
       "  <thead>\n",
       "    <tr style=\"text-align: right;\">\n",
       "      <th></th>\n",
       "      <th>Motor</th>\n",
       "      <th>Ano</th>\n",
       "      <th>Quilometragem</th>\n",
       "      <th>Zero_km</th>\n",
       "      <th>Acessórios</th>\n",
       "      <th>Valor</th>\n",
       "    </tr>\n",
       "    <tr>\n",
       "      <th>Nome</th>\n",
       "      <th></th>\n",
       "      <th></th>\n",
       "      <th></th>\n",
       "      <th></th>\n",
       "      <th></th>\n",
       "      <th></th>\n",
       "    </tr>\n",
       "  </thead>\n",
       "  <tbody>\n",
       "    <tr>\n",
       "      <th>Jetta Variant</th>\n",
       "      <td>Motor 4.0 Turbo</td>\n",
       "      <td>2003</td>\n",
       "      <td>44410.0</td>\n",
       "      <td>False</td>\n",
       "      <td>['Rodas de liga', 'Travas elétricas', 'Piloto ...</td>\n",
       "      <td>88078.64</td>\n",
       "    </tr>\n",
       "    <tr>\n",
       "      <th>Passat</th>\n",
       "      <td>Motor Diesel</td>\n",
       "      <td>1991</td>\n",
       "      <td>5712.0</td>\n",
       "      <td>False</td>\n",
       "      <td>['Central multimídia', 'Teto panorâmico', 'Fre...</td>\n",
       "      <td>106161.94</td>\n",
       "    </tr>\n",
       "    <tr>\n",
       "      <th>Crossfox</th>\n",
       "      <td>Motor Diesel V8</td>\n",
       "      <td>1990</td>\n",
       "      <td>37123.0</td>\n",
       "      <td>False</td>\n",
       "      <td>['Piloto automático', 'Controle de estabilidad...</td>\n",
       "      <td>72832.16</td>\n",
       "    </tr>\n",
       "    <tr>\n",
       "      <th>DS5</th>\n",
       "      <td>Motor 2.4 Turbo</td>\n",
       "      <td>2019</td>\n",
       "      <td>NaN</td>\n",
       "      <td>True</td>\n",
       "      <td>['Travas elétricas', '4 X 4', 'Vidros elétrico...</td>\n",
       "      <td>124549.07</td>\n",
       "    </tr>\n",
       "    <tr>\n",
       "      <th>Aston Martin DB4</th>\n",
       "      <td>Motor 2.4 Turbo</td>\n",
       "      <td>2006</td>\n",
       "      <td>25757.0</td>\n",
       "      <td>False</td>\n",
       "      <td>['Rodas de liga', '4 X 4', 'Central multimídia...</td>\n",
       "      <td>92612.10</td>\n",
       "    </tr>\n",
       "  </tbody>\n",
       "</table>\n",
       "</div>"
      ],
      "text/plain": [
       "                            Motor   Ano  Quilometragem  Zero_km  \\\n",
       "Nome                                                              \n",
       "Jetta Variant     Motor 4.0 Turbo  2003        44410.0    False   \n",
       "Passat               Motor Diesel  1991         5712.0    False   \n",
       "Crossfox          Motor Diesel V8  1990        37123.0    False   \n",
       "DS5               Motor 2.4 Turbo  2019            NaN     True   \n",
       "Aston Martin DB4  Motor 2.4 Turbo  2006        25757.0    False   \n",
       "\n",
       "                                                         Acessórios      Valor  \n",
       "Nome                                                                            \n",
       "Jetta Variant     ['Rodas de liga', 'Travas elétricas', 'Piloto ...   88078.64  \n",
       "Passat            ['Central multimídia', 'Teto panorâmico', 'Fre...  106161.94  \n",
       "Crossfox          ['Piloto automático', 'Controle de estabilidad...   72832.16  \n",
       "DS5               ['Travas elétricas', '4 X 4', 'Vidros elétrico...  124549.07  \n",
       "Aston Martin DB4  ['Rodas de liga', '4 X 4', 'Central multimídia...   92612.10  "
      ]
     },
     "execution_count": 133,
     "metadata": {},
     "output_type": "execute_result"
    }
   ],
   "source": [
    "dataset.head()"
   ]
  },
  {
   "cell_type": "code",
   "execution_count": 134,
   "metadata": {},
   "outputs": [
    {
     "name": "stdout",
     "output_type": "stream",
     "text": [
      "Motor\n",
      "Ano\n",
      "Quilometragem\n",
      "Zero_km\n",
      "Acessórios\n",
      "Valor\n"
     ]
    }
   ],
   "source": [
    "for item in dataset:\n",
    "    print(item)"
   ]
  },
  {
   "cell_type": "code",
   "execution_count": 141,
   "metadata": {
    "colab": {},
    "colab_type": "code",
    "id": "eFTNtPRWD1Ba"
   },
   "outputs": [
    {
     "data": {
      "text/html": [
       "<div>\n",
       "<style scoped>\n",
       "    .dataframe tbody tr th:only-of-type {\n",
       "        vertical-align: middle;\n",
       "    }\n",
       "\n",
       "    .dataframe tbody tr th {\n",
       "        vertical-align: top;\n",
       "    }\n",
       "\n",
       "    .dataframe thead th {\n",
       "        text-align: right;\n",
       "    }\n",
       "</style>\n",
       "<table border=\"1\" class=\"dataframe\">\n",
       "  <thead>\n",
       "    <tr style=\"text-align: right;\">\n",
       "      <th></th>\n",
       "      <th>Motor</th>\n",
       "      <th>Ano</th>\n",
       "      <th>Quilometragem</th>\n",
       "      <th>Zero_km</th>\n",
       "      <th>Acessórios</th>\n",
       "      <th>Valor</th>\n",
       "      <th>Km_media</th>\n",
       "    </tr>\n",
       "    <tr>\n",
       "      <th>Nome</th>\n",
       "      <th></th>\n",
       "      <th></th>\n",
       "      <th></th>\n",
       "      <th></th>\n",
       "      <th></th>\n",
       "      <th></th>\n",
       "      <th></th>\n",
       "    </tr>\n",
       "  </thead>\n",
       "  <tbody>\n",
       "    <tr>\n",
       "      <th>Jetta Variant</th>\n",
       "      <td>Motor 4.0 Turbo</td>\n",
       "      <td>2003</td>\n",
       "      <td>44410.0</td>\n",
       "      <td>False</td>\n",
       "      <td>['Rodas de liga', 'Travas elétricas', 'Piloto ...</td>\n",
       "      <td>88078.64</td>\n",
       "      <td>2775.625000</td>\n",
       "    </tr>\n",
       "    <tr>\n",
       "      <th>Passat</th>\n",
       "      <td>Motor Diesel</td>\n",
       "      <td>1991</td>\n",
       "      <td>5712.0</td>\n",
       "      <td>False</td>\n",
       "      <td>['Central multimídia', 'Teto panorâmico', 'Fre...</td>\n",
       "      <td>106161.94</td>\n",
       "      <td>204.000000</td>\n",
       "    </tr>\n",
       "    <tr>\n",
       "      <th>Crossfox</th>\n",
       "      <td>Motor Diesel V8</td>\n",
       "      <td>1990</td>\n",
       "      <td>37123.0</td>\n",
       "      <td>False</td>\n",
       "      <td>['Piloto automático', 'Controle de estabilidad...</td>\n",
       "      <td>72832.16</td>\n",
       "      <td>1280.103448</td>\n",
       "    </tr>\n",
       "    <tr>\n",
       "      <th>DS5</th>\n",
       "      <td>Motor 2.4 Turbo</td>\n",
       "      <td>2019</td>\n",
       "      <td>NaN</td>\n",
       "      <td>True</td>\n",
       "      <td>['Travas elétricas', '4 X 4', 'Vidros elétrico...</td>\n",
       "      <td>124549.07</td>\n",
       "      <td>0.000000</td>\n",
       "    </tr>\n",
       "    <tr>\n",
       "      <th>Aston Martin DB4</th>\n",
       "      <td>Motor 2.4 Turbo</td>\n",
       "      <td>2006</td>\n",
       "      <td>25757.0</td>\n",
       "      <td>False</td>\n",
       "      <td>['Rodas de liga', '4 X 4', 'Central multimídia...</td>\n",
       "      <td>92612.10</td>\n",
       "      <td>1981.307692</td>\n",
       "    </tr>\n",
       "    <tr>\n",
       "      <th>...</th>\n",
       "      <td>...</td>\n",
       "      <td>...</td>\n",
       "      <td>...</td>\n",
       "      <td>...</td>\n",
       "      <td>...</td>\n",
       "      <td>...</td>\n",
       "      <td>...</td>\n",
       "    </tr>\n",
       "    <tr>\n",
       "      <th>Phantom 2013</th>\n",
       "      <td>Motor V8</td>\n",
       "      <td>2014</td>\n",
       "      <td>27505.0</td>\n",
       "      <td>False</td>\n",
       "      <td>['Controle de estabilidade', 'Piloto automátic...</td>\n",
       "      <td>51759.58</td>\n",
       "      <td>5501.000000</td>\n",
       "    </tr>\n",
       "    <tr>\n",
       "      <th>Cadillac Ciel concept</th>\n",
       "      <td>Motor V8</td>\n",
       "      <td>1991</td>\n",
       "      <td>29981.0</td>\n",
       "      <td>False</td>\n",
       "      <td>['Bancos de couro', 'Painel digital', 'Sensor ...</td>\n",
       "      <td>51667.06</td>\n",
       "      <td>1070.750000</td>\n",
       "    </tr>\n",
       "    <tr>\n",
       "      <th>Classe GLK</th>\n",
       "      <td>Motor 5.0 V8 Bi-Turbo</td>\n",
       "      <td>2002</td>\n",
       "      <td>52637.0</td>\n",
       "      <td>False</td>\n",
       "      <td>['Rodas de liga', 'Controle de tração', 'Câmbi...</td>\n",
       "      <td>68934.03</td>\n",
       "      <td>3096.294118</td>\n",
       "    </tr>\n",
       "    <tr>\n",
       "      <th>Aston Martin DB5</th>\n",
       "      <td>Motor Diesel</td>\n",
       "      <td>1996</td>\n",
       "      <td>7685.0</td>\n",
       "      <td>False</td>\n",
       "      <td>['Ar condicionado', '4 X 4', 'Câmbio automátic...</td>\n",
       "      <td>122110.90</td>\n",
       "      <td>334.130435</td>\n",
       "    </tr>\n",
       "    <tr>\n",
       "      <th>Macan</th>\n",
       "      <td>Motor Diesel V6</td>\n",
       "      <td>1992</td>\n",
       "      <td>50188.0</td>\n",
       "      <td>False</td>\n",
       "      <td>['Central multimídia', 'Teto panorâmico', 'Vid...</td>\n",
       "      <td>90381.47</td>\n",
       "      <td>1858.814815</td>\n",
       "    </tr>\n",
       "  </tbody>\n",
       "</table>\n",
       "<p>258 rows × 7 columns</p>\n",
       "</div>"
      ],
      "text/plain": [
       "                                       Motor   Ano  Quilometragem  Zero_km  \\\n",
       "Nome                                                                         \n",
       "Jetta Variant                Motor 4.0 Turbo  2003        44410.0    False   \n",
       "Passat                          Motor Diesel  1991         5712.0    False   \n",
       "Crossfox                     Motor Diesel V8  1990        37123.0    False   \n",
       "DS5                          Motor 2.4 Turbo  2019            NaN     True   \n",
       "Aston Martin DB4             Motor 2.4 Turbo  2006        25757.0    False   \n",
       "...                                      ...   ...            ...      ...   \n",
       "Phantom 2013                        Motor V8  2014        27505.0    False   \n",
       "Cadillac Ciel concept               Motor V8  1991        29981.0    False   \n",
       "Classe GLK             Motor 5.0 V8 Bi-Turbo  2002        52637.0    False   \n",
       "Aston Martin DB5                Motor Diesel  1996         7685.0    False   \n",
       "Macan                        Motor Diesel V6  1992        50188.0    False   \n",
       "\n",
       "                                                              Acessórios  \\\n",
       "Nome                                                                       \n",
       "Jetta Variant          ['Rodas de liga', 'Travas elétricas', 'Piloto ...   \n",
       "Passat                 ['Central multimídia', 'Teto panorâmico', 'Fre...   \n",
       "Crossfox               ['Piloto automático', 'Controle de estabilidad...   \n",
       "DS5                    ['Travas elétricas', '4 X 4', 'Vidros elétrico...   \n",
       "Aston Martin DB4       ['Rodas de liga', '4 X 4', 'Central multimídia...   \n",
       "...                                                                  ...   \n",
       "Phantom 2013           ['Controle de estabilidade', 'Piloto automátic...   \n",
       "Cadillac Ciel concept  ['Bancos de couro', 'Painel digital', 'Sensor ...   \n",
       "Classe GLK             ['Rodas de liga', 'Controle de tração', 'Câmbi...   \n",
       "Aston Martin DB5       ['Ar condicionado', '4 X 4', 'Câmbio automátic...   \n",
       "Macan                  ['Central multimídia', 'Teto panorâmico', 'Vid...   \n",
       "\n",
       "                           Valor     Km_media  \n",
       "Nome                                           \n",
       "Jetta Variant           88078.64  2775.625000  \n",
       "Passat                 106161.94   204.000000  \n",
       "Crossfox                72832.16  1280.103448  \n",
       "DS5                    124549.07     0.000000  \n",
       "Aston Martin DB4        92612.10  1981.307692  \n",
       "...                          ...          ...  \n",
       "Phantom 2013            51759.58  5501.000000  \n",
       "Cadillac Ciel concept   51667.06  1070.750000  \n",
       "Classe GLK              68934.03  3096.294118  \n",
       "Aston Martin DB5       122110.90   334.130435  \n",
       "Macan                   90381.47  1858.814815  \n",
       "\n",
       "[258 rows x 7 columns]"
      ]
     },
     "execution_count": 141,
     "metadata": {},
     "output_type": "execute_result"
    }
   ],
   "source": [
    "for index, row in dataset.iterrows():\n",
    "    if 2019 - row['Ano'] != 0:\n",
    "        dataset.loc[index, 'Km_media'] = row['Quilometragem'] / (2019 - row['Ano'])\n",
    "    else:\n",
    "        dataset.loc[index, 'Km_media'] = 0\n",
    "        \n",
    "dataset"
   ]
  },
  {
   "cell_type": "markdown",
   "metadata": {
    "colab_type": "text",
    "id": "HnUzHFQPD1Ba"
   },
   "source": [
    "# 5.5 Tratamento de dados"
   ]
  },
  {
   "cell_type": "code",
   "execution_count": 142,
   "metadata": {
    "colab": {},
    "colab_type": "code",
    "id": "FRxBWoBGD1Ba"
   },
   "outputs": [
    {
     "data": {
      "text/html": [
       "<div>\n",
       "<style scoped>\n",
       "    .dataframe tbody tr th:only-of-type {\n",
       "        vertical-align: middle;\n",
       "    }\n",
       "\n",
       "    .dataframe tbody tr th {\n",
       "        vertical-align: top;\n",
       "    }\n",
       "\n",
       "    .dataframe thead th {\n",
       "        text-align: right;\n",
       "    }\n",
       "</style>\n",
       "<table border=\"1\" class=\"dataframe\">\n",
       "  <thead>\n",
       "    <tr style=\"text-align: right;\">\n",
       "      <th></th>\n",
       "      <th>Motor</th>\n",
       "      <th>Ano</th>\n",
       "      <th>Quilometragem</th>\n",
       "      <th>Zero_km</th>\n",
       "      <th>Acessórios</th>\n",
       "      <th>Valor</th>\n",
       "      <th>Km_media</th>\n",
       "    </tr>\n",
       "    <tr>\n",
       "      <th>Nome</th>\n",
       "      <th></th>\n",
       "      <th></th>\n",
       "      <th></th>\n",
       "      <th></th>\n",
       "      <th></th>\n",
       "      <th></th>\n",
       "      <th></th>\n",
       "    </tr>\n",
       "  </thead>\n",
       "  <tbody>\n",
       "    <tr>\n",
       "      <th>Jetta Variant</th>\n",
       "      <td>Motor 4.0 Turbo</td>\n",
       "      <td>2003</td>\n",
       "      <td>44410.0</td>\n",
       "      <td>False</td>\n",
       "      <td>['Rodas de liga', 'Travas elétricas', 'Piloto ...</td>\n",
       "      <td>88078.64</td>\n",
       "      <td>2775.625000</td>\n",
       "    </tr>\n",
       "    <tr>\n",
       "      <th>Passat</th>\n",
       "      <td>Motor Diesel</td>\n",
       "      <td>1991</td>\n",
       "      <td>5712.0</td>\n",
       "      <td>False</td>\n",
       "      <td>['Central multimídia', 'Teto panorâmico', 'Fre...</td>\n",
       "      <td>106161.94</td>\n",
       "      <td>204.000000</td>\n",
       "    </tr>\n",
       "    <tr>\n",
       "      <th>Crossfox</th>\n",
       "      <td>Motor Diesel V8</td>\n",
       "      <td>1990</td>\n",
       "      <td>37123.0</td>\n",
       "      <td>False</td>\n",
       "      <td>['Piloto automático', 'Controle de estabilidad...</td>\n",
       "      <td>72832.16</td>\n",
       "      <td>1280.103448</td>\n",
       "    </tr>\n",
       "    <tr>\n",
       "      <th>DS5</th>\n",
       "      <td>Motor 2.4 Turbo</td>\n",
       "      <td>2019</td>\n",
       "      <td>NaN</td>\n",
       "      <td>True</td>\n",
       "      <td>['Travas elétricas', '4 X 4', 'Vidros elétrico...</td>\n",
       "      <td>124549.07</td>\n",
       "      <td>0.000000</td>\n",
       "    </tr>\n",
       "    <tr>\n",
       "      <th>Aston Martin DB4</th>\n",
       "      <td>Motor 2.4 Turbo</td>\n",
       "      <td>2006</td>\n",
       "      <td>25757.0</td>\n",
       "      <td>False</td>\n",
       "      <td>['Rodas de liga', '4 X 4', 'Central multimídia...</td>\n",
       "      <td>92612.10</td>\n",
       "      <td>1981.307692</td>\n",
       "    </tr>\n",
       "  </tbody>\n",
       "</table>\n",
       "</div>"
      ],
      "text/plain": [
       "                            Motor   Ano  Quilometragem  Zero_km  \\\n",
       "Nome                                                              \n",
       "Jetta Variant     Motor 4.0 Turbo  2003        44410.0    False   \n",
       "Passat               Motor Diesel  1991         5712.0    False   \n",
       "Crossfox          Motor Diesel V8  1990        37123.0    False   \n",
       "DS5               Motor 2.4 Turbo  2019            NaN     True   \n",
       "Aston Martin DB4  Motor 2.4 Turbo  2006        25757.0    False   \n",
       "\n",
       "                                                         Acessórios  \\\n",
       "Nome                                                                  \n",
       "Jetta Variant     ['Rodas de liga', 'Travas elétricas', 'Piloto ...   \n",
       "Passat            ['Central multimídia', 'Teto panorâmico', 'Fre...   \n",
       "Crossfox          ['Piloto automático', 'Controle de estabilidad...   \n",
       "DS5               ['Travas elétricas', '4 X 4', 'Vidros elétrico...   \n",
       "Aston Martin DB4  ['Rodas de liga', '4 X 4', 'Central multimídia...   \n",
       "\n",
       "                      Valor     Km_media  \n",
       "Nome                                      \n",
       "Jetta Variant      88078.64  2775.625000  \n",
       "Passat            106161.94   204.000000  \n",
       "Crossfox           72832.16  1280.103448  \n",
       "DS5               124549.07     0.000000  \n",
       "Aston Martin DB4   92612.10  1981.307692  "
      ]
     },
     "execution_count": 142,
     "metadata": {},
     "output_type": "execute_result"
    }
   ],
   "source": [
    "dataset.head()"
   ]
  },
  {
   "cell_type": "code",
   "execution_count": 143,
   "metadata": {
    "colab": {},
    "colab_type": "code",
    "id": "HHSwH0ZaD1Bc"
   },
   "outputs": [
    {
     "name": "stdout",
     "output_type": "stream",
     "text": [
      "<class 'pandas.core.frame.DataFrame'>\n",
      "Index: 258 entries, Jetta Variant to Macan\n",
      "Data columns (total 7 columns):\n",
      " #   Column         Non-Null Count  Dtype  \n",
      "---  ------         --------------  -----  \n",
      " 0   Motor          258 non-null    object \n",
      " 1   Ano            258 non-null    int64  \n",
      " 2   Quilometragem  197 non-null    float64\n",
      " 3   Zero_km        258 non-null    bool   \n",
      " 4   Acessórios     258 non-null    object \n",
      " 5   Valor          258 non-null    float64\n",
      " 6   Km_media       258 non-null    float64\n",
      "dtypes: bool(1), float64(3), int64(1), object(2)\n",
      "memory usage: 22.5+ KB\n"
     ]
    }
   ],
   "source": [
    "dataset.info()"
   ]
  },
  {
   "cell_type": "code",
   "execution_count": 144,
   "metadata": {
    "colab": {},
    "colab_type": "code",
    "id": "G27pxgZ5D1Bd",
    "scrolled": true
   },
   "outputs": [
    {
     "data": {
      "text/plain": [
       "Nome\n",
       "Jetta Variant            False\n",
       "Passat                   False\n",
       "Crossfox                 False\n",
       "DS5                       True\n",
       "Aston Martin DB4         False\n",
       "                         ...  \n",
       "Phantom 2013             False\n",
       "Cadillac Ciel concept    False\n",
       "Classe GLK               False\n",
       "Aston Martin DB5         False\n",
       "Macan                    False\n",
       "Name: Quilometragem, Length: 258, dtype: bool"
      ]
     },
     "execution_count": 144,
     "metadata": {},
     "output_type": "execute_result"
    }
   ],
   "source": [
    "dataset.Quilometragem.isna()"
   ]
  },
  {
   "cell_type": "code",
   "execution_count": 145,
   "metadata": {
    "colab": {},
    "colab_type": "code",
    "id": "DhlRbxy2D1Bd",
    "scrolled": true
   },
   "outputs": [
    {
     "data": {
      "text/html": [
       "<div>\n",
       "<style scoped>\n",
       "    .dataframe tbody tr th:only-of-type {\n",
       "        vertical-align: middle;\n",
       "    }\n",
       "\n",
       "    .dataframe tbody tr th {\n",
       "        vertical-align: top;\n",
       "    }\n",
       "\n",
       "    .dataframe thead th {\n",
       "        text-align: right;\n",
       "    }\n",
       "</style>\n",
       "<table border=\"1\" class=\"dataframe\">\n",
       "  <thead>\n",
       "    <tr style=\"text-align: right;\">\n",
       "      <th></th>\n",
       "      <th>Motor</th>\n",
       "      <th>Ano</th>\n",
       "      <th>Quilometragem</th>\n",
       "      <th>Zero_km</th>\n",
       "      <th>Acessórios</th>\n",
       "      <th>Valor</th>\n",
       "      <th>Km_media</th>\n",
       "    </tr>\n",
       "    <tr>\n",
       "      <th>Nome</th>\n",
       "      <th></th>\n",
       "      <th></th>\n",
       "      <th></th>\n",
       "      <th></th>\n",
       "      <th></th>\n",
       "      <th></th>\n",
       "      <th></th>\n",
       "    </tr>\n",
       "  </thead>\n",
       "  <tbody>\n",
       "    <tr>\n",
       "      <th>DS5</th>\n",
       "      <td>Motor 2.4 Turbo</td>\n",
       "      <td>2019</td>\n",
       "      <td>NaN</td>\n",
       "      <td>True</td>\n",
       "      <td>['Travas elétricas', '4 X 4', 'Vidros elétrico...</td>\n",
       "      <td>124549.07</td>\n",
       "      <td>0.0</td>\n",
       "    </tr>\n",
       "    <tr>\n",
       "      <th>A5</th>\n",
       "      <td>Motor 4.0 Turbo</td>\n",
       "      <td>2019</td>\n",
       "      <td>NaN</td>\n",
       "      <td>True</td>\n",
       "      <td>['Câmbio automático', 'Câmera de estacionament...</td>\n",
       "      <td>56445.20</td>\n",
       "      <td>0.0</td>\n",
       "    </tr>\n",
       "    <tr>\n",
       "      <th>J5</th>\n",
       "      <td>Motor V6</td>\n",
       "      <td>2019</td>\n",
       "      <td>NaN</td>\n",
       "      <td>True</td>\n",
       "      <td>['Sensor crepuscular', 'Painel digital', 'Roda...</td>\n",
       "      <td>53183.38</td>\n",
       "      <td>0.0</td>\n",
       "    </tr>\n",
       "    <tr>\n",
       "      <th>A3</th>\n",
       "      <td>Motor 1.0 8v</td>\n",
       "      <td>2019</td>\n",
       "      <td>NaN</td>\n",
       "      <td>True</td>\n",
       "      <td>['4 X 4', 'Piloto automático', 'Central multim...</td>\n",
       "      <td>88552.39</td>\n",
       "      <td>0.0</td>\n",
       "    </tr>\n",
       "    <tr>\n",
       "      <th>Série 1 M</th>\n",
       "      <td>Motor V8</td>\n",
       "      <td>2019</td>\n",
       "      <td>NaN</td>\n",
       "      <td>True</td>\n",
       "      <td>['Controle de estabilidade', 'Central multimíd...</td>\n",
       "      <td>94564.40</td>\n",
       "      <td>0.0</td>\n",
       "    </tr>\n",
       "    <tr>\n",
       "      <th>...</th>\n",
       "      <td>...</td>\n",
       "      <td>...</td>\n",
       "      <td>...</td>\n",
       "      <td>...</td>\n",
       "      <td>...</td>\n",
       "      <td>...</td>\n",
       "      <td>...</td>\n",
       "    </tr>\n",
       "    <tr>\n",
       "      <th>Lamborghini Reventón</th>\n",
       "      <td>Motor 4.0 Turbo</td>\n",
       "      <td>2019</td>\n",
       "      <td>NaN</td>\n",
       "      <td>True</td>\n",
       "      <td>['Controle de tração', 'Ar condicionado', 'Cen...</td>\n",
       "      <td>67664.86</td>\n",
       "      <td>0.0</td>\n",
       "    </tr>\n",
       "    <tr>\n",
       "      <th>Benni Mini</th>\n",
       "      <td>Motor V8</td>\n",
       "      <td>2019</td>\n",
       "      <td>NaN</td>\n",
       "      <td>True</td>\n",
       "      <td>['Sensor crepuscular', 'Câmbio automático', 'C...</td>\n",
       "      <td>126247.84</td>\n",
       "      <td>0.0</td>\n",
       "    </tr>\n",
       "    <tr>\n",
       "      <th>Uno</th>\n",
       "      <td>Motor Diesel V6</td>\n",
       "      <td>2019</td>\n",
       "      <td>NaN</td>\n",
       "      <td>True</td>\n",
       "      <td>['Central multimídia', 'Sensor crepuscular', '...</td>\n",
       "      <td>128852.21</td>\n",
       "      <td>0.0</td>\n",
       "    </tr>\n",
       "    <tr>\n",
       "      <th>Santa Fe</th>\n",
       "      <td>Motor 3.0 32v</td>\n",
       "      <td>2019</td>\n",
       "      <td>NaN</td>\n",
       "      <td>True</td>\n",
       "      <td>['Travas elétricas', 'Ar condicionado', '4 X 4...</td>\n",
       "      <td>129415.33</td>\n",
       "      <td>0.0</td>\n",
       "    </tr>\n",
       "    <tr>\n",
       "      <th>XC60</th>\n",
       "      <td>Motor 4.0 Turbo</td>\n",
       "      <td>2019</td>\n",
       "      <td>NaN</td>\n",
       "      <td>True</td>\n",
       "      <td>['Painel digital', 'Piloto automático', 'Centr...</td>\n",
       "      <td>77675.79</td>\n",
       "      <td>0.0</td>\n",
       "    </tr>\n",
       "  </tbody>\n",
       "</table>\n",
       "<p>61 rows × 7 columns</p>\n",
       "</div>"
      ],
      "text/plain": [
       "                                Motor   Ano  Quilometragem  Zero_km  \\\n",
       "Nome                                                                  \n",
       "DS5                   Motor 2.4 Turbo  2019            NaN     True   \n",
       "A5                    Motor 4.0 Turbo  2019            NaN     True   \n",
       "J5                           Motor V6  2019            NaN     True   \n",
       "A3                       Motor 1.0 8v  2019            NaN     True   \n",
       "Série 1 M                    Motor V8  2019            NaN     True   \n",
       "...                               ...   ...            ...      ...   \n",
       "Lamborghini Reventón  Motor 4.0 Turbo  2019            NaN     True   \n",
       "Benni Mini                   Motor V8  2019            NaN     True   \n",
       "Uno                   Motor Diesel V6  2019            NaN     True   \n",
       "Santa Fe                Motor 3.0 32v  2019            NaN     True   \n",
       "XC60                  Motor 4.0 Turbo  2019            NaN     True   \n",
       "\n",
       "                                                             Acessórios  \\\n",
       "Nome                                                                      \n",
       "DS5                   ['Travas elétricas', '4 X 4', 'Vidros elétrico...   \n",
       "A5                    ['Câmbio automático', 'Câmera de estacionament...   \n",
       "J5                    ['Sensor crepuscular', 'Painel digital', 'Roda...   \n",
       "A3                    ['4 X 4', 'Piloto automático', 'Central multim...   \n",
       "Série 1 M             ['Controle de estabilidade', 'Central multimíd...   \n",
       "...                                                                 ...   \n",
       "Lamborghini Reventón  ['Controle de tração', 'Ar condicionado', 'Cen...   \n",
       "Benni Mini            ['Sensor crepuscular', 'Câmbio automático', 'C...   \n",
       "Uno                   ['Central multimídia', 'Sensor crepuscular', '...   \n",
       "Santa Fe              ['Travas elétricas', 'Ar condicionado', '4 X 4...   \n",
       "XC60                  ['Painel digital', 'Piloto automático', 'Centr...   \n",
       "\n",
       "                          Valor  Km_media  \n",
       "Nome                                       \n",
       "DS5                   124549.07       0.0  \n",
       "A5                     56445.20       0.0  \n",
       "J5                     53183.38       0.0  \n",
       "A3                     88552.39       0.0  \n",
       "Série 1 M              94564.40       0.0  \n",
       "...                         ...       ...  \n",
       "Lamborghini Reventón   67664.86       0.0  \n",
       "Benni Mini            126247.84       0.0  \n",
       "Uno                   128852.21       0.0  \n",
       "Santa Fe              129415.33       0.0  \n",
       "XC60                   77675.79       0.0  \n",
       "\n",
       "[61 rows x 7 columns]"
      ]
     },
     "execution_count": 145,
     "metadata": {},
     "output_type": "execute_result"
    }
   ],
   "source": [
    "dataset[dataset.Quilometragem.isna()]"
   ]
  },
  {
   "cell_type": "code",
   "execution_count": 148,
   "metadata": {
    "colab": {},
    "colab_type": "code",
    "id": "OL04QU5RD1Be"
   },
   "outputs": [],
   "source": [
    "dataset.fillna(0, inplace = True)"
   ]
  },
  {
   "cell_type": "code",
   "execution_count": 150,
   "metadata": {
    "colab": {},
    "colab_type": "code",
    "id": "fTH2JkGDD1Bf",
    "scrolled": true
   },
   "outputs": [
    {
     "data": {
      "text/html": [
       "<div>\n",
       "<style scoped>\n",
       "    .dataframe tbody tr th:only-of-type {\n",
       "        vertical-align: middle;\n",
       "    }\n",
       "\n",
       "    .dataframe tbody tr th {\n",
       "        vertical-align: top;\n",
       "    }\n",
       "\n",
       "    .dataframe thead th {\n",
       "        text-align: right;\n",
       "    }\n",
       "</style>\n",
       "<table border=\"1\" class=\"dataframe\">\n",
       "  <thead>\n",
       "    <tr style=\"text-align: right;\">\n",
       "      <th></th>\n",
       "      <th>Motor</th>\n",
       "      <th>Ano</th>\n",
       "      <th>Quilometragem</th>\n",
       "      <th>Zero_km</th>\n",
       "      <th>Acessórios</th>\n",
       "      <th>Valor</th>\n",
       "      <th>Km_media</th>\n",
       "    </tr>\n",
       "    <tr>\n",
       "      <th>Nome</th>\n",
       "      <th></th>\n",
       "      <th></th>\n",
       "      <th></th>\n",
       "      <th></th>\n",
       "      <th></th>\n",
       "      <th></th>\n",
       "      <th></th>\n",
       "    </tr>\n",
       "  </thead>\n",
       "  <tbody>\n",
       "    <tr>\n",
       "      <th>DS5</th>\n",
       "      <td>Motor 2.4 Turbo</td>\n",
       "      <td>2019</td>\n",
       "      <td>0.0</td>\n",
       "      <td>True</td>\n",
       "      <td>['Travas elétricas', '4 X 4', 'Vidros elétrico...</td>\n",
       "      <td>124549.07</td>\n",
       "      <td>0.0</td>\n",
       "    </tr>\n",
       "    <tr>\n",
       "      <th>A5</th>\n",
       "      <td>Motor 4.0 Turbo</td>\n",
       "      <td>2019</td>\n",
       "      <td>0.0</td>\n",
       "      <td>True</td>\n",
       "      <td>['Câmbio automático', 'Câmera de estacionament...</td>\n",
       "      <td>56445.20</td>\n",
       "      <td>0.0</td>\n",
       "    </tr>\n",
       "    <tr>\n",
       "      <th>J5</th>\n",
       "      <td>Motor V6</td>\n",
       "      <td>2019</td>\n",
       "      <td>0.0</td>\n",
       "      <td>True</td>\n",
       "      <td>['Sensor crepuscular', 'Painel digital', 'Roda...</td>\n",
       "      <td>53183.38</td>\n",
       "      <td>0.0</td>\n",
       "    </tr>\n",
       "    <tr>\n",
       "      <th>A3</th>\n",
       "      <td>Motor 1.0 8v</td>\n",
       "      <td>2019</td>\n",
       "      <td>0.0</td>\n",
       "      <td>True</td>\n",
       "      <td>['4 X 4', 'Piloto automático', 'Central multim...</td>\n",
       "      <td>88552.39</td>\n",
       "      <td>0.0</td>\n",
       "    </tr>\n",
       "    <tr>\n",
       "      <th>Série 1 M</th>\n",
       "      <td>Motor V8</td>\n",
       "      <td>2019</td>\n",
       "      <td>0.0</td>\n",
       "      <td>True</td>\n",
       "      <td>['Controle de estabilidade', 'Central multimíd...</td>\n",
       "      <td>94564.40</td>\n",
       "      <td>0.0</td>\n",
       "    </tr>\n",
       "    <tr>\n",
       "      <th>...</th>\n",
       "      <td>...</td>\n",
       "      <td>...</td>\n",
       "      <td>...</td>\n",
       "      <td>...</td>\n",
       "      <td>...</td>\n",
       "      <td>...</td>\n",
       "      <td>...</td>\n",
       "    </tr>\n",
       "    <tr>\n",
       "      <th>Lamborghini Reventón</th>\n",
       "      <td>Motor 4.0 Turbo</td>\n",
       "      <td>2019</td>\n",
       "      <td>0.0</td>\n",
       "      <td>True</td>\n",
       "      <td>['Controle de tração', 'Ar condicionado', 'Cen...</td>\n",
       "      <td>67664.86</td>\n",
       "      <td>0.0</td>\n",
       "    </tr>\n",
       "    <tr>\n",
       "      <th>Benni Mini</th>\n",
       "      <td>Motor V8</td>\n",
       "      <td>2019</td>\n",
       "      <td>0.0</td>\n",
       "      <td>True</td>\n",
       "      <td>['Sensor crepuscular', 'Câmbio automático', 'C...</td>\n",
       "      <td>126247.84</td>\n",
       "      <td>0.0</td>\n",
       "    </tr>\n",
       "    <tr>\n",
       "      <th>Uno</th>\n",
       "      <td>Motor Diesel V6</td>\n",
       "      <td>2019</td>\n",
       "      <td>0.0</td>\n",
       "      <td>True</td>\n",
       "      <td>['Central multimídia', 'Sensor crepuscular', '...</td>\n",
       "      <td>128852.21</td>\n",
       "      <td>0.0</td>\n",
       "    </tr>\n",
       "    <tr>\n",
       "      <th>Santa Fe</th>\n",
       "      <td>Motor 3.0 32v</td>\n",
       "      <td>2019</td>\n",
       "      <td>0.0</td>\n",
       "      <td>True</td>\n",
       "      <td>['Travas elétricas', 'Ar condicionado', '4 X 4...</td>\n",
       "      <td>129415.33</td>\n",
       "      <td>0.0</td>\n",
       "    </tr>\n",
       "    <tr>\n",
       "      <th>XC60</th>\n",
       "      <td>Motor 4.0 Turbo</td>\n",
       "      <td>2019</td>\n",
       "      <td>0.0</td>\n",
       "      <td>True</td>\n",
       "      <td>['Painel digital', 'Piloto automático', 'Centr...</td>\n",
       "      <td>77675.79</td>\n",
       "      <td>0.0</td>\n",
       "    </tr>\n",
       "  </tbody>\n",
       "</table>\n",
       "<p>61 rows × 7 columns</p>\n",
       "</div>"
      ],
      "text/plain": [
       "                                Motor   Ano  Quilometragem  Zero_km  \\\n",
       "Nome                                                                  \n",
       "DS5                   Motor 2.4 Turbo  2019            0.0     True   \n",
       "A5                    Motor 4.0 Turbo  2019            0.0     True   \n",
       "J5                           Motor V6  2019            0.0     True   \n",
       "A3                       Motor 1.0 8v  2019            0.0     True   \n",
       "Série 1 M                    Motor V8  2019            0.0     True   \n",
       "...                               ...   ...            ...      ...   \n",
       "Lamborghini Reventón  Motor 4.0 Turbo  2019            0.0     True   \n",
       "Benni Mini                   Motor V8  2019            0.0     True   \n",
       "Uno                   Motor Diesel V6  2019            0.0     True   \n",
       "Santa Fe                Motor 3.0 32v  2019            0.0     True   \n",
       "XC60                  Motor 4.0 Turbo  2019            0.0     True   \n",
       "\n",
       "                                                             Acessórios  \\\n",
       "Nome                                                                      \n",
       "DS5                   ['Travas elétricas', '4 X 4', 'Vidros elétrico...   \n",
       "A5                    ['Câmbio automático', 'Câmera de estacionament...   \n",
       "J5                    ['Sensor crepuscular', 'Painel digital', 'Roda...   \n",
       "A3                    ['4 X 4', 'Piloto automático', 'Central multim...   \n",
       "Série 1 M             ['Controle de estabilidade', 'Central multimíd...   \n",
       "...                                                                 ...   \n",
       "Lamborghini Reventón  ['Controle de tração', 'Ar condicionado', 'Cen...   \n",
       "Benni Mini            ['Sensor crepuscular', 'Câmbio automático', 'C...   \n",
       "Uno                   ['Central multimídia', 'Sensor crepuscular', '...   \n",
       "Santa Fe              ['Travas elétricas', 'Ar condicionado', '4 X 4...   \n",
       "XC60                  ['Painel digital', 'Piloto automático', 'Centr...   \n",
       "\n",
       "                          Valor  Km_media  \n",
       "Nome                                       \n",
       "DS5                   124549.07       0.0  \n",
       "A5                     56445.20       0.0  \n",
       "J5                     53183.38       0.0  \n",
       "A3                     88552.39       0.0  \n",
       "Série 1 M              94564.40       0.0  \n",
       "...                         ...       ...  \n",
       "Lamborghini Reventón   67664.86       0.0  \n",
       "Benni Mini            126247.84       0.0  \n",
       "Uno                   128852.21       0.0  \n",
       "Santa Fe              129415.33       0.0  \n",
       "XC60                   77675.79       0.0  \n",
       "\n",
       "[61 rows x 7 columns]"
      ]
     },
     "execution_count": 150,
     "metadata": {},
     "output_type": "execute_result"
    }
   ],
   "source": [
    "dataset.query(\"Zero_km == True\")"
   ]
  },
  {
   "cell_type": "code",
   "execution_count": 157,
   "metadata": {
    "colab": {},
    "colab_type": "code",
    "id": "lure2GvpD1Bg"
   },
   "outputs": [],
   "source": [
    "dataset = pd.read_csv('./data/db.csv', sep = ';')"
   ]
  },
  {
   "cell_type": "code",
   "execution_count": 158,
   "metadata": {
    "colab": {},
    "colab_type": "code",
    "id": "4-ZvhXjvD1Bj"
   },
   "outputs": [
    {
     "data": {
      "text/html": [
       "<div>\n",
       "<style scoped>\n",
       "    .dataframe tbody tr th:only-of-type {\n",
       "        vertical-align: middle;\n",
       "    }\n",
       "\n",
       "    .dataframe tbody tr th {\n",
       "        vertical-align: top;\n",
       "    }\n",
       "\n",
       "    .dataframe thead th {\n",
       "        text-align: right;\n",
       "    }\n",
       "</style>\n",
       "<table border=\"1\" class=\"dataframe\">\n",
       "  <thead>\n",
       "    <tr style=\"text-align: right;\">\n",
       "      <th></th>\n",
       "      <th>Nome</th>\n",
       "      <th>Motor</th>\n",
       "      <th>Ano</th>\n",
       "      <th>Quilometragem</th>\n",
       "      <th>Zero_km</th>\n",
       "      <th>Acessórios</th>\n",
       "      <th>Valor</th>\n",
       "    </tr>\n",
       "  </thead>\n",
       "  <tbody>\n",
       "    <tr>\n",
       "      <th>0</th>\n",
       "      <td>Jetta Variant</td>\n",
       "      <td>Motor 4.0 Turbo</td>\n",
       "      <td>2003</td>\n",
       "      <td>44410.0</td>\n",
       "      <td>False</td>\n",
       "      <td>['Rodas de liga', 'Travas elétricas', 'Piloto ...</td>\n",
       "      <td>88078.64</td>\n",
       "    </tr>\n",
       "    <tr>\n",
       "      <th>1</th>\n",
       "      <td>Passat</td>\n",
       "      <td>Motor Diesel</td>\n",
       "      <td>1991</td>\n",
       "      <td>5712.0</td>\n",
       "      <td>False</td>\n",
       "      <td>['Central multimídia', 'Teto panorâmico', 'Fre...</td>\n",
       "      <td>106161.94</td>\n",
       "    </tr>\n",
       "    <tr>\n",
       "      <th>2</th>\n",
       "      <td>Crossfox</td>\n",
       "      <td>Motor Diesel V8</td>\n",
       "      <td>1990</td>\n",
       "      <td>37123.0</td>\n",
       "      <td>False</td>\n",
       "      <td>['Piloto automático', 'Controle de estabilidad...</td>\n",
       "      <td>72832.16</td>\n",
       "    </tr>\n",
       "    <tr>\n",
       "      <th>3</th>\n",
       "      <td>DS5</td>\n",
       "      <td>Motor 2.4 Turbo</td>\n",
       "      <td>2019</td>\n",
       "      <td>NaN</td>\n",
       "      <td>True</td>\n",
       "      <td>['Travas elétricas', '4 X 4', 'Vidros elétrico...</td>\n",
       "      <td>124549.07</td>\n",
       "    </tr>\n",
       "    <tr>\n",
       "      <th>4</th>\n",
       "      <td>Aston Martin DB4</td>\n",
       "      <td>Motor 2.4 Turbo</td>\n",
       "      <td>2006</td>\n",
       "      <td>25757.0</td>\n",
       "      <td>False</td>\n",
       "      <td>['Rodas de liga', '4 X 4', 'Central multimídia...</td>\n",
       "      <td>92612.10</td>\n",
       "    </tr>\n",
       "    <tr>\n",
       "      <th>...</th>\n",
       "      <td>...</td>\n",
       "      <td>...</td>\n",
       "      <td>...</td>\n",
       "      <td>...</td>\n",
       "      <td>...</td>\n",
       "      <td>...</td>\n",
       "      <td>...</td>\n",
       "    </tr>\n",
       "    <tr>\n",
       "      <th>253</th>\n",
       "      <td>Phantom 2013</td>\n",
       "      <td>Motor V8</td>\n",
       "      <td>2014</td>\n",
       "      <td>27505.0</td>\n",
       "      <td>False</td>\n",
       "      <td>['Controle de estabilidade', 'Piloto automátic...</td>\n",
       "      <td>51759.58</td>\n",
       "    </tr>\n",
       "    <tr>\n",
       "      <th>254</th>\n",
       "      <td>Cadillac Ciel concept</td>\n",
       "      <td>Motor V8</td>\n",
       "      <td>1991</td>\n",
       "      <td>29981.0</td>\n",
       "      <td>False</td>\n",
       "      <td>['Bancos de couro', 'Painel digital', 'Sensor ...</td>\n",
       "      <td>51667.06</td>\n",
       "    </tr>\n",
       "    <tr>\n",
       "      <th>255</th>\n",
       "      <td>Classe GLK</td>\n",
       "      <td>Motor 5.0 V8 Bi-Turbo</td>\n",
       "      <td>2002</td>\n",
       "      <td>52637.0</td>\n",
       "      <td>False</td>\n",
       "      <td>['Rodas de liga', 'Controle de tração', 'Câmbi...</td>\n",
       "      <td>68934.03</td>\n",
       "    </tr>\n",
       "    <tr>\n",
       "      <th>256</th>\n",
       "      <td>Aston Martin DB5</td>\n",
       "      <td>Motor Diesel</td>\n",
       "      <td>1996</td>\n",
       "      <td>7685.0</td>\n",
       "      <td>False</td>\n",
       "      <td>['Ar condicionado', '4 X 4', 'Câmbio automátic...</td>\n",
       "      <td>122110.90</td>\n",
       "    </tr>\n",
       "    <tr>\n",
       "      <th>257</th>\n",
       "      <td>Macan</td>\n",
       "      <td>Motor Diesel V6</td>\n",
       "      <td>1992</td>\n",
       "      <td>50188.0</td>\n",
       "      <td>False</td>\n",
       "      <td>['Central multimídia', 'Teto panorâmico', 'Vid...</td>\n",
       "      <td>90381.47</td>\n",
       "    </tr>\n",
       "  </tbody>\n",
       "</table>\n",
       "<p>258 rows × 7 columns</p>\n",
       "</div>"
      ],
      "text/plain": [
       "                      Nome                  Motor   Ano  Quilometragem  \\\n",
       "0            Jetta Variant        Motor 4.0 Turbo  2003        44410.0   \n",
       "1                   Passat           Motor Diesel  1991         5712.0   \n",
       "2                 Crossfox        Motor Diesel V8  1990        37123.0   \n",
       "3                      DS5        Motor 2.4 Turbo  2019            NaN   \n",
       "4         Aston Martin DB4        Motor 2.4 Turbo  2006        25757.0   \n",
       "..                     ...                    ...   ...            ...   \n",
       "253           Phantom 2013               Motor V8  2014        27505.0   \n",
       "254  Cadillac Ciel concept               Motor V8  1991        29981.0   \n",
       "255             Classe GLK  Motor 5.0 V8 Bi-Turbo  2002        52637.0   \n",
       "256       Aston Martin DB5           Motor Diesel  1996         7685.0   \n",
       "257                  Macan        Motor Diesel V6  1992        50188.0   \n",
       "\n",
       "     Zero_km                                         Acessórios      Valor  \n",
       "0      False  ['Rodas de liga', 'Travas elétricas', 'Piloto ...   88078.64  \n",
       "1      False  ['Central multimídia', 'Teto panorâmico', 'Fre...  106161.94  \n",
       "2      False  ['Piloto automático', 'Controle de estabilidad...   72832.16  \n",
       "3       True  ['Travas elétricas', '4 X 4', 'Vidros elétrico...  124549.07  \n",
       "4      False  ['Rodas de liga', '4 X 4', 'Central multimídia...   92612.10  \n",
       "..       ...                                                ...        ...  \n",
       "253    False  ['Controle de estabilidade', 'Piloto automátic...   51759.58  \n",
       "254    False  ['Bancos de couro', 'Painel digital', 'Sensor ...   51667.06  \n",
       "255    False  ['Rodas de liga', 'Controle de tração', 'Câmbi...   68934.03  \n",
       "256    False  ['Ar condicionado', '4 X 4', 'Câmbio automátic...  122110.90  \n",
       "257    False  ['Central multimídia', 'Teto panorâmico', 'Vid...   90381.47  \n",
       "\n",
       "[258 rows x 7 columns]"
      ]
     },
     "execution_count": 158,
     "metadata": {},
     "output_type": "execute_result"
    }
   ],
   "source": [
    "dataset"
   ]
  },
  {
   "cell_type": "code",
   "execution_count": 159,
   "metadata": {
    "colab": {},
    "colab_type": "code",
    "id": "MQUw7i1OD1Bk",
    "scrolled": true
   },
   "outputs": [],
   "source": [
    "dataset.dropna(subset = ['Quilometragem'], inplace = True)"
   ]
  },
  {
   "cell_type": "code",
   "execution_count": 160,
   "metadata": {
    "colab": {},
    "colab_type": "code",
    "id": "U4Cse7miD1Bl"
   },
   "outputs": [
    {
     "data": {
      "text/html": [
       "<div>\n",
       "<style scoped>\n",
       "    .dataframe tbody tr th:only-of-type {\n",
       "        vertical-align: middle;\n",
       "    }\n",
       "\n",
       "    .dataframe tbody tr th {\n",
       "        vertical-align: top;\n",
       "    }\n",
       "\n",
       "    .dataframe thead th {\n",
       "        text-align: right;\n",
       "    }\n",
       "</style>\n",
       "<table border=\"1\" class=\"dataframe\">\n",
       "  <thead>\n",
       "    <tr style=\"text-align: right;\">\n",
       "      <th></th>\n",
       "      <th>Nome</th>\n",
       "      <th>Motor</th>\n",
       "      <th>Ano</th>\n",
       "      <th>Quilometragem</th>\n",
       "      <th>Zero_km</th>\n",
       "      <th>Acessórios</th>\n",
       "      <th>Valor</th>\n",
       "    </tr>\n",
       "  </thead>\n",
       "  <tbody>\n",
       "    <tr>\n",
       "      <th>0</th>\n",
       "      <td>Jetta Variant</td>\n",
       "      <td>Motor 4.0 Turbo</td>\n",
       "      <td>2003</td>\n",
       "      <td>44410.0</td>\n",
       "      <td>False</td>\n",
       "      <td>['Rodas de liga', 'Travas elétricas', 'Piloto ...</td>\n",
       "      <td>88078.64</td>\n",
       "    </tr>\n",
       "    <tr>\n",
       "      <th>1</th>\n",
       "      <td>Passat</td>\n",
       "      <td>Motor Diesel</td>\n",
       "      <td>1991</td>\n",
       "      <td>5712.0</td>\n",
       "      <td>False</td>\n",
       "      <td>['Central multimídia', 'Teto panorâmico', 'Fre...</td>\n",
       "      <td>106161.94</td>\n",
       "    </tr>\n",
       "    <tr>\n",
       "      <th>2</th>\n",
       "      <td>Crossfox</td>\n",
       "      <td>Motor Diesel V8</td>\n",
       "      <td>1990</td>\n",
       "      <td>37123.0</td>\n",
       "      <td>False</td>\n",
       "      <td>['Piloto automático', 'Controle de estabilidad...</td>\n",
       "      <td>72832.16</td>\n",
       "    </tr>\n",
       "    <tr>\n",
       "      <th>4</th>\n",
       "      <td>Aston Martin DB4</td>\n",
       "      <td>Motor 2.4 Turbo</td>\n",
       "      <td>2006</td>\n",
       "      <td>25757.0</td>\n",
       "      <td>False</td>\n",
       "      <td>['Rodas de liga', '4 X 4', 'Central multimídia...</td>\n",
       "      <td>92612.10</td>\n",
       "    </tr>\n",
       "    <tr>\n",
       "      <th>5</th>\n",
       "      <td>Palio Weekend</td>\n",
       "      <td>Motor 1.8 16v</td>\n",
       "      <td>2012</td>\n",
       "      <td>10728.0</td>\n",
       "      <td>False</td>\n",
       "      <td>['Sensor de estacionamento', 'Teto panorâmico'...</td>\n",
       "      <td>97497.73</td>\n",
       "    </tr>\n",
       "    <tr>\n",
       "      <th>...</th>\n",
       "      <td>...</td>\n",
       "      <td>...</td>\n",
       "      <td>...</td>\n",
       "      <td>...</td>\n",
       "      <td>...</td>\n",
       "      <td>...</td>\n",
       "      <td>...</td>\n",
       "    </tr>\n",
       "    <tr>\n",
       "      <th>253</th>\n",
       "      <td>Phantom 2013</td>\n",
       "      <td>Motor V8</td>\n",
       "      <td>2014</td>\n",
       "      <td>27505.0</td>\n",
       "      <td>False</td>\n",
       "      <td>['Controle de estabilidade', 'Piloto automátic...</td>\n",
       "      <td>51759.58</td>\n",
       "    </tr>\n",
       "    <tr>\n",
       "      <th>254</th>\n",
       "      <td>Cadillac Ciel concept</td>\n",
       "      <td>Motor V8</td>\n",
       "      <td>1991</td>\n",
       "      <td>29981.0</td>\n",
       "      <td>False</td>\n",
       "      <td>['Bancos de couro', 'Painel digital', 'Sensor ...</td>\n",
       "      <td>51667.06</td>\n",
       "    </tr>\n",
       "    <tr>\n",
       "      <th>255</th>\n",
       "      <td>Classe GLK</td>\n",
       "      <td>Motor 5.0 V8 Bi-Turbo</td>\n",
       "      <td>2002</td>\n",
       "      <td>52637.0</td>\n",
       "      <td>False</td>\n",
       "      <td>['Rodas de liga', 'Controle de tração', 'Câmbi...</td>\n",
       "      <td>68934.03</td>\n",
       "    </tr>\n",
       "    <tr>\n",
       "      <th>256</th>\n",
       "      <td>Aston Martin DB5</td>\n",
       "      <td>Motor Diesel</td>\n",
       "      <td>1996</td>\n",
       "      <td>7685.0</td>\n",
       "      <td>False</td>\n",
       "      <td>['Ar condicionado', '4 X 4', 'Câmbio automátic...</td>\n",
       "      <td>122110.90</td>\n",
       "    </tr>\n",
       "    <tr>\n",
       "      <th>257</th>\n",
       "      <td>Macan</td>\n",
       "      <td>Motor Diesel V6</td>\n",
       "      <td>1992</td>\n",
       "      <td>50188.0</td>\n",
       "      <td>False</td>\n",
       "      <td>['Central multimídia', 'Teto panorâmico', 'Vid...</td>\n",
       "      <td>90381.47</td>\n",
       "    </tr>\n",
       "  </tbody>\n",
       "</table>\n",
       "<p>197 rows × 7 columns</p>\n",
       "</div>"
      ],
      "text/plain": [
       "                      Nome                  Motor   Ano  Quilometragem  \\\n",
       "0            Jetta Variant        Motor 4.0 Turbo  2003        44410.0   \n",
       "1                   Passat           Motor Diesel  1991         5712.0   \n",
       "2                 Crossfox        Motor Diesel V8  1990        37123.0   \n",
       "4         Aston Martin DB4        Motor 2.4 Turbo  2006        25757.0   \n",
       "5            Palio Weekend          Motor 1.8 16v  2012        10728.0   \n",
       "..                     ...                    ...   ...            ...   \n",
       "253           Phantom 2013               Motor V8  2014        27505.0   \n",
       "254  Cadillac Ciel concept               Motor V8  1991        29981.0   \n",
       "255             Classe GLK  Motor 5.0 V8 Bi-Turbo  2002        52637.0   \n",
       "256       Aston Martin DB5           Motor Diesel  1996         7685.0   \n",
       "257                  Macan        Motor Diesel V6  1992        50188.0   \n",
       "\n",
       "     Zero_km                                         Acessórios      Valor  \n",
       "0      False  ['Rodas de liga', 'Travas elétricas', 'Piloto ...   88078.64  \n",
       "1      False  ['Central multimídia', 'Teto panorâmico', 'Fre...  106161.94  \n",
       "2      False  ['Piloto automático', 'Controle de estabilidad...   72832.16  \n",
       "4      False  ['Rodas de liga', '4 X 4', 'Central multimídia...   92612.10  \n",
       "5      False  ['Sensor de estacionamento', 'Teto panorâmico'...   97497.73  \n",
       "..       ...                                                ...        ...  \n",
       "253    False  ['Controle de estabilidade', 'Piloto automátic...   51759.58  \n",
       "254    False  ['Bancos de couro', 'Painel digital', 'Sensor ...   51667.06  \n",
       "255    False  ['Rodas de liga', 'Controle de tração', 'Câmbi...   68934.03  \n",
       "256    False  ['Ar condicionado', '4 X 4', 'Câmbio automátic...  122110.90  \n",
       "257    False  ['Central multimídia', 'Teto panorâmico', 'Vid...   90381.47  \n",
       "\n",
       "[197 rows x 7 columns]"
      ]
     },
     "execution_count": 160,
     "metadata": {},
     "output_type": "execute_result"
    }
   ],
   "source": [
    "dataset"
   ]
  }
 ],
 "metadata": {
  "colab": {
   "name": "Python para Data Science - Pandas.ipynb",
   "provenance": []
  },
  "kernelspec": {
   "display_name": "Python 3 (ipykernel)",
   "language": "python",
   "name": "python3"
  },
  "language_info": {
   "codemirror_mode": {
    "name": "ipython",
    "version": 3
   },
   "file_extension": ".py",
   "mimetype": "text/x-python",
   "name": "python",
   "nbconvert_exporter": "python",
   "pygments_lexer": "ipython3",
   "version": "3.9.7"
  }
 },
 "nbformat": 4,
 "nbformat_minor": 1
}
