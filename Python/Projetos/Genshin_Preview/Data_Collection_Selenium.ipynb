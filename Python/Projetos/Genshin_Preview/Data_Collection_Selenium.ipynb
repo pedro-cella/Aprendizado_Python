{
 "cells": [
  {
   "cell_type": "code",
   "execution_count": 63,
   "id": "a4960636",
   "metadata": {},
   "outputs": [],
   "source": [
    "# Logica\n",
    "\n",
    "# Passo 1: Acessar a pagina da web\n",
    "\n",
    "# Passo 2: Obter a lista de nomes de todos os personagens\n",
    "\n",
    "# Passo 3: Acessar as paginas dos personagens\n",
    "\n",
    "# Passo 4: Obter os as informacoes(Nome, Cidade, Arma, Elemento e Status do nivel 90) de cada personagem\n",
    "\n",
    "# Passo 5: Gerar uma tabela\n",
    "\n",
    "# Passo 6: Limpar tabela\n",
    "\n",
    "# Passo 7: Analise Inicial\n",
    "\n",
    "# Passo 8: Analise Formal\n",
    "\n",
    "# Passo 9: Conclusoes\n",
    "\n",
    "# Passo 10: Gerar CSV"
   ]
  },
  {
   "cell_type": "markdown",
   "id": "a4028f36",
   "metadata": {},
   "source": [
    "# Obtendo a lista de nomes dos personagens"
   ]
  },
  {
   "cell_type": "code",
   "execution_count": 64,
   "id": "2af11093",
   "metadata": {},
   "outputs": [
    {
     "name": "stdout",
     "output_type": "stream",
     "text": [
      "['Albedo', 'Aloy', 'Amber', 'Arataki Itto', 'Barbara', 'Beidou', 'Bennett', 'Chongyun', 'Diluc', 'Diona', 'Eula', 'Fischl', 'Ganyu', 'Gorou', 'Hu Tao', 'Jean', 'Kaedehara Kazuha', 'Kaeya', 'Kamisato Ayaka', 'Keqing', 'Klee', 'Kujou Sara', 'Lisa', 'Mona', 'Ningguang', 'Noelle', 'Qiqi', 'Raiden Shogun', 'Razor', 'Rosaria', 'Sangonomiya Kokomi', 'Sayu', 'Shenhe', 'Sucrose', 'Tartaglia', 'Thoma', 'Traveler', 'Traveler', 'Traveler', 'Traveler', 'Traveler', 'Traveler', 'Venti', 'Xiangling', 'Xiao', 'Xingqiu', 'Xinyan', 'Yanfei', 'Yoimiya', 'Yun Jin', 'Zhongli']\n"
     ]
    }
   ],
   "source": [
    "from selenium import webdriver\n",
    "from selenium.webdriver.common.by import By\n",
    "from selenium.webdriver.common.keys import Keys\n",
    "\n",
    "# Passo 1: Acessar a pagina da web\n",
    "\n",
    "navegador = webdriver.Chrome()\n",
    "\n",
    "navegador.get('https://genshin.honeyhunterworld.com/db/char/characters/?lang=EN')\n",
    "\n",
    "# Passo 2: Obter a lista de nomes de todos os personagens\n",
    "\n",
    "lista_personagens = list()\n",
    "\n",
    "personagens = navegador.find_elements(By.CLASS_NAME, 'char_sea_cont')\n",
    "for personagem in personagens:\n",
    "    lista_personagens.append(personagem.text)\n",
    "\n",
    "lista_personagens.sort()\n",
    "\n",
    "nomes = lista_personagens.copy()\n",
    "\n",
    "for i in range(len(nomes)):\n",
    "    nomes[i] = nomes[i].lower()\n",
    "    \n",
    "print(lista_personagens)"
   ]
  },
  {
   "cell_type": "code",
   "execution_count": 65,
   "id": "bf136426",
   "metadata": {},
   "outputs": [
    {
     "name": "stdout",
     "output_type": "stream",
     "text": [
      "['albedo', 'aloy', 'amber', 'arataki itto', 'barbara', 'beidou', 'bennett', 'chongyun', 'diluc', 'diona', 'eula', 'fischl', 'ganyu', 'gorou', 'hu tao', 'jean', 'kaedehara kazuha', 'kaeya', 'kamisato ayaka', 'keqing', 'klee', 'kujou sara', 'lisa', 'mona', 'ningguang', 'noelle', 'qiqi', 'raiden shogun', 'razor', 'rosaria', 'sangonomiya kokomi', 'sayu', 'shenhe', 'sucrose', 'tartaglia', 'thoma', 'traveler', 'traveler', 'traveler', 'traveler', 'traveler', 'traveler', 'venti', 'xiangling', 'xiao', 'xingqiu', 'xinyan', 'yanfei', 'yoimiya', 'yun jin', 'zhongli']\n"
     ]
    }
   ],
   "source": [
    "# Passo 3: Acessar as paginas dos personagens\n",
    "print(nomes)\n",
    "    \n",
    "navegador.get('https://genshin.honeyhunterworld.com/db/char/characters/?lang=EN')\n",
    "    \n",
    "for nome in nomes:\n",
    "    navegador.get(f\"https://genshin.honeyhunterworld.com/db/char/{nome}/?lang=EN\")"
   ]
  },
  {
   "cell_type": "code",
   "execution_count": null,
   "id": "aaddb1de",
   "metadata": {},
   "outputs": [],
   "source": []
  }
 ],
 "metadata": {
  "kernelspec": {
   "display_name": "Python 3 (ipykernel)",
   "language": "python",
   "name": "python3"
  },
  "language_info": {
   "codemirror_mode": {
    "name": "ipython",
    "version": 3
   },
   "file_extension": ".py",
   "mimetype": "text/x-python",
   "name": "python",
   "nbconvert_exporter": "python",
   "pygments_lexer": "ipython3",
   "version": "3.9.7"
  }
 },
 "nbformat": 4,
 "nbformat_minor": 5
}
